{
  "nbformat": 4,
  "nbformat_minor": 0,
  "metadata": {
    "colab": {
      "name": "NLP_detektor_intencji.ipynb",
      "provenance": [],
      "collapsed_sections": [],
      "authorship_tag": "ABX9TyOm87WJZkrFIApkvq7qo3w4",
      "include_colab_link": true
    },
    "kernelspec": {
      "name": "python3",
      "display_name": "Python 3"
    },
    "accelerator": "GPU"
  },
  "cells": [
    {
      "cell_type": "markdown",
      "metadata": {
        "id": "view-in-github",
        "colab_type": "text"
      },
      "source": [
        "<a href=\"https://colab.research.google.com/github/Zedbog/Data_science_course/blob/main/NLP_detektor_intencji.ipynb\" target=\"_parent\"><img src=\"https://colab.research.google.com/assets/colab-badge.svg\" alt=\"Open In Colab\"/></a>"
      ]
    },
    {
      "cell_type": "markdown",
      "metadata": {
        "id": "1ustqgTPaErI"
      },
      "source": [
        "Celem postawionego zadania jest detekcja intencji, czyli stworzenie modelu, który rozpozna, o co chodziło użytkownikowi przy formułowniu polecenia dla smartfonu, aby wykonał jakąś czynność np. uruchomił odtwarzacz muzyki, sprawdził pogodę lub zarezerwował miejsce w restauracji."
      ]
    },
    {
      "cell_type": "markdown",
      "metadata": {
        "id": "IKEF4qBiaie6"
      },
      "source": [
        "Do wytrenowania modelu posłużę się datasetem zawierającym polecenia użytkowników w postaci luźno rzuconych komend i labelów etykietujących czynności, które smartfon ma wykonać."
      ]
    },
    {
      "cell_type": "markdown",
      "metadata": {
        "id": "OZPt8gg4a9CC"
      },
      "source": [
        "Na początek wczytajmy datasety - treningowy i walidacyjny."
      ]
    },
    {
      "cell_type": "code",
      "metadata": {
        "id": "17wTmab7Z9CH"
      },
      "source": [
        "from google.colab import drive"
      ],
      "execution_count": 125,
      "outputs": []
    },
    {
      "cell_type": "code",
      "metadata": {
        "colab": {
          "base_uri": "https://localhost:8080/"
        },
        "id": "BMLRnS0ZbJgr",
        "outputId": "1c4c7168-b288-4995-fa5b-90b6a9a3befa"
      },
      "source": [
        "drive.mount('/content/drive')"
      ],
      "execution_count": 126,
      "outputs": [
        {
          "output_type": "stream",
          "text": [
            "Drive already mounted at /content/drive; to attempt to forcibly remount, call drive.mount(\"/content/drive\", force_remount=True).\n"
          ],
          "name": "stdout"
        }
      ]
    },
    {
      "cell_type": "code",
      "metadata": {
        "id": "E62gwO01bkYT"
      },
      "source": [
        "import pandas as pd\n",
        "import numpy as np\n",
        "import matplotlib.pyplot as plt\n",
        "import seaborn as sns"
      ],
      "execution_count": 127,
      "outputs": []
    },
    {
      "cell_type": "code",
      "metadata": {
        "id": "u3TbbJbhbhzH"
      },
      "source": [
        "data_train = pd.read_csv('/content/drive/MyDrive/18_REKURENCYJNE_SIECI_NEURONOWE/train.csv')\n",
        "data_validation = pd.read_csv('/content/drive/MyDrive/18_REKURENCYJNE_SIECI_NEURONOWE/validation.csv')"
      ],
      "execution_count": 128,
      "outputs": []
    },
    {
      "cell_type": "code",
      "metadata": {
        "colab": {
          "base_uri": "https://localhost:8080/",
          "height": 206
        },
        "id": "aKiPNXNob1kc",
        "outputId": "5bf9b4c9-e789-41fa-d79e-ebba0eba6aa0"
      },
      "source": [
        "data_train.head()"
      ],
      "execution_count": 129,
      "outputs": [
        {
          "output_type": "execute_result",
          "data": {
            "text/html": [
              "<div>\n",
              "<style scoped>\n",
              "    .dataframe tbody tr th:only-of-type {\n",
              "        vertical-align: middle;\n",
              "    }\n",
              "\n",
              "    .dataframe tbody tr th {\n",
              "        vertical-align: top;\n",
              "    }\n",
              "\n",
              "    .dataframe thead th {\n",
              "        text-align: right;\n",
              "    }\n",
              "</style>\n",
              "<table border=\"1\" class=\"dataframe\">\n",
              "  <thead>\n",
              "    <tr style=\"text-align: right;\">\n",
              "      <th></th>\n",
              "      <th>text</th>\n",
              "      <th>label</th>\n",
              "    </tr>\n",
              "  </thead>\n",
              "  <tbody>\n",
              "    <tr>\n",
              "      <th>0</th>\n",
              "      <td>find a cinema nearest for films</td>\n",
              "      <td>SearchScreeningEvent</td>\n",
              "    </tr>\n",
              "    <tr>\n",
              "      <th>1</th>\n",
              "      <td>Give the current series two stars.</td>\n",
              "      <td>RateBook</td>\n",
              "    </tr>\n",
              "    <tr>\n",
              "      <th>2</th>\n",
              "      <td>find The Good Girl at a movie house\\n</td>\n",
              "      <td>SearchScreeningEvent</td>\n",
              "    </tr>\n",
              "    <tr>\n",
              "      <th>3</th>\n",
              "      <td>Please make reservations for three at a kosher...</td>\n",
              "      <td>BookRestaurant</td>\n",
              "    </tr>\n",
              "    <tr>\n",
              "      <th>4</th>\n",
              "      <td>what is the forecast for here one second from now</td>\n",
              "      <td>GetWeather</td>\n",
              "    </tr>\n",
              "  </tbody>\n",
              "</table>\n",
              "</div>"
            ],
            "text/plain": [
              "                                                text                 label\n",
              "0                    find a cinema nearest for films  SearchScreeningEvent\n",
              "1                 Give the current series two stars.              RateBook\n",
              "2              find The Good Girl at a movie house\\n  SearchScreeningEvent\n",
              "3  Please make reservations for three at a kosher...        BookRestaurant\n",
              "4  what is the forecast for here one second from now            GetWeather"
            ]
          },
          "metadata": {
            "tags": []
          },
          "execution_count": 129
        }
      ]
    },
    {
      "cell_type": "code",
      "metadata": {
        "colab": {
          "base_uri": "https://localhost:8080/",
          "height": 206
        },
        "id": "MSTR5YMab4uv",
        "outputId": "76260d5b-d6b4-465b-8008-f778b0dfcfdc"
      },
      "source": [
        "data_validation.head()"
      ],
      "execution_count": 130,
      "outputs": [
        {
          "output_type": "execute_result",
          "data": {
            "text/html": [
              "<div>\n",
              "<style scoped>\n",
              "    .dataframe tbody tr th:only-of-type {\n",
              "        vertical-align: middle;\n",
              "    }\n",
              "\n",
              "    .dataframe tbody tr th {\n",
              "        vertical-align: top;\n",
              "    }\n",
              "\n",
              "    .dataframe thead th {\n",
              "        text-align: right;\n",
              "    }\n",
              "</style>\n",
              "<table border=\"1\" class=\"dataframe\">\n",
              "  <thead>\n",
              "    <tr style=\"text-align: right;\">\n",
              "      <th></th>\n",
              "      <th>text</th>\n",
              "      <th>label</th>\n",
              "    </tr>\n",
              "  </thead>\n",
              "  <tbody>\n",
              "    <tr>\n",
              "      <th>0</th>\n",
              "      <td>What movies are showing now at the closest cin...</td>\n",
              "      <td>SearchScreeningEvent</td>\n",
              "    </tr>\n",
              "    <tr>\n",
              "      <th>1</th>\n",
              "      <td>Open itunes and play Ben Burnley Ready To Die</td>\n",
              "      <td>PlayMusic</td>\n",
              "    </tr>\n",
              "    <tr>\n",
              "      <th>2</th>\n",
              "      <td>What is the rain forecast for one hour from no...</td>\n",
              "      <td>GetWeather</td>\n",
              "    </tr>\n",
              "    <tr>\n",
              "      <th>3</th>\n",
              "      <td>Add porter wagoner to the The Sleep Machine Wa...</td>\n",
              "      <td>AddToPlaylist</td>\n",
              "    </tr>\n",
              "    <tr>\n",
              "      <th>4</th>\n",
              "      <td>Check the timings for Snowbound at the closest...</td>\n",
              "      <td>SearchScreeningEvent</td>\n",
              "    </tr>\n",
              "  </tbody>\n",
              "</table>\n",
              "</div>"
            ],
            "text/plain": [
              "                                                text                 label\n",
              "0  What movies are showing now at the closest cin...  SearchScreeningEvent\n",
              "1      Open itunes and play Ben Burnley Ready To Die             PlayMusic\n",
              "2  What is the rain forecast for one hour from no...            GetWeather\n",
              "3  Add porter wagoner to the The Sleep Machine Wa...         AddToPlaylist\n",
              "4  Check the timings for Snowbound at the closest...  SearchScreeningEvent"
            ]
          },
          "metadata": {
            "tags": []
          },
          "execution_count": 130
        }
      ]
    },
    {
      "cell_type": "code",
      "metadata": {
        "colab": {
          "base_uri": "https://localhost:8080/"
        },
        "id": "RTxHAqyYb72n",
        "outputId": "5a4a98cb-c8ef-4dc7-e697-0e7ce03db103"
      },
      "source": [
        "# Wyświetlenie setu czynności wykonywanych przez smartfon\n",
        "set(data_train['label'])"
      ],
      "execution_count": 131,
      "outputs": [
        {
          "output_type": "execute_result",
          "data": {
            "text/plain": [
              "{'AddToPlaylist',\n",
              " 'BookRestaurant',\n",
              " 'GetWeather',\n",
              " 'PlayMusic',\n",
              " 'RateBook',\n",
              " 'SearchCreativeWork',\n",
              " 'SearchScreeningEvent'}"
            ]
          },
          "metadata": {
            "tags": []
          },
          "execution_count": 131
        }
      ]
    },
    {
      "cell_type": "code",
      "metadata": {
        "colab": {
          "base_uri": "https://localhost:8080/",
          "height": 382
        },
        "id": "zPO1W-pMcSam",
        "outputId": "8d803aa8-b2a5-4fca-f86e-f3098a138c62"
      },
      "source": [
        "# Weryfikacja liczebności poszczególnych czynności w treningowym datasecie\n",
        "barplot = sns.countplot(x='label', data=data_train)\n",
        "barplot.set_xticklabels(data_train['label'], rotation=90)\n",
        "# Pokaż wykres\n",
        "plt.show()"
      ],
      "execution_count": 132,
      "outputs": [
        {
          "output_type": "display_data",
          "data": {
            "image/png": "[encoded data removed]",
            "text/plain": [
              "<Figure size 432x288 with 1 Axes>"
            ]
          },
          "metadata": {
            "tags": [],
            "needs_background": "light"
          }
        }
      ]
    },
    {
      "cell_type": "markdown",
      "metadata": {
        "id": "dHzdloiVdDon"
      },
      "source": [
        "Zbiór czynności jest zbalansowany, co pozwala przystąpić do preprocessingu danych bez konieczności balansowania zbioru."
      ]
    },
    {
      "cell_type": "markdown",
      "metadata": {
        "id": "koPNF-LggSd4"
      },
      "source": [
        "# Preprocessing"
      ]
    },
    {
      "cell_type": "code",
      "metadata": {
        "colab": {
          "base_uri": "https://localhost:8080/"
        },
        "id": "a_vSFPtWdTF3",
        "outputId": "232f7d66-632c-427c-dc40-045084e89c54"
      },
      "source": [
        "# Weryfikacja kilku losowych komend użytkowników\n",
        "data_train['text'].sample(10)"
      ],
      "execution_count": 133,
      "outputs": [
        {
          "output_type": "execute_result",
          "data": {
            "text/plain": [
              "1715     find the nearest movie theatre for animated mo...\n",
              "11237                          Add artist to my 80'S PARTY\n",
              "1962     find a movie schedule for United Paramount The...\n",
              "3386     show me the TV series called Take Me to Your H...\n",
              "12082                   Add a tune to my Sleep Sounds list\n",
              "4865            find Long Hello and Short Goodbye, a movie\n",
              "13269                        Play a sound track from 1952.\n",
              "3567     Give Beauty Is in the Street three out of 6 stars\n",
              "7945     Make me a reservation for july the tenth at Th...\n",
              "13587    Book a table for nine at Canteen Lunch in the ...\n",
              "Name: text, dtype: object"
            ]
          },
          "metadata": {
            "tags": []
          },
          "execution_count": 133
        }
      ]
    },
    {
      "cell_type": "markdown",
      "metadata": {
        "id": "ZKWR4EtBgCYO"
      },
      "source": [
        "W celu \"oczyszczenia\" tekstu komend na podstawie kilku powyższych nasuwa się idea prepocessingu w postaci:\n",
        "\n",
        "1. usunięcia znaków interpunkcyjnych,\n",
        "2. usunięciu jendoliterowych tokenów np. 'a',\n",
        "3. usunięciu stopwordsów,\n",
        "4. lemantyzacji słów.\n"
      ]
    },
    {
      "cell_type": "markdown",
      "metadata": {
        "id": "Tx2rRWyningT"
      },
      "source": [
        "Przeprocesujmy cały tekst za pomocą jednej funkcji."
      ]
    },
    {
      "cell_type": "code",
      "metadata": {
        "colab": {
          "base_uri": "https://localhost:8080/"
        },
        "id": "e-uRxlN_jh9O",
        "outputId": "79b49062-323e-40ca-de70-5f91d386be5a"
      },
      "source": [
        "import re\n",
        "import nltk\n",
        "nltk.download('stopwords') # do usunięcia stopwordsów\n",
        "nltk.download('wordnet') # do lemantyzacji\n",
        "from nltk.corpus import stopwords"
      ],
      "execution_count": 134,
      "outputs": [
        {
          "output_type": "stream",
          "text": [
            "[nltk_data] Downloading package stopwords to /root/nltk_data...\n",
            "[nltk_data]   Package stopwords is already up-to-date!\n",
            "[nltk_data] Downloading package wordnet to /root/nltk_data...\n",
            "[nltk_data]   Package wordnet is already up-to-date!\n"
          ],
          "name": "stdout"
        }
      ]
    },
    {
      "cell_type": "code",
      "metadata": {
        "id": "ER-6AXTkgOa5"
      },
      "source": [
        "def utils_preprocess_text(text, flg_lemm=True, lst_stopwords=True):\n",
        "  # 1.usunięcie znaków interpunkcyjnych\n",
        "  text = re.sub(r'\\W',' ', text)\n",
        "\n",
        "  # 2.usunięcie jednoliterowych tokenów\n",
        "  text = re.sub(r'\\b[a-zA-Z]{1}\\b',' ', text)\n",
        "\n",
        "  # tokenizacja - konwersja z tekstu do listy słów\n",
        "  lst_text = text.split()\n",
        "\n",
        "  # 3.usunięcie stopwordsów\n",
        "  if lst_stopwords is not None:\n",
        "    lst_text = [word for word in lst_text if word not in lst_stopwords]\n",
        "\n",
        "  # 4.lemantyzacja\n",
        "  if flg_lemm == True:\n",
        "    lem = nltk.stem.wordnet.WordNetLemmatizer()\n",
        "    lst_text = [lem.lemmatize(word) for word in lst_text]\n",
        "  \n",
        "  # zwrócenie oczyszczonego tekstu\n",
        "  text = ' '.join(lst_text)\n",
        "  return text"
      ],
      "execution_count": 135,
      "outputs": []
    },
    {
      "cell_type": "code",
      "metadata": {
        "colab": {
          "base_uri": "https://localhost:8080/",
          "height": 206
        },
        "id": "AwGttOSDo9wg",
        "outputId": "4abd8c69-a893-4640-8b6c-790f67d79237"
      },
      "source": [
        "# dodanie nowej kolumny do istniejącego data_train z oczyszczonymi komendami użytkowników\n",
        "data_train['text_clean'] = data_train['text'].apply(lambda x:\n",
        "                                                    utils_preprocess_text(\n",
        "                                                        x,\n",
        "                                                        flg_lemm=True,\n",
        "                                                        lst_stopwords=set(stopwords.words('english'))\n",
        "                                                    ))\n",
        "data_train.sample(5)"
      ],
      "execution_count": 136,
      "outputs": [
        {
          "output_type": "execute_result",
          "data": {
            "text/html": [
              "<div>\n",
              "<style scoped>\n",
              "    .dataframe tbody tr th:only-of-type {\n",
              "        vertical-align: middle;\n",
              "    }\n",
              "\n",
              "    .dataframe tbody tr th {\n",
              "        vertical-align: top;\n",
              "    }\n",
              "\n",
              "    .dataframe thead th {\n",
              "        text-align: right;\n",
              "    }\n",
              "</style>\n",
              "<table border=\"1\" class=\"dataframe\">\n",
              "  <thead>\n",
              "    <tr style=\"text-align: right;\">\n",
              "      <th></th>\n",
              "      <th>text</th>\n",
              "      <th>label</th>\n",
              "      <th>text_clean</th>\n",
              "    </tr>\n",
              "  </thead>\n",
              "  <tbody>\n",
              "    <tr>\n",
              "      <th>11578</th>\n",
              "      <td>give 2 out of 6 points to current book</td>\n",
              "      <td>RateBook</td>\n",
              "      <td>give 2 6 point current book</td>\n",
              "    </tr>\n",
              "    <tr>\n",
              "      <th>12877</th>\n",
              "      <td>what will the weather be in Lago Vista on Octo...</td>\n",
              "      <td>GetWeather</td>\n",
              "      <td>weather Lago Vista October fourteenth 2022</td>\n",
              "    </tr>\n",
              "    <tr>\n",
              "      <th>9162</th>\n",
              "      <td>add tune this is puccini to my playlist</td>\n",
              "      <td>AddToPlaylist</td>\n",
              "      <td>add tune puccini playlist</td>\n",
              "    </tr>\n",
              "    <tr>\n",
              "      <th>3395</th>\n",
              "      <td>what is the freezing forecast for British Virg...</td>\n",
              "      <td>GetWeather</td>\n",
              "      <td>freezing forecast British Virgin Islands</td>\n",
              "    </tr>\n",
              "    <tr>\n",
              "      <th>7982</th>\n",
              "      <td>Make reservations at a restaurant in Adrian th...</td>\n",
              "      <td>BookRestaurant</td>\n",
              "      <td>Make reservation restaurant Adrian serf cheese...</td>\n",
              "    </tr>\n",
              "  </tbody>\n",
              "</table>\n",
              "</div>"
            ],
            "text/plain": [
              "                                                    text  ...                                         text_clean\n",
              "11578             give 2 out of 6 points to current book  ...                        give 2 6 point current book\n",
              "12877  what will the weather be in Lago Vista on Octo...  ...         weather Lago Vista October fourteenth 2022\n",
              "9162             add tune this is puccini to my playlist  ...                          add tune puccini playlist\n",
              "3395   what is the freezing forecast for British Virg...  ...           freezing forecast British Virgin Islands\n",
              "7982   Make reservations at a restaurant in Adrian th...  ...  Make reservation restaurant Adrian serf cheese...\n",
              "\n",
              "[5 rows x 3 columns]"
            ]
          },
          "metadata": {
            "tags": []
          },
          "execution_count": 136
        }
      ]
    },
    {
      "cell_type": "code",
      "metadata": {
        "colab": {
          "base_uri": "https://localhost:8080/"
        },
        "id": "kAJFl8bprp8O",
        "outputId": "bbfef3df-94f2-4888-c696-02ccd0241ce3"
      },
      "source": [
        "data_train['text_clean'].sample(10)"
      ],
      "execution_count": 137,
      "outputs": [
        {
          "output_type": "execute_result",
          "data": {
            "text/plain": [
              "102                         Find movie schedule movie area\n",
              "1632     Will weather temperate jan thirteenth 2028 Chr...\n",
              "12152                       Play Alfredo Zitarrosa spotify\n",
              "9199     What time The Night Before Premiere playing mo...\n",
              "11717                                  show movie schedule\n",
              "12781     Can use Pandora play soundtrack 1999 David Sitek\n",
              "13477                                  book spot far Åland\n",
              "9018      looking churrascaria place wifi serve party five\n",
              "8522      Please add Jency Anthony playlist This Is Mozart\n",
              "1635                      put live rare dancehall official\n",
              "Name: text_clean, dtype: object"
            ]
          },
          "metadata": {
            "tags": []
          },
          "execution_count": 137
        }
      ]
    },
    {
      "cell_type": "markdown",
      "metadata": {
        "id": "dMTlkGY2sgLx"
      },
      "source": [
        "# Train_test_split"
      ]
    },
    {
      "cell_type": "markdown",
      "metadata": {
        "id": "NO4htIIfsmsb"
      },
      "source": [
        "Kiedy dane są już przeprocesowane zajmijmy się ich podziałem w zbiorze data_train na treningowe (80%) i testowe(20%), które posłużą nam jako wstępne walidacyjne przed puszczeniem modelu na ostatecznych danych walidacyjnych."
      ]
    },
    {
      "cell_type": "code",
      "metadata": {
        "id": "-ynSgfLAtLr6"
      },
      "source": [
        "from sklearn.model_selection import train_test_split"
      ],
      "execution_count": 138,
      "outputs": []
    },
    {
      "cell_type": "code",
      "metadata": {
        "colab": {
          "base_uri": "https://localhost:8080/"
        },
        "id": "Up4rCXqmt3zV",
        "outputId": "b9f20e3b-a696-4e83-858a-988150ef57fc"
      },
      "source": [
        "data_train['label'].values"
      ],
      "execution_count": 139,
      "outputs": [
        {
          "output_type": "execute_result",
          "data": {
            "text/plain": [
              "array(['SearchScreeningEvent', 'RateBook', 'SearchScreeningEvent', ...,\n",
              "       'RateBook', 'AddToPlaylist', 'SearchScreeningEvent'], dtype=object)"
            ]
          },
          "metadata": {
            "tags": []
          },
          "execution_count": 139
        }
      ]
    },
    {
      "cell_type": "code",
      "metadata": {
        "id": "ru3R-cjWsljS"
      },
      "source": [
        "dtf_train, dtf_test = train_test_split(data_train, test_size=0.2, random_state=42)\n",
        "\n",
        "# wydzielenie y_train i y_test\n",
        "y_train = dtf_train['label'].values\n",
        "y_test = dtf_test['label'].values\n",
        "\n",
        "# wydzielenie X_test\n",
        "X_test = dtf_test['text_clean'].values"
      ],
      "execution_count": 140,
      "outputs": []
    },
    {
      "cell_type": "markdown",
      "metadata": {
        "id": "KW9eUDBnvFCE"
      },
      "source": [
        "W dalszej kolejności konieczna będzie zamiana tekstu na liczby, aby model mógł \"zrozumieć\" dane. "
      ]
    },
    {
      "cell_type": "markdown",
      "metadata": {
        "id": "0yLtF4XdvCG_"
      },
      "source": [
        "# TfIdfVectorizer i podejście z klasycznym klasyfikatorem"
      ]
    },
    {
      "cell_type": "markdown",
      "metadata": {
        "id": "FQbOJBj3vXU7"
      },
      "source": [
        "W pierwszej kolejności analizie poddamy przekształcenie korpusu oczyszczonych danych za pomocą TfIdfVectorizera w celu wydobycia słownika najczęstych słów i stowrzenia macierzy cech - złożonej ze słów \"kluczy\" w tekstach komend poprzez przypisanie im stosownej wagi. Słowa będące najistotniejsze będą miały najwyższe wagi."
      ]
    },
    {
      "cell_type": "code",
      "metadata": {
        "id": "BtY8m6FQuvVz"
      },
      "source": [
        "from sklearn.feature_extraction.text import TfidfVectorizer"
      ],
      "execution_count": 141,
      "outputs": []
    },
    {
      "cell_type": "code",
      "metadata": {
        "id": "ft268rQJwxmH"
      },
      "source": [
        "# stworzenie TfIdfVectorizera biorącego max 10000 najczęstszych słów ze wszystkich tekstów, zbudowanego z unigramów i bigramów\n",
        "vectorizer_tf_idf = TfidfVectorizer(max_features=10000, ngram_range=(1,2))"
      ],
      "execution_count": 142,
      "outputs": []
    },
    {
      "cell_type": "code",
      "metadata": {
        "id": "3b2R-FiwxvWm"
      },
      "source": [
        "X_train = vectorizer_tf_idf.fit_transform(dtf_train['text_clean'])"
      ],
      "execution_count": 143,
      "outputs": []
    },
    {
      "cell_type": "code",
      "metadata": {
        "colab": {
          "base_uri": "https://localhost:8080/"
        },
        "id": "xyUsnZ6QzrYu",
        "outputId": "1fb4ce55-9037-4334-a0ca-10b8f806c8e7"
      },
      "source": [
        "# sprawdzenie rozmiaru X_train\n",
        "X_train.shape"
      ],
      "execution_count": 144,
      "outputs": [
        {
          "output_type": "execute_result",
          "data": {
            "text/plain": [
              "(11027, 10000)"
            ]
          },
          "metadata": {
            "tags": []
          },
          "execution_count": 144
        }
      ]
    },
    {
      "cell_type": "markdown",
      "metadata": {
        "id": "G4-CscIMygJ5"
      },
      "source": [
        "W celu wyciągnięcia najbardziej istotnych cech (z dotychczas zdefiniowanych jako max_features=10000) wykonamy następujące operacje:\n",
        "\n",
        "\n",
        "1. potraktujemy każdą z kategorii jako binarną (np. 'RateBook' będzie 1 a pzoostałe 0),\n",
        "2. przeprowadzimy [Chi-Square](https://en.wikipedia.org/wiki/Chi-squared_test) test do oceny czy dana cecha i binarny target są niezależne,\n",
        "3. pozostawimy tylko cechy z określonym p-value z Chi-Square test.\n",
        "\n"
      ]
    },
    {
      "cell_type": "code",
      "metadata": {
        "id": "0M34ozQD1pag"
      },
      "source": [
        "from sklearn import feature_selection"
      ],
      "execution_count": 145,
      "outputs": []
    },
    {
      "cell_type": "code",
      "metadata": {
        "id": "ur60XJ6V1GEz"
      },
      "source": [
        "y = dtf_train['label']\n",
        "X_names = vectorizer_tf_idf.get_feature_names()\n",
        "p_value_limit = 0.95\n",
        "\n",
        "dtf_features = pd. DataFrame()\n",
        "for cat in np.unique(y):\n",
        "  chi2, p = feature_selection.chi2(X_train, y==cat)\n",
        "  dtf_features = dtf_features.append(pd.DataFrame(\n",
        "      {'feature': X_names, 'score': 1-p, 'y': cat}\n",
        "  ))\n",
        "  dtf_features = dtf_features.sort_values(['y', 'score'], ascending=[True, False])\n",
        "  dtf_features = dtf_features[dtf_features['score']>p_value_limit]\n",
        "X_names = dtf_features['feature'].unique().tolist()"
      ],
      "execution_count": 146,
      "outputs": []
    },
    {
      "cell_type": "code",
      "metadata": {
        "colab": {
          "base_uri": "https://localhost:8080/"
        },
        "id": "ngeQsNFo3kr-",
        "outputId": "ec44d9c1-2d94-4341-b3f4-42a9ac7e2e66"
      },
      "source": [
        "# sprawdzenie zredukowanej liczby cech z 10000\n",
        "len(X_names)"
      ],
      "execution_count": 147,
      "outputs": [
        {
          "output_type": "execute_result",
          "data": {
            "text/plain": [
              "5947"
            ]
          },
          "metadata": {
            "tags": []
          },
          "execution_count": 147
        }
      ]
    },
    {
      "cell_type": "markdown",
      "metadata": {
        "id": "Idast9in3twe"
      },
      "source": [
        "Statystycznie 5947 cech zostało uznanych za wysoce znaczące."
      ]
    },
    {
      "cell_type": "markdown",
      "metadata": {
        "id": "btkmraU239lK"
      },
      "source": [
        "Wyświetlmy dla przykładu kilka z nich dla poszczególnych kategorii czynności:"
      ]
    },
    {
      "cell_type": "code",
      "metadata": {
        "colab": {
          "base_uri": "https://localhost:8080/"
        },
        "id": "qQ2t36p34Gzq",
        "outputId": "9c925c63-8f2d-426a-bd1f-93500d7918cc"
      },
      "source": [
        "for cat in np.unique(y): \n",
        "  print('# {}:'.format(cat))\n",
        "  print(' -> ilość wybranych cech:',\n",
        "        len(dtf_features[dtf_features['y']==cat]))\n",
        "  print(' -> najpopularniejsze cechy: ',', '.join(\n",
        "      dtf_features[dtf_features['y']==cat]['feature'].values[:10]\n",
        "  ))\n",
        "  print('  ')"
      ],
      "execution_count": 148,
      "outputs": [
        {
          "output_type": "stream",
          "text": [
            "# AddToPlaylist:\n",
            " -> ilość wybranych cech: 1590\n",
            " -> najpopularniejsze cechy:  add, add album, add artist, add song, add track, add tune, artist, chill, indie, list\n",
            "  \n",
            "# BookRestaurant:\n",
            " -> ilość wybranych cech: 1159\n",
            " -> najpopularniejsze cechy:  bar, book, book reservation, book restaurant, book spot, book table, brasserie, eat, food, highly\n",
            "  \n",
            "# GetWeather:\n",
            " -> ilość wybranych cech: 966\n",
            " -> najpopularniejsze cechy:  chillier, chilly, colder, forecast, freezing, going, hotter, how, is, is going\n",
            "  \n",
            "# PlayMusic:\n",
            " -> ilość wybranych cech: 867\n",
            " -> najpopularniejsze cechy:  ballad, can play, chant, deezer, ep, fifty, fourties, google, google music, groove\n",
            "  \n",
            "# RateBook:\n",
            " -> ilość wybranych cech: 669\n",
            " -> najpopularniejsze cechy:  best rating, chronicle, current, current album, current book, current essay, current novel, current textbook, deserves, essay\n",
            "  \n",
            "# SearchCreativeWork:\n",
            " -> ilość wybranych cech: 794\n",
            " -> najpopularniejsze cechy:  called, called the, can find, creative, creativity, find, find novel, find show, find the, find tv\n",
            "  \n",
            "# SearchScreeningEvent:\n",
            " -> ilość wybranych cech: 709\n",
            " -> najpopularniejsze cechy:  animated, animated movie, cinema, cinemas, closest, closest cinema, closest movie, corporation, film, film playing\n",
            "  \n"
          ],
          "name": "stdout"
        }
      ]
    },
    {
      "cell_type": "markdown",
      "metadata": {
        "id": "WHs-SwTc4oMY"
      },
      "source": [
        "Zrefitujmy TfIdfVectorizer do nowego zbioru istotnych cech w celu wyprodukowania mniejszej macierzy cech i krótszego słownika."
      ]
    },
    {
      "cell_type": "code",
      "metadata": {
        "id": "zDwfb9px44_V"
      },
      "source": [
        "vectorizer_tf_idf = TfidfVectorizer(vocabulary=X_names)\n",
        "\n",
        "X_train = vectorizer_tf_idf.fit_transform(dtf_train['text_clean'])"
      ],
      "execution_count": 149,
      "outputs": []
    },
    {
      "cell_type": "code",
      "metadata": {
        "colab": {
          "base_uri": "https://localhost:8080/"
        },
        "id": "usnzyG235hS5",
        "outputId": "11ad9c2d-8e74-4258-918d-0d9a8d512e7f"
      },
      "source": [
        "# sprawdzenie wilekości macierzy X_train\n",
        "X_train.shape"
      ],
      "execution_count": 150,
      "outputs": [
        {
          "output_type": "execute_result",
          "data": {
            "text/plain": [
              "(11027, 5947)"
            ]
          },
          "metadata": {
            "tags": []
          },
          "execution_count": 150
        }
      ]
    },
    {
      "cell_type": "markdown",
      "metadata": {
        "id": "CCBIZERS5vgw"
      },
      "source": [
        "Przystąpmy teraz do zbudowania modelu i jego wytrenowania w pipeline."
      ]
    },
    {
      "cell_type": "code",
      "metadata": {
        "id": "vcC6kIQ-5u_R"
      },
      "source": [
        "from sklearn.naive_bayes import MultinomialNB\n",
        "from sklearn.ensemble import RandomForestClassifier\n",
        "from sklearn.pipeline import Pipeline\n",
        "from sklearn.metrics import classification_report, accuracy_score, confusion_matrix, f1_score"
      ],
      "execution_count": 151,
      "outputs": []
    },
    {
      "cell_type": "markdown",
      "metadata": {
        "id": "6JXmuHhE6lXn"
      },
      "source": [
        "Zdefiniujmy rozpatrywane modele klasyfikatorów."
      ]
    },
    {
      "cell_type": "code",
      "metadata": {
        "id": "8KFA7HkG6fQs"
      },
      "source": [
        "mnb = MultinomialNB()\n",
        "rfc = RandomForestClassifier()"
      ],
      "execution_count": 152,
      "outputs": []
    },
    {
      "cell_type": "code",
      "metadata": {
        "id": "jcvntB8B67Zr"
      },
      "source": [
        "# pipeline\n",
        "model = Pipeline([('vectorizer', vectorizer_tf_idf),\n",
        "                  ('classifier', rfc)])\n",
        "\n",
        "# train classifier\n",
        "model['classifier'].fit(X_train, y_train)\n",
        "\n",
        "# test\n",
        "predicted = model.predict(X_test)\n",
        "predicted_prob = model.predict_proba(X_test)"
      ],
      "execution_count": 153,
      "outputs": []
    },
    {
      "cell_type": "markdown",
      "metadata": {
        "id": "wg8jdCcO8zdv"
      },
      "source": [
        "Spójrzmy na wyniki poniżej:"
      ]
    },
    {
      "cell_type": "code",
      "metadata": {
        "colab": {
          "base_uri": "https://localhost:8080/",
          "height": 676
        },
        "id": "1hT4-RIk8eyP",
        "outputId": "dd63a6e8-80ec-489a-fa09-358dfe69dc7e"
      },
      "source": [
        "classes = np.unique(y_test)\n",
        "\n",
        "print('Accuracy:', round(accuracy_score(y_test, predicted),2))\n",
        "print('F1_score:', round(f1_score(y_test, predicted, average='weighted'),2))\n",
        "\n",
        "print(classification_report(y_test, predicted))\n",
        "# Plot confusion matrix\n",
        "cm = confusion_matrix(y_test, predicted)\n",
        "fig, ax = plt.subplots()\n",
        "sns.heatmap(cm, annot=True, fmt='d', ax=ax, cmap=plt.cm.Blues, cbar=False)\n",
        "ax.set(xlabel='Pred', ylabel='True', xticklabels=classes, yticklabels=classes, title='Confusion matrix')\n",
        "plt.yticks(rotation=0)\n",
        "plt.xticks(rotation=90)\n",
        "plt.show()"
      ],
      "execution_count": 154,
      "outputs": [
        {
          "output_type": "stream",
          "text": [
            "Accuracy: 0.98\n",
            "F1_score: 0.98\n",
            "                      precision    recall  f1-score   support\n",
            "\n",
            "       AddToPlaylist       1.00      0.99      1.00       398\n",
            "      BookRestaurant       0.98      0.99      0.99       384\n",
            "          GetWeather       0.98      0.99      0.99       396\n",
            "           PlayMusic       0.98      0.98      0.98       405\n",
            "            RateBook       0.99      1.00      0.99       399\n",
            "  SearchCreativeWork       0.91      0.95      0.93       392\n",
            "SearchScreeningEvent       0.99      0.93      0.96       383\n",
            "\n",
            "            accuracy                           0.98      2757\n",
            "           macro avg       0.98      0.98      0.98      2757\n",
            "        weighted avg       0.98      0.98      0.98      2757\n",
            "\n"
          ],
          "name": "stdout"
        },
        {
          "output_type": "display_data",
          "data": {
            "image/png": "[encoded data removed]",
            "text/plain": [
              "<Figure size 432x288 with 1 Axes>"
            ]
          },
          "metadata": {
            "tags": [],
            "needs_background": "light"
          }
        }
      ]
    },
    {
      "cell_type": "markdown",
      "metadata": {
        "id": "ioM7vaxN_LIw"
      },
      "source": [
        "Wynik na poziomie 98% skuteczności i f1 na zbiorze testowym w danych treningowych uznaję za satysfakcjonujący."
      ]
    },
    {
      "cell_type": "markdown",
      "metadata": {
        "id": "iUdlFSkIFetf"
      },
      "source": [
        "Wyszukajmy jednak jeszcze możliwie najlepszych hiperparamterów modelu RandoForestClassifer za pomocą GridSearcha."
      ]
    },
    {
      "cell_type": "code",
      "metadata": {
        "id": "TZ-GVgbgGS_m"
      },
      "source": [
        "from sklearn.model_selection import GridSearchCV"
      ],
      "execution_count": 155,
      "outputs": []
    },
    {
      "cell_type": "code",
      "metadata": {
        "id": "FHG-pvAhFeUg"
      },
      "source": [
        "# params_forest = {\n",
        "#     # 'n_estimators': [100, 200, 500],\n",
        "#     'criterion': ['gini', 'entropy'],\n",
        "#     'max_depth': [3, 5, 7, 15],\n",
        "#     'min_samples_split': [2, 4, 6, 9],\n",
        "#     # 'min_samples_leaf': [2, 3, 4, 5],\n",
        "#     # 'max_features': ['auto', None]\n",
        "# }\n",
        "# clf = GridSearchCV(RandomForestClassifier(random_state=42), params_forest,scoring='f1_weighted',)\n",
        "# clf.fit(X_train, y_train)\n",
        "# clf.best_params_"
      ],
      "execution_count": 156,
      "outputs": []
    },
    {
      "cell_type": "markdown",
      "metadata": {
        "id": "cJtbJR5tHh6U"
      },
      "source": [
        "Dofitujmy do danych najlepiej sparametryzowany model."
      ]
    },
    {
      "cell_type": "code",
      "metadata": {
        "id": "sjy70j6OHeQw"
      },
      "source": [
        "# zdefiniowanie najlepszego modelu\n",
        "clf = RandomForestClassifier(criterion='entropy', max_depth=15, min_samples_split=2)"
      ],
      "execution_count": 157,
      "outputs": []
    },
    {
      "cell_type": "code",
      "metadata": {
        "id": "JwMBZkHLi_pJ"
      },
      "source": [
        "# pipeline\n",
        "model = Pipeline([('vectorizer', vectorizer_tf_idf),\n",
        "                  ('classifier', clf)])\n",
        "\n",
        "# train classifier\n",
        "model['classifier'].fit(X_train, y_train)\n",
        "\n",
        "# test\n",
        "predicted = model.predict(X_test)\n",
        "predicted_prob = model.predict_proba(X_test)"
      ],
      "execution_count": 158,
      "outputs": []
    },
    {
      "cell_type": "markdown",
      "metadata": {
        "id": "pukoujFlJYMo"
      },
      "source": [
        "i zobaczmy wyniki"
      ]
    },
    {
      "cell_type": "code",
      "metadata": {
        "id": "SS-uEzRBJcBj",
        "colab": {
          "base_uri": "https://localhost:8080/",
          "height": 676
        },
        "outputId": "f94984f0-06a3-44b5-b29b-666f9c668952"
      },
      "source": [
        "classes = np.unique(y_test)\n",
        "\n",
        "print('Accuracy:', round(accuracy_score(y_test, predicted),2))\n",
        "print('F1_score:', round(f1_score(y_test, predicted, average='weighted'),2))\n",
        "\n",
        "print(classification_report(y_test, predicted))\n",
        "# Plot confusion matrix\n",
        "cm = confusion_matrix(y_test, predicted)\n",
        "fig, ax = plt.subplots()\n",
        "sns.heatmap(cm, annot=True, fmt='d', ax=ax, cmap=plt.cm.Blues, cbar=False)\n",
        "ax.set(xlabel='Pred', ylabel='True', xticklabels=classes, yticklabels=classes, title='Confusion matrix')\n",
        "plt.yticks(rotation=0)\n",
        "plt.xticks(rotation=90)\n",
        "plt.show()"
      ],
      "execution_count": 159,
      "outputs": [
        {
          "output_type": "stream",
          "text": [
            "Accuracy: 0.96\n",
            "F1_score: 0.96\n",
            "                      precision    recall  f1-score   support\n",
            "\n",
            "       AddToPlaylist       0.99      0.99      0.99       398\n",
            "      BookRestaurant       0.97      0.99      0.98       384\n",
            "          GetWeather       0.95      0.99      0.97       396\n",
            "           PlayMusic       0.95      0.99      0.97       405\n",
            "            RateBook       0.98      0.99      0.99       399\n",
            "  SearchCreativeWork       0.92      0.87      0.89       392\n",
            "SearchScreeningEvent       0.97      0.92      0.94       383\n",
            "\n",
            "            accuracy                           0.96      2757\n",
            "           macro avg       0.96      0.96      0.96      2757\n",
            "        weighted avg       0.96      0.96      0.96      2757\n",
            "\n"
          ],
          "name": "stdout"
        },
        {
          "output_type": "display_data",
          "data": {
            "image/png": "[encoded data removed]",
            "text/plain": [
              "<Figure size 432x288 with 1 Axes>"
            ]
          },
          "metadata": {
            "tags": [],
            "needs_background": "light"
          }
        }
      ]
    },
    {
      "cell_type": "markdown",
      "metadata": {
        "id": "YKQFrIB-jVYq"
      },
      "source": [
        "Jak widać z powyższych wyników, najlepsze wyniki uzyskujemy na domyślnych parametrach RandomForestClassifier."
      ]
    },
    {
      "cell_type": "markdown",
      "metadata": {
        "id": "1XE7c3Qa_Wew"
      },
      "source": [
        "Sprawdźmy, jak zachowa się model na danych walidacyjnych."
      ]
    },
    {
      "cell_type": "markdown",
      "metadata": {
        "id": "5dZ1EuAaEb4g"
      },
      "source": [
        "Przeprocesowaie danych walidacyjnych i dodanie nowej kolumny z oczyszczonym tekstem."
      ]
    },
    {
      "cell_type": "code",
      "metadata": {
        "colab": {
          "base_uri": "https://localhost:8080/",
          "height": 206
        },
        "id": "aRUyJ8Mr_dTw",
        "outputId": "390f82d5-dbdb-4b16-bffa-82d8d29114be"
      },
      "source": [
        "# dodanie nowej kolumny do istniejącego data_validation z oczyszczonymi komendami użytkowników\n",
        "data_validation['text_clean'] = data_validation['text'].apply(lambda x:\n",
        "                                                    utils_preprocess_text(\n",
        "                                                        x,\n",
        "                                                        flg_lemm=True,\n",
        "                                                        lst_stopwords=set(stopwords.words('english'))\n",
        "                                                    ))\n",
        "data_validation.sample(5)"
      ],
      "execution_count": 160,
      "outputs": [
        {
          "output_type": "execute_result",
          "data": {
            "text/html": [
              "<div>\n",
              "<style scoped>\n",
              "    .dataframe tbody tr th:only-of-type {\n",
              "        vertical-align: middle;\n",
              "    }\n",
              "\n",
              "    .dataframe tbody tr th {\n",
              "        vertical-align: top;\n",
              "    }\n",
              "\n",
              "    .dataframe thead th {\n",
              "        text-align: right;\n",
              "    }\n",
              "</style>\n",
              "<table border=\"1\" class=\"dataframe\">\n",
              "  <thead>\n",
              "    <tr style=\"text-align: right;\">\n",
              "      <th></th>\n",
              "      <th>text</th>\n",
              "      <th>label</th>\n",
              "      <th>text_clean</th>\n",
              "    </tr>\n",
              "  </thead>\n",
              "  <tbody>\n",
              "    <tr>\n",
              "      <th>460</th>\n",
              "      <td>Will it be rainy in Tenino?</td>\n",
              "      <td>GetWeather</td>\n",
              "      <td>Will rainy Tenino</td>\n",
              "    </tr>\n",
              "    <tr>\n",
              "      <th>34</th>\n",
              "      <td>Give A Brief Stop on the Road from Auschwitz 1...</td>\n",
              "      <td>RateBook</td>\n",
              "      <td>Give Brief Stop Road Auschwitz 1 6 star</td>\n",
              "    </tr>\n",
              "    <tr>\n",
              "      <th>396</th>\n",
              "      <td>what are some close by animated movies showing</td>\n",
              "      <td>SearchScreeningEvent</td>\n",
              "      <td>close animated movie showing</td>\n",
              "    </tr>\n",
              "    <tr>\n",
              "      <th>114</th>\n",
              "      <td>Book me a reservation for the best bistro</td>\n",
              "      <td>BookRestaurant</td>\n",
              "      <td>Book reservation best bistro</td>\n",
              "    </tr>\n",
              "    <tr>\n",
              "      <th>676</th>\n",
              "      <td>Rate The children of Niobe 1 out of 6 points.</td>\n",
              "      <td>RateBook</td>\n",
              "      <td>Rate The child Niobe 1 6 point</td>\n",
              "    </tr>\n",
              "  </tbody>\n",
              "</table>\n",
              "</div>"
            ],
            "text/plain": [
              "                                                  text  ...                               text_clean\n",
              "460                        Will it be rainy in Tenino?  ...                        Will rainy Tenino\n",
              "34   Give A Brief Stop on the Road from Auschwitz 1...  ...  Give Brief Stop Road Auschwitz 1 6 star\n",
              "396     what are some close by animated movies showing  ...             close animated movie showing\n",
              "114          Book me a reservation for the best bistro  ...             Book reservation best bistro\n",
              "676      Rate The children of Niobe 1 out of 6 points.  ...           Rate The child Niobe 1 6 point\n",
              "\n",
              "[5 rows x 3 columns]"
            ]
          },
          "metadata": {
            "tags": []
          },
          "execution_count": 160
        }
      ]
    },
    {
      "cell_type": "code",
      "metadata": {
        "id": "4d2lcb4BEpTd"
      },
      "source": [
        "# wydzielenie X_val\n",
        "X_val = data_validation['text_clean'].values\n",
        "\n",
        "# wydzielenie y_val\n",
        "y_val = data_validation['label'].values"
      ],
      "execution_count": 161,
      "outputs": []
    },
    {
      "cell_type": "code",
      "metadata": {
        "id": "zoEVP_RTj5Qb"
      },
      "source": [
        "# walidacja zbioru testowego\n",
        "\n",
        "# pipeline\n",
        "model = Pipeline([('vectorizer', vectorizer_tf_idf),\n",
        "                  ('classifier', rfc)])\n",
        "\n",
        "# train classifier\n",
        "model['classifier'].fit(X_train, y_train)\n",
        "\n",
        "# test\n",
        "predicted_val = model.predict(X_val)\n",
        "predicted_prob_val = model.predict_proba(X_val)"
      ],
      "execution_count": 162,
      "outputs": []
    },
    {
      "cell_type": "code",
      "metadata": {
        "colab": {
          "base_uri": "https://localhost:8080/",
          "height": 676
        },
        "id": "ElydQW70FL5r",
        "outputId": "e32f174d-85cb-4031-d1e3-a2da127dbfb9"
      },
      "source": [
        "classes = np.unique(y_val)\n",
        "\n",
        "print('Accuracy:', round(accuracy_score(y_val, predicted_val),2))\n",
        "print('F1_score:', round(f1_score(y_val, predicted_val, average='weighted'),2))\n",
        "\n",
        "print(classification_report(y_val, predicted_val))\n",
        "# Plot confusion matrix\n",
        "cm = confusion_matrix(y_val, predicted_val)\n",
        "fig, ax = plt.subplots()\n",
        "sns.heatmap(cm, annot=True, fmt='d', ax=ax, cmap=plt.cm.Blues, cbar=False)\n",
        "ax.set(xlabel='Pred', ylabel='True', xticklabels=classes, yticklabels=classes, title='Confusion matrix')\n",
        "plt.yticks(rotation=0)\n",
        "plt.xticks(rotation=90)\n",
        "plt.show()"
      ],
      "execution_count": 163,
      "outputs": [
        {
          "output_type": "stream",
          "text": [
            "Accuracy: 0.97\n",
            "F1_score: 0.97\n",
            "                      precision    recall  f1-score   support\n",
            "\n",
            "       AddToPlaylist       0.98      1.00      0.99       100\n",
            "      BookRestaurant       0.98      1.00      0.99       100\n",
            "          GetWeather       0.99      0.98      0.98       100\n",
            "           PlayMusic       0.99      0.95      0.97       100\n",
            "            RateBook       1.00      1.00      1.00       100\n",
            "  SearchCreativeWork       0.91      0.98      0.94       100\n",
            "SearchScreeningEvent       0.98      0.91      0.94       100\n",
            "\n",
            "            accuracy                           0.97       700\n",
            "           macro avg       0.98      0.97      0.97       700\n",
            "        weighted avg       0.98      0.97      0.97       700\n",
            "\n"
          ],
          "name": "stdout"
        },
        {
          "output_type": "display_data",
          "data": {
            "image/png": "[encoded data removed]",
            "text/plain": [
              "<Figure size 432x288 with 1 Axes>"
            ]
          },
          "metadata": {
            "tags": [],
            "needs_background": "light"
          }
        }
      ]
    },
    {
      "cell_type": "markdown",
      "metadata": {
        "id": "es52uQdwoTDo"
      },
      "source": [
        "Wyszukajmy przykładowe indeksy przypadków, w których model się pomylił i oceńmy sami, jakbyśmy zakfalifikowali daną komendę użytkownika."
      ]
    },
    {
      "cell_type": "code",
      "metadata": {
        "colab": {
          "base_uri": "https://localhost:8080/"
        },
        "id": "8UGSePISlX0x",
        "outputId": "9dc349bb-e271-4e93-e715-ac84352683ea"
      },
      "source": [
        "indexes = []\n",
        "for i, phrase in enumerate(predicted_val):\n",
        "  if phrase == 'BookRestaurant':\n",
        "    if y_val[i] == 'SearchCreativeWork':\n",
        "      indexes.append(i)\n",
        "print(indexes)"
      ],
      "execution_count": 225,
      "outputs": [
        {
          "output_type": "stream",
          "text": [
            "[426]\n"
          ],
          "name": "stdout"
        }
      ]
    },
    {
      "cell_type": "code",
      "metadata": {
        "colab": {
          "base_uri": "https://localhost:8080/"
        },
        "id": "8Rq6qAwBojzy",
        "outputId": "b141e09d-05cb-475c-fb4e-3b22eb5070a4"
      },
      "source": [
        "# Tekst komendy użytkownika\n",
        "\n",
        "print(f'True category: {y_val[426]}')\n",
        "print(f'Predicted category: {predicted_val[426]}')\n",
        "print(f\"----------------------------\\nTekst komendy:\\n{data_validation['text'][426]}\")"
      ],
      "execution_count": 165,
      "outputs": [
        {
          "output_type": "stream",
          "text": [
            "True category: SearchCreativeWork\n",
            "Predicted category: BookRestaurant\n",
            "----------------------------\n",
            "Tekst komendy:\n",
            "Can you please get me the book Dracula 5: The Blood Legacy?\n"
          ],
          "name": "stdout"
        }
      ]
    },
    {
      "cell_type": "markdown",
      "metadata": {
        "id": "KLD42I98ppQb"
      },
      "source": [
        "Sprawdźmy jeszcze jedne przypadek:"
      ]
    },
    {
      "cell_type": "code",
      "metadata": {
        "colab": {
          "base_uri": "https://localhost:8080/"
        },
        "id": "AcaVYsO-po8l",
        "outputId": "13be0dc5-6525-44e4-b8cb-6f4fd026a6d3"
      },
      "source": [
        "indexes = []\n",
        "for i, phrase in enumerate(predicted_val):\n",
        "  if phrase == 'PlayMusic':\n",
        "    if y_val[i] == 'SearchCreativeWork':\n",
        "      indexes.append(i)\n",
        "print(indexes)"
      ],
      "execution_count": 166,
      "outputs": [
        {
          "output_type": "stream",
          "text": [
            "[288]\n"
          ],
          "name": "stdout"
        }
      ]
    },
    {
      "cell_type": "code",
      "metadata": {
        "colab": {
          "base_uri": "https://localhost:8080/"
        },
        "id": "rJIBhM3Lp2Lz",
        "outputId": "01f8fd4d-d300-4133-9c3e-7d33645217e2"
      },
      "source": [
        "# Tekst komendy użytkownika\n",
        "\n",
        "print(f'True category: {y_val[288]}')\n",
        "print(f'Predicted category: {predicted_val[288]}')\n",
        "print(f\"----------------------------\\nTekst komendy:\\n{data_validation['text'][288]}\")"
      ],
      "execution_count": 167,
      "outputs": [
        {
          "output_type": "stream",
          "text": [
            "True category: SearchCreativeWork\n",
            "Predicted category: PlayMusic\n",
            "----------------------------\n",
            "Tekst komendy:\n",
            "Am looking for a book with the title Free to Play\n"
          ],
          "name": "stdout"
        }
      ]
    },
    {
      "cell_type": "markdown",
      "metadata": {
        "id": "i4f-a68ypZSP"
      },
      "source": [
        "A Wy jakbyście zaklasyfikowali powyższe polecenia?"
      ]
    },
    {
      "cell_type": "markdown",
      "metadata": {
        "id": "PrCn9bNApfJb"
      },
      "source": [
        "--------------------------------------------------------------------------------"
      ]
    },
    {
      "cell_type": "markdown",
      "metadata": {
        "id": "TxKIpIgIJyVm"
      },
      "source": [
        "Sprawdźmy jeszcze jak skuteczne będą dla tego zadania sieci rekurencyjne RNN."
      ]
    },
    {
      "cell_type": "markdown",
      "metadata": {
        "id": "aLROoH3fJ8ur"
      },
      "source": [
        "# Tokenizer i sieci rekurencyjne RNN"
      ]
    },
    {
      "cell_type": "code",
      "metadata": {
        "id": "GyzsNsIUJ7gL"
      },
      "source": [
        "from keras.preprocessing.sequence import pad_sequences\n",
        "from keras.preprocessing.text import Tokenizer"
      ],
      "execution_count": 168,
      "outputs": []
    },
    {
      "cell_type": "markdown",
      "metadata": {
        "id": "8JIFuRI79rDB"
      },
      "source": [
        "Do wyuczenia sieci będziemy musieli podać dane w postaci liczb. Na początek zmapujmy nasze 'labele' na liczby:"
      ]
    },
    {
      "cell_type": "code",
      "metadata": {
        "colab": {
          "base_uri": "https://localhost:8080/"
        },
        "id": "tYUnEIKi94Sq",
        "outputId": "e19935ff-fe17-4e14-dbab-20b27411b77e"
      },
      "source": [
        "# Wyświeltnie unikalnych wartości labeli\n",
        "np.unique(data_train['label'])"
      ],
      "execution_count": 169,
      "outputs": [
        {
          "output_type": "execute_result",
          "data": {
            "text/plain": [
              "array(['AddToPlaylist', 'BookRestaurant', 'GetWeather', 'PlayMusic',\n",
              "       'RateBook', 'SearchCreativeWork', 'SearchScreeningEvent'],\n",
              "      dtype=object)"
            ]
          },
          "metadata": {
            "tags": []
          },
          "execution_count": 169
        }
      ]
    },
    {
      "cell_type": "code",
      "metadata": {
        "id": "5GaxBalw9Ub1"
      },
      "source": [
        "# Mapowanie etykiet na liczby integer\n",
        "y = data_train['label'].map({'AddToPlaylist': 1, 'BookRestaurant': 2, 'GetWeather': 3, 'PlayMusic': 4, 'RateBook': 5, 'SearchCreativeWork': 6, 'SearchScreeningEvent': 7}).values"
      ],
      "execution_count": 170,
      "outputs": []
    },
    {
      "cell_type": "code",
      "metadata": {
        "colab": {
          "base_uri": "https://localhost:8080/"
        },
        "id": "teN_2BPrB1KF",
        "outputId": "8312436e-e651-46b1-a9c9-186c940f5cc5"
      },
      "source": [
        "# Wyświeltenie unkalnych wartości etykiet\n",
        "np.unique(y)"
      ],
      "execution_count": 171,
      "outputs": [
        {
          "output_type": "execute_result",
          "data": {
            "text/plain": [
              "array([1, 2, 3, 4, 5, 6, 7])"
            ]
          },
          "metadata": {
            "tags": []
          },
          "execution_count": 171
        }
      ]
    },
    {
      "cell_type": "markdown",
      "metadata": {
        "id": "PBghKmT8HrRo"
      },
      "source": [
        "Zrzutowanie danych tekstowych do wektra słów."
      ]
    },
    {
      "cell_type": "code",
      "metadata": {
        "id": "R7O_qgCvHdsV"
      },
      "source": [
        "X = data_train['text_clean'].values"
      ],
      "execution_count": 172,
      "outputs": []
    },
    {
      "cell_type": "markdown",
      "metadata": {
        "id": "hIZyMSSIq8ra"
      },
      "source": [
        "Podzielmy raz jeszcze dane na treningowe i testowe w zbiorze treningowym."
      ]
    },
    {
      "cell_type": "code",
      "metadata": {
        "id": "Z9pJE7K4qLHC"
      },
      "source": [
        "X_train, X_test, y_train, y_test = train_test_split(X, y, test_size=0.2, random_state=42)"
      ],
      "execution_count": 173,
      "outputs": []
    },
    {
      "cell_type": "markdown",
      "metadata": {
        "id": "CRnvSFAYLB3B"
      },
      "source": [
        "Utwórzmy tokenizer, aby przypisać indeksy do poszczególnych słów w zbiorze X_train."
      ]
    },
    {
      "cell_type": "code",
      "metadata": {
        "id": "kgVrRloEKeGl"
      },
      "source": [
        "tokenizer = Tokenizer()\n",
        "tokenizer.fit_on_texts(X_train)"
      ],
      "execution_count": 174,
      "outputs": []
    },
    {
      "cell_type": "markdown",
      "metadata": {
        "id": "-9qucqY3MFDe"
      },
      "source": [
        "Przekształćmy dane treningowe X_train i testowe X_test na wektory indeksów."
      ]
    },
    {
      "cell_type": "code",
      "metadata": {
        "id": "twE-RZIjKwF5"
      },
      "source": [
        "X_train = tokenizer.texts_to_sequences(X_train)\n",
        "X_test = tokenizer.texts_to_sequences(X_test)"
      ],
      "execution_count": 175,
      "outputs": []
    },
    {
      "cell_type": "code",
      "metadata": {
        "colab": {
          "base_uri": "https://localhost:8080/"
        },
        "id": "4ygiKIINrTe_",
        "outputId": "4184d524-e0c9-41ff-eac1-e4076b292608"
      },
      "source": [
        "# Sprawdzenie przykładowego X_test\n",
        "X_test[10]"
      ],
      "execution_count": 176,
      "outputs": [
        {
          "output_type": "execute_result",
          "data": {
            "text/plain": [
              "[14, 78, 49, 19]"
            ]
          },
          "metadata": {
            "tags": []
          },
          "execution_count": 176
        }
      ]
    },
    {
      "cell_type": "markdown",
      "metadata": {
        "id": "fh_1n6wBtSq_"
      },
      "source": [
        "Sprawdźmy max i średnią długość komendy tekstowej w celu określenia ile tokenów warto rozważać, a ile pominąć."
      ]
    },
    {
      "cell_type": "code",
      "metadata": {
        "colab": {
          "base_uri": "https://localhost:8080/"
        },
        "id": "LV8KGB96rpR5",
        "outputId": "13e23b07-3b81-4f71-ae8e-94ebba45fabd"
      },
      "source": [
        "size = []\n",
        "for i, k in enumerate(X_train):\n",
        "  size.append(len(k))\n",
        "print(f'Max X_train size: {max(size)}')\n",
        "print(f'AVG X_train_size: {round(np.mean(size), 2)}')"
      ],
      "execution_count": 177,
      "outputs": [
        {
          "output_type": "stream",
          "text": [
            "Max X_train size: 18\n",
            "AVG X_train_size: 5.83\n"
          ],
          "name": "stdout"
        }
      ]
    },
    {
      "cell_type": "markdown",
      "metadata": {
        "id": "7NJ66s_DMQdU"
      },
      "source": [
        "W związku z koniecznością zrównania długości inputowanych do sieci RNN tokenów przyjmiemy do dalszych rozważań 18 pierwszysch tokenów tj. w oparciu o najdłuższą komendę użytkowanika w zbiorze X_train. Mamy do dyspozycji GPU, więc taka ilość nie będzie kosztowna obliczeniowo.\n",
        "W komendach, gdzie występuje mniej tokenów, rozmiar komendy zostanie dostosowany do długości 18 tokenów za pomocą paddingu."
      ]
    },
    {
      "cell_type": "code",
      "metadata": {
        "id": "xhpel1PRK_mA"
      },
      "source": [
        "# bierzemy 18 pierwszych tokenów\n",
        "maxlen = 18\n",
        "vocab_size = len(tokenizer.word_index) + 1 # dadajemy 1 na specjalne tokeny\n",
        "\n",
        "X_train = pad_sequences(X_train, padding='post', truncating='post', maxlen=maxlen)\n",
        "X_test = pad_sequences(X_test, padding='post', truncating='post', maxlen=maxlen)"
      ],
      "execution_count": 178,
      "outputs": []
    },
    {
      "cell_type": "markdown",
      "metadata": {
        "id": "hGJCJiUiug6r"
      },
      "source": [
        "Wyświetlmy przykładową komendę użytkownika poddaną paddingowi:"
      ]
    },
    {
      "cell_type": "code",
      "metadata": {
        "colab": {
          "base_uri": "https://localhost:8080/"
        },
        "id": "i_g0Uxewub54",
        "outputId": "cd3dc76b-3b41-4420-84f1-8e147535bea9"
      },
      "source": [
        "X_train[18]"
      ],
      "execution_count": 179,
      "outputs": [
        {
          "output_type": "execute_result",
          "data": {
            "text/plain": [
              "array([   1,   43, 3875,  816,    0,    0,    0,    0,    0,    0,    0,\n",
              "          0,    0,    0,    0,    0,    0,    0], dtype=int32)"
            ]
          },
          "metadata": {
            "tags": []
          },
          "execution_count": 179
        }
      ]
    },
    {
      "cell_type": "markdown",
      "metadata": {
        "id": "A1-gmzpVurKb"
      },
      "source": [
        "Jak widać na powyższym przykładzie komenda składająca się pierwotnie z 4 słów ~ tokenów została rozszerzona do długości 18. Początek komendy został zachowany."
      ]
    },
    {
      "cell_type": "markdown",
      "metadata": {
        "id": "6LEwWrMuvFV6"
      },
      "source": [
        "Przystąpmy do zbudowania sieci RNN."
      ]
    },
    {
      "cell_type": "code",
      "metadata": {
        "id": "VMz67Q3KMdv1"
      },
      "source": [
        "from keras.models import Sequential\n",
        "from keras.layers import Flatten, SimpleRNN, Dense, LSTM, GRU, Bidirectional\n",
        "from keras.layers.embeddings import Embedding\n",
        "from keras.callbacks import EarlyStopping"
      ],
      "execution_count": 180,
      "outputs": []
    },
    {
      "cell_type": "markdown",
      "metadata": {
        "id": "Vj15reImMtxo"
      },
      "source": [
        "Stwórzmy architekturę sieci rekurencyjnej z warstwą LSTM."
      ]
    },
    {
      "cell_type": "code",
      "metadata": {
        "id": "cROuy3lDMkVj",
        "colab": {
          "base_uri": "https://localhost:8080/"
        },
        "outputId": "abfce52b-9adf-46f1-8234-c8a9264c6a42"
      },
      "source": [
        "model = Sequential()\n",
        "model.add(Embedding(vocab_size, 300, input_length=maxlen)) # wektory długości 300\n",
        "model.add(Bidirectional(LSTM(32, dropout=0.2, recurrent_dropout=0.3, return_sequences=False,kernel_initializer='he_uniform')))  # warstwa dwukierunkowa (złożona niejako z dwóch warstw; \n",
        "                                                                                                                                    # każda z dodatkowym dropoutem)\n",
        "model.add(Dense(256, activation='relu'))  # dodatkowa warstwa Dense\n",
        "model.add(Dense(maxlen, activation='softmax')) # ostatnia warstwa złożona z 7 kategorii\n",
        "model.compile(loss='sparse_categorical_crossentropy', optimizer='adam', metrics=['accuracy'])\n",
        "print(model.summary())"
      ],
      "execution_count": 181,
      "outputs": [
        {
          "output_type": "stream",
          "text": [
            "WARNING:tensorflow:Layer lstm_3 will not use cuDNN kernel since it doesn't meet the cuDNN kernel criteria. It will use generic GPU kernel as fallback when running on GPU\n",
            "WARNING:tensorflow:Layer lstm_3 will not use cuDNN kernel since it doesn't meet the cuDNN kernel criteria. It will use generic GPU kernel as fallback when running on GPU\n",
            "WARNING:tensorflow:Layer lstm_3 will not use cuDNN kernel since it doesn't meet the cuDNN kernel criteria. It will use generic GPU kernel as fallback when running on GPU\n",
            "Model: \"sequential_4\"\n",
            "_________________________________________________________________\n",
            "Layer (type)                 Output Shape              Param #   \n",
            "=================================================================\n",
            "embedding_4 (Embedding)      (None, 18, 300)           2950800   \n",
            "_________________________________________________________________\n",
            "bidirectional_3 (Bidirection (None, 64)                85248     \n",
            "_________________________________________________________________\n",
            "dense_6 (Dense)              (None, 256)               16640     \n",
            "_________________________________________________________________\n",
            "dense_7 (Dense)              (None, 18)                4626      \n",
            "=================================================================\n",
            "Total params: 3,057,314\n",
            "Trainable params: 3,057,314\n",
            "Non-trainable params: 0\n",
            "_________________________________________________________________\n",
            "None\n"
          ],
          "name": "stdout"
        }
      ]
    },
    {
      "cell_type": "code",
      "metadata": {
        "colab": {
          "base_uri": "https://localhost:8080/"
        },
        "id": "I4SN48GvFTtj",
        "outputId": "92e2100e-3a61-4a54-d623-4e6a5f3e3fdc"
      },
      "source": [
        "# Sprawdzenie rozmiaru zbiorów treningowego i testowego\n",
        "X_train.shape, y_train.shape, X_test.shape, y_test.shape"
      ],
      "execution_count": 182,
      "outputs": [
        {
          "output_type": "execute_result",
          "data": {
            "text/plain": [
              "((11027, 18), (11027,), (2757, 18), (2757,))"
            ]
          },
          "metadata": {
            "tags": []
          },
          "execution_count": 182
        }
      ]
    },
    {
      "cell_type": "code",
      "metadata": {
        "id": "9bpTDoEsMrug",
        "colab": {
          "base_uri": "https://localhost:8080/"
        },
        "outputId": "747d1259-1540-434b-c5c4-679e311f2da8"
      },
      "source": [
        "history_lstm = model.fit(X_train, y_train, epochs=10, batch_size=64, validation_split=0.2, callbacks=EarlyStopping(monitor='val_loss', mode='min', verbose=1, patience=2))"
      ],
      "execution_count": 183,
      "outputs": [
        {
          "output_type": "stream",
          "text": [
            "Epoch 1/10\n",
            "138/138 [==============================] - 28s 172ms/step - loss: 1.7408 - accuracy: 0.4738 - val_loss: 0.1032 - val_accuracy: 0.9696\n",
            "Epoch 2/10\n",
            "138/138 [==============================] - 24s 172ms/step - loss: 0.0654 - accuracy: 0.9826 - val_loss: 0.0769 - val_accuracy: 0.9778\n",
            "Epoch 3/10\n",
            "138/138 [==============================] - 24s 172ms/step - loss: 0.0205 - accuracy: 0.9951 - val_loss: 0.0676 - val_accuracy: 0.9760\n",
            "Epoch 4/10\n",
            "138/138 [==============================] - 24s 177ms/step - loss: 0.0073 - accuracy: 0.9985 - val_loss: 0.0828 - val_accuracy: 0.9710\n",
            "Epoch 5/10\n",
            "138/138 [==============================] - 23s 170ms/step - loss: 0.0043 - accuracy: 0.9988 - val_loss: 0.0845 - val_accuracy: 0.9742\n",
            "Epoch 00005: early stopping\n"
          ],
          "name": "stdout"
        }
      ]
    },
    {
      "cell_type": "markdown",
      "metadata": {
        "id": "Pm1L84qxN-iH"
      },
      "source": [
        "Zwizualizujmy uczenie sieci za pomocą funkcji."
      ]
    },
    {
      "cell_type": "code",
      "metadata": {
        "id": "ToqChakMN9im"
      },
      "source": [
        "import plotly.graph_objects as go\n",
        "\n",
        "# wykres pokazujący  dokładność i funkcje starty\n",
        "def plot_hist(history):\n",
        "    hist = pd.DataFrame(history.history)\n",
        "    hist['epoch'] = history.epoch\n",
        " \n",
        "    fig = go.Figure()\n",
        "    fig.add_trace(go.Scatter(x=hist['epoch'], y=hist['accuracy'], name='accuracy', mode='markers+lines'))\n",
        "    fig.add_trace(go.Scatter(x=hist['epoch'], y=hist['val_accuracy'], name='val_accuracy', mode='markers+lines'))\n",
        "    fig.update_layout(width=1000, height=500, title='Accuracy vs. Val Accuracy', xaxis_title='Epoki', yaxis_title='Accuracy', yaxis_type='log')\n",
        "    fig.show()\n",
        " \n",
        "    fig = go.Figure()\n",
        "    fig.add_trace(go.Scatter(x=hist['epoch'], y=hist['loss'], name='loss', mode='markers+lines'))\n",
        "    fig.add_trace(go.Scatter(x=hist['epoch'], y=hist['val_loss'], name='val_loss', mode='markers+lines'))\n",
        "    fig.update_layout(width=1000, height=500, title='Loss vs. Val Loss', xaxis_title='Epoki', yaxis_title='Loss', yaxis_type='log')\n",
        "    fig.show()"
      ],
      "execution_count": 184,
      "outputs": []
    },
    {
      "cell_type": "code",
      "metadata": {
        "id": "EQZKNQ5QOHwp",
        "colab": {
          "base_uri": "https://localhost:8080/",
          "height": 1000
        },
        "outputId": "29ca98df-dc29-43cc-e387-b8d5a8ae7f0a"
      },
      "source": [
        "plot_hist(history_lstm)"
      ],
      "execution_count": 185,
      "outputs": [
        {
          "output_type": "display_data",
          "data": {
            "text/html": [
              "<html>\n",
              "<head><meta charset=\"utf-8\" /></head>\n",
              "<body>\n",
              "    <div>\n",
              "            <script src=\"https://cdnjs.cloudflare.com/ajax/libs/mathjax/2.7.5/MathJax.js?config=TeX-AMS-MML_SVG\"></script><script type=\"text/javascript\">if (window.MathJax) {MathJax.Hub.Config({SVG: {font: \"STIX-Web\"}});}</script>\n",
              "                <script type=\"text/javascript\">window.PlotlyConfig = {MathJaxConfig: 'local'};</script>\n",
              "        <script src=\"https://cdn.plot.ly/plotly-latest.min.js\"></script>    \n",
              "            <div id=\"d981197b-6785-49d8-ace3-f9a15fdba7db\" class=\"plotly-graph-div\" style=\"height:500px; width:1000px;\"></div>\n",
              "            <script type=\"text/javascript\">\n",
              "                \n",
              "                    window.PLOTLYENV=window.PLOTLYENV || {};\n",
              "                    \n",
              "                if (document.getElementById(\"d981197b-6785-49d8-ace3-f9a15fdba7db\")) {\n",
              "                    Plotly.newPlot(\n",
              "                        'd981197b-6785-49d8-ace3-f9a15fdba7db',\n",
              "                        [{\"mode\": \"markers+lines\", \"name\": \"accuracy\", \"type\": \"scatter\", \"x\": [0, 1, 2, 3, 4], \"y\": [0.743906557559967, 0.9827684164047241, 0.9946718215942383, 0.9984129071235657, 0.9993197917938232]}, {\"mode\": \"markers+lines\", \"name\": \"val_accuracy\", \"type\": \"scatter\", \"x\": [0, 1, 2, 3, 4], \"y\": [0.9696282744407654, 0.9777878522872925, 0.9759746193885803, 0.9709882140159607, 0.9741613864898682]}],\n",
              "                        {\"height\": 500, \"template\": {\"data\": {\"bar\": [{\"error_x\": {\"color\": \"#2a3f5f\"}, \"error_y\": {\"color\": \"#2a3f5f\"}, \"marker\": {\"line\": {\"color\": \"#E5ECF6\", \"width\": 0.5}}, \"type\": \"bar\"}], \"barpolar\": [{\"marker\": {\"line\": {\"color\": \"#E5ECF6\", \"width\": 0.5}}, \"type\": \"barpolar\"}], \"carpet\": [{\"aaxis\": {\"endlinecolor\": \"#2a3f5f\", \"gridcolor\": \"white\", \"linecolor\": \"white\", \"minorgridcolor\": \"white\", \"startlinecolor\": \"#2a3f5f\"}, \"baxis\": {\"endlinecolor\": \"#2a3f5f\", \"gridcolor\": \"white\", \"linecolor\": \"white\", \"minorgridcolor\": \"white\", \"startlinecolor\": \"#2a3f5f\"}, \"type\": \"carpet\"}], \"choropleth\": [{\"colorbar\": {\"outlinewidth\": 0, \"ticks\": \"\"}, \"type\": \"choropleth\"}], \"contour\": [{\"colorbar\": {\"outlinewidth\": 0, \"ticks\": \"\"}, \"colorscale\": [[0.0, \"#0d0887\"], [0.1111111111111111, \"#46039f\"], [0.2222222222222222, \"#7201a8\"], [0.3333333333333333, \"#9c179e\"], [0.4444444444444444, \"#bd3786\"], [0.5555555555555556, \"#d8576b\"], [0.6666666666666666, \"#ed7953\"], [0.7777777777777778, \"#fb9f3a\"], [0.8888888888888888, \"#fdca26\"], [1.0, \"#f0f921\"]], \"type\": \"contour\"}], \"contourcarpet\": [{\"colorbar\": {\"outlinewidth\": 0, \"ticks\": \"\"}, \"type\": \"contourcarpet\"}], \"heatmap\": [{\"colorbar\": {\"outlinewidth\": 0, \"ticks\": \"\"}, \"colorscale\": [[0.0, \"#0d0887\"], [0.1111111111111111, \"#46039f\"], [0.2222222222222222, \"#7201a8\"], [0.3333333333333333, \"#9c179e\"], [0.4444444444444444, \"#bd3786\"], [0.5555555555555556, \"#d8576b\"], [0.6666666666666666, \"#ed7953\"], [0.7777777777777778, \"#fb9f3a\"], [0.8888888888888888, \"#fdca26\"], [1.0, \"#f0f921\"]], \"type\": \"heatmap\"}], \"heatmapgl\": [{\"colorbar\": {\"outlinewidth\": 0, \"ticks\": \"\"}, \"colorscale\": [[0.0, \"#0d0887\"], [0.1111111111111111, \"#46039f\"], [0.2222222222222222, \"#7201a8\"], [0.3333333333333333, \"#9c179e\"], [0.4444444444444444, \"#bd3786\"], [0.5555555555555556, \"#d8576b\"], [0.6666666666666666, \"#ed7953\"], [0.7777777777777778, \"#fb9f3a\"], [0.8888888888888888, \"#fdca26\"], [1.0, \"#f0f921\"]], \"type\": \"heatmapgl\"}], \"histogram\": [{\"marker\": {\"colorbar\": {\"outlinewidth\": 0, \"ticks\": \"\"}}, \"type\": \"histogram\"}], \"histogram2d\": [{\"colorbar\": {\"outlinewidth\": 0, \"ticks\": \"\"}, \"colorscale\": [[0.0, \"#0d0887\"], [0.1111111111111111, \"#46039f\"], [0.2222222222222222, \"#7201a8\"], [0.3333333333333333, \"#9c179e\"], [0.4444444444444444, \"#bd3786\"], [0.5555555555555556, \"#d8576b\"], [0.6666666666666666, \"#ed7953\"], [0.7777777777777778, \"#fb9f3a\"], [0.8888888888888888, \"#fdca26\"], [1.0, \"#f0f921\"]], \"type\": \"histogram2d\"}], \"histogram2dcontour\": [{\"colorbar\": {\"outlinewidth\": 0, \"ticks\": \"\"}, \"colorscale\": [[0.0, \"#0d0887\"], [0.1111111111111111, \"#46039f\"], [0.2222222222222222, \"#7201a8\"], [0.3333333333333333, \"#9c179e\"], [0.4444444444444444, \"#bd3786\"], [0.5555555555555556, \"#d8576b\"], [0.6666666666666666, \"#ed7953\"], [0.7777777777777778, \"#fb9f3a\"], [0.8888888888888888, \"#fdca26\"], [1.0, \"#f0f921\"]], \"type\": \"histogram2dcontour\"}], \"mesh3d\": [{\"colorbar\": {\"outlinewidth\": 0, \"ticks\": \"\"}, \"type\": \"mesh3d\"}], \"parcoords\": [{\"line\": {\"colorbar\": {\"outlinewidth\": 0, \"ticks\": \"\"}}, \"type\": \"parcoords\"}], \"pie\": [{\"automargin\": true, \"type\": \"pie\"}], \"scatter\": [{\"marker\": {\"colorbar\": {\"outlinewidth\": 0, \"ticks\": \"\"}}, \"type\": \"scatter\"}], \"scatter3d\": [{\"line\": {\"colorbar\": {\"outlinewidth\": 0, \"ticks\": \"\"}}, \"marker\": {\"colorbar\": {\"outlinewidth\": 0, \"ticks\": \"\"}}, \"type\": \"scatter3d\"}], \"scattercarpet\": [{\"marker\": {\"colorbar\": {\"outlinewidth\": 0, \"ticks\": \"\"}}, \"type\": \"scattercarpet\"}], \"scattergeo\": [{\"marker\": {\"colorbar\": {\"outlinewidth\": 0, \"ticks\": \"\"}}, \"type\": \"scattergeo\"}], \"scattergl\": [{\"marker\": {\"colorbar\": {\"outlinewidth\": 0, \"ticks\": \"\"}}, \"type\": \"scattergl\"}], \"scattermapbox\": [{\"marker\": {\"colorbar\": {\"outlinewidth\": 0, \"ticks\": \"\"}}, \"type\": \"scattermapbox\"}], \"scatterpolar\": [{\"marker\": {\"colorbar\": {\"outlinewidth\": 0, \"ticks\": \"\"}}, \"type\": \"scatterpolar\"}], \"scatterpolargl\": [{\"marker\": {\"colorbar\": {\"outlinewidth\": 0, \"ticks\": \"\"}}, \"type\": \"scatterpolargl\"}], \"scatterternary\": [{\"marker\": {\"colorbar\": {\"outlinewidth\": 0, \"ticks\": \"\"}}, \"type\": \"scatterternary\"}], \"surface\": [{\"colorbar\": {\"outlinewidth\": 0, \"ticks\": \"\"}, \"colorscale\": [[0.0, \"#0d0887\"], [0.1111111111111111, \"#46039f\"], [0.2222222222222222, \"#7201a8\"], [0.3333333333333333, \"#9c179e\"], [0.4444444444444444, \"#bd3786\"], [0.5555555555555556, \"#d8576b\"], [0.6666666666666666, \"#ed7953\"], [0.7777777777777778, \"#fb9f3a\"], [0.8888888888888888, \"#fdca26\"], [1.0, \"#f0f921\"]], \"type\": \"surface\"}], \"table\": [{\"cells\": {\"fill\": {\"color\": \"#EBF0F8\"}, \"line\": {\"color\": \"white\"}}, \"header\": {\"fill\": {\"color\": \"#C8D4E3\"}, \"line\": {\"color\": \"white\"}}, \"type\": \"table\"}]}, \"layout\": {\"annotationdefaults\": {\"arrowcolor\": \"#2a3f5f\", \"arrowhead\": 0, \"arrowwidth\": 1}, \"coloraxis\": {\"colorbar\": {\"outlinewidth\": 0, \"ticks\": \"\"}}, \"colorscale\": {\"diverging\": [[0, \"#8e0152\"], [0.1, \"#c51b7d\"], [0.2, \"#de77ae\"], [0.3, \"#f1b6da\"], [0.4, \"#fde0ef\"], [0.5, \"#f7f7f7\"], [0.6, \"#e6f5d0\"], [0.7, \"#b8e186\"], [0.8, \"#7fbc41\"], [0.9, \"#4d9221\"], [1, \"#276419\"]], \"sequential\": [[0.0, \"#0d0887\"], [0.1111111111111111, \"#46039f\"], [0.2222222222222222, \"#7201a8\"], [0.3333333333333333, \"#9c179e\"], [0.4444444444444444, \"#bd3786\"], [0.5555555555555556, \"#d8576b\"], [0.6666666666666666, \"#ed7953\"], [0.7777777777777778, \"#fb9f3a\"], [0.8888888888888888, \"#fdca26\"], [1.0, \"#f0f921\"]], \"sequentialminus\": [[0.0, \"#0d0887\"], [0.1111111111111111, \"#46039f\"], [0.2222222222222222, \"#7201a8\"], [0.3333333333333333, \"#9c179e\"], [0.4444444444444444, \"#bd3786\"], [0.5555555555555556, \"#d8576b\"], [0.6666666666666666, \"#ed7953\"], [0.7777777777777778, \"#fb9f3a\"], [0.8888888888888888, \"#fdca26\"], [1.0, \"#f0f921\"]]}, \"colorway\": [\"#636efa\", \"#EF553B\", \"#00cc96\", \"#ab63fa\", \"#FFA15A\", \"#19d3f3\", \"#FF6692\", \"#B6E880\", \"#FF97FF\", \"#FECB52\"], \"font\": {\"color\": \"#2a3f5f\"}, \"geo\": {\"bgcolor\": \"white\", \"lakecolor\": \"white\", \"landcolor\": \"#E5ECF6\", \"showlakes\": true, \"showland\": true, \"subunitcolor\": \"white\"}, \"hoverlabel\": {\"align\": \"left\"}, \"hovermode\": \"closest\", \"mapbox\": {\"style\": \"light\"}, \"paper_bgcolor\": \"white\", \"plot_bgcolor\": \"#E5ECF6\", \"polar\": {\"angularaxis\": {\"gridcolor\": \"white\", \"linecolor\": \"white\", \"ticks\": \"\"}, \"bgcolor\": \"#E5ECF6\", \"radialaxis\": {\"gridcolor\": \"white\", \"linecolor\": \"white\", \"ticks\": \"\"}}, \"scene\": {\"xaxis\": {\"backgroundcolor\": \"#E5ECF6\", \"gridcolor\": \"white\", \"gridwidth\": 2, \"linecolor\": \"white\", \"showbackground\": true, \"ticks\": \"\", \"zerolinecolor\": \"white\"}, \"yaxis\": {\"backgroundcolor\": \"#E5ECF6\", \"gridcolor\": \"white\", \"gridwidth\": 2, \"linecolor\": \"white\", \"showbackground\": true, \"ticks\": \"\", \"zerolinecolor\": \"white\"}, \"zaxis\": {\"backgroundcolor\": \"#E5ECF6\", \"gridcolor\": \"white\", \"gridwidth\": 2, \"linecolor\": \"white\", \"showbackground\": true, \"ticks\": \"\", \"zerolinecolor\": \"white\"}}, \"shapedefaults\": {\"line\": {\"color\": \"#2a3f5f\"}}, \"ternary\": {\"aaxis\": {\"gridcolor\": \"white\", \"linecolor\": \"white\", \"ticks\": \"\"}, \"baxis\": {\"gridcolor\": \"white\", \"linecolor\": \"white\", \"ticks\": \"\"}, \"bgcolor\": \"#E5ECF6\", \"caxis\": {\"gridcolor\": \"white\", \"linecolor\": \"white\", \"ticks\": \"\"}}, \"title\": {\"x\": 0.05}, \"xaxis\": {\"automargin\": true, \"gridcolor\": \"white\", \"linecolor\": \"white\", \"ticks\": \"\", \"title\": {\"standoff\": 15}, \"zerolinecolor\": \"white\", \"zerolinewidth\": 2}, \"yaxis\": {\"automargin\": true, \"gridcolor\": \"white\", \"linecolor\": \"white\", \"ticks\": \"\", \"title\": {\"standoff\": 15}, \"zerolinecolor\": \"white\", \"zerolinewidth\": 2}}}, \"title\": {\"text\": \"Accuracy vs. Val Accuracy\"}, \"width\": 1000, \"xaxis\": {\"title\": {\"text\": \"Epoki\"}}, \"yaxis\": {\"title\": {\"text\": \"Accuracy\"}, \"type\": \"log\"}},\n",
              "                        {\"responsive\": true}\n",
              "                    ).then(function(){\n",
              "                            \n",
              "var gd = document.getElementById('d981197b-6785-49d8-ace3-f9a15fdba7db');\n",
              "var x = new MutationObserver(function (mutations, observer) {{\n",
              "        var display = window.getComputedStyle(gd).display;\n",
              "        if (!display || display === 'none') {{\n",
              "            console.log([gd, 'removed!']);\n",
              "            Plotly.purge(gd);\n",
              "            observer.disconnect();\n",
              "        }}\n",
              "}});\n",
              "\n",
              "// Listen for the removal of the full notebook cells\n",
              "var notebookContainer = gd.closest('#notebook-container');\n",
              "if (notebookContainer) {{\n",
              "    x.observe(notebookContainer, {childList: true});\n",
              "}}\n",
              "\n",
              "// Listen for the clearing of the current output cell\n",
              "var outputEl = gd.closest('.output');\n",
              "if (outputEl) {{\n",
              "    x.observe(outputEl, {childList: true});\n",
              "}}\n",
              "\n",
              "                        })\n",
              "                };\n",
              "                \n",
              "            </script>\n",
              "        </div>\n",
              "</body>\n",
              "</html>"
            ]
          },
          "metadata": {
            "tags": []
          }
        },
        {
          "output_type": "display_data",
          "data": {
            "text/html": [
              "<html>\n",
              "<head><meta charset=\"utf-8\" /></head>\n",
              "<body>\n",
              "    <div>\n",
              "            <script src=\"https://cdnjs.cloudflare.com/ajax/libs/mathjax/2.7.5/MathJax.js?config=TeX-AMS-MML_SVG\"></script><script type=\"text/javascript\">if (window.MathJax) {MathJax.Hub.Config({SVG: {font: \"STIX-Web\"}});}</script>\n",
              "                <script type=\"text/javascript\">window.PlotlyConfig = {MathJaxConfig: 'local'};</script>\n",
              "        <script src=\"https://cdn.plot.ly/plotly-latest.min.js\"></script>    \n",
              "            <div id=\"85fccc2d-65f7-4b2c-8b0a-2b857455d142\" class=\"plotly-graph-div\" style=\"height:500px; width:1000px;\"></div>\n",
              "            <script type=\"text/javascript\">\n",
              "                \n",
              "                    window.PLOTLYENV=window.PLOTLYENV || {};\n",
              "                    \n",
              "                if (document.getElementById(\"85fccc2d-65f7-4b2c-8b0a-2b857455d142\")) {\n",
              "                    Plotly.newPlot(\n",
              "                        '85fccc2d-65f7-4b2c-8b0a-2b857455d142',\n",
              "                        [{\"mode\": \"markers+lines\", \"name\": \"loss\", \"type\": \"scatter\", \"x\": [0, 1, 2, 3, 4], \"y\": [0.9477550983428955, 0.05955757945775986, 0.020288333296775818, 0.0071165235713124275, 0.0035924778785556555]}, {\"mode\": \"markers+lines\", \"name\": \"val_loss\", \"type\": \"scatter\", \"x\": [0, 1, 2, 3, 4], \"y\": [0.10320016741752625, 0.0768614336848259, 0.06762858480215073, 0.08278843760490417, 0.08450313657522202]}],\n",
              "                        {\"height\": 500, \"template\": {\"data\": {\"bar\": [{\"error_x\": {\"color\": \"#2a3f5f\"}, \"error_y\": {\"color\": \"#2a3f5f\"}, \"marker\": {\"line\": {\"color\": \"#E5ECF6\", \"width\": 0.5}}, \"type\": \"bar\"}], \"barpolar\": [{\"marker\": {\"line\": {\"color\": \"#E5ECF6\", \"width\": 0.5}}, \"type\": \"barpolar\"}], \"carpet\": [{\"aaxis\": {\"endlinecolor\": \"#2a3f5f\", \"gridcolor\": \"white\", \"linecolor\": \"white\", \"minorgridcolor\": \"white\", \"startlinecolor\": \"#2a3f5f\"}, \"baxis\": {\"endlinecolor\": \"#2a3f5f\", \"gridcolor\": \"white\", \"linecolor\": \"white\", \"minorgridcolor\": \"white\", \"startlinecolor\": \"#2a3f5f\"}, \"type\": \"carpet\"}], \"choropleth\": [{\"colorbar\": {\"outlinewidth\": 0, \"ticks\": \"\"}, \"type\": \"choropleth\"}], \"contour\": [{\"colorbar\": {\"outlinewidth\": 0, \"ticks\": \"\"}, \"colorscale\": [[0.0, \"#0d0887\"], [0.1111111111111111, \"#46039f\"], [0.2222222222222222, \"#7201a8\"], [0.3333333333333333, \"#9c179e\"], [0.4444444444444444, \"#bd3786\"], [0.5555555555555556, \"#d8576b\"], [0.6666666666666666, \"#ed7953\"], [0.7777777777777778, \"#fb9f3a\"], [0.8888888888888888, \"#fdca26\"], [1.0, \"#f0f921\"]], \"type\": \"contour\"}], \"contourcarpet\": [{\"colorbar\": {\"outlinewidth\": 0, \"ticks\": \"\"}, \"type\": \"contourcarpet\"}], \"heatmap\": [{\"colorbar\": {\"outlinewidth\": 0, \"ticks\": \"\"}, \"colorscale\": [[0.0, \"#0d0887\"], [0.1111111111111111, \"#46039f\"], [0.2222222222222222, \"#7201a8\"], [0.3333333333333333, \"#9c179e\"], [0.4444444444444444, \"#bd3786\"], [0.5555555555555556, \"#d8576b\"], [0.6666666666666666, \"#ed7953\"], [0.7777777777777778, \"#fb9f3a\"], [0.8888888888888888, \"#fdca26\"], [1.0, \"#f0f921\"]], \"type\": \"heatmap\"}], \"heatmapgl\": [{\"colorbar\": {\"outlinewidth\": 0, \"ticks\": \"\"}, \"colorscale\": [[0.0, \"#0d0887\"], [0.1111111111111111, \"#46039f\"], [0.2222222222222222, \"#7201a8\"], [0.3333333333333333, \"#9c179e\"], [0.4444444444444444, \"#bd3786\"], [0.5555555555555556, \"#d8576b\"], [0.6666666666666666, \"#ed7953\"], [0.7777777777777778, \"#fb9f3a\"], [0.8888888888888888, \"#fdca26\"], [1.0, \"#f0f921\"]], \"type\": \"heatmapgl\"}], \"histogram\": [{\"marker\": {\"colorbar\": {\"outlinewidth\": 0, \"ticks\": \"\"}}, \"type\": \"histogram\"}], \"histogram2d\": [{\"colorbar\": {\"outlinewidth\": 0, \"ticks\": \"\"}, \"colorscale\": [[0.0, \"#0d0887\"], [0.1111111111111111, \"#46039f\"], [0.2222222222222222, \"#7201a8\"], [0.3333333333333333, \"#9c179e\"], [0.4444444444444444, \"#bd3786\"], [0.5555555555555556, \"#d8576b\"], [0.6666666666666666, \"#ed7953\"], [0.7777777777777778, \"#fb9f3a\"], [0.8888888888888888, \"#fdca26\"], [1.0, \"#f0f921\"]], \"type\": \"histogram2d\"}], \"histogram2dcontour\": [{\"colorbar\": {\"outlinewidth\": 0, \"ticks\": \"\"}, \"colorscale\": [[0.0, \"#0d0887\"], [0.1111111111111111, \"#46039f\"], [0.2222222222222222, \"#7201a8\"], [0.3333333333333333, \"#9c179e\"], [0.4444444444444444, \"#bd3786\"], [0.5555555555555556, \"#d8576b\"], [0.6666666666666666, \"#ed7953\"], [0.7777777777777778, \"#fb9f3a\"], [0.8888888888888888, \"#fdca26\"], [1.0, \"#f0f921\"]], \"type\": \"histogram2dcontour\"}], \"mesh3d\": [{\"colorbar\": {\"outlinewidth\": 0, \"ticks\": \"\"}, \"type\": \"mesh3d\"}], \"parcoords\": [{\"line\": {\"colorbar\": {\"outlinewidth\": 0, \"ticks\": \"\"}}, \"type\": \"parcoords\"}], \"pie\": [{\"automargin\": true, \"type\": \"pie\"}], \"scatter\": [{\"marker\": {\"colorbar\": {\"outlinewidth\": 0, \"ticks\": \"\"}}, \"type\": \"scatter\"}], \"scatter3d\": [{\"line\": {\"colorbar\": {\"outlinewidth\": 0, \"ticks\": \"\"}}, \"marker\": {\"colorbar\": {\"outlinewidth\": 0, \"ticks\": \"\"}}, \"type\": \"scatter3d\"}], \"scattercarpet\": [{\"marker\": {\"colorbar\": {\"outlinewidth\": 0, \"ticks\": \"\"}}, \"type\": \"scattercarpet\"}], \"scattergeo\": [{\"marker\": {\"colorbar\": {\"outlinewidth\": 0, \"ticks\": \"\"}}, \"type\": \"scattergeo\"}], \"scattergl\": [{\"marker\": {\"colorbar\": {\"outlinewidth\": 0, \"ticks\": \"\"}}, \"type\": \"scattergl\"}], \"scattermapbox\": [{\"marker\": {\"colorbar\": {\"outlinewidth\": 0, \"ticks\": \"\"}}, \"type\": \"scattermapbox\"}], \"scatterpolar\": [{\"marker\": {\"colorbar\": {\"outlinewidth\": 0, \"ticks\": \"\"}}, \"type\": \"scatterpolar\"}], \"scatterpolargl\": [{\"marker\": {\"colorbar\": {\"outlinewidth\": 0, \"ticks\": \"\"}}, \"type\": \"scatterpolargl\"}], \"scatterternary\": [{\"marker\": {\"colorbar\": {\"outlinewidth\": 0, \"ticks\": \"\"}}, \"type\": \"scatterternary\"}], \"surface\": [{\"colorbar\": {\"outlinewidth\": 0, \"ticks\": \"\"}, \"colorscale\": [[0.0, \"#0d0887\"], [0.1111111111111111, \"#46039f\"], [0.2222222222222222, \"#7201a8\"], [0.3333333333333333, \"#9c179e\"], [0.4444444444444444, \"#bd3786\"], [0.5555555555555556, \"#d8576b\"], [0.6666666666666666, \"#ed7953\"], [0.7777777777777778, \"#fb9f3a\"], [0.8888888888888888, \"#fdca26\"], [1.0, \"#f0f921\"]], \"type\": \"surface\"}], \"table\": [{\"cells\": {\"fill\": {\"color\": \"#EBF0F8\"}, \"line\": {\"color\": \"white\"}}, \"header\": {\"fill\": {\"color\": \"#C8D4E3\"}, \"line\": {\"color\": \"white\"}}, \"type\": \"table\"}]}, \"layout\": {\"annotationdefaults\": {\"arrowcolor\": \"#2a3f5f\", \"arrowhead\": 0, \"arrowwidth\": 1}, \"coloraxis\": {\"colorbar\": {\"outlinewidth\": 0, \"ticks\": \"\"}}, \"colorscale\": {\"diverging\": [[0, \"#8e0152\"], [0.1, \"#c51b7d\"], [0.2, \"#de77ae\"], [0.3, \"#f1b6da\"], [0.4, \"#fde0ef\"], [0.5, \"#f7f7f7\"], [0.6, \"#e6f5d0\"], [0.7, \"#b8e186\"], [0.8, \"#7fbc41\"], [0.9, \"#4d9221\"], [1, \"#276419\"]], \"sequential\": [[0.0, \"#0d0887\"], [0.1111111111111111, \"#46039f\"], [0.2222222222222222, \"#7201a8\"], [0.3333333333333333, \"#9c179e\"], [0.4444444444444444, \"#bd3786\"], [0.5555555555555556, \"#d8576b\"], [0.6666666666666666, \"#ed7953\"], [0.7777777777777778, \"#fb9f3a\"], [0.8888888888888888, \"#fdca26\"], [1.0, \"#f0f921\"]], \"sequentialminus\": [[0.0, \"#0d0887\"], [0.1111111111111111, \"#46039f\"], [0.2222222222222222, \"#7201a8\"], [0.3333333333333333, \"#9c179e\"], [0.4444444444444444, \"#bd3786\"], [0.5555555555555556, \"#d8576b\"], [0.6666666666666666, \"#ed7953\"], [0.7777777777777778, \"#fb9f3a\"], [0.8888888888888888, \"#fdca26\"], [1.0, \"#f0f921\"]]}, \"colorway\": [\"#636efa\", \"#EF553B\", \"#00cc96\", \"#ab63fa\", \"#FFA15A\", \"#19d3f3\", \"#FF6692\", \"#B6E880\", \"#FF97FF\", \"#FECB52\"], \"font\": {\"color\": \"#2a3f5f\"}, \"geo\": {\"bgcolor\": \"white\", \"lakecolor\": \"white\", \"landcolor\": \"#E5ECF6\", \"showlakes\": true, \"showland\": true, \"subunitcolor\": \"white\"}, \"hoverlabel\": {\"align\": \"left\"}, \"hovermode\": \"closest\", \"mapbox\": {\"style\": \"light\"}, \"paper_bgcolor\": \"white\", \"plot_bgcolor\": \"#E5ECF6\", \"polar\": {\"angularaxis\": {\"gridcolor\": \"white\", \"linecolor\": \"white\", \"ticks\": \"\"}, \"bgcolor\": \"#E5ECF6\", \"radialaxis\": {\"gridcolor\": \"white\", \"linecolor\": \"white\", \"ticks\": \"\"}}, \"scene\": {\"xaxis\": {\"backgroundcolor\": \"#E5ECF6\", \"gridcolor\": \"white\", \"gridwidth\": 2, \"linecolor\": \"white\", \"showbackground\": true, \"ticks\": \"\", \"zerolinecolor\": \"white\"}, \"yaxis\": {\"backgroundcolor\": \"#E5ECF6\", \"gridcolor\": \"white\", \"gridwidth\": 2, \"linecolor\": \"white\", \"showbackground\": true, \"ticks\": \"\", \"zerolinecolor\": \"white\"}, \"zaxis\": {\"backgroundcolor\": \"#E5ECF6\", \"gridcolor\": \"white\", \"gridwidth\": 2, \"linecolor\": \"white\", \"showbackground\": true, \"ticks\": \"\", \"zerolinecolor\": \"white\"}}, \"shapedefaults\": {\"line\": {\"color\": \"#2a3f5f\"}}, \"ternary\": {\"aaxis\": {\"gridcolor\": \"white\", \"linecolor\": \"white\", \"ticks\": \"\"}, \"baxis\": {\"gridcolor\": \"white\", \"linecolor\": \"white\", \"ticks\": \"\"}, \"bgcolor\": \"#E5ECF6\", \"caxis\": {\"gridcolor\": \"white\", \"linecolor\": \"white\", \"ticks\": \"\"}}, \"title\": {\"x\": 0.05}, \"xaxis\": {\"automargin\": true, \"gridcolor\": \"white\", \"linecolor\": \"white\", \"ticks\": \"\", \"title\": {\"standoff\": 15}, \"zerolinecolor\": \"white\", \"zerolinewidth\": 2}, \"yaxis\": {\"automargin\": true, \"gridcolor\": \"white\", \"linecolor\": \"white\", \"ticks\": \"\", \"title\": {\"standoff\": 15}, \"zerolinecolor\": \"white\", \"zerolinewidth\": 2}}}, \"title\": {\"text\": \"Loss vs. Val Loss\"}, \"width\": 1000, \"xaxis\": {\"title\": {\"text\": \"Epoki\"}}, \"yaxis\": {\"title\": {\"text\": \"Loss\"}, \"type\": \"log\"}},\n",
              "                        {\"responsive\": true}\n",
              "                    ).then(function(){\n",
              "                            \n",
              "var gd = document.getElementById('85fccc2d-65f7-4b2c-8b0a-2b857455d142');\n",
              "var x = new MutationObserver(function (mutations, observer) {{\n",
              "        var display = window.getComputedStyle(gd).display;\n",
              "        if (!display || display === 'none') {{\n",
              "            console.log([gd, 'removed!']);\n",
              "            Plotly.purge(gd);\n",
              "            observer.disconnect();\n",
              "        }}\n",
              "}});\n",
              "\n",
              "// Listen for the removal of the full notebook cells\n",
              "var notebookContainer = gd.closest('#notebook-container');\n",
              "if (notebookContainer) {{\n",
              "    x.observe(notebookContainer, {childList: true});\n",
              "}}\n",
              "\n",
              "// Listen for the clearing of the current output cell\n",
              "var outputEl = gd.closest('.output');\n",
              "if (outputEl) {{\n",
              "    x.observe(outputEl, {childList: true});\n",
              "}}\n",
              "\n",
              "                        })\n",
              "                };\n",
              "                \n",
              "            </script>\n",
              "        </div>\n",
              "</body>\n",
              "</html>"
            ]
          },
          "metadata": {
            "tags": []
          }
        }
      ]
    },
    {
      "cell_type": "code",
      "metadata": {
        "colab": {
          "base_uri": "https://localhost:8080/"
        },
        "id": "GKJvPUyQk4p5",
        "outputId": "83d6f8b2-2b21-4c16-e9f1-caed1cfa888f"
      },
      "source": [
        "scores = model.evaluate(X_test, y_test)\n",
        "print(f'Accuracy {scores[1]*100}%')"
      ],
      "execution_count": 186,
      "outputs": [
        {
          "output_type": "stream",
          "text": [
            "87/87 [==============================] - 1s 12ms/step - loss: 0.0867 - accuracy: 0.9706\n",
            "Accuracy 97.06202149391174%\n"
          ],
          "name": "stdout"
        }
      ]
    },
    {
      "cell_type": "markdown",
      "metadata": {
        "id": "v2CGLd7rlTls"
      },
      "source": [
        "Jak widać z powyższych iteracji, wykresów i wyniku accuracy na zbiorze testowym w danych treningowych, sieć bardzo dobrze wyuczyła się właściwie klasyfikować komendy użytkowników i nie ma skłonności do overfittingu. Zanim sprawdzimy rezultaty na danych walidacyjnych, sprawdźmy wyniki dla zbioru testowego w classification report i confusion matrix."
      ]
    },
    {
      "cell_type": "code",
      "metadata": {
        "id": "p-T1piTCmhZO"
      },
      "source": [
        "predicted_lstm = np.argmax(model.predict(X_test), axis=-1)"
      ],
      "execution_count": 187,
      "outputs": []
    },
    {
      "cell_type": "code",
      "metadata": {
        "colab": {
          "base_uri": "https://localhost:8080/"
        },
        "id": "rH4jVhepnMvM",
        "outputId": "81fcc293-0999-4a3a-a682-b7e6eb8eb194"
      },
      "source": [
        "# Wyświetlenie y_test\n",
        "print(y_test)"
      ],
      "execution_count": 188,
      "outputs": [
        {
          "output_type": "stream",
          "text": [
            "[4 3 6 ... 4 4 6]\n"
          ],
          "name": "stdout"
        }
      ]
    },
    {
      "cell_type": "code",
      "metadata": {
        "colab": {
          "base_uri": "https://localhost:8080/"
        },
        "id": "OBcXlPYmnPHX",
        "outputId": "f80346ca-b04b-4289-d027-e32b5a9cb20e"
      },
      "source": [
        "# Wyświetlenie y_test predict_lstm\n",
        "print(predicted_lstm)"
      ],
      "execution_count": 189,
      "outputs": [
        {
          "output_type": "stream",
          "text": [
            "[4 3 6 ... 4 4 7]\n"
          ],
          "name": "stdout"
        }
      ]
    },
    {
      "cell_type": "code",
      "metadata": {
        "id": "a21Ew4r2qOru"
      },
      "source": [
        "# Odmapowanie etykiet z liczb integer na labele\n",
        "y_test = pd.Series(y_test).map({1: 'AddToPlaylist', 2: 'BookRestaurant', 3: 'GetWeather', 4: 'PlayMusic', 5: 'RateBook', 6: 'SearchCreativeWork', 7: 'SearchScreeningEvent'})\n",
        "predicted_lstm = pd.Series(predicted_lstm).map({1: 'AddToPlaylist', 2: 'BookRestaurant', 3: 'GetWeather', 4: 'PlayMusic', 5: 'RateBook', 6: 'SearchCreativeWork', 7: 'SearchScreeningEvent'}).values"
      ],
      "execution_count": 190,
      "outputs": []
    },
    {
      "cell_type": "code",
      "metadata": {
        "colab": {
          "base_uri": "https://localhost:8080/"
        },
        "id": "tFNwYekr51Ox",
        "outputId": "b5f3bd89-8ca1-45bd-881a-f453910ed2e0"
      },
      "source": [
        "# Wyświetlenie odmapowanego y_test\n",
        "print(y_test)"
      ],
      "execution_count": 191,
      "outputs": [
        {
          "output_type": "stream",
          "text": [
            "0                  PlayMusic\n",
            "1                 GetWeather\n",
            "2         SearchCreativeWork\n",
            "3       SearchScreeningEvent\n",
            "4             BookRestaurant\n",
            "                ...         \n",
            "2752          BookRestaurant\n",
            "2753    SearchScreeningEvent\n",
            "2754               PlayMusic\n",
            "2755               PlayMusic\n",
            "2756      SearchCreativeWork\n",
            "Length: 2757, dtype: object\n"
          ],
          "name": "stdout"
        }
      ]
    },
    {
      "cell_type": "code",
      "metadata": {
        "colab": {
          "base_uri": "https://localhost:8080/",
          "height": 676
        },
        "id": "4SLhnQxVkyyF",
        "outputId": "e15c141b-ba62-4411-8a71-8d11e5a2db08"
      },
      "source": [
        "classes = np.unique(y_test)\n",
        "\n",
        "print('Accuracy:', round(accuracy_score(y_test, predicted_lstm),2))\n",
        "print('F1_score:', round(f1_score(y_test, predicted_lstm, average='weighted'),2))\n",
        "\n",
        "print(classification_report(y_test, predicted_lstm))\n",
        "# Plot confusion matrix\n",
        "cm = confusion_matrix(y_test, predicted_lstm)\n",
        "fig, ax = plt.subplots()\n",
        "sns.heatmap(cm, annot=True, fmt='d', ax=ax, cmap=plt.cm.Blues, cbar=False)\n",
        "ax.set(xlabel='Pred', ylabel='True', xticklabels=classes, yticklabels=classes, title='Confusion matrix')\n",
        "plt.yticks(rotation=0)\n",
        "plt.xticks(rotation=90)\n",
        "plt.show()"
      ],
      "execution_count": 192,
      "outputs": [
        {
          "output_type": "stream",
          "text": [
            "Accuracy: 0.97\n",
            "F1_score: 0.97\n",
            "                      precision    recall  f1-score   support\n",
            "\n",
            "       AddToPlaylist       1.00      0.99      1.00       398\n",
            "      BookRestaurant       0.99      0.99      0.99       384\n",
            "          GetWeather       0.98      0.99      0.99       396\n",
            "           PlayMusic       0.98      0.97      0.98       405\n",
            "            RateBook       1.00      1.00      1.00       399\n",
            "  SearchCreativeWork       0.94      0.88      0.91       392\n",
            "SearchScreeningEvent       0.91      0.96      0.93       383\n",
            "\n",
            "            accuracy                           0.97      2757\n",
            "           macro avg       0.97      0.97      0.97      2757\n",
            "        weighted avg       0.97      0.97      0.97      2757\n",
            "\n"
          ],
          "name": "stdout"
        },
        {
          "output_type": "display_data",
          "data": {
            "image/png": "[encoded data removed]",
            "text/plain": [
              "<Figure size 432x288 with 1 Axes>"
            ]
          },
          "metadata": {
            "tags": [],
            "needs_background": "light"
          }
        }
      ]
    },
    {
      "cell_type": "markdown",
      "metadata": {
        "id": "MZUul96V5_Iy"
      },
      "source": [
        "Jak widać powyżej, rezultaty uzyskane za pomocą sieci LSTM na zbiorze testowym są bardzo zbliżone do tych uzyskanych kalsycznym klasyfiaktorem."
      ]
    },
    {
      "cell_type": "markdown",
      "metadata": {
        "id": "OxYCEsij6Lt1"
      },
      "source": [
        "Sprawdźmy, jak to wygląda na zbiorze walidacyjnym. Przygotujemy w pierwszej kolejności dane, aby móc podać je sieci LSTM."
      ]
    },
    {
      "cell_type": "code",
      "metadata": {
        "id": "5dFwFApftdg9"
      },
      "source": [
        "# wydzielenie X_val\n",
        "X_val = data_validation['text_clean'].values\n",
        "\n",
        "# wydzielenie y_val po zmapowaniu\n",
        "y_val = data_validation['label'].map({'AddToPlaylist': 1, 'BookRestaurant': 2, 'GetWeather': 3, 'PlayMusic': 4, 'RateBook': 5, 'SearchCreativeWork': 6, 'SearchScreeningEvent': 7}).values"
      ],
      "execution_count": 193,
      "outputs": []
    },
    {
      "cell_type": "code",
      "metadata": {
        "id": "CvINzapzwBjU"
      },
      "source": [
        "# tokenizacja i zamiana na słów na wektor indeksów\n",
        "X_val = tokenizer.texts_to_sequences(X_val)"
      ],
      "execution_count": 194,
      "outputs": []
    },
    {
      "cell_type": "code",
      "metadata": {
        "id": "omH0ixGZwT68"
      },
      "source": [
        " # określeneie długości inputu danych walidacyjnych do sieci klasyfikującej\n",
        " X_val = pad_sequences(X_val, padding='post', truncating='post', maxlen=maxlen)"
      ],
      "execution_count": 195,
      "outputs": []
    },
    {
      "cell_type": "code",
      "metadata": {
        "colab": {
          "base_uri": "https://localhost:8080/"
        },
        "id": "zQ4wE_8v6wEe",
        "outputId": "79c06a04-c119-41c2-bfc1-55bc85378f7a"
      },
      "source": [
        "# wyświetlenie przygotowanych danych do \"predykcji\"\n",
        "X_val"
      ],
      "execution_count": 196,
      "outputs": [
        {
          "output_type": "execute_result",
          "data": {
            "text/plain": [
              "array([[  8,   3,  77, ...,   0,   0,   0],\n",
              "       [202, 156,   1, ...,   0,   0,   0],\n",
              "       [  8, 264,  21, ...,   0,   0,   0],\n",
              "       ...,\n",
              "       [ 14,  62,  40, ...,   0,   0,   0],\n",
              "       [  8,  11,  21, ...,   0,   0,   0],\n",
              "       [ 29,  25,  49, ...,   0,   0,   0]], dtype=int32)"
            ]
          },
          "metadata": {
            "tags": []
          },
          "execution_count": 196
        }
      ]
    },
    {
      "cell_type": "markdown",
      "metadata": {
        "id": "kCfg_6nS67XQ"
      },
      "source": [
        "Wykonajmy predykcję na wyuczonym już modelu sieci LSTM."
      ]
    },
    {
      "cell_type": "code",
      "metadata": {
        "id": "PkwbEqoSsyDC"
      },
      "source": [
        "predicted_lstm_val = np.argmax(model.predict(X_val), axis=-1)"
      ],
      "execution_count": 197,
      "outputs": []
    },
    {
      "cell_type": "code",
      "metadata": {
        "id": "dC0AUic67js2"
      },
      "source": [
        "# Odmapowanie etykiet z liczb integer na labele\n",
        "y_val = pd.Series(y_val).map({1: 'AddToPlaylist', 2: 'BookRestaurant', 3: 'GetWeather', 4: 'PlayMusic', 5: 'RateBook', 6: 'SearchCreativeWork', 7: 'SearchScreeningEvent'})\n",
        "predicted_lstm_val = pd.Series(predicted_lstm_val).map({1: 'AddToPlaylist', 2: 'BookRestaurant', 3: 'GetWeather', 4: 'PlayMusic', 5: 'RateBook', 6: 'SearchCreativeWork', 7: 'SearchScreeningEvent'}).values"
      ],
      "execution_count": 198,
      "outputs": []
    },
    {
      "cell_type": "code",
      "metadata": {
        "colab": {
          "base_uri": "https://localhost:8080/",
          "height": 676
        },
        "id": "owgdNUr7w4yb",
        "outputId": "bfdf0705-6144-41d2-a1de-1eaf1d70c28d"
      },
      "source": [
        "classes = np.unique(y_val)\n",
        "\n",
        "print('Accuracy:', round(accuracy_score(y_val, predicted_lstm_val),2))\n",
        "print('F1_score:', round(f1_score(y_val, predicted_lstm_val, average='weighted'),2))\n",
        "\n",
        "print(classification_report(y_val, predicted_lstm_val))\n",
        "# Plot confusion matrix\n",
        "cm = confusion_matrix(y_val, predicted_lstm_val)\n",
        "fig, ax = plt.subplots()\n",
        "sns.heatmap(cm, annot=True, fmt='d', ax=ax, cmap=plt.cm.Blues, cbar=False)\n",
        "ax.set(xlabel='Pred', ylabel='True', xticklabels=classes, yticklabels=classes, title='Confusion matrix')\n",
        "plt.yticks(rotation=0)\n",
        "plt.xticks(rotation=90)\n",
        "plt.show()"
      ],
      "execution_count": 199,
      "outputs": [
        {
          "output_type": "stream",
          "text": [
            "Accuracy: 0.98\n",
            "F1_score: 0.98\n",
            "                      precision    recall  f1-score   support\n",
            "\n",
            "       AddToPlaylist       0.98      1.00      0.99       100\n",
            "      BookRestaurant       1.00      0.99      0.99       100\n",
            "          GetWeather       0.97      0.99      0.98       100\n",
            "           PlayMusic       1.00      0.97      0.98       100\n",
            "            RateBook       0.99      1.00      1.00       100\n",
            "  SearchCreativeWork       0.98      0.96      0.97       100\n",
            "SearchScreeningEvent       0.97      0.98      0.98       100\n",
            "\n",
            "            accuracy                           0.98       700\n",
            "           macro avg       0.98      0.98      0.98       700\n",
            "        weighted avg       0.98      0.98      0.98       700\n",
            "\n"
          ],
          "name": "stdout"
        },
        {
          "output_type": "display_data",
          "data": {
            "image/png": "[encoded data removed]",
            "text/plain": [
              "<Figure size 432x288 with 1 Axes>"
            ]
          },
          "metadata": {
            "tags": [],
            "needs_background": "light"
          }
        }
      ]
    },
    {
      "cell_type": "markdown",
      "metadata": {
        "id": "QML6vQVg7LAv"
      },
      "source": [
        "Jak widać na powyższych rezultatach, wyniki otrzymane dzięki sieci RNN z warstwą LSTM są bardzo zbliżone na zbiorze walidacyjnym do tych uzyskanych klasycznym klasyfiaktorem. Wykazuja nawet nieznaczna poprawę skuteczności - o 1%. Pomimo, że ogóle accuracy czy f1_score są zbliżone, to sieć myli się często w innych przypadkach niż mylił się klasyczny klasyfikator."
      ]
    },
    {
      "cell_type": "markdown",
      "metadata": {
        "id": "AXaiC-u9FYJ8"
      },
      "source": [
        "Sprawdźmy i oceńmy sami komendę, którą sieć zaklasyfikowała niepoprawnie."
      ]
    },
    {
      "cell_type": "code",
      "metadata": {
        "colab": {
          "base_uri": "https://localhost:8080/"
        },
        "id": "28QYnOPM-mJz",
        "outputId": "b6947a48-f81f-4bd8-a4b8-64e9d8e445c8"
      },
      "source": [
        "indexes = []\n",
        "for i, phrase in enumerate(predicted_lstm_val):\n",
        "  if phrase == 'GetWeather':\n",
        "    if y_val[i] == 'PlayMusic':\n",
        "      indexes.append(i)\n",
        "print(indexes)"
      ],
      "execution_count": 200,
      "outputs": [
        {
          "output_type": "stream",
          "text": [
            "[]\n"
          ],
          "name": "stdout"
        }
      ]
    },
    {
      "cell_type": "code",
      "metadata": {
        "colab": {
          "base_uri": "https://localhost:8080/"
        },
        "id": "ouy1yzy8-048",
        "outputId": "aad3488e-2c73-40aa-d6cf-e0f53763fa74"
      },
      "source": [
        "# Tekst komendy użytkownika\n",
        "\n",
        "print(f'True category: {y_val[499]}')\n",
        "print(f'Predicted category: {predicted_lstm_val[499]}')\n",
        "print(f\"----------------------------\\nTekst komendy:\\n{data_validation['text'][499]}\")"
      ],
      "execution_count": 201,
      "outputs": [
        {
          "output_type": "stream",
          "text": [
            "True category: PlayMusic\n",
            "Predicted category: AddToPlaylist\n",
            "----------------------------\n",
            "Tekst komendy:\n",
            "Put What Color Is Your Sky by Alana Davis on the stereo.\n"
          ],
          "name": "stdout"
        }
      ]
    },
    {
      "cell_type": "markdown",
      "metadata": {
        "id": "SmW54viNi2xH"
      },
      "source": [
        "# Word - Embeddings"
      ]
    },
    {
      "cell_type": "markdown",
      "metadata": {
        "id": "64zizPAci8Qs"
      },
      "source": [
        "Sprawdźmy jeszcze, czy wykorzystanie metody osadzeniowej tzw. word embeddings pozwoli nam poprawić skuteczność naszej sieci. Na potrzeby budowy nowego modelu detektora intencji posłużę się gotowymi osadzeniami słów ze strony https://nlp.stanford.edu/projects/glove wygenerowanych w 2014 r. na podstawie artykułów w serwisie Wikipedia. Jest to archiwum ZIP zajmujące 822 MB (plik glove.6B.zip). Zawiera ono stuwymiarowe wektory osadzeń 400 000 słów (można je już określać mianem tokenów). Rozpakujmy to archiwum."
      ]
    },
    {
      "cell_type": "code",
      "metadata": {
        "colab": {
          "base_uri": "https://localhost:8080/"
        },
        "id": "RDJod6XwkZv7",
        "outputId": "8798969c-d6af-45ec-c8d1-b74c5d17d1ff"
      },
      "source": [
        "# Pobranie modelu ze strony\n",
        "!wget 'http://nlp.stanford.edu/data/glove.6B.zip'"
      ],
      "execution_count": 202,
      "outputs": [
        {
          "output_type": "stream",
          "text": [
            "--2021-03-22 22:03:10--  http://nlp.stanford.edu/data/glove.6B.zip\n",
            "Resolving nlp.stanford.edu (nlp.stanford.edu)... 171.64.67.140\n",
            "Connecting to nlp.stanford.edu (nlp.stanford.edu)|171.64.67.140|:80... connected.\n",
            "HTTP request sent, awaiting response... 302 Found\n",
            "Location: https://nlp.stanford.edu/data/glove.6B.zip [following]\n",
            "--2021-03-22 22:03:10--  https://nlp.stanford.edu/data/glove.6B.zip\n",
            "Connecting to nlp.stanford.edu (nlp.stanford.edu)|171.64.67.140|:443... connected.\n",
            "HTTP request sent, awaiting response... 301 Moved Permanently\n",
            "Location: http://downloads.cs.stanford.edu/nlp/data/glove.6B.zip [following]\n",
            "--2021-03-22 22:03:10--  http://downloads.cs.stanford.edu/nlp/data/glove.6B.zip\n",
            "Resolving downloads.cs.stanford.edu (downloads.cs.stanford.edu)... 171.64.64.22\n",
            "Connecting to downloads.cs.stanford.edu (downloads.cs.stanford.edu)|171.64.64.22|:80... connected.\n",
            "HTTP request sent, awaiting response... 200 OK\n",
            "Length: 862182613 (822M) [application/zip]\n",
            "Saving to: ‘glove.6B.zip.1’\n",
            "\n",
            "glove.6B.zip.1      100%[===================>] 822.24M  5.08MB/s    in 2m 40s  \n",
            "\n",
            "2021-03-22 22:05:51 (5.14 MB/s) - ‘glove.6B.zip.1’ saved [862182613/862182613]\n",
            "\n"
          ],
          "name": "stdout"
        }
      ]
    },
    {
      "cell_type": "code",
      "metadata": {
        "colab": {
          "base_uri": "https://localhost:8080/"
        },
        "id": "u4PilfFJkd3Z",
        "outputId": "7ba07f4b-5099-4cbc-ddc6-fdb495be0e9d"
      },
      "source": [
        "# Rozpakowanie word embeddings\n",
        "!unzip 'glove.6B.zip' -d '/content/drive/MyDrive/18_REKURENCYJNE_SIECI_NEURONOWE/'"
      ],
      "execution_count": 203,
      "outputs": [
        {
          "output_type": "stream",
          "text": [
            "Archive:  glove.6B.zip\n",
            "replace /content/drive/MyDrive/18_REKURENCYJNE_SIECI_NEURONOWE/glove.6B.50d.txt? [y]es, [n]o, [A]ll, [N]one, [r]ename: n\n",
            "replace /content/drive/MyDrive/18_REKURENCYJNE_SIECI_NEURONOWE/glove.6B.100d.txt? [y]es, [n]o, [A]ll, [N]one, [r]ename: no\n",
            "replace /content/drive/MyDrive/18_REKURENCYJNE_SIECI_NEURONOWE/glove.6B.200d.txt? [y]es, [n]o, [A]ll, [N]one, [r]ename: n\n",
            "replace /content/drive/MyDrive/18_REKURENCYJNE_SIECI_NEURONOWE/glove.6B.300d.txt? [y]es, [n]o, [A]ll, [N]one, [r]ename: n\n"
          ],
          "name": "stdout"
        }
      ]
    },
    {
      "cell_type": "code",
      "metadata": {
        "colab": {
          "base_uri": "https://localhost:8080/"
        },
        "id": "g8YsO_cwpUMc",
        "outputId": "4b880764-783e-4b2e-be4b-e603e914562a"
      },
      "source": [
        "# Podejrzenie zawartości pobranego pliku z 300 wektorami opisującymi dane słowo\n",
        "!head -5 '/content/drive/MyDrive/18_REKURENCYJNE_SIECI_NEURONOWE/glove.6B.300d.txt'"
      ],
      "execution_count": 204,
      "outputs": [
        {
          "output_type": "stream",
          "text": [
            "the 0.04656 0.21318 -0.0074364 -0.45854 -0.035639 0.23643 -0.28836 0.21521 -0.13486 -1.6413 -0.26091 0.032434 0.056621 -0.043296 -0.021672 0.22476 -0.075129 -0.067018 -0.14247 0.038825 -0.18951 0.29977 0.39305 0.17887 -0.17343 -0.21178 0.23617 -0.063681 -0.42318 -0.11661 0.093754 0.17296 -0.33073 0.49112 -0.68995 -0.092462 0.24742 -0.17991 0.097908 0.083118 0.15299 -0.27276 -0.038934 0.54453 0.53737 0.29105 -0.0073514 0.04788 -0.4076 -0.026759 0.17919 0.010977 -0.10963 -0.26395 0.07399 0.26236 -0.1508 0.34623 0.25758 0.11971 -0.037135 -0.071593 0.43898 -0.040764 0.016425 -0.4464 0.17197 0.046246 0.058639 0.041499 0.53948 0.52495 0.11361 -0.048315 -0.36385 0.18704 0.092761 -0.11129 -0.42085 0.13992 -0.39338 -0.067945 0.12188 0.16707 0.075169 -0.015529 -0.19499 0.19638 0.053194 0.2517 -0.34845 -0.10638 -0.34692 -0.19024 -0.2004 0.12154 -0.29208 0.023353 -0.11618 -0.35768 0.062304 0.35884 0.02906 0.0073005 0.0049482 -0.15048 -0.12313 0.19337 0.12173 0.44503 0.25147 0.10781 -0.17716 0.038691 0.08153 0.14667 0.063666 0.061332 -0.075569 -0.37724 0.01585 -0.30342 0.28374 -0.042013 -0.040715 -0.15269 0.07498 0.15577 0.10433 0.31393 0.19309 0.19429 0.15185 -0.10192 -0.018785 0.20791 0.13366 0.19038 -0.25558 0.304 -0.01896 0.20147 -0.4211 -0.0075156 -0.27977 -0.19314 0.046204 0.19971 -0.30207 0.25735 0.68107 -0.19409 0.23984 0.22493 0.65224 -0.13561 -0.17383 -0.048209 -0.1186 0.0021588 -0.019525 0.11948 0.19346 -0.4082 -0.082966 0.16626 -0.10601 0.35861 0.16922 0.07259 -0.24803 -0.10024 -0.52491 -0.17745 -0.36647 0.2618 -0.012077 0.08319 -0.21528 0.41045 0.29136 0.30869 0.078864 0.32207 -0.041023 -0.1097 -0.092041 -0.12339 -0.16416 0.35382 -0.082774 0.33171 -0.24738 -0.048928 0.15746 0.18988 -0.026642 0.063315 -0.010673 0.34089 1.4106 0.13417 0.28191 -0.2594 0.055267 -0.052425 -0.25789 0.019127 -0.022084 0.32113 0.068818 0.51207 0.16478 -0.20194 0.29232 0.098575 0.013145 -0.10652 0.1351 -0.045332 0.20697 -0.48425 -0.44706 0.0033305 0.0029264 -0.10975 -0.23325 0.22442 -0.10503 0.12339 0.10978 0.048994 -0.25157 0.40319 0.35318 0.18651 -0.023622 -0.12734 0.11475 0.27359 -0.21866 0.015794 0.81754 -0.023792 -0.85469 -0.16203 0.18076 0.028014 -0.1434 0.0013139 -0.091735 -0.089704 0.11105 -0.16703 0.068377 -0.087388 -0.039789 0.014184 0.21187 0.28579 -0.28797 -0.058996 -0.032436 -0.0047009 -0.17052 -0.034741 -0.11489 0.075093 0.099526 0.048183 -0.073775 -0.41817 0.0041268 0.44414 -0.16062 0.14294 -2.2628 -0.027347 0.81311 0.77417 -0.25639 -0.11576 -0.11982 -0.21363 0.028429 0.27261 0.031026 0.096782 0.0067769 0.14082 -0.013064 -0.29686 -0.079913 0.195 0.031549 0.28506 -0.087461 0.0090611 -0.20989 0.053913\n",
            ", -0.25539 -0.25723 0.13169 -0.042688 0.21817 -0.022702 -0.17854 0.10756 0.058936 -1.3854 0.58509 0.036501 -0.19846 0.19613 0.40929 0.15702 -0.15305 0.050447 0.30045 -0.11295 -0.017043 0.18593 0.19982 0.20053 -0.63141 -0.12622 0.2951 -0.26282 -0.15831 0.0012383 0.011784 0.58758 -0.15914 0.27731 -0.82343 -0.21134 0.013414 0.19637 -0.4147 0.0010276 0.13422 -0.14205 0.051545 0.34993 -0.29868 -0.3209 0.19566 0.47886 0.10744 0.010004 0.18503 0.080694 0.20739 -0.097365 -0.039448 0.020151 -0.17378 0.25679 0.24198 -0.351 0.18759 0.0063857 0.18395 -0.13929 0.0081855 -0.63109 0.29832 0.31731 0.13022 -0.32284 -0.050343 -0.114 0.12097 0.14687 -0.33244 -0.055789 -0.05849 0.27551 -0.043855 0.039664 0.15162 -0.086627 0.067729 0.23146 0.015351 -0.15142 -0.031975 0.45181 -0.068806 -0.077058 0.055193 0.054596 -0.24708 0.031113 -0.12826 0.12782 -0.46708 -0.026264 0.010387 -0.33174 0.17277 -0.26894 0.20467 -0.16181 -0.041519 -0.014878 0.10279 0.18868 -0.23396 -0.018436 -0.14747 -0.32685 -0.022055 -0.054 0.16264 0.27095 -0.22792 -0.0077006 0.11206 -0.039787 -0.11906 0.021773 0.05528 -0.13318 -0.056867 0.008304 -0.027021 0.23447 0.086864 0.12009 -0.30726 0.0024735 0.29041 -0.044887 0.12297 0.13077 0.090807 -0.39141 0.080546 0.18724 -0.097481 0.10397 0.11492 0.17775 -0.18167 0.24652 0.20136 -0.23395 -0.35018 -0.14061 0.17091 -0.095465 -0.10962 -0.09836 0.15344 0.08868 -0.22048 -0.13803 -0.11288 -0.08534 0.072735 -0.12732 -0.1964 -0.10586 0.0020616 0.13496 0.058912 -0.043979 -0.091375 0.24408 0.16872 0.24297 -0.43983 0.47089 -0.018595 0.16146 0.19828 -0.17237 -0.0026998 0.52097 -0.080197 0.43324 -0.066261 0.04324 0.084954 -0.14836 -0.41936 0.15988 -0.18411 0.1321 0.27476 0.27279 -0.13465 -0.091238 -0.32523 0.27936 0.023296 -0.33472 0.016878 -0.055544 0.92915 -0.33914 -0.14791 0.017301 0.18272 0.35108 -0.11438 0.13228 -0.021064 -0.27453 -0.10081 -0.046296 0.21689 -0.056319 0.14651 -0.023536 0.068026 -0.045453 -0.23851 -0.33868 0.31396 -0.031914 -0.019217 0.0018715 -0.13328 0.070148 -0.039761 0.070801 0.0018422 -0.12646 0.028675 -0.095728 0.26673 -0.35536 0.15286 0.064565 0.12647 0.23397 -0.046058 0.13519 -0.14549 0.23031 0.42066 0.16267 -0.16541 -0.0020155 0.080653 -0.30025 -0.076014 0.070612 0.3157 0.05352 -0.10721 -0.1366 0.32214 0.2004 0.11609 -0.22501 0.12155 -0.10851 -0.063187 -0.24553 -0.059751 0.068787 -0.11627 -0.0083402 0.0052044 -0.20159 -0.023663 0.17562 -0.31475 -0.11162 -0.12492 0.10949 -0.26913 0.34893 -1.6997 -0.2447 0.30292 0.05672 -0.31737 0.083612 0.095949 -0.1759 0.10235 0.36808 -0.3438 0.20607 0.19135 0.10992 0.075968 -0.014359 -0.073794 0.22176 0.14652 0.56686 0.053307 -0.2329 -0.12226 0.35499\n",
            ". -0.12559 0.01363 0.10306 -0.10123 0.098128 0.13627 -0.10721 0.23697 0.3287 -1.6785 0.22393 0.12409 -0.086708 0.3301 0.34375 -0.00087582 -0.29658 0.24417 -0.11592 -0.035742 -0.01083 0.20776 0.29285 -0.073491 -0.18598 -0.2009 -0.095366 0.0063732 -0.1362 0.092028 -0.039957 0.19027 -0.10456 0.002767 -0.71742 -0.12915 -0.0013451 0.27002 -0.053023 0.22148 0.13881 -0.15051 -0.1915 0.16402 0.097484 0.056841 0.39789 0.40725 0.14802 0.21569 -0.10671 -0.10232 0.02481 -0.221 -0.01072 0.14234 -0.28242 0.19254 0.08672 -0.3897 0.11321 0.0013779 0.0064009 -0.16206 -0.082153 -0.55397 0.36789 -0.0040159 0.2071 -0.37157 0.25135 -0.19544 -0.047059 0.17155 -0.24036 -0.046086 0.19429 -0.18939 -0.0071974 0.069481 0.059175 -0.17585 0.10653 0.16933 -0.036122 0.029911 -0.1183 0.13916 -0.037951 0.1069 -0.26069 -0.10307 -0.12272 -0.15032 -0.042409 0.013354 -0.2851 0.011248 0.16073 -0.16384 0.21233 -0.18476 -0.00090874 0.066687 0.16918 -0.35004 0.099016 0.46393 -0.19462 0.10346 -0.25668 -0.36516 -0.18963 -0.21933 0.024634 0.065627 -0.1112 -0.164 0.010874 -0.084688 -0.14923 -0.070223 0.028887 0.083497 -0.016193 -0.0024926 0.17186 0.0098749 0.080237 0.14774 0.043206 0.27716 0.57697 -0.041297 0.12765 -0.091517 0.14132 0.087579 0.093224 0.015346 -0.19856 0.017277 -0.10708 -0.013059 -0.37227 0.078568 0.16677 -0.15359 -0.33294 0.036986 0.11697 0.039781 0.038464 -0.16247 0.4128 -0.077491 0.04549 0.1133 0.0082177 -0.25052 0.070966 -0.11388 -0.11503 -0.11014 0.10499 0.15878 -0.27023 -0.011006 0.00076057 0.33902 0.25564 0.16342 -0.56019 0.13055 0.076311 -0.028334 0.28721 -0.027844 -0.11561 0.34925 -0.1242 0.21405 0.24116 -0.031343 0.10913 -0.24755 -0.045429 -0.082178 -0.18831 0.18446 -0.097074 0.32395 0.10658 -0.26676 -0.27311 0.017181 0.25796 -0.28048 0.3079 -0.218 0.87415 -0.12297 0.10991 -0.29797 0.13394 0.10615 -0.10789 -0.35976 -0.18311 -0.45133 0.034967 -0.19847 0.21965 0.08152 0.2581 0.040173 0.031394 0.19069 0.0758 -0.060638 0.20739 0.009839 -0.2693 0.066515 -0.10711 0.0059916 0.23284 -0.058663 0.098993 -0.081464 0.067004 -0.14305 0.25506 -0.31971 -0.03107 -0.092451 0.2944 0.28947 -0.059804 0.24286 -0.16755 0.042031 0.51261 0.24525 -0.65983 0.062456 0.052204 -0.025717 -0.080613 0.080869 0.22821 -0.10217 -0.20719 -0.012123 0.34916 0.086527 0.066288 -0.099828 0.25843 0.11943 -0.13667 -0.43962 0.23704 0.031296 0.074701 -0.22387 0.0078162 -0.19016 0.044444 0.20191 -0.20814 -0.28382 0.10427 -0.21098 0.18865 0.31659 -2.0753 -0.071045 0.52419 0.056023 -0.25295 -0.062168 -0.10989 -0.35755 -0.079244 0.37472 -0.28353 0.16337 0.11165 -0.098002 0.060148 -0.15619 -0.11949 0.23445 0.081367 0.24618 -0.15242 -0.34224 -0.022394 0.13684\n",
            "of -0.076947 -0.021211 0.21271 -0.72232 -0.13988 -0.12234 -0.17521 0.12137 -0.070866 -1.5721 -0.22464 0.04269 -0.4018 0.21006 0.014288 0.41628 0.017165 0.071732 0.0069246 0.18107 -0.15412 0.14933 -0.030493 0.29918 0.029479 -0.036147 -0.061125 0.083918 -0.12398 -0.10077 -0.0054142 0.3371 -0.25612 0.44388 -0.68922 0.1802 0.34898 -0.052284 -0.26226 -0.47109 0.21647 -0.4002 -0.049986 0.011376 0.54994 -0.22791 0.095873 0.47693 -0.056727 -0.17895 0.11756 0.14662 0.048948 0.13587 -0.093821 0.45968 -0.32062 0.29911 0.20656 -0.18503 -0.2769 -0.022545 0.70698 -0.23815 0.16437 -0.55044 -0.0010615 0.12266 0.11898 0.23985 0.29815 0.013207 0.16316 -0.61334 -0.37051 0.19444 -0.13621 -0.30426 -0.37715 0.065299 -0.15995 -0.56516 0.074696 0.40184 0.19328 0.041802 0.20572 0.28971 0.34783 0.33873 -0.10052 -0.16397 -0.15236 -0.086815 0.36522 0.14969 -0.40859 0.23106 0.17162 -0.60545 0.086019 0.37043 0.17937 -0.40282 -0.62471 -0.055919 0.15092 0.12554 -0.45344 0.34417 0.40042 -0.049512 -0.29969 -0.31761 0.30023 0.090029 0.3106 -0.033077 -0.21995 -0.40396 -0.34443 -0.21248 -0.37636 0.21835 -0.1785 -0.17261 0.16391 0.22753 0.2686 0.57541 -0.14912 0.20413 0.22187 -0.27014 0.068253 0.29115 -0.067943 0.10623 -0.16281 0.19939 -0.48613 0.035688 -0.12373 0.13707 0.33359 -0.12713 -0.31711 -0.13962 -0.04288 -0.0014614 0.76883 -0.41705 -0.092911 0.16315 0.29202 0.12119 -0.076683 0.14131 -0.093406 -0.042796 0.13738 0.014278 0.11918 -0.34215 -0.19076 -0.12499 0.24648 0.42259 0.091966 0.45351 0.14437 0.1878 -0.85876 0.059621 -0.32242 0.28627 0.12427 0.0090984 -0.1891 0.16638 0.099881 -0.048553 -0.026257 0.099904 0.12406 -0.015416 -0.29707 -0.4044 -0.17258 0.36468 -0.014118 -0.11889 -0.11686 -0.14124 0.28012 0.067644 0.1485 -0.35702 0.29626 0.36004 1.019 -0.067307 -0.11588 -0.2178 0.070191 0.23154 -0.13849 0.26441 0.28742 0.1941 -0.0060504 0.44105 0.12416 -0.27745 -0.25729 0.10992 0.18362 -0.34522 -0.21861 -0.18825 -0.037454 -0.20862 -0.25216 0.060842 0.068595 0.10275 0.10745 -0.061288 0.19725 -0.27739 -0.022559 0.052794 -0.24083 0.09199 0.30959 0.054999 0.063676 -0.087357 -0.34495 0.22793 -0.42405 0.24536 0.55708 0.19126 -0.797 -0.2048 0.32545 0.09235 0.084791 -0.16433 -0.066568 -0.099249 0.31526 -0.44465 0.087281 0.3288 -0.017809 -0.23855 -0.12848 0.041509 0.46728 0.48214 0.10548 0.065805 0.067221 0.13321 -0.27856 0.015532 0.30026 0.38748 -0.14401 -0.16131 0.17678 0.16448 -0.3244 0.007937 -2.2836 0.096945 0.66131 0.16857 -0.028877 -0.10791 -0.027445 -0.25695 0.046686 0.23087 -0.076458 0.27127 0.25185 0.054947 -0.36673 -0.38603 0.3029 0.015747 0.34036 0.47841 0.068617 0.18351 -0.29183 -0.046533\n",
            "to -0.25756 -0.057132 -0.6719 -0.38082 -0.36421 -0.082155 -0.010955 -0.082047 0.46056 -1.8477 -0.11258 -0.12955 0.27254 0.0072891 0.26038 0.12096 -0.23193 0.03226 -0.29472 -0.67594 -0.33844 -0.23297 0.1102 0.18816 -0.45184 -0.33833 0.11274 0.4949 -0.042132 0.079961 -0.013146 0.062284 0.20223 0.038279 -1.1154 -0.1214 0.089846 0.29702 -0.055794 -0.46021 -0.13194 0.087357 -0.27865 0.14981 0.25536 0.16698 -0.04452 0.067588 -0.11772 -0.13452 0.28694 -0.39844 -0.12806 -0.47818 0.067802 0.20353 -0.30677 0.60789 -0.18588 0.11997 -0.040508 -0.06586 0.30621 -0.055824 0.039448 -0.4557 0.21081 0.25889 0.14666 0.3095 0.14343 0.10524 0.15788 0.103 0.32211 -0.27939 -0.17139 0.32202 0.10784 -0.28209 0.12611 -0.23913 -0.089638 -0.39179 -0.26402 0.36796 -0.23691 0.62503 -0.027226 -0.038851 -0.37359 0.045442 -0.17169 -0.54477 -0.091772 -0.32952 -0.25522 0.087106 0.048685 -0.31684 -0.064198 0.044885 -0.49587 0.429 0.36198 -0.14682 0.20122 -0.030038 0.18736 0.31626 0.059023 -0.13473 -0.40664 -0.52983 0.072459 0.082531 -0.32495 -0.006691 0.43564 -0.12976 -0.26293 0.15975 0.25062 -0.064732 -0.30689 0.16084 0.4583 0.38565 0.12612 -0.00080485 0.18055 0.24757 0.5568 0.21701 0.33105 0.11991 0.0027257 -0.10679 -0.16922 0.25277 0.36024 -0.4762 -0.20035 0.38473 -0.71653 -0.13788 -0.12201 -0.16979 -0.29624 -0.010344 0.19216 0.063375 0.30977 -0.19759 0.57419 0.34018 -0.34795 -0.085304 -0.028243 -0.39182 0.23797 -0.092997 0.11981 -0.2368 0.098179 0.083047 0.12652 0.16026 -0.14166 0.14296 -0.12868 0.18181 -0.42337 0.18061 -0.051635 -0.17987 -0.097071 0.0013755 -0.42539 0.56817 0.057432 0.31577 0.18918 0.27639 -0.39906 0.18594 -0.54231 0.61376 0.37921 0.1366 -0.39842 0.58557 0.054558 0.061801 0.32546 -0.19615 -0.034329 -0.013225 0.67854 -0.16672 0.92439 0.11952 0.040351 0.35368 -0.25573 0.26648 -0.020954 0.18535 0.062376 -0.22976 -0.074563 -0.3289 0.28535 0.46959 -0.54324 0.14124 0.19964 0.1541 0.024155 0.144 0.30989 -0.15989 -0.11611 0.09102 -0.50317 -0.33662 0.059168 0.43838 -0.1428 -0.0053718 0.046505 0.21546 0.065006 -0.35175 -0.17137 0.20467 -0.07173 0.40879 0.20295 -0.014211 -0.21898 -0.12831 0.3224 0.17608 -0.60267 0.036737 0.54848 -0.47682 -0.56556 -0.083633 0.032302 -0.25262 0.39481 -0.019623 0.62547 -0.11369 -0.25727 0.073363 0.18437 0.14587 0.32708 -0.52049 0.037555 0.023667 -0.068237 -0.22916 0.017755 -0.18394 0.55107 -0.23965 0.39187 -0.017785 0.43113 0.27181 -0.16043 -0.347 -2.4194 -0.028952 0.95085 0.05804 -0.23623 0.18914 0.31192 0.23064 -0.30309 -0.18603 0.07618 0.37337 -0.14444 -0.028793 -0.012806 -0.59707 0.31734 -0.25267 0.54384 0.063007 -0.049795 -0.16043 0.046744 -0.070621\n"
          ],
          "name": "stdout"
        }
      ]
    },
    {
      "cell_type": "markdown",
      "metadata": {
        "id": "QTEFvwGhppN2"
      },
      "source": [
        "Przeprowadźmy operację parsowania rozpakowanego pliku tekstowego w celu zbudowania indeksu przypisującego słowa (w formie łańcuchów) do reprezentacji wektorowych (wektorów liczb)."
      ]
    },
    {
      "cell_type": "code",
      "metadata": {
        "id": "0w4pmdKPqsjY"
      },
      "source": [
        "import os"
      ],
      "execution_count": 205,
      "outputs": []
    },
    {
      "cell_type": "code",
      "metadata": {
        "colab": {
          "base_uri": "https://localhost:8080/"
        },
        "id": "pkVPIuJBpo6A",
        "outputId": "a2681d52-e158-4b2c-c96b-191e185749b9"
      },
      "source": [
        "glove_dir = ''\n",
        "\n",
        "# Utworzenie pustego słownika\n",
        "embeddings_index = {}\n",
        "\n",
        "# Otwarcie pliku z reprezentacja wektorową słów - 300 wektorów/ słowo \n",
        "f = open(os.path.join(glove_dir, '/content/drive/MyDrive/18_REKURENCYJNE_SIECI_NEURONOWE/glove.6B.300d.txt'))\n",
        "\n",
        "for line in f:\n",
        "  values = line.split()\n",
        "  word = values[0]  #1-sze słowo jest w słowniku kluczem\n",
        "  coefs = np.asarray(values[1:], dtype='float32') # reszta to jego reprezentacja wektorowa \n",
        "  embeddings_index[word] = coefs\n",
        "f.close()\n",
        "\n",
        "print(f'Znaleziono {len(embeddings_index)} wektorów słów')"
      ],
      "execution_count": 206,
      "outputs": [
        {
          "output_type": "stream",
          "text": [
            "Znaleziono 400000 wektorów słów\n"
          ],
          "name": "stdout"
        }
      ]
    },
    {
      "cell_type": "code",
      "metadata": {
        "colab": {
          "base_uri": "https://localhost:8080/"
        },
        "id": "GnwHc3LpsKDz",
        "outputId": "1b6b933d-4472-4262-e14c-95f1f5bc4abb"
      },
      "source": [
        "# Sprawdzenie reprezentacji wektorownej słowa 'the'\n",
        "embeddings_index['the']"
      ],
      "execution_count": 207,
      "outputs": [
        {
          "output_type": "execute_result",
          "data": {
            "text/plain": [
              "array([ 4.6560e-02,  2.1318e-01, -7.4364e-03, -4.5854e-01, -3.5639e-02,\n",
              "        2.3643e-01, -2.8836e-01,  2.1521e-01, -1.3486e-01, -1.6413e+00,\n",
              "       -2.6091e-01,  3.2434e-02,  5.6621e-02, -4.3296e-02, -2.1672e-02,\n",
              "        2.2476e-01, -7.5129e-02, -6.7018e-02, -1.4247e-01,  3.8825e-02,\n",
              "       -1.8951e-01,  2.9977e-01,  3.9305e-01,  1.7887e-01, -1.7343e-01,\n",
              "       -2.1178e-01,  2.3617e-01, -6.3681e-02, -4.2318e-01, -1.1661e-01,\n",
              "        9.3754e-02,  1.7296e-01, -3.3073e-01,  4.9112e-01, -6.8995e-01,\n",
              "       -9.2462e-02,  2.4742e-01, -1.7991e-01,  9.7908e-02,  8.3118e-02,\n",
              "        1.5299e-01, -2.7276e-01, -3.8934e-02,  5.4453e-01,  5.3737e-01,\n",
              "        2.9105e-01, -7.3514e-03,  4.7880e-02, -4.0760e-01, -2.6759e-02,\n",
              "        1.7919e-01,  1.0977e-02, -1.0963e-01, -2.6395e-01,  7.3990e-02,\n",
              "        2.6236e-01, -1.5080e-01,  3.4623e-01,  2.5758e-01,  1.1971e-01,\n",
              "       -3.7135e-02, -7.1593e-02,  4.3898e-01, -4.0764e-02,  1.6425e-02,\n",
              "       -4.4640e-01,  1.7197e-01,  4.6246e-02,  5.8639e-02,  4.1499e-02,\n",
              "        5.3948e-01,  5.2495e-01,  1.1361e-01, -4.8315e-02, -3.6385e-01,\n",
              "        1.8704e-01,  9.2761e-02, -1.1129e-01, -4.2085e-01,  1.3992e-01,\n",
              "       -3.9338e-01, -6.7945e-02,  1.2188e-01,  1.6707e-01,  7.5169e-02,\n",
              "       -1.5529e-02, -1.9499e-01,  1.9638e-01,  5.3194e-02,  2.5170e-01,\n",
              "       -3.4845e-01, -1.0638e-01, -3.4692e-01, -1.9024e-01, -2.0040e-01,\n",
              "        1.2154e-01, -2.9208e-01,  2.3353e-02, -1.1618e-01, -3.5768e-01,\n",
              "        6.2304e-02,  3.5884e-01,  2.9060e-02,  7.3005e-03,  4.9482e-03,\n",
              "       -1.5048e-01, -1.2313e-01,  1.9337e-01,  1.2173e-01,  4.4503e-01,\n",
              "        2.5147e-01,  1.0781e-01, -1.7716e-01,  3.8691e-02,  8.1530e-02,\n",
              "        1.4667e-01,  6.3666e-02,  6.1332e-02, -7.5569e-02, -3.7724e-01,\n",
              "        1.5850e-02, -3.0342e-01,  2.8374e-01, -4.2013e-02, -4.0715e-02,\n",
              "       -1.5269e-01,  7.4980e-02,  1.5577e-01,  1.0433e-01,  3.1393e-01,\n",
              "        1.9309e-01,  1.9429e-01,  1.5185e-01, -1.0192e-01, -1.8785e-02,\n",
              "        2.0791e-01,  1.3366e-01,  1.9038e-01, -2.5558e-01,  3.0400e-01,\n",
              "       -1.8960e-02,  2.0147e-01, -4.2110e-01, -7.5156e-03, -2.7977e-01,\n",
              "       -1.9314e-01,  4.6204e-02,  1.9971e-01, -3.0207e-01,  2.5735e-01,\n",
              "        6.8107e-01, -1.9409e-01,  2.3984e-01,  2.2493e-01,  6.5224e-01,\n",
              "       -1.3561e-01, -1.7383e-01, -4.8209e-02, -1.1860e-01,  2.1588e-03,\n",
              "       -1.9525e-02,  1.1948e-01,  1.9346e-01, -4.0820e-01, -8.2966e-02,\n",
              "        1.6626e-01, -1.0601e-01,  3.5861e-01,  1.6922e-01,  7.2590e-02,\n",
              "       -2.4803e-01, -1.0024e-01, -5.2491e-01, -1.7745e-01, -3.6647e-01,\n",
              "        2.6180e-01, -1.2077e-02,  8.3190e-02, -2.1528e-01,  4.1045e-01,\n",
              "        2.9136e-01,  3.0869e-01,  7.8864e-02,  3.2207e-01, -4.1023e-02,\n",
              "       -1.0970e-01, -9.2041e-02, -1.2339e-01, -1.6416e-01,  3.5382e-01,\n",
              "       -8.2774e-02,  3.3171e-01, -2.4738e-01, -4.8928e-02,  1.5746e-01,\n",
              "        1.8988e-01, -2.6642e-02,  6.3315e-02, -1.0673e-02,  3.4089e-01,\n",
              "        1.4106e+00,  1.3417e-01,  2.8191e-01, -2.5940e-01,  5.5267e-02,\n",
              "       -5.2425e-02, -2.5789e-01,  1.9127e-02, -2.2084e-02,  3.2113e-01,\n",
              "        6.8818e-02,  5.1207e-01,  1.6478e-01, -2.0194e-01,  2.9232e-01,\n",
              "        9.8575e-02,  1.3145e-02, -1.0652e-01,  1.3510e-01, -4.5332e-02,\n",
              "        2.0697e-01, -4.8425e-01, -4.4706e-01,  3.3305e-03,  2.9264e-03,\n",
              "       -1.0975e-01, -2.3325e-01,  2.2442e-01, -1.0503e-01,  1.2339e-01,\n",
              "        1.0978e-01,  4.8994e-02, -2.5157e-01,  4.0319e-01,  3.5318e-01,\n",
              "        1.8651e-01, -2.3622e-02, -1.2734e-01,  1.1475e-01,  2.7359e-01,\n",
              "       -2.1866e-01,  1.5794e-02,  8.1754e-01, -2.3792e-02, -8.5469e-01,\n",
              "       -1.6203e-01,  1.8076e-01,  2.8014e-02, -1.4340e-01,  1.3139e-03,\n",
              "       -9.1735e-02, -8.9704e-02,  1.1105e-01, -1.6703e-01,  6.8377e-02,\n",
              "       -8.7388e-02, -3.9789e-02,  1.4184e-02,  2.1187e-01,  2.8579e-01,\n",
              "       -2.8797e-01, -5.8996e-02, -3.2436e-02, -4.7009e-03, -1.7052e-01,\n",
              "       -3.4741e-02, -1.1489e-01,  7.5093e-02,  9.9526e-02,  4.8183e-02,\n",
              "       -7.3775e-02, -4.1817e-01,  4.1268e-03,  4.4414e-01, -1.6062e-01,\n",
              "        1.4294e-01, -2.2628e+00, -2.7347e-02,  8.1311e-01,  7.7417e-01,\n",
              "       -2.5639e-01, -1.1576e-01, -1.1982e-01, -2.1363e-01,  2.8429e-02,\n",
              "        2.7261e-01,  3.1026e-02,  9.6782e-02,  6.7769e-03,  1.4082e-01,\n",
              "       -1.3064e-02, -2.9686e-01, -7.9913e-02,  1.9500e-01,  3.1549e-02,\n",
              "        2.8506e-01, -8.7461e-02,  9.0611e-03, -2.0989e-01,  5.3913e-02],\n",
              "      dtype=float32)"
            ]
          },
          "metadata": {
            "tags": []
          },
          "execution_count": 207
        }
      ]
    },
    {
      "cell_type": "markdown",
      "metadata": {
        "id": "Lz1NxnFZsuyZ"
      },
      "source": [
        "Zbudujmy teraz macierz osadzeń, którą będzie można załadować do warstwy Embedding naszej sieci. Macierz ta musi mieć kształt (vocab_size, embedding_dim), a jej dany element 'i' ma zawierać wektor embedding_dim-wymiarowy dla słowa o indeksie 'i' zbudowanym podczas tokenizacji. Indeks 0 macierzy nie ma odpowiadać żadnemu słowu ani tokenowi - jest to po prostu wypełniacz miejsca."
      ]
    },
    {
      "cell_type": "code",
      "metadata": {
        "id": "v1ZIoqR8ubp6"
      },
      "source": [
        "# Wyświetlenie słownika z indeksem słów w naszym zbiorze\n",
        "# tokenizer.word_index"
      ],
      "execution_count": 208,
      "outputs": []
    },
    {
      "cell_type": "code",
      "metadata": {
        "id": "emUovDgGvCQj"
      },
      "source": [
        "# Każdemu indeksowi w naszym tekście komend z treningowego zbioru danych przypisujemy reprezentacje wektorowe tych słów \n",
        "embedding_dim = 300 # ilość wektorów opsiującyhc jedno słowo\n",
        "\n",
        "# Utworzenie 0-owej macierzy embeddingów\n",
        "embedding_matrix = np.zeros((vocab_size, embedding_dim))\n",
        "for word, i in tokenizer.word_index.items():\n",
        "  embedding_vector = embeddings_index.get(word) # pobranie wektora danego słowa z glove\n",
        "  if i < len(tokenizer.word_index):\n",
        "    if embedding_vector is not None:  # słowa nieznalezione w osadzanym indeksie zostaną zastąpione zerami\n",
        "      embedding_matrix[i] = embedding_vector  # słowa znalezione w indeksie zostają nadpisane wektorami"
      ],
      "execution_count": 209,
      "outputs": []
    },
    {
      "cell_type": "markdown",
      "metadata": {
        "id": "43DlDk8Kx2gN"
      },
      "source": [
        "Wykorzystamy tą samą co poprzednio architekturę sieci z warstwą Embedding z predefiniowanymi wagami poszczególnych słów."
      ]
    },
    {
      "cell_type": "code",
      "metadata": {
        "colab": {
          "base_uri": "https://localhost:8080/"
        },
        "id": "dvSj6ZtdyccG",
        "outputId": "a4ba6198-2810-4cfe-bbae-6605f3a5a06c"
      },
      "source": [
        "model_lstm_emb = Sequential()\n",
        "model_lstm_emb.add(Embedding(vocab_size, 300, input_length=maxlen, weights=[embedding_matrix])) # wektory długości 300, z predefiniowanymi wagami słów\n",
        "model_lstm_emb.add(Bidirectional(LSTM(32, dropout=0.2, recurrent_dropout=0.3, return_sequences=False,kernel_initializer='he_uniform')))  # warstwa dwukierunkowa (złożona niejako z dwóch warstw; \n",
        "                                                                                                                                    # każda z dodatkowym dropoutem)\n",
        "model_lstm_emb.add(Dense(256, activation='relu'))  # dodatkowa warstwa Dense\n",
        "model_lstm_emb.add(Dense(maxlen, activation='softmax')) # ostatnia warstwa złożona z 7 kategorii\n",
        "model_lstm_emb.compile(loss='sparse_categorical_crossentropy', optimizer='adam', metrics=['accuracy'])\n",
        "print(model_lstm_emb.summary())"
      ],
      "execution_count": 210,
      "outputs": [
        {
          "output_type": "stream",
          "text": [
            "WARNING:tensorflow:Layer lstm_4 will not use cuDNN kernel since it doesn't meet the cuDNN kernel criteria. It will use generic GPU kernel as fallback when running on GPU\n",
            "WARNING:tensorflow:Layer lstm_4 will not use cuDNN kernel since it doesn't meet the cuDNN kernel criteria. It will use generic GPU kernel as fallback when running on GPU\n",
            "WARNING:tensorflow:Layer lstm_4 will not use cuDNN kernel since it doesn't meet the cuDNN kernel criteria. It will use generic GPU kernel as fallback when running on GPU\n",
            "Model: \"sequential_5\"\n",
            "_________________________________________________________________\n",
            "Layer (type)                 Output Shape              Param #   \n",
            "=================================================================\n",
            "embedding_5 (Embedding)      (None, 18, 300)           2950800   \n",
            "_________________________________________________________________\n",
            "bidirectional_4 (Bidirection (None, 64)                85248     \n",
            "_________________________________________________________________\n",
            "dense_8 (Dense)              (None, 256)               16640     \n",
            "_________________________________________________________________\n",
            "dense_9 (Dense)              (None, 18)                4626      \n",
            "=================================================================\n",
            "Total params: 3,057,314\n",
            "Trainable params: 3,057,314\n",
            "Non-trainable params: 0\n",
            "_________________________________________________________________\n",
            "None\n"
          ],
          "name": "stdout"
        }
      ]
    },
    {
      "cell_type": "code",
      "metadata": {
        "colab": {
          "base_uri": "https://localhost:8080/"
        },
        "id": "81PTDoxc0iEO",
        "outputId": "a481509c-52f2-4d56-f689-8e6c093ac9a3"
      },
      "source": [
        "history_lstm_emb = model_lstm_emb.fit(X_train, y_train, epochs=10, batch_size=64, validation_split=0.2, callbacks=EarlyStopping(monitor='val_loss', mode='min', verbose=1, patience=2))"
      ],
      "execution_count": 211,
      "outputs": [
        {
          "output_type": "stream",
          "text": [
            "Epoch 1/10\n",
            "138/138 [==============================] - 28s 171ms/step - loss: 1.3400 - accuracy: 0.6512 - val_loss: 0.0897 - val_accuracy: 0.9723\n",
            "Epoch 2/10\n",
            "138/138 [==============================] - 23s 167ms/step - loss: 0.0635 - accuracy: 0.9814 - val_loss: 0.0787 - val_accuracy: 0.9764\n",
            "Epoch 3/10\n",
            "138/138 [==============================] - 25s 180ms/step - loss: 0.0285 - accuracy: 0.9911 - val_loss: 0.0774 - val_accuracy: 0.9760\n",
            "Epoch 4/10\n",
            "138/138 [==============================] - 25s 179ms/step - loss: 0.0220 - accuracy: 0.9927 - val_loss: 0.0738 - val_accuracy: 0.9778\n",
            "Epoch 5/10\n",
            "138/138 [==============================] - 23s 168ms/step - loss: 0.0109 - accuracy: 0.9968 - val_loss: 0.0729 - val_accuracy: 0.9769\n",
            "Epoch 6/10\n",
            "138/138 [==============================] - 23s 170ms/step - loss: 0.0067 - accuracy: 0.9980 - val_loss: 0.0842 - val_accuracy: 0.9751\n",
            "Epoch 7/10\n",
            "138/138 [==============================] - 24s 171ms/step - loss: 0.0021 - accuracy: 0.9998 - val_loss: 0.0935 - val_accuracy: 0.9751\n",
            "Epoch 00007: early stopping\n"
          ],
          "name": "stdout"
        }
      ]
    },
    {
      "cell_type": "code",
      "metadata": {
        "colab": {
          "base_uri": "https://localhost:8080/",
          "height": 1000
        },
        "id": "vaRHpsIY1z1C",
        "outputId": "20bf0727-81cd-4b87-c676-c4c176dc131d"
      },
      "source": [
        "plot_hist(history_lstm_emb)"
      ],
      "execution_count": 212,
      "outputs": [
        {
          "output_type": "display_data",
          "data": {
            "text/html": [
              "<html>\n",
              "<head><meta charset=\"utf-8\" /></head>\n",
              "<body>\n",
              "    <div>\n",
              "            <script src=\"https://cdnjs.cloudflare.com/ajax/libs/mathjax/2.7.5/MathJax.js?config=TeX-AMS-MML_SVG\"></script><script type=\"text/javascript\">if (window.MathJax) {MathJax.Hub.Config({SVG: {font: \"STIX-Web\"}});}</script>\n",
              "                <script type=\"text/javascript\">window.PlotlyConfig = {MathJaxConfig: 'local'};</script>\n",
              "        <script src=\"https://cdn.plot.ly/plotly-latest.min.js\"></script>    \n",
              "            <div id=\"5befe991-15df-41d2-88f2-1828493b0f23\" class=\"plotly-graph-div\" style=\"height:500px; width:1000px;\"></div>\n",
              "            <script type=\"text/javascript\">\n",
              "                \n",
              "                    window.PLOTLYENV=window.PLOTLYENV || {};\n",
              "                    \n",
              "                if (document.getElementById(\"5befe991-15df-41d2-88f2-1828493b0f23\")) {\n",
              "                    Plotly.newPlot(\n",
              "                        '5befe991-15df-41d2-88f2-1828493b0f23',\n",
              "                        [{\"mode\": \"markers+lines\", \"name\": \"accuracy\", \"type\": \"scatter\", \"x\": [0, 1, 2, 3, 4, 5, 6], \"y\": [0.8495635390281677, 0.9834485650062561, 0.9911574721336365, 0.9933114051818848, 0.9963722825050354, 0.9980728030204773, 0.9995465278625488]}, {\"mode\": \"markers+lines\", \"name\": \"val_accuracy\", \"type\": \"scatter\", \"x\": [0, 1, 2, 3, 4, 5, 6], \"y\": [0.972348153591156, 0.9764279127120972, 0.9759746193885803, 0.9777878522872925, 0.976881206035614, 0.9750679731369019, 0.9750679731369019]}],\n",
              "                        {\"height\": 500, \"template\": {\"data\": {\"bar\": [{\"error_x\": {\"color\": \"#2a3f5f\"}, \"error_y\": {\"color\": \"#2a3f5f\"}, \"marker\": {\"line\": {\"color\": \"#E5ECF6\", \"width\": 0.5}}, \"type\": \"bar\"}], \"barpolar\": [{\"marker\": {\"line\": {\"color\": \"#E5ECF6\", \"width\": 0.5}}, \"type\": \"barpolar\"}], \"carpet\": [{\"aaxis\": {\"endlinecolor\": \"#2a3f5f\", \"gridcolor\": \"white\", \"linecolor\": \"white\", \"minorgridcolor\": \"white\", \"startlinecolor\": \"#2a3f5f\"}, \"baxis\": {\"endlinecolor\": \"#2a3f5f\", \"gridcolor\": \"white\", \"linecolor\": \"white\", \"minorgridcolor\": \"white\", \"startlinecolor\": \"#2a3f5f\"}, \"type\": \"carpet\"}], \"choropleth\": [{\"colorbar\": {\"outlinewidth\": 0, \"ticks\": \"\"}, \"type\": \"choropleth\"}], \"contour\": [{\"colorbar\": {\"outlinewidth\": 0, \"ticks\": \"\"}, \"colorscale\": [[0.0, \"#0d0887\"], [0.1111111111111111, \"#46039f\"], [0.2222222222222222, \"#7201a8\"], [0.3333333333333333, \"#9c179e\"], [0.4444444444444444, \"#bd3786\"], [0.5555555555555556, \"#d8576b\"], [0.6666666666666666, \"#ed7953\"], [0.7777777777777778, \"#fb9f3a\"], [0.8888888888888888, \"#fdca26\"], [1.0, \"#f0f921\"]], \"type\": \"contour\"}], \"contourcarpet\": [{\"colorbar\": {\"outlinewidth\": 0, \"ticks\": \"\"}, \"type\": \"contourcarpet\"}], \"heatmap\": [{\"colorbar\": {\"outlinewidth\": 0, \"ticks\": \"\"}, \"colorscale\": [[0.0, \"#0d0887\"], [0.1111111111111111, \"#46039f\"], [0.2222222222222222, \"#7201a8\"], [0.3333333333333333, \"#9c179e\"], [0.4444444444444444, \"#bd3786\"], [0.5555555555555556, \"#d8576b\"], [0.6666666666666666, \"#ed7953\"], [0.7777777777777778, \"#fb9f3a\"], [0.8888888888888888, \"#fdca26\"], [1.0, \"#f0f921\"]], \"type\": \"heatmap\"}], \"heatmapgl\": [{\"colorbar\": {\"outlinewidth\": 0, \"ticks\": \"\"}, \"colorscale\": [[0.0, \"#0d0887\"], [0.1111111111111111, \"#46039f\"], [0.2222222222222222, \"#7201a8\"], [0.3333333333333333, \"#9c179e\"], [0.4444444444444444, \"#bd3786\"], [0.5555555555555556, \"#d8576b\"], [0.6666666666666666, \"#ed7953\"], [0.7777777777777778, \"#fb9f3a\"], [0.8888888888888888, \"#fdca26\"], [1.0, \"#f0f921\"]], \"type\": \"heatmapgl\"}], \"histogram\": [{\"marker\": {\"colorbar\": {\"outlinewidth\": 0, \"ticks\": \"\"}}, \"type\": \"histogram\"}], \"histogram2d\": [{\"colorbar\": {\"outlinewidth\": 0, \"ticks\": \"\"}, \"colorscale\": [[0.0, \"#0d0887\"], [0.1111111111111111, \"#46039f\"], [0.2222222222222222, \"#7201a8\"], [0.3333333333333333, \"#9c179e\"], [0.4444444444444444, \"#bd3786\"], [0.5555555555555556, \"#d8576b\"], [0.6666666666666666, \"#ed7953\"], [0.7777777777777778, \"#fb9f3a\"], [0.8888888888888888, \"#fdca26\"], [1.0, \"#f0f921\"]], \"type\": \"histogram2d\"}], \"histogram2dcontour\": [{\"colorbar\": {\"outlinewidth\": 0, \"ticks\": \"\"}, \"colorscale\": [[0.0, \"#0d0887\"], [0.1111111111111111, \"#46039f\"], [0.2222222222222222, \"#7201a8\"], [0.3333333333333333, \"#9c179e\"], [0.4444444444444444, \"#bd3786\"], [0.5555555555555556, \"#d8576b\"], [0.6666666666666666, \"#ed7953\"], [0.7777777777777778, \"#fb9f3a\"], [0.8888888888888888, \"#fdca26\"], [1.0, \"#f0f921\"]], \"type\": \"histogram2dcontour\"}], \"mesh3d\": [{\"colorbar\": {\"outlinewidth\": 0, \"ticks\": \"\"}, \"type\": \"mesh3d\"}], \"parcoords\": [{\"line\": {\"colorbar\": {\"outlinewidth\": 0, \"ticks\": \"\"}}, \"type\": \"parcoords\"}], \"pie\": [{\"automargin\": true, \"type\": \"pie\"}], \"scatter\": [{\"marker\": {\"colorbar\": {\"outlinewidth\": 0, \"ticks\": \"\"}}, \"type\": \"scatter\"}], \"scatter3d\": [{\"line\": {\"colorbar\": {\"outlinewidth\": 0, \"ticks\": \"\"}}, \"marker\": {\"colorbar\": {\"outlinewidth\": 0, \"ticks\": \"\"}}, \"type\": \"scatter3d\"}], \"scattercarpet\": [{\"marker\": {\"colorbar\": {\"outlinewidth\": 0, \"ticks\": \"\"}}, \"type\": \"scattercarpet\"}], \"scattergeo\": [{\"marker\": {\"colorbar\": {\"outlinewidth\": 0, \"ticks\": \"\"}}, \"type\": \"scattergeo\"}], \"scattergl\": [{\"marker\": {\"colorbar\": {\"outlinewidth\": 0, \"ticks\": \"\"}}, \"type\": \"scattergl\"}], \"scattermapbox\": [{\"marker\": {\"colorbar\": {\"outlinewidth\": 0, \"ticks\": \"\"}}, \"type\": \"scattermapbox\"}], \"scatterpolar\": [{\"marker\": {\"colorbar\": {\"outlinewidth\": 0, \"ticks\": \"\"}}, \"type\": \"scatterpolar\"}], \"scatterpolargl\": [{\"marker\": {\"colorbar\": {\"outlinewidth\": 0, \"ticks\": \"\"}}, \"type\": \"scatterpolargl\"}], \"scatterternary\": [{\"marker\": {\"colorbar\": {\"outlinewidth\": 0, \"ticks\": \"\"}}, \"type\": \"scatterternary\"}], \"surface\": [{\"colorbar\": {\"outlinewidth\": 0, \"ticks\": \"\"}, \"colorscale\": [[0.0, \"#0d0887\"], [0.1111111111111111, \"#46039f\"], [0.2222222222222222, \"#7201a8\"], [0.3333333333333333, \"#9c179e\"], [0.4444444444444444, \"#bd3786\"], [0.5555555555555556, \"#d8576b\"], [0.6666666666666666, \"#ed7953\"], [0.7777777777777778, \"#fb9f3a\"], [0.8888888888888888, \"#fdca26\"], [1.0, \"#f0f921\"]], \"type\": \"surface\"}], \"table\": [{\"cells\": {\"fill\": {\"color\": \"#EBF0F8\"}, \"line\": {\"color\": \"white\"}}, \"header\": {\"fill\": {\"color\": \"#C8D4E3\"}, \"line\": {\"color\": \"white\"}}, \"type\": \"table\"}]}, \"layout\": {\"annotationdefaults\": {\"arrowcolor\": \"#2a3f5f\", \"arrowhead\": 0, \"arrowwidth\": 1}, \"coloraxis\": {\"colorbar\": {\"outlinewidth\": 0, \"ticks\": \"\"}}, \"colorscale\": {\"diverging\": [[0, \"#8e0152\"], [0.1, \"#c51b7d\"], [0.2, \"#de77ae\"], [0.3, \"#f1b6da\"], [0.4, \"#fde0ef\"], [0.5, \"#f7f7f7\"], [0.6, \"#e6f5d0\"], [0.7, \"#b8e186\"], [0.8, \"#7fbc41\"], [0.9, \"#4d9221\"], [1, \"#276419\"]], \"sequential\": [[0.0, \"#0d0887\"], [0.1111111111111111, \"#46039f\"], [0.2222222222222222, \"#7201a8\"], [0.3333333333333333, \"#9c179e\"], [0.4444444444444444, \"#bd3786\"], [0.5555555555555556, \"#d8576b\"], [0.6666666666666666, \"#ed7953\"], [0.7777777777777778, \"#fb9f3a\"], [0.8888888888888888, \"#fdca26\"], [1.0, \"#f0f921\"]], \"sequentialminus\": [[0.0, \"#0d0887\"], [0.1111111111111111, \"#46039f\"], [0.2222222222222222, \"#7201a8\"], [0.3333333333333333, \"#9c179e\"], [0.4444444444444444, \"#bd3786\"], [0.5555555555555556, \"#d8576b\"], [0.6666666666666666, \"#ed7953\"], [0.7777777777777778, \"#fb9f3a\"], [0.8888888888888888, \"#fdca26\"], [1.0, \"#f0f921\"]]}, \"colorway\": [\"#636efa\", \"#EF553B\", \"#00cc96\", \"#ab63fa\", \"#FFA15A\", \"#19d3f3\", \"#FF6692\", \"#B6E880\", \"#FF97FF\", \"#FECB52\"], \"font\": {\"color\": \"#2a3f5f\"}, \"geo\": {\"bgcolor\": \"white\", \"lakecolor\": \"white\", \"landcolor\": \"#E5ECF6\", \"showlakes\": true, \"showland\": true, \"subunitcolor\": \"white\"}, \"hoverlabel\": {\"align\": \"left\"}, \"hovermode\": \"closest\", \"mapbox\": {\"style\": \"light\"}, \"paper_bgcolor\": \"white\", \"plot_bgcolor\": \"#E5ECF6\", \"polar\": {\"angularaxis\": {\"gridcolor\": \"white\", \"linecolor\": \"white\", \"ticks\": \"\"}, \"bgcolor\": \"#E5ECF6\", \"radialaxis\": {\"gridcolor\": \"white\", \"linecolor\": \"white\", \"ticks\": \"\"}}, \"scene\": {\"xaxis\": {\"backgroundcolor\": \"#E5ECF6\", \"gridcolor\": \"white\", \"gridwidth\": 2, \"linecolor\": \"white\", \"showbackground\": true, \"ticks\": \"\", \"zerolinecolor\": \"white\"}, \"yaxis\": {\"backgroundcolor\": \"#E5ECF6\", \"gridcolor\": \"white\", \"gridwidth\": 2, \"linecolor\": \"white\", \"showbackground\": true, \"ticks\": \"\", \"zerolinecolor\": \"white\"}, \"zaxis\": {\"backgroundcolor\": \"#E5ECF6\", \"gridcolor\": \"white\", \"gridwidth\": 2, \"linecolor\": \"white\", \"showbackground\": true, \"ticks\": \"\", \"zerolinecolor\": \"white\"}}, \"shapedefaults\": {\"line\": {\"color\": \"#2a3f5f\"}}, \"ternary\": {\"aaxis\": {\"gridcolor\": \"white\", \"linecolor\": \"white\", \"ticks\": \"\"}, \"baxis\": {\"gridcolor\": \"white\", \"linecolor\": \"white\", \"ticks\": \"\"}, \"bgcolor\": \"#E5ECF6\", \"caxis\": {\"gridcolor\": \"white\", \"linecolor\": \"white\", \"ticks\": \"\"}}, \"title\": {\"x\": 0.05}, \"xaxis\": {\"automargin\": true, \"gridcolor\": \"white\", \"linecolor\": \"white\", \"ticks\": \"\", \"title\": {\"standoff\": 15}, \"zerolinecolor\": \"white\", \"zerolinewidth\": 2}, \"yaxis\": {\"automargin\": true, \"gridcolor\": \"white\", \"linecolor\": \"white\", \"ticks\": \"\", \"title\": {\"standoff\": 15}, \"zerolinecolor\": \"white\", \"zerolinewidth\": 2}}}, \"title\": {\"text\": \"Accuracy vs. Val Accuracy\"}, \"width\": 1000, \"xaxis\": {\"title\": {\"text\": \"Epoki\"}}, \"yaxis\": {\"title\": {\"text\": \"Accuracy\"}, \"type\": \"log\"}},\n",
              "                        {\"responsive\": true}\n",
              "                    ).then(function(){\n",
              "                            \n",
              "var gd = document.getElementById('5befe991-15df-41d2-88f2-1828493b0f23');\n",
              "var x = new MutationObserver(function (mutations, observer) {{\n",
              "        var display = window.getComputedStyle(gd).display;\n",
              "        if (!display || display === 'none') {{\n",
              "            console.log([gd, 'removed!']);\n",
              "            Plotly.purge(gd);\n",
              "            observer.disconnect();\n",
              "        }}\n",
              "}});\n",
              "\n",
              "// Listen for the removal of the full notebook cells\n",
              "var notebookContainer = gd.closest('#notebook-container');\n",
              "if (notebookContainer) {{\n",
              "    x.observe(notebookContainer, {childList: true});\n",
              "}}\n",
              "\n",
              "// Listen for the clearing of the current output cell\n",
              "var outputEl = gd.closest('.output');\n",
              "if (outputEl) {{\n",
              "    x.observe(outputEl, {childList: true});\n",
              "}}\n",
              "\n",
              "                        })\n",
              "                };\n",
              "                \n",
              "            </script>\n",
              "        </div>\n",
              "</body>\n",
              "</html>"
            ]
          },
          "metadata": {
            "tags": []
          }
        },
        {
          "output_type": "display_data",
          "data": {
            "text/html": [
              "<html>\n",
              "<head><meta charset=\"utf-8\" /></head>\n",
              "<body>\n",
              "    <div>\n",
              "            <script src=\"https://cdnjs.cloudflare.com/ajax/libs/mathjax/2.7.5/MathJax.js?config=TeX-AMS-MML_SVG\"></script><script type=\"text/javascript\">if (window.MathJax) {MathJax.Hub.Config({SVG: {font: \"STIX-Web\"}});}</script>\n",
              "                <script type=\"text/javascript\">window.PlotlyConfig = {MathJaxConfig: 'local'};</script>\n",
              "        <script src=\"https://cdn.plot.ly/plotly-latest.min.js\"></script>    \n",
              "            <div id=\"3f5de047-97bd-4964-93dc-c461bfbfef4b\" class=\"plotly-graph-div\" style=\"height:500px; width:1000px;\"></div>\n",
              "            <script type=\"text/javascript\">\n",
              "                \n",
              "                    window.PLOTLYENV=window.PLOTLYENV || {};\n",
              "                    \n",
              "                if (document.getElementById(\"3f5de047-97bd-4964-93dc-c461bfbfef4b\")) {\n",
              "                    Plotly.newPlot(\n",
              "                        '3f5de047-97bd-4964-93dc-c461bfbfef4b',\n",
              "                        [{\"mode\": \"markers+lines\", \"name\": \"loss\", \"type\": \"scatter\", \"x\": [0, 1, 2, 3, 4, 5, 6], \"y\": [0.6039067506790161, 0.05779729038476944, 0.029805710539221764, 0.019386306405067444, 0.012448450550436974, 0.0068597858771681786, 0.0025690090842545033]}, {\"mode\": \"markers+lines\", \"name\": \"val_loss\", \"type\": \"scatter\", \"x\": [0, 1, 2, 3, 4, 5, 6], \"y\": [0.08967157453298569, 0.07865746319293976, 0.07740994542837143, 0.07376467436552048, 0.07285020500421524, 0.0841885432600975, 0.09350330382585526]}],\n",
              "                        {\"height\": 500, \"template\": {\"data\": {\"bar\": [{\"error_x\": {\"color\": \"#2a3f5f\"}, \"error_y\": {\"color\": \"#2a3f5f\"}, \"marker\": {\"line\": {\"color\": \"#E5ECF6\", \"width\": 0.5}}, \"type\": \"bar\"}], \"barpolar\": [{\"marker\": {\"line\": {\"color\": \"#E5ECF6\", \"width\": 0.5}}, \"type\": \"barpolar\"}], \"carpet\": [{\"aaxis\": {\"endlinecolor\": \"#2a3f5f\", \"gridcolor\": \"white\", \"linecolor\": \"white\", \"minorgridcolor\": \"white\", \"startlinecolor\": \"#2a3f5f\"}, \"baxis\": {\"endlinecolor\": \"#2a3f5f\", \"gridcolor\": \"white\", \"linecolor\": \"white\", \"minorgridcolor\": \"white\", \"startlinecolor\": \"#2a3f5f\"}, \"type\": \"carpet\"}], \"choropleth\": [{\"colorbar\": {\"outlinewidth\": 0, \"ticks\": \"\"}, \"type\": \"choropleth\"}], \"contour\": [{\"colorbar\": {\"outlinewidth\": 0, \"ticks\": \"\"}, \"colorscale\": [[0.0, \"#0d0887\"], [0.1111111111111111, \"#46039f\"], [0.2222222222222222, \"#7201a8\"], [0.3333333333333333, \"#9c179e\"], [0.4444444444444444, \"#bd3786\"], [0.5555555555555556, \"#d8576b\"], [0.6666666666666666, \"#ed7953\"], [0.7777777777777778, \"#fb9f3a\"], [0.8888888888888888, \"#fdca26\"], [1.0, \"#f0f921\"]], \"type\": \"contour\"}], \"contourcarpet\": [{\"colorbar\": {\"outlinewidth\": 0, \"ticks\": \"\"}, \"type\": \"contourcarpet\"}], \"heatmap\": [{\"colorbar\": {\"outlinewidth\": 0, \"ticks\": \"\"}, \"colorscale\": [[0.0, \"#0d0887\"], [0.1111111111111111, \"#46039f\"], [0.2222222222222222, \"#7201a8\"], [0.3333333333333333, \"#9c179e\"], [0.4444444444444444, \"#bd3786\"], [0.5555555555555556, \"#d8576b\"], [0.6666666666666666, \"#ed7953\"], [0.7777777777777778, \"#fb9f3a\"], [0.8888888888888888, \"#fdca26\"], [1.0, \"#f0f921\"]], \"type\": \"heatmap\"}], \"heatmapgl\": [{\"colorbar\": {\"outlinewidth\": 0, \"ticks\": \"\"}, \"colorscale\": [[0.0, \"#0d0887\"], [0.1111111111111111, \"#46039f\"], [0.2222222222222222, \"#7201a8\"], [0.3333333333333333, \"#9c179e\"], [0.4444444444444444, \"#bd3786\"], [0.5555555555555556, \"#d8576b\"], [0.6666666666666666, \"#ed7953\"], [0.7777777777777778, \"#fb9f3a\"], [0.8888888888888888, \"#fdca26\"], [1.0, \"#f0f921\"]], \"type\": \"heatmapgl\"}], \"histogram\": [{\"marker\": {\"colorbar\": {\"outlinewidth\": 0, \"ticks\": \"\"}}, \"type\": \"histogram\"}], \"histogram2d\": [{\"colorbar\": {\"outlinewidth\": 0, \"ticks\": \"\"}, \"colorscale\": [[0.0, \"#0d0887\"], [0.1111111111111111, \"#46039f\"], [0.2222222222222222, \"#7201a8\"], [0.3333333333333333, \"#9c179e\"], [0.4444444444444444, \"#bd3786\"], [0.5555555555555556, \"#d8576b\"], [0.6666666666666666, \"#ed7953\"], [0.7777777777777778, \"#fb9f3a\"], [0.8888888888888888, \"#fdca26\"], [1.0, \"#f0f921\"]], \"type\": \"histogram2d\"}], \"histogram2dcontour\": [{\"colorbar\": {\"outlinewidth\": 0, \"ticks\": \"\"}, \"colorscale\": [[0.0, \"#0d0887\"], [0.1111111111111111, \"#46039f\"], [0.2222222222222222, \"#7201a8\"], [0.3333333333333333, \"#9c179e\"], [0.4444444444444444, \"#bd3786\"], [0.5555555555555556, \"#d8576b\"], [0.6666666666666666, \"#ed7953\"], [0.7777777777777778, \"#fb9f3a\"], [0.8888888888888888, \"#fdca26\"], [1.0, \"#f0f921\"]], \"type\": \"histogram2dcontour\"}], \"mesh3d\": [{\"colorbar\": {\"outlinewidth\": 0, \"ticks\": \"\"}, \"type\": \"mesh3d\"}], \"parcoords\": [{\"line\": {\"colorbar\": {\"outlinewidth\": 0, \"ticks\": \"\"}}, \"type\": \"parcoords\"}], \"pie\": [{\"automargin\": true, \"type\": \"pie\"}], \"scatter\": [{\"marker\": {\"colorbar\": {\"outlinewidth\": 0, \"ticks\": \"\"}}, \"type\": \"scatter\"}], \"scatter3d\": [{\"line\": {\"colorbar\": {\"outlinewidth\": 0, \"ticks\": \"\"}}, \"marker\": {\"colorbar\": {\"outlinewidth\": 0, \"ticks\": \"\"}}, \"type\": \"scatter3d\"}], \"scattercarpet\": [{\"marker\": {\"colorbar\": {\"outlinewidth\": 0, \"ticks\": \"\"}}, \"type\": \"scattercarpet\"}], \"scattergeo\": [{\"marker\": {\"colorbar\": {\"outlinewidth\": 0, \"ticks\": \"\"}}, \"type\": \"scattergeo\"}], \"scattergl\": [{\"marker\": {\"colorbar\": {\"outlinewidth\": 0, \"ticks\": \"\"}}, \"type\": \"scattergl\"}], \"scattermapbox\": [{\"marker\": {\"colorbar\": {\"outlinewidth\": 0, \"ticks\": \"\"}}, \"type\": \"scattermapbox\"}], \"scatterpolar\": [{\"marker\": {\"colorbar\": {\"outlinewidth\": 0, \"ticks\": \"\"}}, \"type\": \"scatterpolar\"}], \"scatterpolargl\": [{\"marker\": {\"colorbar\": {\"outlinewidth\": 0, \"ticks\": \"\"}}, \"type\": \"scatterpolargl\"}], \"scatterternary\": [{\"marker\": {\"colorbar\": {\"outlinewidth\": 0, \"ticks\": \"\"}}, \"type\": \"scatterternary\"}], \"surface\": [{\"colorbar\": {\"outlinewidth\": 0, \"ticks\": \"\"}, \"colorscale\": [[0.0, \"#0d0887\"], [0.1111111111111111, \"#46039f\"], [0.2222222222222222, \"#7201a8\"], [0.3333333333333333, \"#9c179e\"], [0.4444444444444444, \"#bd3786\"], [0.5555555555555556, \"#d8576b\"], [0.6666666666666666, \"#ed7953\"], [0.7777777777777778, \"#fb9f3a\"], [0.8888888888888888, \"#fdca26\"], [1.0, \"#f0f921\"]], \"type\": \"surface\"}], \"table\": [{\"cells\": {\"fill\": {\"color\": \"#EBF0F8\"}, \"line\": {\"color\": \"white\"}}, \"header\": {\"fill\": {\"color\": \"#C8D4E3\"}, \"line\": {\"color\": \"white\"}}, \"type\": \"table\"}]}, \"layout\": {\"annotationdefaults\": {\"arrowcolor\": \"#2a3f5f\", \"arrowhead\": 0, \"arrowwidth\": 1}, \"coloraxis\": {\"colorbar\": {\"outlinewidth\": 0, \"ticks\": \"\"}}, \"colorscale\": {\"diverging\": [[0, \"#8e0152\"], [0.1, \"#c51b7d\"], [0.2, \"#de77ae\"], [0.3, \"#f1b6da\"], [0.4, \"#fde0ef\"], [0.5, \"#f7f7f7\"], [0.6, \"#e6f5d0\"], [0.7, \"#b8e186\"], [0.8, \"#7fbc41\"], [0.9, \"#4d9221\"], [1, \"#276419\"]], \"sequential\": [[0.0, \"#0d0887\"], [0.1111111111111111, \"#46039f\"], [0.2222222222222222, \"#7201a8\"], [0.3333333333333333, \"#9c179e\"], [0.4444444444444444, \"#bd3786\"], [0.5555555555555556, \"#d8576b\"], [0.6666666666666666, \"#ed7953\"], [0.7777777777777778, \"#fb9f3a\"], [0.8888888888888888, \"#fdca26\"], [1.0, \"#f0f921\"]], \"sequentialminus\": [[0.0, \"#0d0887\"], [0.1111111111111111, \"#46039f\"], [0.2222222222222222, \"#7201a8\"], [0.3333333333333333, \"#9c179e\"], [0.4444444444444444, \"#bd3786\"], [0.5555555555555556, \"#d8576b\"], [0.6666666666666666, \"#ed7953\"], [0.7777777777777778, \"#fb9f3a\"], [0.8888888888888888, \"#fdca26\"], [1.0, \"#f0f921\"]]}, \"colorway\": [\"#636efa\", \"#EF553B\", \"#00cc96\", \"#ab63fa\", \"#FFA15A\", \"#19d3f3\", \"#FF6692\", \"#B6E880\", \"#FF97FF\", \"#FECB52\"], \"font\": {\"color\": \"#2a3f5f\"}, \"geo\": {\"bgcolor\": \"white\", \"lakecolor\": \"white\", \"landcolor\": \"#E5ECF6\", \"showlakes\": true, \"showland\": true, \"subunitcolor\": \"white\"}, \"hoverlabel\": {\"align\": \"left\"}, \"hovermode\": \"closest\", \"mapbox\": {\"style\": \"light\"}, \"paper_bgcolor\": \"white\", \"plot_bgcolor\": \"#E5ECF6\", \"polar\": {\"angularaxis\": {\"gridcolor\": \"white\", \"linecolor\": \"white\", \"ticks\": \"\"}, \"bgcolor\": \"#E5ECF6\", \"radialaxis\": {\"gridcolor\": \"white\", \"linecolor\": \"white\", \"ticks\": \"\"}}, \"scene\": {\"xaxis\": {\"backgroundcolor\": \"#E5ECF6\", \"gridcolor\": \"white\", \"gridwidth\": 2, \"linecolor\": \"white\", \"showbackground\": true, \"ticks\": \"\", \"zerolinecolor\": \"white\"}, \"yaxis\": {\"backgroundcolor\": \"#E5ECF6\", \"gridcolor\": \"white\", \"gridwidth\": 2, \"linecolor\": \"white\", \"showbackground\": true, \"ticks\": \"\", \"zerolinecolor\": \"white\"}, \"zaxis\": {\"backgroundcolor\": \"#E5ECF6\", \"gridcolor\": \"white\", \"gridwidth\": 2, \"linecolor\": \"white\", \"showbackground\": true, \"ticks\": \"\", \"zerolinecolor\": \"white\"}}, \"shapedefaults\": {\"line\": {\"color\": \"#2a3f5f\"}}, \"ternary\": {\"aaxis\": {\"gridcolor\": \"white\", \"linecolor\": \"white\", \"ticks\": \"\"}, \"baxis\": {\"gridcolor\": \"white\", \"linecolor\": \"white\", \"ticks\": \"\"}, \"bgcolor\": \"#E5ECF6\", \"caxis\": {\"gridcolor\": \"white\", \"linecolor\": \"white\", \"ticks\": \"\"}}, \"title\": {\"x\": 0.05}, \"xaxis\": {\"automargin\": true, \"gridcolor\": \"white\", \"linecolor\": \"white\", \"ticks\": \"\", \"title\": {\"standoff\": 15}, \"zerolinecolor\": \"white\", \"zerolinewidth\": 2}, \"yaxis\": {\"automargin\": true, \"gridcolor\": \"white\", \"linecolor\": \"white\", \"ticks\": \"\", \"title\": {\"standoff\": 15}, \"zerolinecolor\": \"white\", \"zerolinewidth\": 2}}}, \"title\": {\"text\": \"Loss vs. Val Loss\"}, \"width\": 1000, \"xaxis\": {\"title\": {\"text\": \"Epoki\"}}, \"yaxis\": {\"title\": {\"text\": \"Loss\"}, \"type\": \"log\"}},\n",
              "                        {\"responsive\": true}\n",
              "                    ).then(function(){\n",
              "                            \n",
              "var gd = document.getElementById('3f5de047-97bd-4964-93dc-c461bfbfef4b');\n",
              "var x = new MutationObserver(function (mutations, observer) {{\n",
              "        var display = window.getComputedStyle(gd).display;\n",
              "        if (!display || display === 'none') {{\n",
              "            console.log([gd, 'removed!']);\n",
              "            Plotly.purge(gd);\n",
              "            observer.disconnect();\n",
              "        }}\n",
              "}});\n",
              "\n",
              "// Listen for the removal of the full notebook cells\n",
              "var notebookContainer = gd.closest('#notebook-container');\n",
              "if (notebookContainer) {{\n",
              "    x.observe(notebookContainer, {childList: true});\n",
              "}}\n",
              "\n",
              "// Listen for the clearing of the current output cell\n",
              "var outputEl = gd.closest('.output');\n",
              "if (outputEl) {{\n",
              "    x.observe(outputEl, {childList: true});\n",
              "}}\n",
              "\n",
              "                        })\n",
              "                };\n",
              "                \n",
              "            </script>\n",
              "        </div>\n",
              "</body>\n",
              "</html>"
            ]
          },
          "metadata": {
            "tags": []
          }
        }
      ]
    },
    {
      "cell_type": "code",
      "metadata": {
        "colab": {
          "base_uri": "https://localhost:8080/"
        },
        "id": "dveib-0L18n4",
        "outputId": "27100f39-2b56-4ebd-c9bd-b3320f5f4f57"
      },
      "source": [
        "scores = model_lstm_emb.evaluate(X_test, pd.Series(y_test).map({'AddToPlaylist': 1,\n",
        "                                                                'BookRestaurant': 2,\n",
        "                                                                'GetWeather': 3, 'PlayMusic': 4,\n",
        "                                                                'RateBook': 5,\n",
        "                                                                'SearchCreativeWork': 6,\n",
        "                                                                'SearchScreeningEvent': 7}).values)\n",
        "print(f'Accuracy {scores[1]*100}%')"
      ],
      "execution_count": 213,
      "outputs": [
        {
          "output_type": "stream",
          "text": [
            "87/87 [==============================] - 1s 9ms/step - loss: 0.0806 - accuracy: 0.9782\n",
            "Accuracy 97.82372117042542%\n"
          ],
          "name": "stdout"
        }
      ]
    },
    {
      "cell_type": "markdown",
      "metadata": {
        "id": "yyAPzZgc2wGT"
      },
      "source": [
        "Jak widać, word embeddingi bardzo nieznacznie polepszyły skuteczność klasyfikacji na zbiorze testowym 97.06% vs 97,82%. Sprawdźmy jak przedstawiają się wyniki na zbiorze walidacyjnym."
      ]
    },
    {
      "cell_type": "code",
      "metadata": {
        "id": "BU3QsYYy3dKv"
      },
      "source": [
        "predicted_lstm_emb_val = np.argmax(model.predict(X_val), axis=-1)"
      ],
      "execution_count": 214,
      "outputs": []
    },
    {
      "cell_type": "code",
      "metadata": {
        "id": "aO4sT1fK3vL0"
      },
      "source": [
        "# Odmapowanie etykiet z liczb integer na labele\n",
        "predicted_lstm_emb_val = pd.Series(predicted_lstm_emb_val).map({1: 'AddToPlaylist', 2: 'BookRestaurant', 3: 'GetWeather', 4: 'PlayMusic', 5: 'RateBook', 6: 'SearchCreativeWork', 7: 'SearchScreeningEvent'}).values"
      ],
      "execution_count": 215,
      "outputs": []
    },
    {
      "cell_type": "code",
      "metadata": {
        "colab": {
          "base_uri": "https://localhost:8080/",
          "height": 676
        },
        "id": "ZAOXKMMf3_k_",
        "outputId": "74d508de-a6e8-4223-9f98-1ea5c7bbde31"
      },
      "source": [
        "classes = np.unique(y_val)\n",
        "\n",
        "print('Accuracy:', round(accuracy_score(y_val, predicted_lstm_emb_val),2))\n",
        "print('F1_score:', round(f1_score(y_val, predicted_lstm_emb_val, average='weighted'),2))\n",
        "\n",
        "print(classification_report(y_val, predicted_lstm_emb_val))\n",
        "# Plot confusion matrix\n",
        "cm = confusion_matrix(y_val, predicted_lstm_emb_val)\n",
        "fig, ax = plt.subplots()\n",
        "sns.heatmap(cm, annot=True, fmt='d', ax=ax, cmap=plt.cm.Blues, cbar=False)\n",
        "ax.set(xlabel='Pred', ylabel='True', xticklabels=classes, yticklabels=classes, title='Confusion matrix')\n",
        "plt.yticks(rotation=0)\n",
        "plt.xticks(rotation=90)\n",
        "plt.show()"
      ],
      "execution_count": 216,
      "outputs": [
        {
          "output_type": "stream",
          "text": [
            "Accuracy: 0.98\n",
            "F1_score: 0.98\n",
            "                      precision    recall  f1-score   support\n",
            "\n",
            "       AddToPlaylist       0.98      1.00      0.99       100\n",
            "      BookRestaurant       1.00      0.99      0.99       100\n",
            "          GetWeather       0.97      0.99      0.98       100\n",
            "           PlayMusic       1.00      0.97      0.98       100\n",
            "            RateBook       0.99      1.00      1.00       100\n",
            "  SearchCreativeWork       0.98      0.96      0.97       100\n",
            "SearchScreeningEvent       0.97      0.98      0.98       100\n",
            "\n",
            "            accuracy                           0.98       700\n",
            "           macro avg       0.98      0.98      0.98       700\n",
            "        weighted avg       0.98      0.98      0.98       700\n",
            "\n"
          ],
          "name": "stdout"
        },
        {
          "output_type": "display_data",
          "data": {
            "image/png": "[encoded data removed]",
            "text/plain": [
              "<Figure size 432x288 with 1 Axes>"
            ]
          },
          "metadata": {
            "tags": [],
            "needs_background": "light"
          }
        }
      ]
    },
    {
      "cell_type": "markdown",
      "metadata": {
        "id": "xHPYvAcM5kYU"
      },
      "source": [
        "W ogólnym rezultacie nie widać poprawy w związku z użyciem word embedding. Faktem jest, że możlwiości poprawy pozostają i tak juz niewielkie. Sieć wyuczona na embeddingach wykazuje na zbiorze walidacyjnym dokładnie taką samą Confusion Matrix."
      ]
    },
    {
      "cell_type": "markdown",
      "metadata": {
        "id": "oJdkesNC6Hmg"
      },
      "source": [
        "Sprawdźmy, czy nadal niepoprawnie klasyfikuje te same komendy. "
      ]
    },
    {
      "cell_type": "code",
      "metadata": {
        "colab": {
          "base_uri": "https://localhost:8080/"
        },
        "id": "mSMRtA0R6ZRY",
        "outputId": "0a5e6d4b-f68b-480a-da63-a4bd501b0aaf"
      },
      "source": [
        "indexes = []\n",
        "for i, phrase in enumerate(predicted_lstm_val):\n",
        "  if phrase == 'AddToPlaylist':\n",
        "    if y_val[i] == 'PlayMusic':\n",
        "      indexes.append(i)\n",
        "print(f'Indeksy nipoprawnie zaklasyfikowane w sieci LSTM na losowo generowanych wagach w warstiwe Embedding: {indexes}')\n",
        "\n",
        "indexes = []\n",
        "for i, phrase in enumerate(predicted_lstm_emb_val):\n",
        "  if phrase == 'AddToPlaylist':\n",
        "    if y_val[i] == 'PlayMusic':\n",
        "      indexes.append(i)\n",
        "print(f'Indeksy nipoprawnie zaklasyfikowane w sieci LSTM z embeddingami: {indexes}')"
      ],
      "execution_count": 222,
      "outputs": [
        {
          "output_type": "stream",
          "text": [
            "Indeksy nipoprawnie zaklasyfikowane w sieci LSTM na losowo generowanych wagach w warstiwe Embedding: [252, 499]\n",
            "Indeksy nipoprawnie zaklasyfikowane w sieci LSTM z embeddingami: [252, 499]\n"
          ],
          "name": "stdout"
        }
      ]
    },
    {
      "cell_type": "code",
      "metadata": {
        "colab": {
          "base_uri": "https://localhost:8080/"
        },
        "id": "yNevPUCW7NA7",
        "outputId": "7a4174e7-bcf9-4eb9-8996-5b69d7ce1f10"
      },
      "source": [
        "# Tekst komendy użytkownika\n",
        "\n",
        "print(f'True category: {y_val[252]}')\n",
        "print(f'Predicted category: {predicted_lstm_val[252]}')\n",
        "print(f\"----------------------------\\nTekst komendy:\\n{data_validation['text'][252]}\")"
      ],
      "execution_count": 223,
      "outputs": [
        {
          "output_type": "stream",
          "text": [
            "True category: PlayMusic\n",
            "Predicted category: AddToPlaylist\n",
            "----------------------------\n",
            "Tekst komendy:\n",
            "can you put on Like A Hurricane by Paul Landers\n"
          ],
          "name": "stdout"
        }
      ]
    },
    {
      "cell_type": "markdown",
      "metadata": {
        "id": "Pdv2yejB7FEF"
      },
      "source": [
        "Jak widać, sieć wykorzystująca word embedding w tym przypadku myli się dokładnie dla tych samych komend użytkowników co sieć z losowo generowanymi wagami w warstwie Embedding."
      ]
    },
    {
      "cell_type": "markdown",
      "metadata": {
        "id": "_dU6WKF-A6SU"
      },
      "source": [
        "# Wnioski"
      ]
    },
    {
      "cell_type": "markdown",
      "metadata": {
        "id": "aVht92zRCRlO"
      },
      "source": [
        "Detektor intencji, który udało się zbudować w niniejszym notatniku bazując na modelu klasycznego klasyfikatora RandomForest, sieci rekurencyjnej z warstwą LSTM oraz sieci LSTM wykorzystujacej word embedding pokazuje, że niezależnie czy opiera się on na sieci czy na klasyfikatorze, uzyskuje bardzo dobre wyniki na poziomie 98-99% accuracy i 94-97% f1_score, co pozwala uznać go za użyteczny. "
      ]
    },
    {
      "cell_type": "markdown",
      "metadata": {
        "id": "dppY1fujDYh8"
      },
      "source": [
        "Ciekawostką jest, że sieć i klasyfikator pomimo zbliżonych ogólnych rezultatów, myliły się często w innych przypadkach, co wskazuje na różne mechanizmy klasyfikownia danych, aczkolwiek równie skuteczne."
      ]
    },
    {
      "cell_type": "markdown",
      "metadata": {
        "id": "eSAEzi-M8Bt2"
      },
      "source": [
        "Ponado, jak pokazała analiza przeprowadzona w niniejszym notatniku, wykorzystanie metody osadzeniowej słów tzw. word embedding dla sieci LSTM nie przyniosło żadnych dodatkowych korzyści dla klasyfikacji danych walidacyjnych. Sieć z embeddingami niepoprawnie klasyfikuje dokładnie te same komendy użytkowników co sieć bez embeddingów. Bardzo nieznaczną poprawę w skuteczności klasyfikacji dało sie jedynie dostrzec w przypadku walidacji na zbiorze testowym (97.06% vs 97,82%)."
      ]
    },
    {
      "cell_type": "code",
      "metadata": {
        "id": "1NT1RWEsD-e9"
      },
      "source": [
        ""
      ],
      "execution_count": 218,
      "outputs": []
    }
  ]
}