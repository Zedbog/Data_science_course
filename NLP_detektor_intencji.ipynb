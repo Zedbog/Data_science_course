{
  "nbformat": 4,
  "nbformat_minor": 0,
  "metadata": {
    "colab": {
      "name": "NLP_detektor_intencji.ipynb",
      "provenance": [],
      "collapsed_sections": [],
      "authorship_tag": "ABX9TyOHcVQsNRNCOQX4pFvfXJ8x",
      "include_colab_link": true
    },
    "kernelspec": {
      "name": "python3",
      "display_name": "Python 3"
    },
    "accelerator": "GPU"
  },
  "cells": [
    {
      "cell_type": "markdown",
      "metadata": {
        "id": "view-in-github",
        "colab_type": "text"
      },
      "source": [
        "<a href=\"https://colab.research.google.com/github/Zedbog/Data_science_course/blob/main/NLP_detektor_intencji.ipynb\" target=\"_parent\"><img src=\"https://colab.research.google.com/assets/colab-badge.svg\" alt=\"Open In Colab\"/></a>"
      ]
    },
    {
      "cell_type": "markdown",
      "metadata": {
        "id": "1ustqgTPaErI"
      },
      "source": [
        "Celem postawionego zadania jest detekcja intencji, czyli stworzenie modelu, który rozpozna, o co chodziło użytkownikowi przy formułowniu polecenia dla smartfonu, aby wykonał jakąś czynność np. uruchomił odtwarzacz muzyki, sprawdził pogodę lub zarezerwował miejsce w restauracji."
      ]
    },
    {
      "cell_type": "markdown",
      "metadata": {
        "id": "IKEF4qBiaie6"
      },
      "source": [
        "Do wytrenowania modelu posłużę się datasetem zawierającym polecenia użytkowników w postaci luźno rzuconych komend i labelów etykietujących czynności, które smartfon ma wykonać."
      ]
    },
    {
      "cell_type": "markdown",
      "metadata": {
        "id": "OZPt8gg4a9CC"
      },
      "source": [
        "Na początek wczytajmy datasety - treningowy i walidacyjny."
      ]
    },
    {
      "cell_type": "code",
      "metadata": {
        "id": "17wTmab7Z9CH"
      },
      "source": [
        "from google.colab import drive"
      ],
      "execution_count": 129,
      "outputs": []
    },
    {
      "cell_type": "code",
      "metadata": {
        "colab": {
          "base_uri": "https://localhost:8080/"
        },
        "id": "BMLRnS0ZbJgr",
        "outputId": "56e54ddf-2344-47fe-e3d0-5bbb014f3d88"
      },
      "source": [
        "drive.mount('/content/drive')"
      ],
      "execution_count": 130,
      "outputs": [
        {
          "output_type": "stream",
          "text": [
            "Drive already mounted at /content/drive; to attempt to forcibly remount, call drive.mount(\"/content/drive\", force_remount=True).\n"
          ],
          "name": "stdout"
        }
      ]
    },
    {
      "cell_type": "code",
      "metadata": {
        "id": "E62gwO01bkYT"
      },
      "source": [
        "import pandas as pd\n",
        "import numpy as np\n",
        "import matplotlib.pyplot as plt\n",
        "import seaborn as sns"
      ],
      "execution_count": 131,
      "outputs": []
    },
    {
      "cell_type": "code",
      "metadata": {
        "id": "u3TbbJbhbhzH"
      },
      "source": [
        "data_train = pd.read_csv('/content/drive/MyDrive/18_REKURENCYJNE_SIECI_NEURONOWE/train.csv')\n",
        "data_validation = pd.read_csv('/content/drive/MyDrive/18_REKURENCYJNE_SIECI_NEURONOWE/validation.csv')"
      ],
      "execution_count": 132,
      "outputs": []
    },
    {
      "cell_type": "code",
      "metadata": {
        "colab": {
          "base_uri": "https://localhost:8080/",
          "height": 206
        },
        "id": "aKiPNXNob1kc",
        "outputId": "7029cfd3-8731-4fad-f7b3-f30995b5a5e0"
      },
      "source": [
        "data_train.head()"
      ],
      "execution_count": 133,
      "outputs": [
        {
          "output_type": "execute_result",
          "data": {
            "text/html": [
              "<div>\n",
              "<style scoped>\n",
              "    .dataframe tbody tr th:only-of-type {\n",
              "        vertical-align: middle;\n",
              "    }\n",
              "\n",
              "    .dataframe tbody tr th {\n",
              "        vertical-align: top;\n",
              "    }\n",
              "\n",
              "    .dataframe thead th {\n",
              "        text-align: right;\n",
              "    }\n",
              "</style>\n",
              "<table border=\"1\" class=\"dataframe\">\n",
              "  <thead>\n",
              "    <tr style=\"text-align: right;\">\n",
              "      <th></th>\n",
              "      <th>text</th>\n",
              "      <th>label</th>\n",
              "    </tr>\n",
              "  </thead>\n",
              "  <tbody>\n",
              "    <tr>\n",
              "      <th>0</th>\n",
              "      <td>find a cinema nearest for films</td>\n",
              "      <td>SearchScreeningEvent</td>\n",
              "    </tr>\n",
              "    <tr>\n",
              "      <th>1</th>\n",
              "      <td>Give the current series two stars.</td>\n",
              "      <td>RateBook</td>\n",
              "    </tr>\n",
              "    <tr>\n",
              "      <th>2</th>\n",
              "      <td>find The Good Girl at a movie house\\n</td>\n",
              "      <td>SearchScreeningEvent</td>\n",
              "    </tr>\n",
              "    <tr>\n",
              "      <th>3</th>\n",
              "      <td>Please make reservations for three at a kosher...</td>\n",
              "      <td>BookRestaurant</td>\n",
              "    </tr>\n",
              "    <tr>\n",
              "      <th>4</th>\n",
              "      <td>what is the forecast for here one second from now</td>\n",
              "      <td>GetWeather</td>\n",
              "    </tr>\n",
              "  </tbody>\n",
              "</table>\n",
              "</div>"
            ],
            "text/plain": [
              "                                                text                 label\n",
              "0                    find a cinema nearest for films  SearchScreeningEvent\n",
              "1                 Give the current series two stars.              RateBook\n",
              "2              find The Good Girl at a movie house\\n  SearchScreeningEvent\n",
              "3  Please make reservations for three at a kosher...        BookRestaurant\n",
              "4  what is the forecast for here one second from now            GetWeather"
            ]
          },
          "metadata": {
            "tags": []
          },
          "execution_count": 133
        }
      ]
    },
    {
      "cell_type": "code",
      "metadata": {
        "colab": {
          "base_uri": "https://localhost:8080/",
          "height": 206
        },
        "id": "MSTR5YMab4uv",
        "outputId": "7fcf704d-d69f-46d5-f7ce-8289650a6810"
      },
      "source": [
        "data_validation.head()"
      ],
      "execution_count": 134,
      "outputs": [
        {
          "output_type": "execute_result",
          "data": {
            "text/html": [
              "<div>\n",
              "<style scoped>\n",
              "    .dataframe tbody tr th:only-of-type {\n",
              "        vertical-align: middle;\n",
              "    }\n",
              "\n",
              "    .dataframe tbody tr th {\n",
              "        vertical-align: top;\n",
              "    }\n",
              "\n",
              "    .dataframe thead th {\n",
              "        text-align: right;\n",
              "    }\n",
              "</style>\n",
              "<table border=\"1\" class=\"dataframe\">\n",
              "  <thead>\n",
              "    <tr style=\"text-align: right;\">\n",
              "      <th></th>\n",
              "      <th>text</th>\n",
              "      <th>label</th>\n",
              "    </tr>\n",
              "  </thead>\n",
              "  <tbody>\n",
              "    <tr>\n",
              "      <th>0</th>\n",
              "      <td>What movies are showing now at the closest cin...</td>\n",
              "      <td>SearchScreeningEvent</td>\n",
              "    </tr>\n",
              "    <tr>\n",
              "      <th>1</th>\n",
              "      <td>Open itunes and play Ben Burnley Ready To Die</td>\n",
              "      <td>PlayMusic</td>\n",
              "    </tr>\n",
              "    <tr>\n",
              "      <th>2</th>\n",
              "      <td>What is the rain forecast for one hour from no...</td>\n",
              "      <td>GetWeather</td>\n",
              "    </tr>\n",
              "    <tr>\n",
              "      <th>3</th>\n",
              "      <td>Add porter wagoner to the The Sleep Machine Wa...</td>\n",
              "      <td>AddToPlaylist</td>\n",
              "    </tr>\n",
              "    <tr>\n",
              "      <th>4</th>\n",
              "      <td>Check the timings for Snowbound at the closest...</td>\n",
              "      <td>SearchScreeningEvent</td>\n",
              "    </tr>\n",
              "  </tbody>\n",
              "</table>\n",
              "</div>"
            ],
            "text/plain": [
              "                                                text                 label\n",
              "0  What movies are showing now at the closest cin...  SearchScreeningEvent\n",
              "1      Open itunes and play Ben Burnley Ready To Die             PlayMusic\n",
              "2  What is the rain forecast for one hour from no...            GetWeather\n",
              "3  Add porter wagoner to the The Sleep Machine Wa...         AddToPlaylist\n",
              "4  Check the timings for Snowbound at the closest...  SearchScreeningEvent"
            ]
          },
          "metadata": {
            "tags": []
          },
          "execution_count": 134
        }
      ]
    },
    {
      "cell_type": "code",
      "metadata": {
        "colab": {
          "base_uri": "https://localhost:8080/"
        },
        "id": "RTxHAqyYb72n",
        "outputId": "bd4b55dd-dfa8-42e7-ac43-90da91c112f1"
      },
      "source": [
        "# Wyświetlenie setu czynności wykonywanych przez smartfon\n",
        "set(data_train['label'])"
      ],
      "execution_count": 135,
      "outputs": [
        {
          "output_type": "execute_result",
          "data": {
            "text/plain": [
              "{'AddToPlaylist',\n",
              " 'BookRestaurant',\n",
              " 'GetWeather',\n",
              " 'PlayMusic',\n",
              " 'RateBook',\n",
              " 'SearchCreativeWork',\n",
              " 'SearchScreeningEvent'}"
            ]
          },
          "metadata": {
            "tags": []
          },
          "execution_count": 135
        }
      ]
    },
    {
      "cell_type": "code",
      "metadata": {
        "colab": {
          "base_uri": "https://localhost:8080/",
          "height": 382
        },
        "id": "zPO1W-pMcSam",
        "outputId": "1c220675-95bf-45c0-8c11-60b0000ff489"
      },
      "source": [
        "# Weryfikacja liczebności poszczególnych czynności w treningowym datasecie\n",
        "barplot = sns.countplot(x='label', data=data_train)\n",
        "barplot.set_xticklabels(data_train['label'], rotation=90)\n",
        "# Pokaż wykres\n",
        "plt.show()"
      ],
      "execution_count": 136,
      "outputs": [
        {
          "output_type": "display_data",
          "data": {
            "image/png": "[encoded data removed]",
            "text/plain": [
              "<Figure size 432x288 with 1 Axes>"
            ]
          },
          "metadata": {
            "tags": [],
            "needs_background": "light"
          }
        }
      ]
    },
    {
      "cell_type": "markdown",
      "metadata": {
        "id": "dHzdloiVdDon"
      },
      "source": [
        "Zbiór czynności jest zbalansowany, co pozwala przystąpić do preprocessingu danych bez konieczności balansowania zbioru."
      ]
    },
    {
      "cell_type": "markdown",
      "metadata": {
        "id": "koPNF-LggSd4"
      },
      "source": [
        "# Preprocessing"
      ]
    },
    {
      "cell_type": "code",
      "metadata": {
        "colab": {
          "base_uri": "https://localhost:8080/"
        },
        "id": "a_vSFPtWdTF3",
        "outputId": "889a9ce2-1fa7-4b8c-a5c2-6df8b4e226e3"
      },
      "source": [
        "# Weryfikacja kilku losowych komend użytkowników\n",
        "data_train['text'].sample(10)"
      ],
      "execution_count": 137,
      "outputs": [
        {
          "output_type": "execute_result",
          "data": {
            "text/plain": [
              "9460     Let me know the movie times for films in the a...\n",
              "6747     Is it going to be freezing in Mahwah Missouri ...\n",
              "4631           Get me a highly rated restaurant in Nigeria\n",
              "9720     want to find the novel called Innocent Until C...\n",
              "10668    Rate the current textbook with 2 points out of 6.\n",
              "11134              is The Couch Trip at the nearest cinema\n",
              "2488            play the song Memories Are My Only Witness\n",
              "6351     show me the television show Operation Thunderbolt\n",
              "11793             rate this current essay 4 out of 6 stars\n",
              "3527                    Give the current essay 5 / 6 stars\n",
              "Name: text, dtype: object"
            ]
          },
          "metadata": {
            "tags": []
          },
          "execution_count": 137
        }
      ]
    },
    {
      "cell_type": "markdown",
      "metadata": {
        "id": "ZKWR4EtBgCYO"
      },
      "source": [
        "W celu \"oczyszczenia\" tekstu komend na podstawie kilku powyższych nasuwa się idea prepocessingu w postaci:\n",
        "\n",
        "1. usunięcia znaków interpunkcyjnych,\n",
        "2. usunięciu jendoliterowych tokenów np. 'a',\n",
        "3. usunięciu stopwordsów,\n",
        "4. lemantyzacji słów.\n"
      ]
    },
    {
      "cell_type": "markdown",
      "metadata": {
        "id": "Tx2rRWyningT"
      },
      "source": [
        "Przeprocesujmy cały tekst za pomocą jednej funkcji."
      ]
    },
    {
      "cell_type": "code",
      "metadata": {
        "colab": {
          "base_uri": "https://localhost:8080/"
        },
        "id": "e-uRxlN_jh9O",
        "outputId": "55adc113-642b-47df-fd35-ee08e01a592c"
      },
      "source": [
        "import re\n",
        "import nltk\n",
        "nltk.download('stopwords') # do usunięcia stopwordsów\n",
        "nltk.download('wordnet') # do lemantyzacji\n",
        "from nltk.corpus import stopwords"
      ],
      "execution_count": 138,
      "outputs": [
        {
          "output_type": "stream",
          "text": [
            "[nltk_data] Downloading package stopwords to /root/nltk_data...\n",
            "[nltk_data]   Package stopwords is already up-to-date!\n",
            "[nltk_data] Downloading package wordnet to /root/nltk_data...\n",
            "[nltk_data]   Package wordnet is already up-to-date!\n"
          ],
          "name": "stdout"
        }
      ]
    },
    {
      "cell_type": "code",
      "metadata": {
        "id": "ER-6AXTkgOa5"
      },
      "source": [
        "def utils_preprocess_text(text, flg_lemm=True, lst_stopwords=True):\n",
        "  # 1.usunięcie znaków interpunkcyjnych\n",
        "  text = re.sub(r'\\W',' ', text)\n",
        "\n",
        "  # 2.usunięcie jednoliterowych tokenów\n",
        "  text = re.sub(r'\\b[a-zA-Z]{1}\\b',' ', text)\n",
        "\n",
        "  # tokenizacja - konwersja z tekstu do listy słów\n",
        "  lst_text = text.split()\n",
        "\n",
        "  # 3.usunięcie stopwordsów\n",
        "  if lst_stopwords is not None:\n",
        "    lst_text = [word for word in lst_text if word not in lst_stopwords]\n",
        "\n",
        "  # 4.lemantyzacja\n",
        "  if flg_lemm == True:\n",
        "    lem = nltk.stem.wordnet.WordNetLemmatizer()\n",
        "    lst_text = [lem.lemmatize(word) for word in lst_text]\n",
        "  \n",
        "  # zwrócenie oczyszczonego tekstu\n",
        "  text = ' '.join(lst_text)\n",
        "  return text"
      ],
      "execution_count": 139,
      "outputs": []
    },
    {
      "cell_type": "code",
      "metadata": {
        "colab": {
          "base_uri": "https://localhost:8080/",
          "height": 258
        },
        "id": "AwGttOSDo9wg",
        "outputId": "cda4ceff-e0ef-4c53-b895-25d1fe99a0e8"
      },
      "source": [
        "# dodanie nowej kolumny do istniejącego data_train z oczyszczonymi komendami użytkowników\n",
        "data_train['text_clean'] = data_train['text'].apply(lambda x:\n",
        "                                                    utils_preprocess_text(\n",
        "                                                        x,\n",
        "                                                        flg_lemm=True,\n",
        "                                                        lst_stopwords=set(stopwords.words('english'))\n",
        "                                                    ))\n",
        "data_train.sample(5)"
      ],
      "execution_count": 140,
      "outputs": [
        {
          "output_type": "execute_result",
          "data": {
            "text/html": [
              "<div>\n",
              "<style scoped>\n",
              "    .dataframe tbody tr th:only-of-type {\n",
              "        vertical-align: middle;\n",
              "    }\n",
              "\n",
              "    .dataframe tbody tr th {\n",
              "        vertical-align: top;\n",
              "    }\n",
              "\n",
              "    .dataframe thead th {\n",
              "        text-align: right;\n",
              "    }\n",
              "</style>\n",
              "<table border=\"1\" class=\"dataframe\">\n",
              "  <thead>\n",
              "    <tr style=\"text-align: right;\">\n",
              "      <th></th>\n",
              "      <th>text</th>\n",
              "      <th>label</th>\n",
              "      <th>text_clean</th>\n",
              "    </tr>\n",
              "  </thead>\n",
              "  <tbody>\n",
              "    <tr>\n",
              "      <th>1422</th>\n",
              "      <td>add apathy to my electro sur playlist</td>\n",
              "      <td>AddToPlaylist</td>\n",
              "      <td>add apathy electro sur playlist</td>\n",
              "    </tr>\n",
              "    <tr>\n",
              "      <th>9959</th>\n",
              "      <td>Add an artist to my Hype list</td>\n",
              "      <td>AddToPlaylist</td>\n",
              "      <td>Add artist Hype list</td>\n",
              "    </tr>\n",
              "    <tr>\n",
              "      <th>4484</th>\n",
              "      <td>book a spot at a pub that has trottole for the...</td>\n",
              "      <td>BookRestaurant</td>\n",
              "      <td>book spot pub trottole meal</td>\n",
              "    </tr>\n",
              "    <tr>\n",
              "      <th>5281</th>\n",
              "      <td>Want a table at Monty’s Hotel, Secunderabad  i...</td>\n",
              "      <td>BookRestaurant</td>\n",
              "      <td>Want table Monty Hotel Secunderabad state Vermont</td>\n",
              "    </tr>\n",
              "    <tr>\n",
              "      <th>7554</th>\n",
              "      <td>Play 2012 symphony music by Nardwuar The Human...</td>\n",
              "      <td>PlayMusic</td>\n",
              "      <td>Play 2012 symphony music Nardwuar The Human Se...</td>\n",
              "    </tr>\n",
              "  </tbody>\n",
              "</table>\n",
              "</div>"
            ],
            "text/plain": [
              "                                                   text  ...                                         text_clean\n",
              "1422              add apathy to my electro sur playlist  ...                    add apathy electro sur playlist\n",
              "9959                      Add an artist to my Hype list  ...                               Add artist Hype list\n",
              "4484  book a spot at a pub that has trottole for the...  ...                        book spot pub trottole meal\n",
              "5281  Want a table at Monty’s Hotel, Secunderabad  i...  ...  Want table Monty Hotel Secunderabad state Vermont\n",
              "7554  Play 2012 symphony music by Nardwuar The Human...  ...  Play 2012 symphony music Nardwuar The Human Se...\n",
              "\n",
              "[5 rows x 3 columns]"
            ]
          },
          "metadata": {
            "tags": []
          },
          "execution_count": 140
        }
      ]
    },
    {
      "cell_type": "code",
      "metadata": {
        "colab": {
          "base_uri": "https://localhost:8080/"
        },
        "id": "kAJFl8bprp8O",
        "outputId": "471eafeb-1530-4a47-8645-d9dc3fcf46d4"
      },
      "source": [
        "data_train['text_clean'].sample(10)"
      ],
      "execution_count": 141,
      "outputs": [
        {
          "output_type": "execute_result",
          "data": {
            "text/plain": [
              "3162                          Play best music Klaus Badelt\n",
              "7499                                        Find App Store\n",
              "2261     For book The Flash Stop Motion give rating 5 p...\n",
              "1727                                    Rate album 5 point\n",
              "13338          Book restaurant marcella erma leanne rivera\n",
              "4104          Please show movie playing Amco Entertainment\n",
              "2121                               play music ballad sixty\n",
              "7751                 Please use Itunes play something 1986\n",
              "2091         What weather forecast 3 hour Christmas Island\n",
              "6535                       Add feel passion kudai playlist\n",
              "Name: text_clean, dtype: object"
            ]
          },
          "metadata": {
            "tags": []
          },
          "execution_count": 141
        }
      ]
    },
    {
      "cell_type": "markdown",
      "metadata": {
        "id": "dMTlkGY2sgLx"
      },
      "source": [
        "# Train_test_split"
      ]
    },
    {
      "cell_type": "markdown",
      "metadata": {
        "id": "NO4htIIfsmsb"
      },
      "source": [
        "Kiedy dane są już przeprocesowane zajmijmy się ich podziałem w zbiorze data_train na treningowe (80%) i testowe(20%), które posłużą nam jako wstępne walidacyjne przed puszczeniem modelu na ostatecznych danych walidacyjnych."
      ]
    },
    {
      "cell_type": "code",
      "metadata": {
        "id": "-ynSgfLAtLr6"
      },
      "source": [
        "from sklearn.model_selection import train_test_split"
      ],
      "execution_count": 142,
      "outputs": []
    },
    {
      "cell_type": "code",
      "metadata": {
        "colab": {
          "base_uri": "https://localhost:8080/"
        },
        "id": "Up4rCXqmt3zV",
        "outputId": "36b7c87f-2bdc-44bb-aa30-1672ae533395"
      },
      "source": [
        "data_train['label'].values"
      ],
      "execution_count": 143,
      "outputs": [
        {
          "output_type": "execute_result",
          "data": {
            "text/plain": [
              "array(['SearchScreeningEvent', 'RateBook', 'SearchScreeningEvent', ...,\n",
              "       'RateBook', 'AddToPlaylist', 'SearchScreeningEvent'], dtype=object)"
            ]
          },
          "metadata": {
            "tags": []
          },
          "execution_count": 143
        }
      ]
    },
    {
      "cell_type": "code",
      "metadata": {
        "id": "ru3R-cjWsljS"
      },
      "source": [
        "dtf_train, dtf_test = train_test_split(data_train, test_size=0.2, random_state=42)\n",
        "\n",
        "# wydzielenie y_train i y_test\n",
        "y_train = dtf_train['label'].values\n",
        "y_test = dtf_test['label'].values\n",
        "\n",
        "# wydzielenie X_test\n",
        "X_test = dtf_test['text_clean'].values"
      ],
      "execution_count": 144,
      "outputs": []
    },
    {
      "cell_type": "markdown",
      "metadata": {
        "id": "KW9eUDBnvFCE"
      },
      "source": [
        "W dalszej kolejności konieczna będzie zamiana tekstu na liczby, aby model mógł \"zrozumieć\" dane. "
      ]
    },
    {
      "cell_type": "markdown",
      "metadata": {
        "id": "0yLtF4XdvCG_"
      },
      "source": [
        "# TfIdfVectorizer i podejście z klasycznym klasyfikatorem"
      ]
    },
    {
      "cell_type": "markdown",
      "metadata": {
        "id": "FQbOJBj3vXU7"
      },
      "source": [
        "W pierwszej kolejności analizie poddamy przekształcenie korpusu oczyszczonych danych za pomocą TfIdfVectorizera w celu wydobycia słownika najczęstych słów i stowrzenia macierzy cech - złożonej ze słów \"kluczy\" w tekstach komend poprzez przypisanie im stosownej wagi. Słowa będące najistotniejsze będą miały najwyższe wagi."
      ]
    },
    {
      "cell_type": "code",
      "metadata": {
        "id": "BtY8m6FQuvVz"
      },
      "source": [
        "from sklearn.feature_extraction.text import TfidfVectorizer"
      ],
      "execution_count": 145,
      "outputs": []
    },
    {
      "cell_type": "code",
      "metadata": {
        "id": "ft268rQJwxmH"
      },
      "source": [
        "# stworzenie TfIdfVectorizera biorącego max 10000 najczęstszych słów ze wszystkich tekstów, zbudowanego z unigramów i bigramów\n",
        "vectorizer_tf_idf = TfidfVectorizer(max_features=10000, ngram_range=(1,2))"
      ],
      "execution_count": 146,
      "outputs": []
    },
    {
      "cell_type": "code",
      "metadata": {
        "id": "3b2R-FiwxvWm"
      },
      "source": [
        "X_train = vectorizer_tf_idf.fit_transform(dtf_train['text_clean'])"
      ],
      "execution_count": 147,
      "outputs": []
    },
    {
      "cell_type": "code",
      "metadata": {
        "colab": {
          "base_uri": "https://localhost:8080/"
        },
        "id": "xyUsnZ6QzrYu",
        "outputId": "e907ffbf-7e29-4f04-d3ce-1ee485c2d507"
      },
      "source": [
        "# sprawdzenie rozmiaru X_train\n",
        "X_train.shape"
      ],
      "execution_count": 148,
      "outputs": [
        {
          "output_type": "execute_result",
          "data": {
            "text/plain": [
              "(11027, 10000)"
            ]
          },
          "metadata": {
            "tags": []
          },
          "execution_count": 148
        }
      ]
    },
    {
      "cell_type": "markdown",
      "metadata": {
        "id": "G4-CscIMygJ5"
      },
      "source": [
        "W celu wyciągnięcia najbardziej istotnych cech (z dotychczas zdefiniowanych jako max_features=10000) wykonamy następujące operacje:\n",
        "\n",
        "\n",
        "1. potraktujemy każdą z kategorii jako binarną (np. 'RateBook' będzie 1 a pzoostałe 0),\n",
        "2. przeprowadzimy [Chi-Square](https://en.wikipedia.org/wiki/Chi-squared_test) test do oceny czy dana cecha i binarny target są niezależne,\n",
        "3. pozostawimy tylko cechy z określonym p-value z Chi-Square test.\n",
        "\n"
      ]
    },
    {
      "cell_type": "code",
      "metadata": {
        "id": "0M34ozQD1pag"
      },
      "source": [
        "from sklearn import feature_selection"
      ],
      "execution_count": 149,
      "outputs": []
    },
    {
      "cell_type": "code",
      "metadata": {
        "id": "ur60XJ6V1GEz"
      },
      "source": [
        "y = dtf_train['label']\n",
        "X_names = vectorizer_tf_idf.get_feature_names()\n",
        "p_value_limit = 0.95\n",
        "\n",
        "dtf_features = pd. DataFrame()\n",
        "for cat in np.unique(y):\n",
        "  chi2, p = feature_selection.chi2(X_train, y==cat)\n",
        "  dtf_features = dtf_features.append(pd.DataFrame(\n",
        "      {'feature': X_names, 'score': 1-p, 'y': cat}\n",
        "  ))\n",
        "  dtf_features = dtf_features.sort_values(['y', 'score'], ascending=[True, False])\n",
        "  dtf_features = dtf_features[dtf_features['score']>p_value_limit]\n",
        "X_names = dtf_features['feature'].unique().tolist()"
      ],
      "execution_count": 150,
      "outputs": []
    },
    {
      "cell_type": "code",
      "metadata": {
        "colab": {
          "base_uri": "https://localhost:8080/"
        },
        "id": "ngeQsNFo3kr-",
        "outputId": "4afe72c3-301b-439c-c063-f9569b1c24a5"
      },
      "source": [
        "# sprawdzenie zredukowanej liczby cech z 10000\n",
        "len(X_names)"
      ],
      "execution_count": 151,
      "outputs": [
        {
          "output_type": "execute_result",
          "data": {
            "text/plain": [
              "5947"
            ]
          },
          "metadata": {
            "tags": []
          },
          "execution_count": 151
        }
      ]
    },
    {
      "cell_type": "markdown",
      "metadata": {
        "id": "Idast9in3twe"
      },
      "source": [
        "Statystycznie 5947 cech zostało uznanych za wysoce znaczące."
      ]
    },
    {
      "cell_type": "markdown",
      "metadata": {
        "id": "btkmraU239lK"
      },
      "source": [
        "Wyświetlmy dla przykładu kilka z nich dla poszczególnych kategorii czynności:"
      ]
    },
    {
      "cell_type": "code",
      "metadata": {
        "colab": {
          "base_uri": "https://localhost:8080/"
        },
        "id": "qQ2t36p34Gzq",
        "outputId": "bc6a7bcf-c695-4b58-aa44-68ba5cab1d1a"
      },
      "source": [
        "for cat in np.unique(y): \n",
        "  print('# {}:'.format(cat))\n",
        "  print(' -> ilość wybranych cech:',\n",
        "        len(dtf_features[dtf_features['y']==cat]))\n",
        "  print(' -> najpopularniejsze cechy: ',', '.join(\n",
        "      dtf_features[dtf_features['y']==cat]['feature'].values[:10]\n",
        "  ))\n",
        "  print('  ')"
      ],
      "execution_count": 152,
      "outputs": [
        {
          "output_type": "stream",
          "text": [
            "# AddToPlaylist:\n",
            " -> ilość wybranych cech: 1590\n",
            " -> najpopularniejsze cechy:  add, add album, add artist, add song, add track, add tune, artist, chill, indie, list\n",
            "  \n",
            "# BookRestaurant:\n",
            " -> ilość wybranych cech: 1159\n",
            " -> najpopularniejsze cechy:  bar, book, book reservation, book restaurant, book spot, book table, brasserie, eat, food, highly\n",
            "  \n",
            "# GetWeather:\n",
            " -> ilość wybranych cech: 966\n",
            " -> najpopularniejsze cechy:  chillier, chilly, colder, forecast, freezing, going, hotter, how, is, is going\n",
            "  \n",
            "# PlayMusic:\n",
            " -> ilość wybranych cech: 867\n",
            " -> najpopularniejsze cechy:  ballad, can play, chant, deezer, ep, fifty, fourties, google, google music, groove\n",
            "  \n",
            "# RateBook:\n",
            " -> ilość wybranych cech: 669\n",
            " -> najpopularniejsze cechy:  best rating, chronicle, current, current album, current book, current essay, current novel, current textbook, deserves, essay\n",
            "  \n",
            "# SearchCreativeWork:\n",
            " -> ilość wybranych cech: 794\n",
            " -> najpopularniejsze cechy:  called, called the, can find, creative, creativity, find, find novel, find show, find the, find tv\n",
            "  \n",
            "# SearchScreeningEvent:\n",
            " -> ilość wybranych cech: 709\n",
            " -> najpopularniejsze cechy:  animated, animated movie, cinema, cinemas, closest, closest cinema, closest movie, corporation, film, film playing\n",
            "  \n"
          ],
          "name": "stdout"
        }
      ]
    },
    {
      "cell_type": "markdown",
      "metadata": {
        "id": "WHs-SwTc4oMY"
      },
      "source": [
        "Zrefitujmy TfIdfVectorizer do nowego zbioru istotnych cech w celu wyprodukowania mniejszej macierzy cech i krótszego słownika."
      ]
    },
    {
      "cell_type": "code",
      "metadata": {
        "id": "zDwfb9px44_V"
      },
      "source": [
        "vectorizer_tf_idf = TfidfVectorizer(vocabulary=X_names)\n",
        "\n",
        "X_train = vectorizer_tf_idf.fit_transform(dtf_train['text_clean'])"
      ],
      "execution_count": 153,
      "outputs": []
    },
    {
      "cell_type": "code",
      "metadata": {
        "colab": {
          "base_uri": "https://localhost:8080/"
        },
        "id": "usnzyG235hS5",
        "outputId": "2e73facb-88c6-47fc-ef5a-058f30636716"
      },
      "source": [
        "# sprawdzenie wilekości macierzy X_train\n",
        "X_train.shape"
      ],
      "execution_count": 154,
      "outputs": [
        {
          "output_type": "execute_result",
          "data": {
            "text/plain": [
              "(11027, 5947)"
            ]
          },
          "metadata": {
            "tags": []
          },
          "execution_count": 154
        }
      ]
    },
    {
      "cell_type": "markdown",
      "metadata": {
        "id": "CCBIZERS5vgw"
      },
      "source": [
        "Przystąpmy teraz do zbudowania modelu i jego wytrenowania w pipeline."
      ]
    },
    {
      "cell_type": "code",
      "metadata": {
        "id": "vcC6kIQ-5u_R"
      },
      "source": [
        "from sklearn.naive_bayes import MultinomialNB\n",
        "from sklearn.ensemble import RandomForestClassifier\n",
        "from sklearn.pipeline import Pipeline\n",
        "from sklearn.metrics import classification_report, accuracy_score, confusion_matrix, f1_score"
      ],
      "execution_count": 155,
      "outputs": []
    },
    {
      "cell_type": "markdown",
      "metadata": {
        "id": "6JXmuHhE6lXn"
      },
      "source": [
        "Zdefiniujmy rozpatrywane modele klasyfikatorów."
      ]
    },
    {
      "cell_type": "code",
      "metadata": {
        "id": "8KFA7HkG6fQs"
      },
      "source": [
        "mnb = MultinomialNB()\n",
        "rfc = RandomForestClassifier()"
      ],
      "execution_count": 156,
      "outputs": []
    },
    {
      "cell_type": "code",
      "metadata": {
        "id": "jcvntB8B67Zr"
      },
      "source": [
        "# pipeline\n",
        "model = Pipeline([('vectorizer', vectorizer_tf_idf),\n",
        "                  ('classifier', rfc)])\n",
        "\n",
        "# train classifier\n",
        "model['classifier'].fit(X_train, y_train)\n",
        "\n",
        "# test\n",
        "predicted = model.predict(X_test)\n",
        "predicted_prob = model.predict_proba(X_test)"
      ],
      "execution_count": 157,
      "outputs": []
    },
    {
      "cell_type": "markdown",
      "metadata": {
        "id": "wg8jdCcO8zdv"
      },
      "source": [
        "Spójrzmy na wyniki poniżej:"
      ]
    },
    {
      "cell_type": "code",
      "metadata": {
        "colab": {
          "base_uri": "https://localhost:8080/",
          "height": 711
        },
        "id": "1hT4-RIk8eyP",
        "outputId": "79c6318d-fde1-4292-ce9d-37c1361cea33"
      },
      "source": [
        "classes = np.unique(y_test)\n",
        "\n",
        "print('Accuracy:', round(accuracy_score(y_test, predicted),2))\n",
        "print('F1_score:', round(f1_score(y_test, predicted, average='weighted'),2))\n",
        "\n",
        "print(classification_report(y_test, predicted))\n",
        "# Plot confusion matrix\n",
        "cm = confusion_matrix(y_test, predicted)\n",
        "fig, ax = plt.subplots()\n",
        "sns.heatmap(cm, annot=True, fmt='d', ax=ax, cmap=plt.cm.Blues, cbar=False)\n",
        "ax.set(xlabel='Pred', ylabel='True', xticklabels=classes, yticklabels=classes, title='Confusion matrix')\n",
        "plt.yticks(rotation=0)\n",
        "plt.xticks(rotation=90)"
      ],
      "execution_count": 158,
      "outputs": [
        {
          "output_type": "stream",
          "text": [
            "Accuracy: 0.97\n",
            "F1_score: 0.98\n",
            "                      precision    recall  f1-score   support\n",
            "\n",
            "       AddToPlaylist       1.00      0.99      0.99       398\n",
            "      BookRestaurant       0.97      0.99      0.98       384\n",
            "          GetWeather       0.99      0.99      0.99       396\n",
            "           PlayMusic       0.99      0.98      0.98       405\n",
            "            RateBook       0.99      1.00      0.99       399\n",
            "  SearchCreativeWork       0.91      0.95      0.93       392\n",
            "SearchScreeningEvent       0.99      0.93      0.96       383\n",
            "\n",
            "            accuracy                           0.97      2757\n",
            "           macro avg       0.98      0.97      0.97      2757\n",
            "        weighted avg       0.98      0.97      0.98      2757\n",
            "\n"
          ],
          "name": "stdout"
        },
        {
          "output_type": "execute_result",
          "data": {
            "text/plain": [
              "(array([0.5, 1.5, 2.5, 3.5, 4.5, 5.5, 6.5]),\n",
              " <a list of 7 Text major ticklabel objects>)"
            ]
          },
          "metadata": {
            "tags": []
          },
          "execution_count": 158
        },
        {
          "output_type": "display_data",
          "data": {
            "image/png": "[encoded data removed]",
            "text/plain": [
              "<Figure size 432x288 with 1 Axes>"
            ]
          },
          "metadata": {
            "tags": [],
            "needs_background": "light"
          }
        }
      ]
    },
    {
      "cell_type": "markdown",
      "metadata": {
        "id": "ioM7vaxN_LIw"
      },
      "source": [
        "Wynik na poziomie 98% skuteczności i f1 na zbiorze testowym w danych treningowych uznaję za satysfakcjonujący."
      ]
    },
    {
      "cell_type": "markdown",
      "metadata": {
        "id": "iUdlFSkIFetf"
      },
      "source": [
        "Wyszukajmy jednak jeszcze możliwie najlepszych hiperparamterów modelu RandoForestClassifer za pomocą GridSearcha."
      ]
    },
    {
      "cell_type": "code",
      "metadata": {
        "id": "TZ-GVgbgGS_m"
      },
      "source": [
        "from sklearn.model_selection import GridSearchCV"
      ],
      "execution_count": 159,
      "outputs": []
    },
    {
      "cell_type": "code",
      "metadata": {
        "id": "FHG-pvAhFeUg"
      },
      "source": [
        "# params_forest = {\n",
        "#     # 'n_estimators': [100, 200, 500],\n",
        "#     'criterion': ['gini', 'entropy'],\n",
        "#     'max_depth': [3, 5, 7, 15],\n",
        "#     'min_samples_split': [2, 4, 6, 9],\n",
        "#     # 'min_samples_leaf': [2, 3, 4, 5],\n",
        "#     # 'max_features': ['auto', None]\n",
        "# }\n",
        "# clf = GridSearchCV(RandomForestClassifier(random_state=42), params_forest,scoring='f1_weighted',)\n",
        "# clf.fit(X_train, y_train)\n",
        "# clf.best_params_"
      ],
      "execution_count": 160,
      "outputs": []
    },
    {
      "cell_type": "markdown",
      "metadata": {
        "id": "cJtbJR5tHh6U"
      },
      "source": [
        "Dofitujmy do danych najlepiej sparametryzowany model."
      ]
    },
    {
      "cell_type": "code",
      "metadata": {
        "id": "sjy70j6OHeQw"
      },
      "source": [
        "# zdefiniowanie najlepszego modelu\n",
        "clf = RandomForestClassifier(criterion='entropy', max_depth=15, min_samples_split=2)"
      ],
      "execution_count": 161,
      "outputs": []
    },
    {
      "cell_type": "code",
      "metadata": {
        "id": "JwMBZkHLi_pJ"
      },
      "source": [
        "# pipeline\n",
        "model = Pipeline([('vectorizer', vectorizer_tf_idf),\n",
        "                  ('classifier', clf)])\n",
        "\n",
        "# train classifier\n",
        "model['classifier'].fit(X_train, y_train)\n",
        "\n",
        "# test\n",
        "predicted = model.predict(X_test)\n",
        "predicted_prob = model.predict_proba(X_test)"
      ],
      "execution_count": 162,
      "outputs": []
    },
    {
      "cell_type": "markdown",
      "metadata": {
        "id": "pukoujFlJYMo"
      },
      "source": [
        "i zobaczmy wyniki"
      ]
    },
    {
      "cell_type": "code",
      "metadata": {
        "id": "SS-uEzRBJcBj",
        "colab": {
          "base_uri": "https://localhost:8080/",
          "height": 711
        },
        "outputId": "f199ed22-ff89-42bf-f90b-dbe00056f11a"
      },
      "source": [
        "classes = np.unique(y_test)\n",
        "\n",
        "print('Accuracy:', round(accuracy_score(y_test, predicted),2))\n",
        "print('F1_score:', round(f1_score(y_test, predicted, average='weighted'),2))\n",
        "\n",
        "print(classification_report(y_test, predicted))\n",
        "# Plot confusion matrix\n",
        "cm = confusion_matrix(y_test, predicted)\n",
        "fig, ax = plt.subplots()\n",
        "sns.heatmap(cm, annot=True, fmt='d', ax=ax, cmap=plt.cm.Blues, cbar=False)\n",
        "ax.set(xlabel='Pred', ylabel='True', xticklabels=classes, yticklabels=classes, title='Confusion matrix')\n",
        "plt.yticks(rotation=0)\n",
        "plt.xticks(rotation=90)"
      ],
      "execution_count": 163,
      "outputs": [
        {
          "output_type": "stream",
          "text": [
            "Accuracy: 0.96\n",
            "F1_score: 0.96\n",
            "                      precision    recall  f1-score   support\n",
            "\n",
            "       AddToPlaylist       0.99      0.99      0.99       398\n",
            "      BookRestaurant       0.96      0.99      0.98       384\n",
            "          GetWeather       0.95      0.99      0.97       396\n",
            "           PlayMusic       0.96      0.98      0.97       405\n",
            "            RateBook       0.99      1.00      0.99       399\n",
            "  SearchCreativeWork       0.92      0.90      0.91       392\n",
            "SearchScreeningEvent       0.97      0.90      0.93       383\n",
            "\n",
            "            accuracy                           0.96      2757\n",
            "           macro avg       0.96      0.96      0.96      2757\n",
            "        weighted avg       0.96      0.96      0.96      2757\n",
            "\n"
          ],
          "name": "stdout"
        },
        {
          "output_type": "execute_result",
          "data": {
            "text/plain": [
              "(array([0.5, 1.5, 2.5, 3.5, 4.5, 5.5, 6.5]),\n",
              " <a list of 7 Text major ticklabel objects>)"
            ]
          },
          "metadata": {
            "tags": []
          },
          "execution_count": 163
        },
        {
          "output_type": "display_data",
          "data": {
            "image/png": "[encoded data removed]",
            "text/plain": [
              "<Figure size 432x288 with 1 Axes>"
            ]
          },
          "metadata": {
            "tags": [],
            "needs_background": "light"
          }
        }
      ]
    },
    {
      "cell_type": "markdown",
      "metadata": {
        "id": "YKQFrIB-jVYq"
      },
      "source": [
        "Jak widać z powyższych wyników, najlepsze wyniki uzyskujemy na domyślnych parametrach RandomForestClassifier."
      ]
    },
    {
      "cell_type": "markdown",
      "metadata": {
        "id": "1XE7c3Qa_Wew"
      },
      "source": [
        "Sprawdźmy, jak zachowa się model na danych walidacyjnych."
      ]
    },
    {
      "cell_type": "markdown",
      "metadata": {
        "id": "5dZ1EuAaEb4g"
      },
      "source": [
        "Przeprocesowaie danych walidacyjnych i dodanie nowej kolumny z oczyszczonym tekstem."
      ]
    },
    {
      "cell_type": "code",
      "metadata": {
        "colab": {
          "base_uri": "https://localhost:8080/",
          "height": 224
        },
        "id": "aRUyJ8Mr_dTw",
        "outputId": "39938ca4-bfed-4683-de85-51b44a1be708"
      },
      "source": [
        "# dodanie nowej kolumny do istniejącego data_validation z oczyszczonymi komendami użytkowników\n",
        "data_validation['text_clean'] = data_validation['text'].apply(lambda x:\n",
        "                                                    utils_preprocess_text(\n",
        "                                                        x,\n",
        "                                                        flg_lemm=True,\n",
        "                                                        lst_stopwords=set(stopwords.words('english'))\n",
        "                                                    ))\n",
        "data_validation.sample(5)"
      ],
      "execution_count": 164,
      "outputs": [
        {
          "output_type": "execute_result",
          "data": {
            "text/html": [
              "<div>\n",
              "<style scoped>\n",
              "    .dataframe tbody tr th:only-of-type {\n",
              "        vertical-align: middle;\n",
              "    }\n",
              "\n",
              "    .dataframe tbody tr th {\n",
              "        vertical-align: top;\n",
              "    }\n",
              "\n",
              "    .dataframe thead th {\n",
              "        text-align: right;\n",
              "    }\n",
              "</style>\n",
              "<table border=\"1\" class=\"dataframe\">\n",
              "  <thead>\n",
              "    <tr style=\"text-align: right;\">\n",
              "      <th></th>\n",
              "      <th>text</th>\n",
              "      <th>label</th>\n",
              "      <th>text_clean</th>\n",
              "    </tr>\n",
              "  </thead>\n",
              "  <tbody>\n",
              "    <tr>\n",
              "      <th>394</th>\n",
              "      <td>Give Joe Magarac and His USA Citizen Papers 5 ...</td>\n",
              "      <td>RateBook</td>\n",
              "      <td>Give Joe Magarac His USA Citizen Papers 5 point</td>\n",
              "    </tr>\n",
              "    <tr>\n",
              "      <th>564</th>\n",
              "      <td>Give one start to the current book</td>\n",
              "      <td>RateBook</td>\n",
              "      <td>Give one start current book</td>\n",
              "    </tr>\n",
              "    <tr>\n",
              "      <th>442</th>\n",
              "      <td>Add this artist to fairy tales playlist</td>\n",
              "      <td>AddToPlaylist</td>\n",
              "      <td>Add artist fairy tale playlist</td>\n",
              "    </tr>\n",
              "    <tr>\n",
              "      <th>46</th>\n",
              "      <td>Will it be colder in Virgin Islands National P...</td>\n",
              "      <td>GetWeather</td>\n",
              "      <td>Will colder Virgin Islands National Park</td>\n",
              "    </tr>\n",
              "    <tr>\n",
              "      <th>47</th>\n",
              "      <td>Play This Is: Miles Davis on Lastfm.</td>\n",
              "      <td>PlayMusic</td>\n",
              "      <td>Play This Is Miles Davis Lastfm</td>\n",
              "    </tr>\n",
              "  </tbody>\n",
              "</table>\n",
              "</div>"
            ],
            "text/plain": [
              "                                                  text  ...                                       text_clean\n",
              "394  Give Joe Magarac and His USA Citizen Papers 5 ...  ...  Give Joe Magarac His USA Citizen Papers 5 point\n",
              "564                 Give one start to the current book  ...                      Give one start current book\n",
              "442            Add this artist to fairy tales playlist  ...                   Add artist fairy tale playlist\n",
              "46   Will it be colder in Virgin Islands National P...  ...         Will colder Virgin Islands National Park\n",
              "47                Play This Is: Miles Davis on Lastfm.  ...                  Play This Is Miles Davis Lastfm\n",
              "\n",
              "[5 rows x 3 columns]"
            ]
          },
          "metadata": {
            "tags": []
          },
          "execution_count": 164
        }
      ]
    },
    {
      "cell_type": "code",
      "metadata": {
        "id": "4d2lcb4BEpTd"
      },
      "source": [
        "# wydzielenie X_val\n",
        "X_val = data_validation['text_clean'].values\n",
        "\n",
        "# wydzielenie y_val\n",
        "y_val = data_validation['label'].values"
      ],
      "execution_count": 165,
      "outputs": []
    },
    {
      "cell_type": "code",
      "metadata": {
        "id": "zoEVP_RTj5Qb"
      },
      "source": [
        "# walidacja zbioru testowego\n",
        "\n",
        "# pipeline\n",
        "model = Pipeline([('vectorizer', vectorizer_tf_idf),\n",
        "                  ('classifier', rfc)])\n",
        "\n",
        "# train classifier\n",
        "model['classifier'].fit(X_train, y_train)\n",
        "\n",
        "# test\n",
        "predicted_val = model.predict(X_val)\n",
        "predicted_prob_val = model.predict_proba(X_val)"
      ],
      "execution_count": 166,
      "outputs": []
    },
    {
      "cell_type": "code",
      "metadata": {
        "colab": {
          "base_uri": "https://localhost:8080/",
          "height": 711
        },
        "id": "ElydQW70FL5r",
        "outputId": "84723498-1598-4765-a516-af6f94f96cf2"
      },
      "source": [
        "classes = np.unique(y_val)\n",
        "\n",
        "print('Accuracy:', round(accuracy_score(y_val, predicted_val),2))\n",
        "print('F1_score:', round(f1_score(y_val, predicted_val, average='weighted'),2))\n",
        "\n",
        "print(classification_report(y_val, predicted_val))\n",
        "# Plot confusion matrix\n",
        "cm = confusion_matrix(y_val, predicted_val)\n",
        "fig, ax = plt.subplots()\n",
        "sns.heatmap(cm, annot=True, fmt='d', ax=ax, cmap=plt.cm.Blues, cbar=False)\n",
        "ax.set(xlabel='Pred', ylabel='True', xticklabels=classes, yticklabels=classes, title='Confusion matrix')\n",
        "plt.yticks(rotation=0)\n",
        "plt.xticks(rotation=90)"
      ],
      "execution_count": 167,
      "outputs": [
        {
          "output_type": "stream",
          "text": [
            "Accuracy: 0.98\n",
            "F1_score: 0.98\n",
            "                      precision    recall  f1-score   support\n",
            "\n",
            "       AddToPlaylist       0.98      1.00      0.99       100\n",
            "      BookRestaurant       0.99      1.00      1.00       100\n",
            "          GetWeather       1.00      0.98      0.99       100\n",
            "           PlayMusic       0.99      0.96      0.97       100\n",
            "            RateBook       1.00      1.00      1.00       100\n",
            "  SearchCreativeWork       0.92      0.97      0.95       100\n",
            "SearchScreeningEvent       0.97      0.94      0.95       100\n",
            "\n",
            "            accuracy                           0.98       700\n",
            "           macro avg       0.98      0.98      0.98       700\n",
            "        weighted avg       0.98      0.98      0.98       700\n",
            "\n"
          ],
          "name": "stdout"
        },
        {
          "output_type": "execute_result",
          "data": {
            "text/plain": [
              "(array([0.5, 1.5, 2.5, 3.5, 4.5, 5.5, 6.5]),\n",
              " <a list of 7 Text major ticklabel objects>)"
            ]
          },
          "metadata": {
            "tags": []
          },
          "execution_count": 167
        },
        {
          "output_type": "display_data",
          "data": {
            "image/png": "[encoded data removed]",
            "text/plain": [
              "<Figure size 432x288 with 1 Axes>"
            ]
          },
          "metadata": {
            "tags": [],
            "needs_background": "light"
          }
        }
      ]
    },
    {
      "cell_type": "markdown",
      "metadata": {
        "id": "es52uQdwoTDo"
      },
      "source": [
        "Wyszukajmy przykładowe indeksy przypadków, w których model się pomylił i oceńmy sami, jakbyśmy zakfalifikowali daną komendę użytkownika."
      ]
    },
    {
      "cell_type": "code",
      "metadata": {
        "colab": {
          "base_uri": "https://localhost:8080/"
        },
        "id": "8UGSePISlX0x",
        "outputId": "7428f7f9-3769-47b1-b6a5-011ae74e6058"
      },
      "source": [
        "indexes = []\n",
        "for i, phrase in enumerate(predicted_val):\n",
        "  if phrase == 'BookRestaurant':\n",
        "    if y_val[i] == 'SearchCreativeWork':\n",
        "      indexes.append(i)\n",
        "print(indexes)"
      ],
      "execution_count": 168,
      "outputs": [
        {
          "output_type": "stream",
          "text": [
            "[426]\n"
          ],
          "name": "stdout"
        }
      ]
    },
    {
      "cell_type": "code",
      "metadata": {
        "colab": {
          "base_uri": "https://localhost:8080/"
        },
        "id": "8Rq6qAwBojzy",
        "outputId": "4d992e99-9af3-403c-cf3f-d867a69b3ff5"
      },
      "source": [
        "# Tekst komendy użytkownika\n",
        "\n",
        "print(f'True category: {y_val[426]}')\n",
        "print(f'Predicted category: {predicted_val[426]}')\n",
        "print(f\"----------------------------\\nTekst komendy:\\n{data_validation['text'][426]}\")"
      ],
      "execution_count": 169,
      "outputs": [
        {
          "output_type": "stream",
          "text": [
            "True category: SearchCreativeWork\n",
            "Predicted category: BookRestaurant\n",
            "----------------------------\n",
            "Tekst komendy:\n",
            "Can you please get me the book Dracula 5: The Blood Legacy?\n"
          ],
          "name": "stdout"
        }
      ]
    },
    {
      "cell_type": "markdown",
      "metadata": {
        "id": "KLD42I98ppQb"
      },
      "source": [
        "Sprawdźmy jeszcze jedne przypadek:"
      ]
    },
    {
      "cell_type": "code",
      "metadata": {
        "colab": {
          "base_uri": "https://localhost:8080/"
        },
        "id": "AcaVYsO-po8l",
        "outputId": "11216d5a-d4af-444d-c0a0-4b2a86749679"
      },
      "source": [
        "indexes = []\n",
        "for i, phrase in enumerate(predicted_val):\n",
        "  if phrase == 'PlayMusic':\n",
        "    if y_val[i] == 'SearchCreativeWork':\n",
        "      indexes.append(i)\n",
        "print(indexes)"
      ],
      "execution_count": 170,
      "outputs": [
        {
          "output_type": "stream",
          "text": [
            "[288]\n"
          ],
          "name": "stdout"
        }
      ]
    },
    {
      "cell_type": "code",
      "metadata": {
        "colab": {
          "base_uri": "https://localhost:8080/"
        },
        "id": "rJIBhM3Lp2Lz",
        "outputId": "4dcb53a7-5ebf-47d3-cbda-70a4c0ee941b"
      },
      "source": [
        "# Tekst komendy użytkownika\n",
        "\n",
        "print(f'True category: {y_val[288]}')\n",
        "print(f'Predicted category: {predicted_val[288]}')\n",
        "print(f\"----------------------------\\nTekst komendy:\\n{data_validation['text'][288]}\")"
      ],
      "execution_count": 171,
      "outputs": [
        {
          "output_type": "stream",
          "text": [
            "True category: SearchCreativeWork\n",
            "Predicted category: PlayMusic\n",
            "----------------------------\n",
            "Tekst komendy:\n",
            "Am looking for a book with the title Free to Play\n"
          ],
          "name": "stdout"
        }
      ]
    },
    {
      "cell_type": "markdown",
      "metadata": {
        "id": "i4f-a68ypZSP"
      },
      "source": [
        "A Wy jakbyście zaklasyfikowali powyższe polecenia?"
      ]
    },
    {
      "cell_type": "markdown",
      "metadata": {
        "id": "PrCn9bNApfJb"
      },
      "source": [
        "--------------------------------------------------------------------------------"
      ]
    },
    {
      "cell_type": "markdown",
      "metadata": {
        "id": "TxKIpIgIJyVm"
      },
      "source": [
        "Sprawdźmy jeszcze jak skuteczne będą dla tego zadania sieci rekurencyjne RNN."
      ]
    },
    {
      "cell_type": "markdown",
      "metadata": {
        "id": "aLROoH3fJ8ur"
      },
      "source": [
        "# Tokenizer i sieci rekurencyjne RNN"
      ]
    },
    {
      "cell_type": "code",
      "metadata": {
        "id": "GyzsNsIUJ7gL"
      },
      "source": [
        "from keras.preprocessing.sequence import pad_sequences\n",
        "from keras.preprocessing.text import Tokenizer"
      ],
      "execution_count": 172,
      "outputs": []
    },
    {
      "cell_type": "markdown",
      "metadata": {
        "id": "8JIFuRI79rDB"
      },
      "source": [
        "Do wyuczenia sieci będziemy musieli podać dane w postaci liczb. Na początek zmapujmy nasze 'labele' na liczby:"
      ]
    },
    {
      "cell_type": "code",
      "metadata": {
        "colab": {
          "base_uri": "https://localhost:8080/"
        },
        "id": "tYUnEIKi94Sq",
        "outputId": "05b0027e-721d-4e0b-b6ce-33135c419628"
      },
      "source": [
        "# Wyświeltnie unikalnych wartości labeli\n",
        "np.unique(data_train['label'])"
      ],
      "execution_count": 173,
      "outputs": [
        {
          "output_type": "execute_result",
          "data": {
            "text/plain": [
              "array(['AddToPlaylist', 'BookRestaurant', 'GetWeather', 'PlayMusic',\n",
              "       'RateBook', 'SearchCreativeWork', 'SearchScreeningEvent'],\n",
              "      dtype=object)"
            ]
          },
          "metadata": {
            "tags": []
          },
          "execution_count": 173
        }
      ]
    },
    {
      "cell_type": "code",
      "metadata": {
        "id": "5GaxBalw9Ub1"
      },
      "source": [
        "# Mapowanie etykiet na liczby integer\n",
        "y = data_train['label'].map({'AddToPlaylist': 1, 'BookRestaurant': 2, 'GetWeather': 3, 'PlayMusic': 4, 'RateBook': 5, 'SearchCreativeWork': 6, 'SearchScreeningEvent': 7}).values"
      ],
      "execution_count": 174,
      "outputs": []
    },
    {
      "cell_type": "code",
      "metadata": {
        "colab": {
          "base_uri": "https://localhost:8080/"
        },
        "id": "teN_2BPrB1KF",
        "outputId": "89139cf3-6976-4c07-b9e6-e68406cad5cb"
      },
      "source": [
        "# Wyświeltenie unkalnych wartości etykiet\n",
        "np.unique(y)"
      ],
      "execution_count": 175,
      "outputs": [
        {
          "output_type": "execute_result",
          "data": {
            "text/plain": [
              "array([1, 2, 3, 4, 5, 6, 7])"
            ]
          },
          "metadata": {
            "tags": []
          },
          "execution_count": 175
        }
      ]
    },
    {
      "cell_type": "markdown",
      "metadata": {
        "id": "PBghKmT8HrRo"
      },
      "source": [
        "Zrzutowanie danych tekstowych do wektra słów."
      ]
    },
    {
      "cell_type": "code",
      "metadata": {
        "id": "R7O_qgCvHdsV"
      },
      "source": [
        "X = data_train['text_clean'].values"
      ],
      "execution_count": 176,
      "outputs": []
    },
    {
      "cell_type": "markdown",
      "metadata": {
        "id": "hIZyMSSIq8ra"
      },
      "source": [
        "Podzielmy raz jeszcze dane na treningowe i testowe w zbiorze treningowym."
      ]
    },
    {
      "cell_type": "code",
      "metadata": {
        "id": "Z9pJE7K4qLHC"
      },
      "source": [
        "X_train, X_test, y_train, y_test = train_test_split(X, y, test_size=0.2, random_state=42)"
      ],
      "execution_count": 177,
      "outputs": []
    },
    {
      "cell_type": "markdown",
      "metadata": {
        "id": "CRnvSFAYLB3B"
      },
      "source": [
        "Utwórzmy tokenizer, aby przypisać indeksy do poszczególnych słów w zbiorze X_train."
      ]
    },
    {
      "cell_type": "code",
      "metadata": {
        "id": "kgVrRloEKeGl"
      },
      "source": [
        "tokenizer = Tokenizer()\n",
        "tokenizer.fit_on_texts(X_train)"
      ],
      "execution_count": 178,
      "outputs": []
    },
    {
      "cell_type": "markdown",
      "metadata": {
        "id": "-9qucqY3MFDe"
      },
      "source": [
        "Przekształćmy dane treningowe X_train i testowe X_test na wektory indeksów."
      ]
    },
    {
      "cell_type": "code",
      "metadata": {
        "id": "twE-RZIjKwF5"
      },
      "source": [
        "X_train = tokenizer.texts_to_sequences(X_train)\n",
        "X_test = tokenizer.texts_to_sequences(X_test)"
      ],
      "execution_count": 179,
      "outputs": []
    },
    {
      "cell_type": "code",
      "metadata": {
        "colab": {
          "base_uri": "https://localhost:8080/"
        },
        "id": "4ygiKIINrTe_",
        "outputId": "343bba1e-f553-482a-fb63-c4440de387b4"
      },
      "source": [
        "# Sprawdzenie przykładowego X_test\n",
        "X_test[10]"
      ],
      "execution_count": 180,
      "outputs": [
        {
          "output_type": "execute_result",
          "data": {
            "text/plain": [
              "[14, 78, 49, 19]"
            ]
          },
          "metadata": {
            "tags": []
          },
          "execution_count": 180
        }
      ]
    },
    {
      "cell_type": "markdown",
      "metadata": {
        "id": "fh_1n6wBtSq_"
      },
      "source": [
        "Sprawdźmy max i średnią długość komendy tekstowej w celu określenia ile tokenów warto rozważać, a ile pominąć."
      ]
    },
    {
      "cell_type": "code",
      "metadata": {
        "colab": {
          "base_uri": "https://localhost:8080/"
        },
        "id": "LV8KGB96rpR5",
        "outputId": "89ddcc0f-c184-4140-893c-79698edf0940"
      },
      "source": [
        "size = []\n",
        "for i, k in enumerate(X_train):\n",
        "  size.append(len(k))\n",
        "print(f'Max X_train size: {max(size)}')\n",
        "print(f'AVG X_train_size: {round(np.mean(size), 2)}')"
      ],
      "execution_count": 181,
      "outputs": [
        {
          "output_type": "stream",
          "text": [
            "Max X_train size: 18\n",
            "AVG X_train_size: 5.83\n"
          ],
          "name": "stdout"
        }
      ]
    },
    {
      "cell_type": "markdown",
      "metadata": {
        "id": "7NJ66s_DMQdU"
      },
      "source": [
        "W związku z koniecznością zrównania długości inputowanych do sieci RNN tokenów przyjmiemy do dalszych rozważań 18 pierwszysch tokenów tj. w oparciu o najdłuższą komendę użytkowanika w zbiorze X_train. Mamy do dyspozycji GPU, więc taka ilość nie będzie kosztowna obliczeniowo.\n",
        "W komendach, gdzie występuje mniej tokenów, rozmiar komendy zostanie dostosowany do długości 18 tokenów za pomocą paddingu."
      ]
    },
    {
      "cell_type": "code",
      "metadata": {
        "id": "xhpel1PRK_mA"
      },
      "source": [
        "# bierzemy 18 pierwszych tokenów\n",
        "maxlen = 18\n",
        "vocab_size = len(tokenizer.word_index) + 1 # dadajemy 1 na specjalne tokeny\n",
        "\n",
        "X_train = pad_sequences(X_train, padding='post', truncating='post', maxlen=maxlen)\n",
        "X_test = pad_sequences(X_test, padding='post', truncating='post', maxlen=maxlen)"
      ],
      "execution_count": 182,
      "outputs": []
    },
    {
      "cell_type": "markdown",
      "metadata": {
        "id": "hGJCJiUiug6r"
      },
      "source": [
        "Wyświetlmy przykładową komendę użytkownika poddaną paddingowi:"
      ]
    },
    {
      "cell_type": "code",
      "metadata": {
        "colab": {
          "base_uri": "https://localhost:8080/"
        },
        "id": "i_g0Uxewub54",
        "outputId": "720d29b7-6f0c-470a-8e6f-01511b1a6f85"
      },
      "source": [
        "X_train[18]"
      ],
      "execution_count": 183,
      "outputs": [
        {
          "output_type": "execute_result",
          "data": {
            "text/plain": [
              "array([   1,   43, 3875,  816,    0,    0,    0,    0,    0,    0,    0,\n",
              "          0,    0,    0,    0,    0,    0,    0], dtype=int32)"
            ]
          },
          "metadata": {
            "tags": []
          },
          "execution_count": 183
        }
      ]
    },
    {
      "cell_type": "markdown",
      "metadata": {
        "id": "A1-gmzpVurKb"
      },
      "source": [
        "Jak widać na powyższym przykładzie komenda składająca się pierwotnie z 4 słów ~ tokenów została rozszerzona do długości 18. Początek komendy został zachowany."
      ]
    },
    {
      "cell_type": "markdown",
      "metadata": {
        "id": "6LEwWrMuvFV6"
      },
      "source": [
        "Przystąpmy do zbudowania sieci RNN."
      ]
    },
    {
      "cell_type": "code",
      "metadata": {
        "id": "VMz67Q3KMdv1"
      },
      "source": [
        "from keras.models import Sequential\n",
        "from keras.layers import Flatten, SimpleRNN, Dense, LSTM, GRU, Bidirectional\n",
        "from keras.layers.embeddings import Embedding\n",
        "from keras.callbacks import EarlyStopping"
      ],
      "execution_count": 184,
      "outputs": []
    },
    {
      "cell_type": "markdown",
      "metadata": {
        "id": "Vj15reImMtxo"
      },
      "source": [
        "Stwórzmy architekturę sieci rekurencyjnej z warstwą LSTM."
      ]
    },
    {
      "cell_type": "code",
      "metadata": {
        "id": "cROuy3lDMkVj",
        "colab": {
          "base_uri": "https://localhost:8080/"
        },
        "outputId": "82c06c03-898c-4413-a34c-2d090b8f2de6"
      },
      "source": [
        "model = Sequential()\n",
        "model.add(Embedding(vocab_size, 300, input_length=maxlen)) # wektory długości 300\n",
        "model.add(Bidirectional(LSTM(32, dropout=0.2, recurrent_dropout=0.3, return_sequences=False,kernel_initializer='he_uniform')))  # warstwa dwukierunkowa (złożona niejako z dwóch warstw; \n",
        "                                                                                                                                    # każda z dodatkowym dropoutem)\n",
        "model.add(Dense(256, activation='relu'))  # dodatkowa warstwa Dense\n",
        "model.add(Dense(maxlen, activation='softmax')) # ostatnia warstwa złożona z 7 kategorii\n",
        "model.compile(loss='sparse_categorical_crossentropy', optimizer='adam', metrics=['accuracy'])\n",
        "print(model.summary())"
      ],
      "execution_count": 215,
      "outputs": [
        {
          "output_type": "stream",
          "text": [
            "WARNING:tensorflow:Layer lstm_7 will not use cuDNN kernel since it doesn't meet the cuDNN kernel criteria. It will use generic GPU kernel as fallback when running on GPU\n",
            "WARNING:tensorflow:Layer lstm_7 will not use cuDNN kernel since it doesn't meet the cuDNN kernel criteria. It will use generic GPU kernel as fallback when running on GPU\n",
            "WARNING:tensorflow:Layer lstm_7 will not use cuDNN kernel since it doesn't meet the cuDNN kernel criteria. It will use generic GPU kernel as fallback when running on GPU\n",
            "Model: \"sequential_7\"\n",
            "_________________________________________________________________\n",
            "Layer (type)                 Output Shape              Param #   \n",
            "=================================================================\n",
            "embedding_7 (Embedding)      (None, 18, 300)           2950800   \n",
            "_________________________________________________________________\n",
            "bidirectional_7 (Bidirection (None, 64)                85248     \n",
            "_________________________________________________________________\n",
            "dense_14 (Dense)             (None, 256)               16640     \n",
            "_________________________________________________________________\n",
            "dense_15 (Dense)             (None, 18)                4626      \n",
            "=================================================================\n",
            "Total params: 3,057,314\n",
            "Trainable params: 3,057,314\n",
            "Non-trainable params: 0\n",
            "_________________________________________________________________\n",
            "None\n"
          ],
          "name": "stdout"
        }
      ]
    },
    {
      "cell_type": "code",
      "metadata": {
        "colab": {
          "base_uri": "https://localhost:8080/"
        },
        "id": "I4SN48GvFTtj",
        "outputId": "0d3ec868-c9df-40ef-b472-2f58d49f4c24"
      },
      "source": [
        "# Sprawdzenie rozmiaru zbiorów treningowego i testowego\n",
        "X_train.shape, y_train.shape, X_test.shape, y_test.shape"
      ],
      "execution_count": 186,
      "outputs": [
        {
          "output_type": "execute_result",
          "data": {
            "text/plain": [
              "((11027, 18), (11027,), (2757, 18), (2757,))"
            ]
          },
          "metadata": {
            "tags": []
          },
          "execution_count": 186
        }
      ]
    },
    {
      "cell_type": "code",
      "metadata": {
        "id": "9bpTDoEsMrug",
        "colab": {
          "base_uri": "https://localhost:8080/"
        },
        "outputId": "4ffdf311-2f8d-4656-afd5-264eb2abb900"
      },
      "source": [
        "history_lstm = model.fit(X_train, y_train, epochs=10, batch_size=64, validation_split=0.2, callbacks=EarlyStopping(monitor='val_loss', mode='min', verbose=1, patience=2))"
      ],
      "execution_count": 216,
      "outputs": [
        {
          "output_type": "stream",
          "text": [
            "Epoch 1/10\n",
            "138/138 [==============================] - 26s 159ms/step - loss: 1.6835 - accuracy: 0.4802 - val_loss: 0.0983 - val_accuracy: 0.9710\n",
            "Epoch 2/10\n",
            "138/138 [==============================] - 21s 155ms/step - loss: 0.0564 - accuracy: 0.9854 - val_loss: 0.0733 - val_accuracy: 0.9773\n",
            "Epoch 3/10\n",
            "138/138 [==============================] - 21s 155ms/step - loss: 0.0166 - accuracy: 0.9967 - val_loss: 0.0705 - val_accuracy: 0.9778\n",
            "Epoch 4/10\n",
            "138/138 [==============================] - 22s 157ms/step - loss: 0.0084 - accuracy: 0.9987 - val_loss: 0.0761 - val_accuracy: 0.9778\n",
            "Epoch 5/10\n",
            "138/138 [==============================] - 22s 156ms/step - loss: 0.0034 - accuracy: 0.9989 - val_loss: 0.0815 - val_accuracy: 0.9782\n",
            "Epoch 00005: early stopping\n"
          ],
          "name": "stdout"
        }
      ]
    },
    {
      "cell_type": "markdown",
      "metadata": {
        "id": "Pm1L84qxN-iH"
      },
      "source": [
        "Zwizualizujmy uczenie sieci za pomocą funkcji."
      ]
    },
    {
      "cell_type": "code",
      "metadata": {
        "id": "ToqChakMN9im"
      },
      "source": [
        "import plotly.graph_objects as go\n",
        "\n",
        "# wykres pokazujący  dokładność i funkcje starty\n",
        "def plot_hist(history):\n",
        "    hist = pd.DataFrame(history.history)\n",
        "    hist['epoch'] = history.epoch\n",
        " \n",
        "    fig = go.Figure()\n",
        "    fig.add_trace(go.Scatter(x=hist['epoch'], y=hist['accuracy'], name='accuracy', mode='markers+lines'))\n",
        "    fig.add_trace(go.Scatter(x=hist['epoch'], y=hist['val_accuracy'], name='val_accuracy', mode='markers+lines'))\n",
        "    fig.update_layout(width=1000, height=500, title='Accuracy vs. Val Accuracy', xaxis_title='Epoki', yaxis_title='Accuracy', yaxis_type='log')\n",
        "    fig.show()\n",
        " \n",
        "    fig = go.Figure()\n",
        "    fig.add_trace(go.Scatter(x=hist['epoch'], y=hist['loss'], name='loss', mode='markers+lines'))\n",
        "    fig.add_trace(go.Scatter(x=hist['epoch'], y=hist['val_loss'], name='val_loss', mode='markers+lines'))\n",
        "    fig.update_layout(width=1000, height=500, title='Loss vs. Val Loss', xaxis_title='Epoki', yaxis_title='Loss', yaxis_type='log')\n",
        "    fig.show()"
      ],
      "execution_count": 188,
      "outputs": []
    },
    {
      "cell_type": "code",
      "metadata": {
        "id": "EQZKNQ5QOHwp",
        "colab": {
          "base_uri": "https://localhost:8080/",
          "height": 1000
        },
        "outputId": "49259d45-6a88-40b6-d1a8-4d336a0f475b"
      },
      "source": [
        "plot_hist(history_lstm)"
      ],
      "execution_count": 189,
      "outputs": [
        {
          "output_type": "display_data",
          "data": {
            "text/html": [
              "<html>\n",
              "<head><meta charset=\"utf-8\" /></head>\n",
              "<body>\n",
              "    <div>\n",
              "            <script src=\"https://cdnjs.cloudflare.com/ajax/libs/mathjax/2.7.5/MathJax.js?config=TeX-AMS-MML_SVG\"></script><script type=\"text/javascript\">if (window.MathJax) {MathJax.Hub.Config({SVG: {font: \"STIX-Web\"}});}</script>\n",
              "                <script type=\"text/javascript\">window.PlotlyConfig = {MathJaxConfig: 'local'};</script>\n",
              "        <script src=\"https://cdn.plot.ly/plotly-latest.min.js\"></script>    \n",
              "            <div id=\"6ce0da0e-2de4-4ede-9b5f-d44b656235c3\" class=\"plotly-graph-div\" style=\"height:500px; width:1000px;\"></div>\n",
              "            <script type=\"text/javascript\">\n",
              "                \n",
              "                    window.PLOTLYENV=window.PLOTLYENV || {};\n",
              "                    \n",
              "                if (document.getElementById(\"6ce0da0e-2de4-4ede-9b5f-d44b656235c3\")) {\n",
              "                    Plotly.newPlot(\n",
              "                        '6ce0da0e-2de4-4ede-9b5f-d44b656235c3',\n",
              "                        [{\"mode\": \"markers+lines\", \"name\": \"accuracy\", \"type\": \"scatter\", \"x\": [0, 1, 2, 3, 4], \"y\": [0.7374447584152222, 0.9836753010749817, 0.995352029800415, 0.9982995390892029, 0.9992064237594604]}, {\"mode\": \"markers+lines\", \"name\": \"val_accuracy\", \"type\": \"scatter\", \"x\": [0, 1, 2, 3, 4], \"y\": [0.9700815677642822, 0.9728014469146729, 0.9755213260650635, 0.9732547402381897, 0.9709882140159607]}],\n",
              "                        {\"height\": 500, \"template\": {\"data\": {\"bar\": [{\"error_x\": {\"color\": \"#2a3f5f\"}, \"error_y\": {\"color\": \"#2a3f5f\"}, \"marker\": {\"line\": {\"color\": \"#E5ECF6\", \"width\": 0.5}}, \"type\": \"bar\"}], \"barpolar\": [{\"marker\": {\"line\": {\"color\": \"#E5ECF6\", \"width\": 0.5}}, \"type\": \"barpolar\"}], \"carpet\": [{\"aaxis\": {\"endlinecolor\": \"#2a3f5f\", \"gridcolor\": \"white\", \"linecolor\": \"white\", \"minorgridcolor\": \"white\", \"startlinecolor\": \"#2a3f5f\"}, \"baxis\": {\"endlinecolor\": \"#2a3f5f\", \"gridcolor\": \"white\", \"linecolor\": \"white\", \"minorgridcolor\": \"white\", \"startlinecolor\": \"#2a3f5f\"}, \"type\": \"carpet\"}], \"choropleth\": [{\"colorbar\": {\"outlinewidth\": 0, \"ticks\": \"\"}, \"type\": \"choropleth\"}], \"contour\": [{\"colorbar\": {\"outlinewidth\": 0, \"ticks\": \"\"}, \"colorscale\": [[0.0, \"#0d0887\"], [0.1111111111111111, \"#46039f\"], [0.2222222222222222, \"#7201a8\"], [0.3333333333333333, \"#9c179e\"], [0.4444444444444444, \"#bd3786\"], [0.5555555555555556, \"#d8576b\"], [0.6666666666666666, \"#ed7953\"], [0.7777777777777778, \"#fb9f3a\"], [0.8888888888888888, \"#fdca26\"], [1.0, \"#f0f921\"]], \"type\": \"contour\"}], \"contourcarpet\": [{\"colorbar\": {\"outlinewidth\": 0, \"ticks\": \"\"}, \"type\": \"contourcarpet\"}], \"heatmap\": [{\"colorbar\": {\"outlinewidth\": 0, \"ticks\": \"\"}, \"colorscale\": [[0.0, \"#0d0887\"], [0.1111111111111111, \"#46039f\"], [0.2222222222222222, \"#7201a8\"], [0.3333333333333333, \"#9c179e\"], [0.4444444444444444, \"#bd3786\"], [0.5555555555555556, \"#d8576b\"], [0.6666666666666666, \"#ed7953\"], [0.7777777777777778, \"#fb9f3a\"], [0.8888888888888888, \"#fdca26\"], [1.0, \"#f0f921\"]], \"type\": \"heatmap\"}], \"heatmapgl\": [{\"colorbar\": {\"outlinewidth\": 0, \"ticks\": \"\"}, \"colorscale\": [[0.0, \"#0d0887\"], [0.1111111111111111, \"#46039f\"], [0.2222222222222222, \"#7201a8\"], [0.3333333333333333, \"#9c179e\"], [0.4444444444444444, \"#bd3786\"], [0.5555555555555556, \"#d8576b\"], [0.6666666666666666, \"#ed7953\"], [0.7777777777777778, \"#fb9f3a\"], [0.8888888888888888, \"#fdca26\"], [1.0, \"#f0f921\"]], \"type\": \"heatmapgl\"}], \"histogram\": [{\"marker\": {\"colorbar\": {\"outlinewidth\": 0, \"ticks\": \"\"}}, \"type\": \"histogram\"}], \"histogram2d\": [{\"colorbar\": {\"outlinewidth\": 0, \"ticks\": \"\"}, \"colorscale\": [[0.0, \"#0d0887\"], [0.1111111111111111, \"#46039f\"], [0.2222222222222222, \"#7201a8\"], [0.3333333333333333, \"#9c179e\"], [0.4444444444444444, \"#bd3786\"], [0.5555555555555556, \"#d8576b\"], [0.6666666666666666, \"#ed7953\"], [0.7777777777777778, \"#fb9f3a\"], [0.8888888888888888, \"#fdca26\"], [1.0, \"#f0f921\"]], \"type\": \"histogram2d\"}], \"histogram2dcontour\": [{\"colorbar\": {\"outlinewidth\": 0, \"ticks\": \"\"}, \"colorscale\": [[0.0, \"#0d0887\"], [0.1111111111111111, \"#46039f\"], [0.2222222222222222, \"#7201a8\"], [0.3333333333333333, \"#9c179e\"], [0.4444444444444444, \"#bd3786\"], [0.5555555555555556, \"#d8576b\"], [0.6666666666666666, \"#ed7953\"], [0.7777777777777778, \"#fb9f3a\"], [0.8888888888888888, \"#fdca26\"], [1.0, \"#f0f921\"]], \"type\": \"histogram2dcontour\"}], \"mesh3d\": [{\"colorbar\": {\"outlinewidth\": 0, \"ticks\": \"\"}, \"type\": \"mesh3d\"}], \"parcoords\": [{\"line\": {\"colorbar\": {\"outlinewidth\": 0, \"ticks\": \"\"}}, \"type\": \"parcoords\"}], \"pie\": [{\"automargin\": true, \"type\": \"pie\"}], \"scatter\": [{\"marker\": {\"colorbar\": {\"outlinewidth\": 0, \"ticks\": \"\"}}, \"type\": \"scatter\"}], \"scatter3d\": [{\"line\": {\"colorbar\": {\"outlinewidth\": 0, \"ticks\": \"\"}}, \"marker\": {\"colorbar\": {\"outlinewidth\": 0, \"ticks\": \"\"}}, \"type\": \"scatter3d\"}], \"scattercarpet\": [{\"marker\": {\"colorbar\": {\"outlinewidth\": 0, \"ticks\": \"\"}}, \"type\": \"scattercarpet\"}], \"scattergeo\": [{\"marker\": {\"colorbar\": {\"outlinewidth\": 0, \"ticks\": \"\"}}, \"type\": \"scattergeo\"}], \"scattergl\": [{\"marker\": {\"colorbar\": {\"outlinewidth\": 0, \"ticks\": \"\"}}, \"type\": \"scattergl\"}], \"scattermapbox\": [{\"marker\": {\"colorbar\": {\"outlinewidth\": 0, \"ticks\": \"\"}}, \"type\": \"scattermapbox\"}], \"scatterpolar\": [{\"marker\": {\"colorbar\": {\"outlinewidth\": 0, \"ticks\": \"\"}}, \"type\": \"scatterpolar\"}], \"scatterpolargl\": [{\"marker\": {\"colorbar\": {\"outlinewidth\": 0, \"ticks\": \"\"}}, \"type\": \"scatterpolargl\"}], \"scatterternary\": [{\"marker\": {\"colorbar\": {\"outlinewidth\": 0, \"ticks\": \"\"}}, \"type\": \"scatterternary\"}], \"surface\": [{\"colorbar\": {\"outlinewidth\": 0, \"ticks\": \"\"}, \"colorscale\": [[0.0, \"#0d0887\"], [0.1111111111111111, \"#46039f\"], [0.2222222222222222, \"#7201a8\"], [0.3333333333333333, \"#9c179e\"], [0.4444444444444444, \"#bd3786\"], [0.5555555555555556, \"#d8576b\"], [0.6666666666666666, \"#ed7953\"], [0.7777777777777778, \"#fb9f3a\"], [0.8888888888888888, \"#fdca26\"], [1.0, \"#f0f921\"]], \"type\": \"surface\"}], \"table\": [{\"cells\": {\"fill\": {\"color\": \"#EBF0F8\"}, \"line\": {\"color\": \"white\"}}, \"header\": {\"fill\": {\"color\": \"#C8D4E3\"}, \"line\": {\"color\": \"white\"}}, \"type\": \"table\"}]}, \"layout\": {\"annotationdefaults\": {\"arrowcolor\": \"#2a3f5f\", \"arrowhead\": 0, \"arrowwidth\": 1}, \"coloraxis\": {\"colorbar\": {\"outlinewidth\": 0, \"ticks\": \"\"}}, \"colorscale\": {\"diverging\": [[0, \"#8e0152\"], [0.1, \"#c51b7d\"], [0.2, \"#de77ae\"], [0.3, \"#f1b6da\"], [0.4, \"#fde0ef\"], [0.5, \"#f7f7f7\"], [0.6, \"#e6f5d0\"], [0.7, \"#b8e186\"], [0.8, \"#7fbc41\"], [0.9, \"#4d9221\"], [1, \"#276419\"]], \"sequential\": [[0.0, \"#0d0887\"], [0.1111111111111111, \"#46039f\"], [0.2222222222222222, \"#7201a8\"], [0.3333333333333333, \"#9c179e\"], [0.4444444444444444, \"#bd3786\"], [0.5555555555555556, \"#d8576b\"], [0.6666666666666666, \"#ed7953\"], [0.7777777777777778, \"#fb9f3a\"], [0.8888888888888888, \"#fdca26\"], [1.0, \"#f0f921\"]], \"sequentialminus\": [[0.0, \"#0d0887\"], [0.1111111111111111, \"#46039f\"], [0.2222222222222222, \"#7201a8\"], [0.3333333333333333, \"#9c179e\"], [0.4444444444444444, \"#bd3786\"], [0.5555555555555556, \"#d8576b\"], [0.6666666666666666, \"#ed7953\"], [0.7777777777777778, \"#fb9f3a\"], [0.8888888888888888, \"#fdca26\"], [1.0, \"#f0f921\"]]}, \"colorway\": [\"#636efa\", \"#EF553B\", \"#00cc96\", \"#ab63fa\", \"#FFA15A\", \"#19d3f3\", \"#FF6692\", \"#B6E880\", \"#FF97FF\", \"#FECB52\"], \"font\": {\"color\": \"#2a3f5f\"}, \"geo\": {\"bgcolor\": \"white\", \"lakecolor\": \"white\", \"landcolor\": \"#E5ECF6\", \"showlakes\": true, \"showland\": true, \"subunitcolor\": \"white\"}, \"hoverlabel\": {\"align\": \"left\"}, \"hovermode\": \"closest\", \"mapbox\": {\"style\": \"light\"}, \"paper_bgcolor\": \"white\", \"plot_bgcolor\": \"#E5ECF6\", \"polar\": {\"angularaxis\": {\"gridcolor\": \"white\", \"linecolor\": \"white\", \"ticks\": \"\"}, \"bgcolor\": \"#E5ECF6\", \"radialaxis\": {\"gridcolor\": \"white\", \"linecolor\": \"white\", \"ticks\": \"\"}}, \"scene\": {\"xaxis\": {\"backgroundcolor\": \"#E5ECF6\", \"gridcolor\": \"white\", \"gridwidth\": 2, \"linecolor\": \"white\", \"showbackground\": true, \"ticks\": \"\", \"zerolinecolor\": \"white\"}, \"yaxis\": {\"backgroundcolor\": \"#E5ECF6\", \"gridcolor\": \"white\", \"gridwidth\": 2, \"linecolor\": \"white\", \"showbackground\": true, \"ticks\": \"\", \"zerolinecolor\": \"white\"}, \"zaxis\": {\"backgroundcolor\": \"#E5ECF6\", \"gridcolor\": \"white\", \"gridwidth\": 2, \"linecolor\": \"white\", \"showbackground\": true, \"ticks\": \"\", \"zerolinecolor\": \"white\"}}, \"shapedefaults\": {\"line\": {\"color\": \"#2a3f5f\"}}, \"ternary\": {\"aaxis\": {\"gridcolor\": \"white\", \"linecolor\": \"white\", \"ticks\": \"\"}, \"baxis\": {\"gridcolor\": \"white\", \"linecolor\": \"white\", \"ticks\": \"\"}, \"bgcolor\": \"#E5ECF6\", \"caxis\": {\"gridcolor\": \"white\", \"linecolor\": \"white\", \"ticks\": \"\"}}, \"title\": {\"x\": 0.05}, \"xaxis\": {\"automargin\": true, \"gridcolor\": \"white\", \"linecolor\": \"white\", \"ticks\": \"\", \"title\": {\"standoff\": 15}, \"zerolinecolor\": \"white\", \"zerolinewidth\": 2}, \"yaxis\": {\"automargin\": true, \"gridcolor\": \"white\", \"linecolor\": \"white\", \"ticks\": \"\", \"title\": {\"standoff\": 15}, \"zerolinecolor\": \"white\", \"zerolinewidth\": 2}}}, \"title\": {\"text\": \"Accuracy vs. Val Accuracy\"}, \"width\": 1000, \"xaxis\": {\"title\": {\"text\": \"Epoki\"}}, \"yaxis\": {\"title\": {\"text\": \"Accuracy\"}, \"type\": \"log\"}},\n",
              "                        {\"responsive\": true}\n",
              "                    ).then(function(){\n",
              "                            \n",
              "var gd = document.getElementById('6ce0da0e-2de4-4ede-9b5f-d44b656235c3');\n",
              "var x = new MutationObserver(function (mutations, observer) {{\n",
              "        var display = window.getComputedStyle(gd).display;\n",
              "        if (!display || display === 'none') {{\n",
              "            console.log([gd, 'removed!']);\n",
              "            Plotly.purge(gd);\n",
              "            observer.disconnect();\n",
              "        }}\n",
              "}});\n",
              "\n",
              "// Listen for the removal of the full notebook cells\n",
              "var notebookContainer = gd.closest('#notebook-container');\n",
              "if (notebookContainer) {{\n",
              "    x.observe(notebookContainer, {childList: true});\n",
              "}}\n",
              "\n",
              "// Listen for the clearing of the current output cell\n",
              "var outputEl = gd.closest('.output');\n",
              "if (outputEl) {{\n",
              "    x.observe(outputEl, {childList: true});\n",
              "}}\n",
              "\n",
              "                        })\n",
              "                };\n",
              "                \n",
              "            </script>\n",
              "        </div>\n",
              "</body>\n",
              "</html>"
            ]
          },
          "metadata": {
            "tags": []
          }
        },
        {
          "output_type": "display_data",
          "data": {
            "text/html": [
              "<html>\n",
              "<head><meta charset=\"utf-8\" /></head>\n",
              "<body>\n",
              "    <div>\n",
              "            <script src=\"https://cdnjs.cloudflare.com/ajax/libs/mathjax/2.7.5/MathJax.js?config=TeX-AMS-MML_SVG\"></script><script type=\"text/javascript\">if (window.MathJax) {MathJax.Hub.Config({SVG: {font: \"STIX-Web\"}});}</script>\n",
              "                <script type=\"text/javascript\">window.PlotlyConfig = {MathJaxConfig: 'local'};</script>\n",
              "        <script src=\"https://cdn.plot.ly/plotly-latest.min.js\"></script>    \n",
              "            <div id=\"82e99282-da0a-4cc4-b24c-5bcb984235e1\" class=\"plotly-graph-div\" style=\"height:500px; width:1000px;\"></div>\n",
              "            <script type=\"text/javascript\">\n",
              "                \n",
              "                    window.PLOTLYENV=window.PLOTLYENV || {};\n",
              "                    \n",
              "                if (document.getElementById(\"82e99282-da0a-4cc4-b24c-5bcb984235e1\")) {\n",
              "                    Plotly.newPlot(\n",
              "                        '82e99282-da0a-4cc4-b24c-5bcb984235e1',\n",
              "                        [{\"mode\": \"markers+lines\", \"name\": \"loss\", \"type\": \"scatter\", \"x\": [0, 1, 2, 3, 4], \"y\": [0.9112333655357361, 0.053977105766534805, 0.016899647191166878, 0.007239651400595903, 0.003203030675649643]}, {\"mode\": \"markers+lines\", \"name\": \"val_loss\", \"type\": \"scatter\", \"x\": [0, 1, 2, 3, 4], \"y\": [0.11268012225627899, 0.09492712467908859, 0.0823807343840599, 0.0862613394856453, 0.09262143075466156]}],\n",
              "                        {\"height\": 500, \"template\": {\"data\": {\"bar\": [{\"error_x\": {\"color\": \"#2a3f5f\"}, \"error_y\": {\"color\": \"#2a3f5f\"}, \"marker\": {\"line\": {\"color\": \"#E5ECF6\", \"width\": 0.5}}, \"type\": \"bar\"}], \"barpolar\": [{\"marker\": {\"line\": {\"color\": \"#E5ECF6\", \"width\": 0.5}}, \"type\": \"barpolar\"}], \"carpet\": [{\"aaxis\": {\"endlinecolor\": \"#2a3f5f\", \"gridcolor\": \"white\", \"linecolor\": \"white\", \"minorgridcolor\": \"white\", \"startlinecolor\": \"#2a3f5f\"}, \"baxis\": {\"endlinecolor\": \"#2a3f5f\", \"gridcolor\": \"white\", \"linecolor\": \"white\", \"minorgridcolor\": \"white\", \"startlinecolor\": \"#2a3f5f\"}, \"type\": \"carpet\"}], \"choropleth\": [{\"colorbar\": {\"outlinewidth\": 0, \"ticks\": \"\"}, \"type\": \"choropleth\"}], \"contour\": [{\"colorbar\": {\"outlinewidth\": 0, \"ticks\": \"\"}, \"colorscale\": [[0.0, \"#0d0887\"], [0.1111111111111111, \"#46039f\"], [0.2222222222222222, \"#7201a8\"], [0.3333333333333333, \"#9c179e\"], [0.4444444444444444, \"#bd3786\"], [0.5555555555555556, \"#d8576b\"], [0.6666666666666666, \"#ed7953\"], [0.7777777777777778, \"#fb9f3a\"], [0.8888888888888888, \"#fdca26\"], [1.0, \"#f0f921\"]], \"type\": \"contour\"}], \"contourcarpet\": [{\"colorbar\": {\"outlinewidth\": 0, \"ticks\": \"\"}, \"type\": \"contourcarpet\"}], \"heatmap\": [{\"colorbar\": {\"outlinewidth\": 0, \"ticks\": \"\"}, \"colorscale\": [[0.0, \"#0d0887\"], [0.1111111111111111, \"#46039f\"], [0.2222222222222222, \"#7201a8\"], [0.3333333333333333, \"#9c179e\"], [0.4444444444444444, \"#bd3786\"], [0.5555555555555556, \"#d8576b\"], [0.6666666666666666, \"#ed7953\"], [0.7777777777777778, \"#fb9f3a\"], [0.8888888888888888, \"#fdca26\"], [1.0, \"#f0f921\"]], \"type\": \"heatmap\"}], \"heatmapgl\": [{\"colorbar\": {\"outlinewidth\": 0, \"ticks\": \"\"}, \"colorscale\": [[0.0, \"#0d0887\"], [0.1111111111111111, \"#46039f\"], [0.2222222222222222, \"#7201a8\"], [0.3333333333333333, \"#9c179e\"], [0.4444444444444444, \"#bd3786\"], [0.5555555555555556, \"#d8576b\"], [0.6666666666666666, \"#ed7953\"], [0.7777777777777778, \"#fb9f3a\"], [0.8888888888888888, \"#fdca26\"], [1.0, \"#f0f921\"]], \"type\": \"heatmapgl\"}], \"histogram\": [{\"marker\": {\"colorbar\": {\"outlinewidth\": 0, \"ticks\": \"\"}}, \"type\": \"histogram\"}], \"histogram2d\": [{\"colorbar\": {\"outlinewidth\": 0, \"ticks\": \"\"}, \"colorscale\": [[0.0, \"#0d0887\"], [0.1111111111111111, \"#46039f\"], [0.2222222222222222, \"#7201a8\"], [0.3333333333333333, \"#9c179e\"], [0.4444444444444444, \"#bd3786\"], [0.5555555555555556, \"#d8576b\"], [0.6666666666666666, \"#ed7953\"], [0.7777777777777778, \"#fb9f3a\"], [0.8888888888888888, \"#fdca26\"], [1.0, \"#f0f921\"]], \"type\": \"histogram2d\"}], \"histogram2dcontour\": [{\"colorbar\": {\"outlinewidth\": 0, \"ticks\": \"\"}, \"colorscale\": [[0.0, \"#0d0887\"], [0.1111111111111111, \"#46039f\"], [0.2222222222222222, \"#7201a8\"], [0.3333333333333333, \"#9c179e\"], [0.4444444444444444, \"#bd3786\"], [0.5555555555555556, \"#d8576b\"], [0.6666666666666666, \"#ed7953\"], [0.7777777777777778, \"#fb9f3a\"], [0.8888888888888888, \"#fdca26\"], [1.0, \"#f0f921\"]], \"type\": \"histogram2dcontour\"}], \"mesh3d\": [{\"colorbar\": {\"outlinewidth\": 0, \"ticks\": \"\"}, \"type\": \"mesh3d\"}], \"parcoords\": [{\"line\": {\"colorbar\": {\"outlinewidth\": 0, \"ticks\": \"\"}}, \"type\": \"parcoords\"}], \"pie\": [{\"automargin\": true, \"type\": \"pie\"}], \"scatter\": [{\"marker\": {\"colorbar\": {\"outlinewidth\": 0, \"ticks\": \"\"}}, \"type\": \"scatter\"}], \"scatter3d\": [{\"line\": {\"colorbar\": {\"outlinewidth\": 0, \"ticks\": \"\"}}, \"marker\": {\"colorbar\": {\"outlinewidth\": 0, \"ticks\": \"\"}}, \"type\": \"scatter3d\"}], \"scattercarpet\": [{\"marker\": {\"colorbar\": {\"outlinewidth\": 0, \"ticks\": \"\"}}, \"type\": \"scattercarpet\"}], \"scattergeo\": [{\"marker\": {\"colorbar\": {\"outlinewidth\": 0, \"ticks\": \"\"}}, \"type\": \"scattergeo\"}], \"scattergl\": [{\"marker\": {\"colorbar\": {\"outlinewidth\": 0, \"ticks\": \"\"}}, \"type\": \"scattergl\"}], \"scattermapbox\": [{\"marker\": {\"colorbar\": {\"outlinewidth\": 0, \"ticks\": \"\"}}, \"type\": \"scattermapbox\"}], \"scatterpolar\": [{\"marker\": {\"colorbar\": {\"outlinewidth\": 0, \"ticks\": \"\"}}, \"type\": \"scatterpolar\"}], \"scatterpolargl\": [{\"marker\": {\"colorbar\": {\"outlinewidth\": 0, \"ticks\": \"\"}}, \"type\": \"scatterpolargl\"}], \"scatterternary\": [{\"marker\": {\"colorbar\": {\"outlinewidth\": 0, \"ticks\": \"\"}}, \"type\": \"scatterternary\"}], \"surface\": [{\"colorbar\": {\"outlinewidth\": 0, \"ticks\": \"\"}, \"colorscale\": [[0.0, \"#0d0887\"], [0.1111111111111111, \"#46039f\"], [0.2222222222222222, \"#7201a8\"], [0.3333333333333333, \"#9c179e\"], [0.4444444444444444, \"#bd3786\"], [0.5555555555555556, \"#d8576b\"], [0.6666666666666666, \"#ed7953\"], [0.7777777777777778, \"#fb9f3a\"], [0.8888888888888888, \"#fdca26\"], [1.0, \"#f0f921\"]], \"type\": \"surface\"}], \"table\": [{\"cells\": {\"fill\": {\"color\": \"#EBF0F8\"}, \"line\": {\"color\": \"white\"}}, \"header\": {\"fill\": {\"color\": \"#C8D4E3\"}, \"line\": {\"color\": \"white\"}}, \"type\": \"table\"}]}, \"layout\": {\"annotationdefaults\": {\"arrowcolor\": \"#2a3f5f\", \"arrowhead\": 0, \"arrowwidth\": 1}, \"coloraxis\": {\"colorbar\": {\"outlinewidth\": 0, \"ticks\": \"\"}}, \"colorscale\": {\"diverging\": [[0, \"#8e0152\"], [0.1, \"#c51b7d\"], [0.2, \"#de77ae\"], [0.3, \"#f1b6da\"], [0.4, \"#fde0ef\"], [0.5, \"#f7f7f7\"], [0.6, \"#e6f5d0\"], [0.7, \"#b8e186\"], [0.8, \"#7fbc41\"], [0.9, \"#4d9221\"], [1, \"#276419\"]], \"sequential\": [[0.0, \"#0d0887\"], [0.1111111111111111, \"#46039f\"], [0.2222222222222222, \"#7201a8\"], [0.3333333333333333, \"#9c179e\"], [0.4444444444444444, \"#bd3786\"], [0.5555555555555556, \"#d8576b\"], [0.6666666666666666, \"#ed7953\"], [0.7777777777777778, \"#fb9f3a\"], [0.8888888888888888, \"#fdca26\"], [1.0, \"#f0f921\"]], \"sequentialminus\": [[0.0, \"#0d0887\"], [0.1111111111111111, \"#46039f\"], [0.2222222222222222, \"#7201a8\"], [0.3333333333333333, \"#9c179e\"], [0.4444444444444444, \"#bd3786\"], [0.5555555555555556, \"#d8576b\"], [0.6666666666666666, \"#ed7953\"], [0.7777777777777778, \"#fb9f3a\"], [0.8888888888888888, \"#fdca26\"], [1.0, \"#f0f921\"]]}, \"colorway\": [\"#636efa\", \"#EF553B\", \"#00cc96\", \"#ab63fa\", \"#FFA15A\", \"#19d3f3\", \"#FF6692\", \"#B6E880\", \"#FF97FF\", \"#FECB52\"], \"font\": {\"color\": \"#2a3f5f\"}, \"geo\": {\"bgcolor\": \"white\", \"lakecolor\": \"white\", \"landcolor\": \"#E5ECF6\", \"showlakes\": true, \"showland\": true, \"subunitcolor\": \"white\"}, \"hoverlabel\": {\"align\": \"left\"}, \"hovermode\": \"closest\", \"mapbox\": {\"style\": \"light\"}, \"paper_bgcolor\": \"white\", \"plot_bgcolor\": \"#E5ECF6\", \"polar\": {\"angularaxis\": {\"gridcolor\": \"white\", \"linecolor\": \"white\", \"ticks\": \"\"}, \"bgcolor\": \"#E5ECF6\", \"radialaxis\": {\"gridcolor\": \"white\", \"linecolor\": \"white\", \"ticks\": \"\"}}, \"scene\": {\"xaxis\": {\"backgroundcolor\": \"#E5ECF6\", \"gridcolor\": \"white\", \"gridwidth\": 2, \"linecolor\": \"white\", \"showbackground\": true, \"ticks\": \"\", \"zerolinecolor\": \"white\"}, \"yaxis\": {\"backgroundcolor\": \"#E5ECF6\", \"gridcolor\": \"white\", \"gridwidth\": 2, \"linecolor\": \"white\", \"showbackground\": true, \"ticks\": \"\", \"zerolinecolor\": \"white\"}, \"zaxis\": {\"backgroundcolor\": \"#E5ECF6\", \"gridcolor\": \"white\", \"gridwidth\": 2, \"linecolor\": \"white\", \"showbackground\": true, \"ticks\": \"\", \"zerolinecolor\": \"white\"}}, \"shapedefaults\": {\"line\": {\"color\": \"#2a3f5f\"}}, \"ternary\": {\"aaxis\": {\"gridcolor\": \"white\", \"linecolor\": \"white\", \"ticks\": \"\"}, \"baxis\": {\"gridcolor\": \"white\", \"linecolor\": \"white\", \"ticks\": \"\"}, \"bgcolor\": \"#E5ECF6\", \"caxis\": {\"gridcolor\": \"white\", \"linecolor\": \"white\", \"ticks\": \"\"}}, \"title\": {\"x\": 0.05}, \"xaxis\": {\"automargin\": true, \"gridcolor\": \"white\", \"linecolor\": \"white\", \"ticks\": \"\", \"title\": {\"standoff\": 15}, \"zerolinecolor\": \"white\", \"zerolinewidth\": 2}, \"yaxis\": {\"automargin\": true, \"gridcolor\": \"white\", \"linecolor\": \"white\", \"ticks\": \"\", \"title\": {\"standoff\": 15}, \"zerolinecolor\": \"white\", \"zerolinewidth\": 2}}}, \"title\": {\"text\": \"Loss vs. Val Loss\"}, \"width\": 1000, \"xaxis\": {\"title\": {\"text\": \"Epoki\"}}, \"yaxis\": {\"title\": {\"text\": \"Loss\"}, \"type\": \"log\"}},\n",
              "                        {\"responsive\": true}\n",
              "                    ).then(function(){\n",
              "                            \n",
              "var gd = document.getElementById('82e99282-da0a-4cc4-b24c-5bcb984235e1');\n",
              "var x = new MutationObserver(function (mutations, observer) {{\n",
              "        var display = window.getComputedStyle(gd).display;\n",
              "        if (!display || display === 'none') {{\n",
              "            console.log([gd, 'removed!']);\n",
              "            Plotly.purge(gd);\n",
              "            observer.disconnect();\n",
              "        }}\n",
              "}});\n",
              "\n",
              "// Listen for the removal of the full notebook cells\n",
              "var notebookContainer = gd.closest('#notebook-container');\n",
              "if (notebookContainer) {{\n",
              "    x.observe(notebookContainer, {childList: true});\n",
              "}}\n",
              "\n",
              "// Listen for the clearing of the current output cell\n",
              "var outputEl = gd.closest('.output');\n",
              "if (outputEl) {{\n",
              "    x.observe(outputEl, {childList: true});\n",
              "}}\n",
              "\n",
              "                        })\n",
              "                };\n",
              "                \n",
              "            </script>\n",
              "        </div>\n",
              "</body>\n",
              "</html>"
            ]
          },
          "metadata": {
            "tags": []
          }
        }
      ]
    },
    {
      "cell_type": "code",
      "metadata": {
        "colab": {
          "base_uri": "https://localhost:8080/"
        },
        "id": "GKJvPUyQk4p5",
        "outputId": "07daf905-bcab-40a3-c9f3-402acf496bda"
      },
      "source": [
        "scores = model.evaluate(X_test, y_test)\n",
        "print(f'Accuracy {scores[1]*100}%')"
      ],
      "execution_count": 190,
      "outputs": [
        {
          "output_type": "stream",
          "text": [
            "87/87 [==============================] - 1s 10ms/step - loss: 0.0926 - accuracy: 0.9775\n",
            "Accuracy 97.75117635726929%\n"
          ],
          "name": "stdout"
        }
      ]
    },
    {
      "cell_type": "markdown",
      "metadata": {
        "id": "v2CGLd7rlTls"
      },
      "source": [
        "Jak widać z powyższych iteracji, wykresów i wyniku accuracy na zbiorze testowym w danych treningowych, sieć bardzo dobrze wyuczyła się właściwie klasyfikować komendy użytkowników i nie ma skłonności do overfittingu. Zanim sprawdzimy rezultaty na danych walidacyjnych, sprawdźmy wyniki dla zbioru testowego w classification report i confusion matrix."
      ]
    },
    {
      "cell_type": "code",
      "metadata": {
        "id": "p-T1piTCmhZO"
      },
      "source": [
        "predicted_lstm = np.argmax(model.predict(X_test), axis=-1)"
      ],
      "execution_count": 191,
      "outputs": []
    },
    {
      "cell_type": "code",
      "metadata": {
        "colab": {
          "base_uri": "https://localhost:8080/"
        },
        "id": "rH4jVhepnMvM",
        "outputId": "d30194e3-f533-4b55-cb49-2d9b3ef8ebca"
      },
      "source": [
        "# Wyświetlenie y_test\n",
        "print(y_test)"
      ],
      "execution_count": 192,
      "outputs": [
        {
          "output_type": "stream",
          "text": [
            "[4 3 6 ... 4 4 6]\n"
          ],
          "name": "stdout"
        }
      ]
    },
    {
      "cell_type": "code",
      "metadata": {
        "colab": {
          "base_uri": "https://localhost:8080/"
        },
        "id": "OBcXlPYmnPHX",
        "outputId": "a3330c3c-a6b1-423a-f83f-7232e0e68b5d"
      },
      "source": [
        "# Wyświetlenie y_test predict_lstm\n",
        "print(predicted_lstm)"
      ],
      "execution_count": 193,
      "outputs": [
        {
          "output_type": "stream",
          "text": [
            "[4 3 6 ... 4 4 6]\n"
          ],
          "name": "stdout"
        }
      ]
    },
    {
      "cell_type": "code",
      "metadata": {
        "id": "a21Ew4r2qOru"
      },
      "source": [
        "# Odmapowanie etykiet z liczb integer na labele\n",
        "y_test = pd.Series(y_test).map({1: 'AddToPlaylist', 2: 'BookRestaurant', 3: 'GetWeather', 4: 'PlayMusic', 5: 'RateBook', 6: 'SearchCreativeWork', 7: 'SearchScreeningEvent'})\n",
        "predicted_lstm = pd.Series(predicted_lstm).map({1: 'AddToPlaylist', 2: 'BookRestaurant', 3: 'GetWeather', 4: 'PlayMusic', 5: 'RateBook', 6: 'SearchCreativeWork', 7: 'SearchScreeningEvent'}).values"
      ],
      "execution_count": 194,
      "outputs": []
    },
    {
      "cell_type": "code",
      "metadata": {
        "colab": {
          "base_uri": "https://localhost:8080/"
        },
        "id": "tFNwYekr51Ox",
        "outputId": "4e5e9945-4c03-4696-88fb-40cfdbc7c814"
      },
      "source": [
        "# Wyświetlenie odmapowanego y_test\n",
        "print(y_test)"
      ],
      "execution_count": 195,
      "outputs": [
        {
          "output_type": "stream",
          "text": [
            "0                  PlayMusic\n",
            "1                 GetWeather\n",
            "2         SearchCreativeWork\n",
            "3       SearchScreeningEvent\n",
            "4             BookRestaurant\n",
            "                ...         \n",
            "2752          BookRestaurant\n",
            "2753    SearchScreeningEvent\n",
            "2754               PlayMusic\n",
            "2755               PlayMusic\n",
            "2756      SearchCreativeWork\n",
            "Length: 2757, dtype: object\n"
          ],
          "name": "stdout"
        }
      ]
    },
    {
      "cell_type": "code",
      "metadata": {
        "colab": {
          "base_uri": "https://localhost:8080/",
          "height": 711
        },
        "id": "4SLhnQxVkyyF",
        "outputId": "482b84e5-5fba-4d19-ed42-f43ec697377f"
      },
      "source": [
        "classes = np.unique(y_test)\n",
        "\n",
        "print('Accuracy:', round(accuracy_score(y_test, predicted_lstm),2))\n",
        "print('F1_score:', round(f1_score(y_test, predicted_lstm, average='weighted'),2))\n",
        "\n",
        "print(classification_report(y_test, predicted_lstm))\n",
        "# Plot confusion matrix\n",
        "cm = confusion_matrix(y_test, predicted_lstm)\n",
        "fig, ax = plt.subplots()\n",
        "sns.heatmap(cm, annot=True, fmt='d', ax=ax, cmap=plt.cm.Blues, cbar=False)\n",
        "ax.set(xlabel='Pred', ylabel='True', xticklabels=classes, yticklabels=classes, title='Confusion matrix')\n",
        "plt.yticks(rotation=0)\n",
        "plt.xticks(rotation=90)"
      ],
      "execution_count": 196,
      "outputs": [
        {
          "output_type": "stream",
          "text": [
            "Accuracy: 0.98\n",
            "F1_score: 0.98\n",
            "                      precision    recall  f1-score   support\n",
            "\n",
            "       AddToPlaylist       1.00      0.99      1.00       398\n",
            "      BookRestaurant       0.99      0.98      0.99       384\n",
            "          GetWeather       0.99      0.99      0.99       396\n",
            "           PlayMusic       0.99      0.95      0.97       405\n",
            "            RateBook       1.00      1.00      1.00       399\n",
            "  SearchCreativeWork       0.89      0.98      0.93       392\n",
            "SearchScreeningEvent       0.99      0.95      0.97       383\n",
            "\n",
            "            accuracy                           0.98      2757\n",
            "           macro avg       0.98      0.98      0.98      2757\n",
            "        weighted avg       0.98      0.98      0.98      2757\n",
            "\n"
          ],
          "name": "stdout"
        },
        {
          "output_type": "execute_result",
          "data": {
            "text/plain": [
              "(array([0.5, 1.5, 2.5, 3.5, 4.5, 5.5, 6.5]),\n",
              " <a list of 7 Text major ticklabel objects>)"
            ]
          },
          "metadata": {
            "tags": []
          },
          "execution_count": 196
        },
        {
          "output_type": "display_data",
          "data": {
            "image/png": "[encoded data removed]",
            "text/plain": [
              "<Figure size 432x288 with 1 Axes>"
            ]
          },
          "metadata": {
            "tags": [],
            "needs_background": "light"
          }
        }
      ]
    },
    {
      "cell_type": "markdown",
      "metadata": {
        "id": "MZUul96V5_Iy"
      },
      "source": [
        "Jak widać powyżej, rezultaty uzysknaę za pomocą sieci LSTM na zbiorze testowym są bardzo zbliżone do tych uzyskanych kalsycznym klasyfiaktorem."
      ]
    },
    {
      "cell_type": "markdown",
      "metadata": {
        "id": "OxYCEsij6Lt1"
      },
      "source": [
        "Sprawdźmy, jak to wygląda na zbiorze walidacyjnym. Przygotujemy w pierwszej kolejności dane, aby móc podać je sieci LSTM."
      ]
    },
    {
      "cell_type": "code",
      "metadata": {
        "id": "5dFwFApftdg9"
      },
      "source": [
        "# wydzielenie X_val\n",
        "X_val = data_validation['text_clean'].values\n",
        "\n",
        "# wydzielenie y_val po zmapowaniu\n",
        "y_val = data_validation['label'].map({'AddToPlaylist': 1, 'BookRestaurant': 2, 'GetWeather': 3, 'PlayMusic': 4, 'RateBook': 5, 'SearchCreativeWork': 6, 'SearchScreeningEvent': 7}).values"
      ],
      "execution_count": 197,
      "outputs": []
    },
    {
      "cell_type": "code",
      "metadata": {
        "id": "CvINzapzwBjU"
      },
      "source": [
        "# tokenizacja i zamiana na słów na wektor indeksów\n",
        "X_val = tokenizer.texts_to_sequences(X_val)"
      ],
      "execution_count": 198,
      "outputs": []
    },
    {
      "cell_type": "code",
      "metadata": {
        "id": "omH0ixGZwT68"
      },
      "source": [
        " # określeneie długości inputu danych walidacyjnych do sieci klasyfikującej\n",
        " X_val = pad_sequences(X_val, padding='post', truncating='post', maxlen=maxlen)"
      ],
      "execution_count": 199,
      "outputs": []
    },
    {
      "cell_type": "code",
      "metadata": {
        "colab": {
          "base_uri": "https://localhost:8080/"
        },
        "id": "zQ4wE_8v6wEe",
        "outputId": "b328ea71-dd42-4280-fb5a-3581a524a96b"
      },
      "source": [
        "# wyświetlenie przygotowanych danych do \"predykcji\"\n",
        "X_val"
      ],
      "execution_count": 200,
      "outputs": [
        {
          "output_type": "execute_result",
          "data": {
            "text/plain": [
              "array([[  8,   3,  77, ...,   0,   0,   0],\n",
              "       [202, 156,   1, ...,   0,   0,   0],\n",
              "       [  8, 264,  21, ...,   0,   0,   0],\n",
              "       ...,\n",
              "       [ 14,  62,  40, ...,   0,   0,   0],\n",
              "       [  8,  11,  21, ...,   0,   0,   0],\n",
              "       [ 29,  25,  49, ...,   0,   0,   0]], dtype=int32)"
            ]
          },
          "metadata": {
            "tags": []
          },
          "execution_count": 200
        }
      ]
    },
    {
      "cell_type": "markdown",
      "metadata": {
        "id": "kCfg_6nS67XQ"
      },
      "source": [
        "Wykonajmy predykcję na wyuczonym już modelu sieci LSTM."
      ]
    },
    {
      "cell_type": "code",
      "metadata": {
        "id": "PkwbEqoSsyDC"
      },
      "source": [
        "predicted_lstm_val = np.argmax(model.predict(X_val), axis=-1)"
      ],
      "execution_count": 201,
      "outputs": []
    },
    {
      "cell_type": "code",
      "metadata": {
        "id": "dC0AUic67js2"
      },
      "source": [
        "# Odmapowanie etykiet z liczb integer na labele\n",
        "y_val = pd.Series(y_val).map({1: 'AddToPlaylist', 2: 'BookRestaurant', 3: 'GetWeather', 4: 'PlayMusic', 5: 'RateBook', 6: 'SearchCreativeWork', 7: 'SearchScreeningEvent'})\n",
        "predicted_lstm_val = pd.Series(predicted_lstm_val).map({1: 'AddToPlaylist', 2: 'BookRestaurant', 3: 'GetWeather', 4: 'PlayMusic', 5: 'RateBook', 6: 'SearchCreativeWork', 7: 'SearchScreeningEvent'}).values"
      ],
      "execution_count": 202,
      "outputs": []
    },
    {
      "cell_type": "code",
      "metadata": {
        "colab": {
          "base_uri": "https://localhost:8080/",
          "height": 711
        },
        "id": "owgdNUr7w4yb",
        "outputId": "f3c8f266-39a5-4a83-b0f5-e9f9a8599ba1"
      },
      "source": [
        "classes = np.unique(y_val)\n",
        "\n",
        "print('Accuracy:', round(accuracy_score(y_val, predicted_lstm_val),2))\n",
        "print('F1_score:', round(f1_score(y_val, predicted_lstm_val, average='weighted'),2))\n",
        "\n",
        "print(classification_report(y_val, predicted_lstm_val))\n",
        "# Plot confusion matrix\n",
        "cm = confusion_matrix(y_val, predicted_lstm_val)\n",
        "fig, ax = plt.subplots()\n",
        "sns.heatmap(cm, annot=True, fmt='d', ax=ax, cmap=plt.cm.Blues, cbar=False)\n",
        "ax.set(xlabel='Pred', ylabel='True', xticklabels=classes, yticklabels=classes, title='Confusion matrix')\n",
        "plt.yticks(rotation=0)\n",
        "plt.xticks(rotation=90)"
      ],
      "execution_count": 203,
      "outputs": [
        {
          "output_type": "stream",
          "text": [
            "Accuracy: 0.98\n",
            "F1_score: 0.98\n",
            "                      precision    recall  f1-score   support\n",
            "\n",
            "       AddToPlaylist       0.98      1.00      0.99       100\n",
            "      BookRestaurant       1.00      0.99      0.99       100\n",
            "          GetWeather       0.98      0.98      0.98       100\n",
            "           PlayMusic       1.00      0.96      0.98       100\n",
            "            RateBook       1.00      0.99      0.99       100\n",
            "  SearchCreativeWork       0.91      0.98      0.94       100\n",
            "SearchScreeningEvent       0.98      0.94      0.96       100\n",
            "\n",
            "            accuracy                           0.98       700\n",
            "           macro avg       0.98      0.98      0.98       700\n",
            "        weighted avg       0.98      0.98      0.98       700\n",
            "\n"
          ],
          "name": "stdout"
        },
        {
          "output_type": "execute_result",
          "data": {
            "text/plain": [
              "(array([0.5, 1.5, 2.5, 3.5, 4.5, 5.5, 6.5]),\n",
              " <a list of 7 Text major ticklabel objects>)"
            ]
          },
          "metadata": {
            "tags": []
          },
          "execution_count": 203
        },
        {
          "output_type": "display_data",
          "data": {
            "image/png": "[encoded data removed]",
            "text/plain": [
              "<Figure size 432x288 with 1 Axes>"
            ]
          },
          "metadata": {
            "tags": [],
            "needs_background": "light"
          }
        }
      ]
    },
    {
      "cell_type": "markdown",
      "metadata": {
        "id": "QML6vQVg7LAv"
      },
      "source": [
        "Jak widać na powyższych rezultatach, wyniki otrzymane dzięki sieci RNN z warstwą LSTM są bardzo zbliżone na zbiorze walidacyjnym do tych uzyskanych klasycznym klasyfiaktorem. Pomimo, że ogóle accuracy czy f1_score są zbliżone, to sieć myli się często w innych przypadkach niż mylił się klasyczny klasyfikator."
      ]
    },
    {
      "cell_type": "markdown",
      "metadata": {
        "id": "AXaiC-u9FYJ8"
      },
      "source": [
        "Sprawdźmy i oceńmy sami komendę, którą sieć zaklasyfikowała niepoprawnie."
      ]
    },
    {
      "cell_type": "code",
      "metadata": {
        "colab": {
          "base_uri": "https://localhost:8080/"
        },
        "id": "28QYnOPM-mJz",
        "outputId": "44c15b61-8b1e-4bf6-9c59-94ab2c0c3a8b"
      },
      "source": [
        "indexes = []\n",
        "for i, phrase in enumerate(predicted_lstm_val):\n",
        "  if phrase == 'GetWeather':\n",
        "    if y_val[i] == 'BookRestaurant':\n",
        "      indexes.append(i)\n",
        "print(indexes)"
      ],
      "execution_count": 204,
      "outputs": [
        {
          "output_type": "stream",
          "text": [
            "[378]\n"
          ],
          "name": "stdout"
        }
      ]
    },
    {
      "cell_type": "code",
      "metadata": {
        "colab": {
          "base_uri": "https://localhost:8080/"
        },
        "id": "ouy1yzy8-048",
        "outputId": "bfb50cf2-6dcf-4f45-d522-3660ac8f2f6d"
      },
      "source": [
        "# Tekst komendy użytkownika\n",
        "\n",
        "print(f'True category: {y_val[378]}')\n",
        "print(f'Predicted category: {predicted_lstm_val[378]}')\n",
        "print(f\"----------------------------\\nTekst komendy:\\n{data_validation['text'][378]}\")"
      ],
      "execution_count": 205,
      "outputs": [
        {
          "output_type": "stream",
          "text": [
            "True category: BookRestaurant\n",
            "Predicted category: GetWeather\n",
            "----------------------------\n",
            "Tekst komendy:\n",
            "I want to book Oregon Electric Station in North City.\n"
          ],
          "name": "stdout"
        }
      ]
    },
    {
      "cell_type": "markdown",
      "metadata": {
        "id": "_dU6WKF-A6SU"
      },
      "source": [
        "# Wnioski"
      ]
    },
    {
      "cell_type": "markdown",
      "metadata": {
        "id": "aVht92zRCRlO"
      },
      "source": [
        "Detektor intencji, który udało się zbudować w niniejszym notatniku bazując na modelu klasycznego klasyfikatora RandomForest i sieci rekurencyjnej z warstwą LSTM pokazuje, że niezależnie czy opiera się on na sieci czy na klasyfikatorze, uzyskuje bardzo dobre wyniki na poziomie 98% accuracy i 94% - 95% f1_score, co pozwala uznać go za użyteczny. "
      ]
    },
    {
      "cell_type": "markdown",
      "metadata": {
        "id": "dppY1fujDYh8"
      },
      "source": [
        "Ciekawostką jest, że sieć i klasyfikator pomimo zbliżonych ogólnych rezultatów, myliły się często w innych przypadkach, co wskazuje na różne mechanizmy klasyfikownia danych, aczkolwiek równie skuteczne."
      ]
    },
    {
      "cell_type": "code",
      "metadata": {
        "id": "1NT1RWEsD-e9"
      },
      "source": [
        ""
      ],
      "execution_count": null,
      "outputs": []
    }
  ]
}