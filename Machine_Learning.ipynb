{
  "nbformat": 4,
  "nbformat_minor": 0,
  "metadata": {
    "colab": {
      "name": "Machine_Learning.ipynb",
      "provenance": [],
      "collapsed_sections": [],
      "authorship_tag": "ABX9TyMc0+so8bWVYUgwWvYEukUx",
      "include_colab_link": true
    },
    "kernelspec": {
      "name": "python3",
      "display_name": "Python 3"
    }
  },
  "cells": [
    {
      "cell_type": "markdown",
      "metadata": {
        "id": "view-in-github",
        "colab_type": "text"
      },
      "source": [
        "<a href=\"https://colab.research.google.com/github/Zedbog/Data_science_course/blob/main/Machine_Learning.ipynb\" target=\"_parent\"><img src=\"https://colab.research.google.com/assets/colab-badge.svg\" alt=\"Open In Colab\"/></a>"
      ]
    },
    {
      "cell_type": "markdown",
      "metadata": {
        "id": "Zo-oYF2qjZJQ"
      },
      "source": [
        "#Regresja liniowa w scikit-learn\n",
        "\n"
      ]
    },
    {
      "cell_type": "code",
      "metadata": {
        "id": "GCCzslBPt3hk",
        "colab": {
          "base_uri": "https://localhost:8080/"
        },
        "outputId": "f880f02d-fdde-4747-8a4e-78876228a644"
      },
      "source": [
        "from google.colab import drive\n",
        "drive.mount('/content/drive')"
      ],
      "execution_count": null,
      "outputs": [
        {
          "output_type": "stream",
          "text": [
            "Drive already mounted at /content/drive; to attempt to forcibly remount, call drive.mount(\"/content/drive\", force_remount=True).\n"
          ],
          "name": "stdout"
        }
      ]
    },
    {
      "cell_type": "code",
      "metadata": {
        "id": "Y6tjpsR-E0hu"
      },
      "source": [
        "import pandas as pd\n",
        "import numpy as np\n",
        "import matplotlib.pyplot as plt\n",
        "from sklearn.linear_model import LinearRegression\n",
        "# from google.colab import files\n",
        "# uploaded = files.upload()"
      ],
      "execution_count": null,
      "outputs": []
    },
    {
      "cell_type": "code",
      "metadata": {
        "id": "yUFZoG7ZfB6d"
      },
      "source": [
        "data = pd.read_csv('/content/drive/My Drive/Machine_Learning/ex1data2.txt',header=None,names = ['meters','bedrooms','price'])"
      ],
      "execution_count": null,
      "outputs": []
    },
    {
      "cell_type": "code",
      "metadata": {
        "id": "6ndLITSVfF_T",
        "colab": {
          "base_uri": "https://localhost:8080/",
          "height": 206
        },
        "outputId": "1bac14c6-56b1-4761-8a2a-db110d25bdf9"
      },
      "source": [
        "data.head()"
      ],
      "execution_count": null,
      "outputs": [
        {
          "output_type": "execute_result",
          "data": {
            "text/html": [
              "<div>\n",
              "<style scoped>\n",
              "    .dataframe tbody tr th:only-of-type {\n",
              "        vertical-align: middle;\n",
              "    }\n",
              "\n",
              "    .dataframe tbody tr th {\n",
              "        vertical-align: top;\n",
              "    }\n",
              "\n",
              "    .dataframe thead th {\n",
              "        text-align: right;\n",
              "    }\n",
              "</style>\n",
              "<table border=\"1\" class=\"dataframe\">\n",
              "  <thead>\n",
              "    <tr style=\"text-align: right;\">\n",
              "      <th></th>\n",
              "      <th>meters</th>\n",
              "      <th>bedrooms</th>\n",
              "      <th>price</th>\n",
              "    </tr>\n",
              "  </thead>\n",
              "  <tbody>\n",
              "    <tr>\n",
              "      <th>0</th>\n",
              "      <td>2104</td>\n",
              "      <td>3</td>\n",
              "      <td>399900</td>\n",
              "    </tr>\n",
              "    <tr>\n",
              "      <th>1</th>\n",
              "      <td>1600</td>\n",
              "      <td>3</td>\n",
              "      <td>329900</td>\n",
              "    </tr>\n",
              "    <tr>\n",
              "      <th>2</th>\n",
              "      <td>2400</td>\n",
              "      <td>3</td>\n",
              "      <td>369000</td>\n",
              "    </tr>\n",
              "    <tr>\n",
              "      <th>3</th>\n",
              "      <td>1416</td>\n",
              "      <td>2</td>\n",
              "      <td>232000</td>\n",
              "    </tr>\n",
              "    <tr>\n",
              "      <th>4</th>\n",
              "      <td>3000</td>\n",
              "      <td>4</td>\n",
              "      <td>539900</td>\n",
              "    </tr>\n",
              "  </tbody>\n",
              "</table>\n",
              "</div>"
            ],
            "text/plain": [
              "   meters  bedrooms   price\n",
              "0    2104         3  399900\n",
              "1    1600         3  329900\n",
              "2    2400         3  369000\n",
              "3    1416         2  232000\n",
              "4    3000         4  539900"
            ]
          },
          "metadata": {
            "tags": []
          },
          "execution_count": 13
        }
      ]
    },
    {
      "cell_type": "code",
      "metadata": {
        "id": "5W_RKVPlfMKq"
      },
      "source": [
        "X = data[['meters']]\n",
        "y = data[['price']]"
      ],
      "execution_count": null,
      "outputs": []
    },
    {
      "cell_type": "code",
      "metadata": {
        "id": "1uNmmxM9fmyl",
        "colab": {
          "base_uri": "https://localhost:8080/"
        },
        "outputId": "f47c8c09-42a8-42c4-b29f-5020d8bc4a48"
      },
      "source": [
        "X.values[:5]"
      ],
      "execution_count": null,
      "outputs": [
        {
          "output_type": "execute_result",
          "data": {
            "text/plain": [
              "array([[2104],\n",
              "       [1600],\n",
              "       [2400],\n",
              "       [1416],\n",
              "       [3000]])"
            ]
          },
          "metadata": {
            "tags": []
          },
          "execution_count": 15
        }
      ]
    },
    {
      "cell_type": "code",
      "metadata": {
        "id": "RyMvegBifsyh",
        "colab": {
          "base_uri": "https://localhost:8080/"
        },
        "outputId": "1162a527-8e36-421a-cd36-5986d318780a"
      },
      "source": [
        "y.values[:5]"
      ],
      "execution_count": null,
      "outputs": [
        {
          "output_type": "execute_result",
          "data": {
            "text/plain": [
              "array([[399900],\n",
              "       [329900],\n",
              "       [369000],\n",
              "       [232000],\n",
              "       [539900]])"
            ]
          },
          "metadata": {
            "tags": []
          },
          "execution_count": 16
        }
      ]
    },
    {
      "cell_type": "code",
      "metadata": {
        "id": "APmsZlt2fwoS",
        "colab": {
          "base_uri": "https://localhost:8080/"
        },
        "outputId": "a282364b-ef33-4e4b-f7b1-91f7875e2a2e"
      },
      "source": [
        "model = LinearRegression()\n",
        "model.fit(X, y)"
      ],
      "execution_count": null,
      "outputs": [
        {
          "output_type": "execute_result",
          "data": {
            "text/plain": [
              "LinearRegression(copy_X=True, fit_intercept=True, n_jobs=None, normalize=False)"
            ]
          },
          "metadata": {
            "tags": []
          },
          "execution_count": 17
        }
      ]
    },
    {
      "cell_type": "code",
      "metadata": {
        "id": "pnyDo-0ggVyK",
        "colab": {
          "base_uri": "https://localhost:8080/"
        },
        "outputId": "e8b952a2-f390-4a6b-d4af-744e60441408"
      },
      "source": [
        "model.intercept_"
      ],
      "execution_count": null,
      "outputs": [
        {
          "output_type": "execute_result",
          "data": {
            "text/plain": [
              "array([71270.49244873])"
            ]
          },
          "metadata": {
            "tags": []
          },
          "execution_count": 18
        }
      ]
    },
    {
      "cell_type": "code",
      "metadata": {
        "id": "5u4oIZgGgaxV",
        "colab": {
          "base_uri": "https://localhost:8080/"
        },
        "outputId": "7018800e-3398-4dba-9bc8-f28d80ff87e9"
      },
      "source": [
        "model.coef_"
      ],
      "execution_count": null,
      "outputs": [
        {
          "output_type": "execute_result",
          "data": {
            "text/plain": [
              "array([[134.52528772]])"
            ]
          },
          "metadata": {
            "tags": []
          },
          "execution_count": 19
        }
      ]
    },
    {
      "cell_type": "code",
      "metadata": {
        "id": "t5aH-tk_gh0j",
        "colab": {
          "base_uri": "https://localhost:8080/"
        },
        "outputId": "69fa594f-f5e9-4cfb-a0cd-92b7c3668f46"
      },
      "source": [
        "predict_data = np.array([[3200], [3720]])\n",
        "predict_data"
      ],
      "execution_count": null,
      "outputs": [
        {
          "output_type": "execute_result",
          "data": {
            "text/plain": [
              "array([[3200],\n",
              "       [3720]])"
            ]
          },
          "metadata": {
            "tags": []
          },
          "execution_count": 20
        }
      ]
    },
    {
      "cell_type": "code",
      "metadata": {
        "id": "NHCDcmuggybN",
        "colab": {
          "base_uri": "https://localhost:8080/"
        },
        "outputId": "94b01142-c49e-4d00-f54b-07a7f9dc03c8"
      },
      "source": [
        "model.predict(predict_data)"
      ],
      "execution_count": null,
      "outputs": [
        {
          "output_type": "execute_result",
          "data": {
            "text/plain": [
              "array([[501751.4131535 ],\n",
              "       [571704.56276803]])"
            ]
          },
          "metadata": {
            "tags": []
          },
          "execution_count": 21
        }
      ]
    },
    {
      "cell_type": "markdown",
      "metadata": {
        "id": "IXbC6wYeg8Q8"
      },
      "source": [
        "# Regresja liniowa wielu zmiennych w scikit-learn"
      ]
    },
    {
      "cell_type": "code",
      "metadata": {
        "id": "fjNDPBSOhBvR"
      },
      "source": [
        "x = data[['meters', 'bedrooms']]\n",
        "y = data[['price']]"
      ],
      "execution_count": null,
      "outputs": []
    },
    {
      "cell_type": "code",
      "metadata": {
        "id": "8GBxivhThOyj",
        "colab": {
          "base_uri": "https://localhost:8080/"
        },
        "outputId": "afcd3fc2-6e7f-4bc7-c8f7-81d2285819f5"
      },
      "source": [
        "model = LinearRegression()\n",
        "model.fit(x, y)"
      ],
      "execution_count": null,
      "outputs": [
        {
          "output_type": "execute_result",
          "data": {
            "text/plain": [
              "LinearRegression(copy_X=True, fit_intercept=True, n_jobs=None, normalize=False)"
            ]
          },
          "metadata": {
            "tags": []
          },
          "execution_count": 23
        }
      ]
    },
    {
      "cell_type": "code",
      "metadata": {
        "id": "L4JeK_gEhVQM",
        "colab": {
          "base_uri": "https://localhost:8080/"
        },
        "outputId": "007e393e-2dea-4956-ae8d-8fdf16359ba2"
      },
      "source": [
        "model.intercept_"
      ],
      "execution_count": null,
      "outputs": [
        {
          "output_type": "execute_result",
          "data": {
            "text/plain": [
              "array([89597.9095428])"
            ]
          },
          "metadata": {
            "tags": []
          },
          "execution_count": 24
        }
      ]
    },
    {
      "cell_type": "code",
      "metadata": {
        "id": "2e8Q82ZJhX0h",
        "colab": {
          "base_uri": "https://localhost:8080/"
        },
        "outputId": "89d75814-f919-4a77-d804-ea1eb66807c8"
      },
      "source": [
        "model.coef_"
      ],
      "execution_count": null,
      "outputs": [
        {
          "output_type": "execute_result",
          "data": {
            "text/plain": [
              "array([[  139.21067402, -8738.01911233]])"
            ]
          },
          "metadata": {
            "tags": []
          },
          "execution_count": 25
        }
      ]
    },
    {
      "cell_type": "code",
      "metadata": {
        "id": "dP6bRiqNhbHr",
        "colab": {
          "base_uri": "https://localhost:8080/"
        },
        "outputId": "5cec9e1a-aacb-4e5c-acb2-5988f6778b5d"
      },
      "source": [
        "predict_data_with_bedrooms = np.array([[3200, 3], [3720, 2]])\n",
        "predict_data_with_bedrooms"
      ],
      "execution_count": null,
      "outputs": [
        {
          "output_type": "execute_result",
          "data": {
            "text/plain": [
              "array([[3200,    3],\n",
              "       [3720,    2]])"
            ]
          },
          "metadata": {
            "tags": []
          },
          "execution_count": 26
        }
      ]
    },
    {
      "cell_type": "code",
      "metadata": {
        "id": "WJzFUiAqhk_U",
        "colab": {
          "base_uri": "https://localhost:8080/"
        },
        "outputId": "b7bc57eb-b5d0-4c2d-fc05-5104b5c2f8d2"
      },
      "source": [
        "model.predict(predict_data_with_bedrooms)"
      ],
      "execution_count": null,
      "outputs": [
        {
          "output_type": "execute_result",
          "data": {
            "text/plain": [
              "array([[508858.00906222],\n",
              "       [589985.57866371]])"
            ]
          },
          "metadata": {
            "tags": []
          },
          "execution_count": 27
        }
      ]
    },
    {
      "cell_type": "markdown",
      "metadata": {
        "id": "eRYeS-GWhtb0"
      },
      "source": [
        "#Regresja wielomianowa w scikit-learn"
      ]
    },
    {
      "cell_type": "code",
      "metadata": {
        "id": "c6pe_5Wmh097"
      },
      "source": [
        "import pandas as pd\n",
        "import numpy as np\n",
        "from sklearn.linear_model import LinearRegression\n",
        "from sklearn.preprocessing import PolynomialFeatures"
      ],
      "execution_count": null,
      "outputs": []
    },
    {
      "cell_type": "code",
      "metadata": {
        "id": "7rAHnQjOhvaj"
      },
      "source": [
        "poly = PolynomialFeatures(degree=3)\n",
        "X_poly = poly.fit_transform(X)"
      ],
      "execution_count": null,
      "outputs": []
    },
    {
      "cell_type": "code",
      "metadata": {
        "id": "fEiELNZNiWKR",
        "colab": {
          "base_uri": "https://localhost:8080/"
        },
        "outputId": "9efa2030-4996-4039-c592-ae4ffff42e1a"
      },
      "source": [
        "X_poly[:5]"
      ],
      "execution_count": null,
      "outputs": [
        {
          "output_type": "execute_result",
          "data": {
            "text/plain": [
              "array([[1.00000000e+00, 2.10400000e+03, 4.42681600e+06, 9.31402086e+09],\n",
              "       [1.00000000e+00, 1.60000000e+03, 2.56000000e+06, 4.09600000e+09],\n",
              "       [1.00000000e+00, 2.40000000e+03, 5.76000000e+06, 1.38240000e+10],\n",
              "       [1.00000000e+00, 1.41600000e+03, 2.00505600e+06, 2.83915930e+09],\n",
              "       [1.00000000e+00, 3.00000000e+03, 9.00000000e+06, 2.70000000e+10]])"
            ]
          },
          "metadata": {
            "tags": []
          },
          "execution_count": 30
        }
      ]
    },
    {
      "cell_type": "code",
      "metadata": {
        "id": "USy-0YzuieSm",
        "colab": {
          "base_uri": "https://localhost:8080/"
        },
        "outputId": "2c0fa0f1-88d9-477f-d2f3-693c85f4c43d"
      },
      "source": [
        "model = LinearRegression()\n",
        "model.fit(X_poly, y)"
      ],
      "execution_count": null,
      "outputs": [
        {
          "output_type": "execute_result",
          "data": {
            "text/plain": [
              "LinearRegression(copy_X=True, fit_intercept=True, n_jobs=None, normalize=False)"
            ]
          },
          "metadata": {
            "tags": []
          },
          "execution_count": 31
        }
      ]
    },
    {
      "cell_type": "code",
      "metadata": {
        "id": "043C8640ij6f",
        "colab": {
          "base_uri": "https://localhost:8080/"
        },
        "outputId": "7019211e-b37b-4ec8-c116-2f2cbb1aeea3"
      },
      "source": [
        "model.intercept_"
      ],
      "execution_count": null,
      "outputs": [
        {
          "output_type": "execute_result",
          "data": {
            "text/plain": [
              "array([236407.03585232])"
            ]
          },
          "metadata": {
            "tags": []
          },
          "execution_count": 32
        }
      ]
    },
    {
      "cell_type": "code",
      "metadata": {
        "id": "JpavL7QNilws",
        "colab": {
          "base_uri": "https://localhost:8080/"
        },
        "outputId": "b1c565d5-ff93-4238-9db2-1b96b8c49a0f"
      },
      "source": [
        "model.coef_"
      ],
      "execution_count": null,
      "outputs": [
        {
          "output_type": "execute_result",
          "data": {
            "text/plain": [
              "array([[ 0.00000000e+00, -1.07855433e+02,  1.06190390e-01,\n",
              "        -1.38299983e-05]])"
            ]
          },
          "metadata": {
            "tags": []
          },
          "execution_count": 33
        }
      ]
    },
    {
      "cell_type": "code",
      "metadata": {
        "id": "UdE15Ew9ip3G",
        "colab": {
          "base_uri": "https://localhost:8080/"
        },
        "outputId": "71ba7626-2ec2-46df-ab3a-069640a7ebbc"
      },
      "source": [
        "predict_data = np.array([[3200], [3720]])\n",
        "predict_data"
      ],
      "execution_count": null,
      "outputs": [
        {
          "output_type": "execute_result",
          "data": {
            "text/plain": [
              "array([[3200],\n",
              "       [3720]])"
            ]
          },
          "metadata": {
            "tags": []
          },
          "execution_count": 34
        }
      ]
    },
    {
      "cell_type": "code",
      "metadata": {
        "id": "WcpwVeYujB-m"
      },
      "source": [
        "predict_data_poly = poly.transform(predict_data)"
      ],
      "execution_count": null,
      "outputs": []
    },
    {
      "cell_type": "code",
      "metadata": {
        "id": "h3z91_o-jKWf",
        "colab": {
          "base_uri": "https://localhost:8080/"
        },
        "outputId": "15083f4b-9de0-4e38-8d8c-556921131348"
      },
      "source": [
        "predict_data_poly"
      ],
      "execution_count": null,
      "outputs": [
        {
          "output_type": "execute_result",
          "data": {
            "text/plain": [
              "array([[1.0000000e+00, 3.2000000e+03, 1.0240000e+07, 3.2768000e+10],\n",
              "       [1.0000000e+00, 3.7200000e+03, 1.3838400e+07, 5.1478848e+10]])"
            ]
          },
          "metadata": {
            "tags": []
          },
          "execution_count": 36
        }
      ]
    },
    {
      "cell_type": "code",
      "metadata": {
        "id": "LEFTJ3WcjOxy",
        "colab": {
          "base_uri": "https://localhost:8080/"
        },
        "outputId": "7047c360-8af0-4a23-8a42-869cca1939ac"
      },
      "source": [
        "model.predict(predict_data_poly)"
      ],
      "execution_count": null,
      "outputs": [
        {
          "output_type": "execute_result",
          "data": {
            "text/plain": [
              "array([[525477.86332531],\n",
              "       [592737.54295217]])"
            ]
          },
          "metadata": {
            "tags": []
          },
          "execution_count": 37
        }
      ]
    },
    {
      "cell_type": "code",
      "metadata": {
        "id": "wuHbWXiikLtL",
        "colab": {
          "base_uri": "https://localhost:8080/"
        },
        "outputId": "e32c768d-7778-4915-9a2b-da779905eda0"
      },
      "source": [
        "model.intercept_"
      ],
      "execution_count": null,
      "outputs": [
        {
          "output_type": "execute_result",
          "data": {
            "text/plain": [
              "array([236407.03585232])"
            ]
          },
          "metadata": {
            "tags": []
          },
          "execution_count": 38
        }
      ]
    },
    {
      "cell_type": "markdown",
      "metadata": {
        "id": "JRD0lvxAsh3L"
      },
      "source": [
        "#Regresja wielomianowa z wieloma zmiennymi "
      ]
    },
    {
      "cell_type": "code",
      "metadata": {
        "id": "bpz031Avqrgw"
      },
      "source": [
        "x_poly = poly.fit_transform(x)"
      ],
      "execution_count": null,
      "outputs": []
    },
    {
      "cell_type": "code",
      "metadata": {
        "id": "qc3rHTdsqyXB",
        "colab": {
          "base_uri": "https://localhost:8080/"
        },
        "outputId": "78aefc3f-d6e3-471a-f0d5-aba66f854a42"
      },
      "source": [
        "x_poly[:5]"
      ],
      "execution_count": null,
      "outputs": [
        {
          "output_type": "execute_result",
          "data": {
            "text/plain": [
              "array([[1.00000000e+00, 2.10400000e+03, 3.00000000e+00, 4.42681600e+06,\n",
              "        6.31200000e+03, 9.00000000e+00, 9.31402086e+09, 1.32804480e+07,\n",
              "        1.89360000e+04, 2.70000000e+01],\n",
              "       [1.00000000e+00, 1.60000000e+03, 3.00000000e+00, 2.56000000e+06,\n",
              "        4.80000000e+03, 9.00000000e+00, 4.09600000e+09, 7.68000000e+06,\n",
              "        1.44000000e+04, 2.70000000e+01],\n",
              "       [1.00000000e+00, 2.40000000e+03, 3.00000000e+00, 5.76000000e+06,\n",
              "        7.20000000e+03, 9.00000000e+00, 1.38240000e+10, 1.72800000e+07,\n",
              "        2.16000000e+04, 2.70000000e+01],\n",
              "       [1.00000000e+00, 1.41600000e+03, 2.00000000e+00, 2.00505600e+06,\n",
              "        2.83200000e+03, 4.00000000e+00, 2.83915930e+09, 4.01011200e+06,\n",
              "        5.66400000e+03, 8.00000000e+00],\n",
              "       [1.00000000e+00, 3.00000000e+03, 4.00000000e+00, 9.00000000e+06,\n",
              "        1.20000000e+04, 1.60000000e+01, 2.70000000e+10, 3.60000000e+07,\n",
              "        4.80000000e+04, 6.40000000e+01]])"
            ]
          },
          "metadata": {
            "tags": []
          },
          "execution_count": 40
        }
      ]
    },
    {
      "cell_type": "code",
      "metadata": {
        "id": "-gvQHD--q3J3",
        "colab": {
          "base_uri": "https://localhost:8080/"
        },
        "outputId": "aeef5b87-4e44-4e6b-e719-ee9b676217a2"
      },
      "source": [
        "model.fit(x_poly, y)"
      ],
      "execution_count": null,
      "outputs": [
        {
          "output_type": "execute_result",
          "data": {
            "text/plain": [
              "LinearRegression(copy_X=True, fit_intercept=True, n_jobs=None, normalize=False)"
            ]
          },
          "metadata": {
            "tags": []
          },
          "execution_count": 41
        }
      ]
    },
    {
      "cell_type": "code",
      "metadata": {
        "id": "M4UgqoMZr-Dn",
        "colab": {
          "base_uri": "https://localhost:8080/"
        },
        "outputId": "7a5ad4d3-6264-4129-c48f-ed3a406efb0e"
      },
      "source": [
        "model.intercept_"
      ],
      "execution_count": null,
      "outputs": [
        {
          "output_type": "execute_result",
          "data": {
            "text/plain": [
              "array([-22271.37645458])"
            ]
          },
          "metadata": {
            "tags": []
          },
          "execution_count": 42
        }
      ]
    },
    {
      "cell_type": "code",
      "metadata": {
        "id": "-WvWh386sDN2",
        "colab": {
          "base_uri": "https://localhost:8080/"
        },
        "outputId": "b57dce79-73bb-4c56-e8e7-65707977f3da"
      },
      "source": [
        "model.coef_"
      ],
      "execution_count": null,
      "outputs": [
        {
          "output_type": "execute_result",
          "data": {
            "text/plain": [
              "array([[ 0.00000000e+00,  3.91558122e+01,  1.54862068e+05,\n",
              "         2.67038211e-01, -3.26702734e+02,  6.67279964e+04,\n",
              "        -2.16721404e-05, -3.85899101e-02,  8.36292254e+01,\n",
              "        -2.78260510e+04]])"
            ]
          },
          "metadata": {
            "tags": []
          },
          "execution_count": 43
        }
      ]
    },
    {
      "cell_type": "code",
      "metadata": {
        "id": "3UGcU-5msE92"
      },
      "source": [
        "predict_data_with_bedrooms_poly = poly.transform(predict_data_with_bedrooms)"
      ],
      "execution_count": null,
      "outputs": []
    },
    {
      "cell_type": "code",
      "metadata": {
        "id": "WX1n3P2ksU-O",
        "colab": {
          "base_uri": "https://localhost:8080/"
        },
        "outputId": "ddf644bd-e87c-48c8-e290-87edd1a46980"
      },
      "source": [
        "predict_data_with_bedrooms_poly"
      ],
      "execution_count": null,
      "outputs": [
        {
          "output_type": "execute_result",
          "data": {
            "text/plain": [
              "array([[1.0000000e+00, 3.2000000e+03, 3.0000000e+00, 1.0240000e+07,\n",
              "        9.6000000e+03, 9.0000000e+00, 3.2768000e+10, 3.0720000e+07,\n",
              "        2.8800000e+04, 2.7000000e+01],\n",
              "       [1.0000000e+00, 3.7200000e+03, 2.0000000e+00, 1.3838400e+07,\n",
              "        7.4400000e+03, 4.0000000e+00, 5.1478848e+10, 2.7676800e+07,\n",
              "        1.4880000e+04, 8.0000000e+00]])"
            ]
          },
          "metadata": {
            "tags": []
          },
          "execution_count": 45
        }
      ]
    },
    {
      "cell_type": "code",
      "metadata": {
        "id": "Z8YYU2SPsZ5Z",
        "colab": {
          "base_uri": "https://localhost:8080/"
        },
        "outputId": "385db1c7-1dd3-464e-c79b-ff5295ef4c35"
      },
      "source": [
        "model.predict(predict_data_with_bedrooms_poly)"
      ],
      "execution_count": null,
      "outputs": [
        {
          "output_type": "execute_result",
          "data": {
            "text/plain": [
              "array([[527873.99903645],\n",
              "       [802830.01563471]])"
            ]
          },
          "metadata": {
            "tags": []
          },
          "execution_count": 46
        }
      ]
    },
    {
      "cell_type": "markdown",
      "metadata": {
        "id": "Lxn4ukY2ud7e"
      },
      "source": [
        "#Drzewo decyzyjne"
      ]
    },
    {
      "cell_type": "code",
      "metadata": {
        "id": "mZL7ZtxeumIi"
      },
      "source": [
        "import pandas as pd\n",
        "import numpy as np\n",
        "from sklearn.tree import DecisionTreeRegressor"
      ],
      "execution_count": null,
      "outputs": []
    },
    {
      "cell_type": "code",
      "metadata": {
        "id": "Zid7ezLBuz9r",
        "colab": {
          "base_uri": "https://localhost:8080/"
        },
        "outputId": "955b0094-283c-48b8-a3ff-b79c70bedc13"
      },
      "source": [
        "X.values[:5]"
      ],
      "execution_count": null,
      "outputs": [
        {
          "output_type": "execute_result",
          "data": {
            "text/plain": [
              "array([[2104],\n",
              "       [1600],\n",
              "       [2400],\n",
              "       [1416],\n",
              "       [3000]])"
            ]
          },
          "metadata": {
            "tags": []
          },
          "execution_count": 48
        }
      ]
    },
    {
      "cell_type": "code",
      "metadata": {
        "id": "ox8X-Fcsu6DL",
        "colab": {
          "base_uri": "https://localhost:8080/"
        },
        "outputId": "f1a70c83-0485-4bc1-f1c1-15e390c0f9d5"
      },
      "source": [
        "model = DecisionTreeRegressor()\n",
        "model.fit(X, y)"
      ],
      "execution_count": null,
      "outputs": [
        {
          "output_type": "execute_result",
          "data": {
            "text/plain": [
              "DecisionTreeRegressor(ccp_alpha=0.0, criterion='mse', max_depth=None,\n",
              "                      max_features=None, max_leaf_nodes=None,\n",
              "                      min_impurity_decrease=0.0, min_impurity_split=None,\n",
              "                      min_samples_leaf=1, min_samples_split=2,\n",
              "                      min_weight_fraction_leaf=0.0, presort='deprecated',\n",
              "                      random_state=None, splitter='best')"
            ]
          },
          "metadata": {
            "tags": []
          },
          "execution_count": 49
        }
      ]
    },
    {
      "cell_type": "code",
      "metadata": {
        "id": "xOdp4Lpou_bO",
        "colab": {
          "base_uri": "https://localhost:8080/"
        },
        "outputId": "31514ee8-4ede-42b8-ad15-fbd2f3549e44"
      },
      "source": [
        "predict_data"
      ],
      "execution_count": null,
      "outputs": [
        {
          "output_type": "execute_result",
          "data": {
            "text/plain": [
              "array([[3200],\n",
              "       [3720]])"
            ]
          },
          "metadata": {
            "tags": []
          },
          "execution_count": 50
        }
      ]
    },
    {
      "cell_type": "code",
      "metadata": {
        "id": "8oiHbP1cvM8c",
        "colab": {
          "base_uri": "https://localhost:8080/"
        },
        "outputId": "9777a65a-40a9-4907-8a5e-7bf1f8e0676a"
      },
      "source": [
        "model.predict(predict_data)"
      ],
      "execution_count": null,
      "outputs": [
        {
          "output_type": "execute_result",
          "data": {
            "text/plain": [
              "array([579900., 573900.])"
            ]
          },
          "metadata": {
            "tags": []
          },
          "execution_count": 51
        }
      ]
    },
    {
      "cell_type": "markdown",
      "metadata": {
        "id": "bhlOD5qJv9SH"
      },
      "source": [
        "modifukujemy parametry drzewa"
      ]
    },
    {
      "cell_type": "code",
      "metadata": {
        "id": "-dKffrkJwCGm"
      },
      "source": [
        "model = DecisionTreeRegressor(max_depth=5, min_samples_split=3)"
      ],
      "execution_count": null,
      "outputs": []
    },
    {
      "cell_type": "code",
      "metadata": {
        "id": "C3UbDgaowJ-4",
        "colab": {
          "base_uri": "https://localhost:8080/"
        },
        "outputId": "7b738ee8-14a7-40d1-8622-d2442e88f36e"
      },
      "source": [
        "model.fit(X, y)"
      ],
      "execution_count": null,
      "outputs": [
        {
          "output_type": "execute_result",
          "data": {
            "text/plain": [
              "DecisionTreeRegressor(ccp_alpha=0.0, criterion='mse', max_depth=5,\n",
              "                      max_features=None, max_leaf_nodes=None,\n",
              "                      min_impurity_decrease=0.0, min_impurity_split=None,\n",
              "                      min_samples_leaf=1, min_samples_split=3,\n",
              "                      min_weight_fraction_leaf=0.0, presort='deprecated',\n",
              "                      random_state=None, splitter='best')"
            ]
          },
          "metadata": {
            "tags": []
          },
          "execution_count": 53
        }
      ]
    },
    {
      "cell_type": "code",
      "metadata": {
        "id": "fosCcHbHwQYh",
        "colab": {
          "base_uri": "https://localhost:8080/"
        },
        "outputId": "7ec07a1b-9fb6-4c32-9500-6b8a3d9eebcd"
      },
      "source": [
        "predict_data"
      ],
      "execution_count": null,
      "outputs": [
        {
          "output_type": "execute_result",
          "data": {
            "text/plain": [
              "array([[3200],\n",
              "       [3720]])"
            ]
          },
          "metadata": {
            "tags": []
          },
          "execution_count": 54
        }
      ]
    },
    {
      "cell_type": "code",
      "metadata": {
        "id": "wlSpo4NnwTu4",
        "colab": {
          "base_uri": "https://localhost:8080/"
        },
        "outputId": "c8bb0704-0fa0-4902-9291-16addbf3ae02"
      },
      "source": [
        "model.predict(predict_data)"
      ],
      "execution_count": null,
      "outputs": [
        {
          "output_type": "execute_result",
          "data": {
            "text/plain": [
              "array([576900., 576900.])"
            ]
          },
          "metadata": {
            "tags": []
          },
          "execution_count": 55
        }
      ]
    },
    {
      "cell_type": "markdown",
      "metadata": {
        "id": "8L3SXwv2vZLm"
      },
      "source": [
        "#Drzewo decyzyjne z wieloma zmiennymi"
      ]
    },
    {
      "cell_type": "code",
      "metadata": {
        "id": "rvQzarkMvVUO",
        "colab": {
          "base_uri": "https://localhost:8080/"
        },
        "outputId": "b00587e7-1231-432c-ed49-924135033d0e"
      },
      "source": [
        "x.values[:5]"
      ],
      "execution_count": null,
      "outputs": [
        {
          "output_type": "execute_result",
          "data": {
            "text/plain": [
              "array([[2104,    3],\n",
              "       [1600,    3],\n",
              "       [2400,    3],\n",
              "       [1416,    2],\n",
              "       [3000,    4]])"
            ]
          },
          "metadata": {
            "tags": []
          },
          "execution_count": 56
        }
      ]
    },
    {
      "cell_type": "code",
      "metadata": {
        "id": "jC1LlwPJvgof",
        "colab": {
          "base_uri": "https://localhost:8080/"
        },
        "outputId": "3c626713-8b1b-43ef-d2e3-de462e3a7389"
      },
      "source": [
        "model = DecisionTreeRegressor(max_depth=5, min_samples_split=3)\n",
        "model.fit(x, y)"
      ],
      "execution_count": null,
      "outputs": [
        {
          "output_type": "execute_result",
          "data": {
            "text/plain": [
              "DecisionTreeRegressor(ccp_alpha=0.0, criterion='mse', max_depth=5,\n",
              "                      max_features=None, max_leaf_nodes=None,\n",
              "                      min_impurity_decrease=0.0, min_impurity_split=None,\n",
              "                      min_samples_leaf=1, min_samples_split=3,\n",
              "                      min_weight_fraction_leaf=0.0, presort='deprecated',\n",
              "                      random_state=None, splitter='best')"
            ]
          },
          "metadata": {
            "tags": []
          },
          "execution_count": 57
        }
      ]
    },
    {
      "cell_type": "code",
      "metadata": {
        "id": "0lWowpomvvhX",
        "colab": {
          "base_uri": "https://localhost:8080/"
        },
        "outputId": "6a197960-c407-441f-fcb2-19e82aaa0242"
      },
      "source": [
        "predict_data_with_bedrooms"
      ],
      "execution_count": null,
      "outputs": [
        {
          "output_type": "execute_result",
          "data": {
            "text/plain": [
              "array([[3200,    3],\n",
              "       [3720,    2]])"
            ]
          },
          "metadata": {
            "tags": []
          },
          "execution_count": 58
        }
      ]
    },
    {
      "cell_type": "code",
      "metadata": {
        "id": "tSY_d2pBvwam",
        "colab": {
          "base_uri": "https://localhost:8080/"
        },
        "outputId": "3f241cac-b780-4867-c066-07b31daea5c2"
      },
      "source": [
        "model.predict(predict_data_with_bedrooms)"
      ],
      "execution_count": null,
      "outputs": [
        {
          "output_type": "execute_result",
          "data": {
            "text/plain": [
              "array([576900., 576900.])"
            ]
          },
          "metadata": {
            "tags": []
          },
          "execution_count": 59
        }
      ]
    },
    {
      "cell_type": "markdown",
      "metadata": {
        "id": "g1A_0LcNwbYG"
      },
      "source": [
        "modyfikujemy parametry drzewa z wieloma zmiennymi"
      ]
    },
    {
      "cell_type": "code",
      "metadata": {
        "id": "X59xf7aIw7-1",
        "colab": {
          "base_uri": "https://localhost:8080/"
        },
        "outputId": "bb4cd00b-f97e-4eeb-b92e-c1f03e263087"
      },
      "source": [
        "model.predict(predict_data_with_bedrooms)"
      ],
      "execution_count": null,
      "outputs": [
        {
          "output_type": "execute_result",
          "data": {
            "text/plain": [
              "array([576900., 576900.])"
            ]
          },
          "metadata": {
            "tags": []
          },
          "execution_count": 60
        }
      ]
    },
    {
      "cell_type": "markdown",
      "metadata": {
        "id": "CInGmXb5F7Gn"
      },
      "source": [
        "#Wizualizacja danych"
      ]
    },
    {
      "cell_type": "code",
      "metadata": {
        "id": "-6d4WcxeCNUV"
      },
      "source": [
        "from plotly.offline import iplot "
      ],
      "execution_count": null,
      "outputs": []
    },
    {
      "cell_type": "code",
      "metadata": {
        "id": "jQy8D9w4GZVx",
        "colab": {
          "base_uri": "https://localhost:8080/"
        },
        "outputId": "94320436-c2db-4710-e0a5-ecf5b66f92c6"
      },
      "source": [
        "data.bedrooms"
      ],
      "execution_count": null,
      "outputs": [
        {
          "output_type": "execute_result",
          "data": {
            "text/plain": [
              "0     3\n",
              "1     3\n",
              "2     3\n",
              "3     2\n",
              "4     4\n",
              "5     4\n",
              "6     3\n",
              "7     3\n",
              "8     3\n",
              "9     3\n",
              "10    4\n",
              "11    3\n",
              "12    3\n",
              "13    5\n",
              "14    3\n",
              "15    4\n",
              "16    2\n",
              "17    3\n",
              "18    4\n",
              "19    4\n",
              "20    3\n",
              "21    2\n",
              "22    3\n",
              "23    4\n",
              "24    3\n",
              "25    3\n",
              "26    3\n",
              "27    3\n",
              "28    3\n",
              "29    3\n",
              "30    2\n",
              "31    1\n",
              "32    4\n",
              "33    3\n",
              "34    4\n",
              "35    3\n",
              "36    3\n",
              "37    4\n",
              "38    4\n",
              "39    4\n",
              "40    2\n",
              "41    3\n",
              "42    4\n",
              "43    3\n",
              "44    2\n",
              "45    4\n",
              "46    3\n",
              "Name: bedrooms, dtype: int64"
            ]
          },
          "metadata": {
            "tags": []
          },
          "execution_count": 62
        }
      ]
    },
    {
      "cell_type": "code",
      "metadata": {
        "id": "MBt-8LLjF-6B",
        "colab": {
          "base_uri": "https://localhost:8080/",
          "height": 542
        },
        "outputId": "52de51ef-c507-4890-c6aa-bab31651296e"
      },
      "source": [
        "dane = [\n",
        "        {\n",
        "          'x': data.meters,\n",
        "          'y': data.price,\n",
        "          'mode': 'markers',\n",
        "          'marker': {\n",
        "              'color': data.bedrooms,\n",
        "              # 'size': data.bedrooms,\n",
        "              'showscale': True\n",
        "          },\n",
        "          'text': data.bedrooms\n",
        "        }\n",
        "]\n",
        "iplot(dane)"
      ],
      "execution_count": null,
      "outputs": [
        {
          "output_type": "display_data",
          "data": {
            "text/html": [
              "<html>\n",
              "<head><meta charset=\"utf-8\" /></head>\n",
              "<body>\n",
              "    <div>\n",
              "            <script src=\"https://cdnjs.cloudflare.com/ajax/libs/mathjax/2.7.5/MathJax.js?config=TeX-AMS-MML_SVG\"></script><script type=\"text/javascript\">if (window.MathJax) {MathJax.Hub.Config({SVG: {font: \"STIX-Web\"}});}</script>\n",
              "                <script type=\"text/javascript\">window.PlotlyConfig = {MathJaxConfig: 'local'};</script>\n",
              "        <script src=\"https://cdn.plot.ly/plotly-latest.min.js\"></script>    \n",
              "            <div id=\"ad035444-a611-4a4f-818a-d3b0a64042f0\" class=\"plotly-graph-div\" style=\"height:525px; width:100%;\"></div>\n",
              "            <script type=\"text/javascript\">\n",
              "                \n",
              "                    window.PLOTLYENV=window.PLOTLYENV || {};\n",
              "                    \n",
              "                if (document.getElementById(\"ad035444-a611-4a4f-818a-d3b0a64042f0\")) {\n",
              "                    Plotly.newPlot(\n",
              "                        'ad035444-a611-4a4f-818a-d3b0a64042f0',\n",
              "                        [{\"marker\": {\"color\": [3, 3, 3, 2, 4, 4, 3, 3, 3, 3, 4, 3, 3, 5, 3, 4, 2, 3, 4, 4, 3, 2, 3, 4, 3, 3, 3, 3, 3, 3, 2, 1, 4, 3, 4, 3, 3, 4, 4, 4, 2, 3, 4, 3, 2, 4, 3], \"showscale\": true}, \"mode\": \"markers\", \"text\": [3.0, 3.0, 3.0, 2.0, 4.0, 4.0, 3.0, 3.0, 3.0, 3.0, 4.0, 3.0, 3.0, 5.0, 3.0, 4.0, 2.0, 3.0, 4.0, 4.0, 3.0, 2.0, 3.0, 4.0, 3.0, 3.0, 3.0, 3.0, 3.0, 3.0, 2.0, 1.0, 4.0, 3.0, 4.0, 3.0, 3.0, 4.0, 4.0, 4.0, 2.0, 3.0, 4.0, 3.0, 2.0, 4.0, 3.0], \"type\": \"scatter\", \"x\": [2104, 1600, 2400, 1416, 3000, 1985, 1534, 1427, 1380, 1494, 1940, 2000, 1890, 4478, 1268, 2300, 1320, 1236, 2609, 3031, 1767, 1888, 1604, 1962, 3890, 1100, 1458, 2526, 2200, 2637, 1839, 1000, 2040, 3137, 1811, 1437, 1239, 2132, 4215, 2162, 1664, 2238, 2567, 1200, 852, 1852, 1203], \"y\": [399900, 329900, 369000, 232000, 539900, 299900, 314900, 198999, 212000, 242500, 239999, 347000, 329999, 699900, 259900, 449900, 299900, 199900, 499998, 599000, 252900, 255000, 242900, 259900, 573900, 249900, 464500, 469000, 475000, 299900, 349900, 169900, 314900, 579900, 285900, 249900, 229900, 345000, 549000, 287000, 368500, 329900, 314000, 299000, 179900, 299900, 239500]}],\n",
              "                        {\"template\": {\"data\": {\"bar\": [{\"error_x\": {\"color\": \"#2a3f5f\"}, \"error_y\": {\"color\": \"#2a3f5f\"}, \"marker\": {\"line\": {\"color\": \"#E5ECF6\", \"width\": 0.5}}, \"type\": \"bar\"}], \"barpolar\": [{\"marker\": {\"line\": {\"color\": \"#E5ECF6\", \"width\": 0.5}}, \"type\": \"barpolar\"}], \"carpet\": [{\"aaxis\": {\"endlinecolor\": \"#2a3f5f\", \"gridcolor\": \"white\", \"linecolor\": \"white\", \"minorgridcolor\": \"white\", \"startlinecolor\": \"#2a3f5f\"}, \"baxis\": {\"endlinecolor\": \"#2a3f5f\", \"gridcolor\": \"white\", \"linecolor\": \"white\", \"minorgridcolor\": \"white\", \"startlinecolor\": \"#2a3f5f\"}, \"type\": \"carpet\"}], \"choropleth\": [{\"colorbar\": {\"outlinewidth\": 0, \"ticks\": \"\"}, \"type\": \"choropleth\"}], \"contour\": [{\"colorbar\": {\"outlinewidth\": 0, \"ticks\": \"\"}, \"colorscale\": [[0.0, \"#0d0887\"], [0.1111111111111111, \"#46039f\"], [0.2222222222222222, \"#7201a8\"], [0.3333333333333333, \"#9c179e\"], [0.4444444444444444, \"#bd3786\"], [0.5555555555555556, \"#d8576b\"], [0.6666666666666666, \"#ed7953\"], [0.7777777777777778, \"#fb9f3a\"], [0.8888888888888888, \"#fdca26\"], [1.0, \"#f0f921\"]], \"type\": \"contour\"}], \"contourcarpet\": [{\"colorbar\": {\"outlinewidth\": 0, \"ticks\": \"\"}, \"type\": \"contourcarpet\"}], \"heatmap\": [{\"colorbar\": {\"outlinewidth\": 0, \"ticks\": \"\"}, \"colorscale\": [[0.0, \"#0d0887\"], [0.1111111111111111, \"#46039f\"], [0.2222222222222222, \"#7201a8\"], [0.3333333333333333, \"#9c179e\"], [0.4444444444444444, \"#bd3786\"], [0.5555555555555556, \"#d8576b\"], [0.6666666666666666, \"#ed7953\"], [0.7777777777777778, \"#fb9f3a\"], [0.8888888888888888, \"#fdca26\"], [1.0, \"#f0f921\"]], \"type\": \"heatmap\"}], \"heatmapgl\": [{\"colorbar\": {\"outlinewidth\": 0, \"ticks\": \"\"}, \"colorscale\": [[0.0, \"#0d0887\"], [0.1111111111111111, \"#46039f\"], [0.2222222222222222, \"#7201a8\"], [0.3333333333333333, \"#9c179e\"], [0.4444444444444444, \"#bd3786\"], [0.5555555555555556, \"#d8576b\"], [0.6666666666666666, \"#ed7953\"], [0.7777777777777778, \"#fb9f3a\"], [0.8888888888888888, \"#fdca26\"], [1.0, \"#f0f921\"]], \"type\": \"heatmapgl\"}], \"histogram\": [{\"marker\": {\"colorbar\": {\"outlinewidth\": 0, \"ticks\": \"\"}}, \"type\": \"histogram\"}], \"histogram2d\": [{\"colorbar\": {\"outlinewidth\": 0, \"ticks\": \"\"}, \"colorscale\": [[0.0, \"#0d0887\"], [0.1111111111111111, \"#46039f\"], [0.2222222222222222, \"#7201a8\"], [0.3333333333333333, \"#9c179e\"], [0.4444444444444444, \"#bd3786\"], [0.5555555555555556, \"#d8576b\"], [0.6666666666666666, \"#ed7953\"], [0.7777777777777778, \"#fb9f3a\"], [0.8888888888888888, \"#fdca26\"], [1.0, \"#f0f921\"]], \"type\": \"histogram2d\"}], \"histogram2dcontour\": [{\"colorbar\": {\"outlinewidth\": 0, \"ticks\": \"\"}, \"colorscale\": [[0.0, \"#0d0887\"], [0.1111111111111111, \"#46039f\"], [0.2222222222222222, \"#7201a8\"], [0.3333333333333333, \"#9c179e\"], [0.4444444444444444, \"#bd3786\"], [0.5555555555555556, \"#d8576b\"], [0.6666666666666666, \"#ed7953\"], [0.7777777777777778, \"#fb9f3a\"], [0.8888888888888888, \"#fdca26\"], [1.0, \"#f0f921\"]], \"type\": \"histogram2dcontour\"}], \"mesh3d\": [{\"colorbar\": {\"outlinewidth\": 0, \"ticks\": \"\"}, \"type\": \"mesh3d\"}], \"parcoords\": [{\"line\": {\"colorbar\": {\"outlinewidth\": 0, \"ticks\": \"\"}}, \"type\": \"parcoords\"}], \"pie\": [{\"automargin\": true, \"type\": \"pie\"}], \"scatter\": [{\"marker\": {\"colorbar\": {\"outlinewidth\": 0, \"ticks\": \"\"}}, \"type\": \"scatter\"}], \"scatter3d\": [{\"line\": {\"colorbar\": {\"outlinewidth\": 0, \"ticks\": \"\"}}, \"marker\": {\"colorbar\": {\"outlinewidth\": 0, \"ticks\": \"\"}}, \"type\": \"scatter3d\"}], \"scattercarpet\": [{\"marker\": {\"colorbar\": {\"outlinewidth\": 0, \"ticks\": \"\"}}, \"type\": \"scattercarpet\"}], \"scattergeo\": [{\"marker\": {\"colorbar\": {\"outlinewidth\": 0, \"ticks\": \"\"}}, \"type\": \"scattergeo\"}], \"scattergl\": [{\"marker\": {\"colorbar\": {\"outlinewidth\": 0, \"ticks\": \"\"}}, \"type\": \"scattergl\"}], \"scattermapbox\": [{\"marker\": {\"colorbar\": {\"outlinewidth\": 0, \"ticks\": \"\"}}, \"type\": \"scattermapbox\"}], \"scatterpolar\": [{\"marker\": {\"colorbar\": {\"outlinewidth\": 0, \"ticks\": \"\"}}, \"type\": \"scatterpolar\"}], \"scatterpolargl\": [{\"marker\": {\"colorbar\": {\"outlinewidth\": 0, \"ticks\": \"\"}}, \"type\": \"scatterpolargl\"}], \"scatterternary\": [{\"marker\": {\"colorbar\": {\"outlinewidth\": 0, \"ticks\": \"\"}}, \"type\": \"scatterternary\"}], \"surface\": [{\"colorbar\": {\"outlinewidth\": 0, \"ticks\": \"\"}, \"colorscale\": [[0.0, \"#0d0887\"], [0.1111111111111111, \"#46039f\"], [0.2222222222222222, \"#7201a8\"], [0.3333333333333333, \"#9c179e\"], [0.4444444444444444, \"#bd3786\"], [0.5555555555555556, \"#d8576b\"], [0.6666666666666666, \"#ed7953\"], [0.7777777777777778, \"#fb9f3a\"], [0.8888888888888888, \"#fdca26\"], [1.0, \"#f0f921\"]], \"type\": \"surface\"}], \"table\": [{\"cells\": {\"fill\": {\"color\": \"#EBF0F8\"}, \"line\": {\"color\": \"white\"}}, \"header\": {\"fill\": {\"color\": \"#C8D4E3\"}, \"line\": {\"color\": \"white\"}}, \"type\": \"table\"}]}, \"layout\": {\"annotationdefaults\": {\"arrowcolor\": \"#2a3f5f\", \"arrowhead\": 0, \"arrowwidth\": 1}, \"coloraxis\": {\"colorbar\": {\"outlinewidth\": 0, \"ticks\": \"\"}}, \"colorscale\": {\"diverging\": [[0, \"#8e0152\"], [0.1, \"#c51b7d\"], [0.2, \"#de77ae\"], [0.3, \"#f1b6da\"], [0.4, \"#fde0ef\"], [0.5, \"#f7f7f7\"], [0.6, \"#e6f5d0\"], [0.7, \"#b8e186\"], [0.8, \"#7fbc41\"], [0.9, \"#4d9221\"], [1, \"#276419\"]], \"sequential\": [[0.0, \"#0d0887\"], [0.1111111111111111, \"#46039f\"], [0.2222222222222222, \"#7201a8\"], [0.3333333333333333, \"#9c179e\"], [0.4444444444444444, \"#bd3786\"], [0.5555555555555556, \"#d8576b\"], [0.6666666666666666, \"#ed7953\"], [0.7777777777777778, \"#fb9f3a\"], [0.8888888888888888, \"#fdca26\"], [1.0, \"#f0f921\"]], \"sequentialminus\": [[0.0, \"#0d0887\"], [0.1111111111111111, \"#46039f\"], [0.2222222222222222, \"#7201a8\"], [0.3333333333333333, \"#9c179e\"], [0.4444444444444444, \"#bd3786\"], [0.5555555555555556, \"#d8576b\"], [0.6666666666666666, \"#ed7953\"], [0.7777777777777778, \"#fb9f3a\"], [0.8888888888888888, \"#fdca26\"], [1.0, \"#f0f921\"]]}, \"colorway\": [\"#636efa\", \"#EF553B\", \"#00cc96\", \"#ab63fa\", \"#FFA15A\", \"#19d3f3\", \"#FF6692\", \"#B6E880\", \"#FF97FF\", \"#FECB52\"], \"font\": {\"color\": \"#2a3f5f\"}, \"geo\": {\"bgcolor\": \"white\", \"lakecolor\": \"white\", \"landcolor\": \"#E5ECF6\", \"showlakes\": true, \"showland\": true, \"subunitcolor\": \"white\"}, \"hoverlabel\": {\"align\": \"left\"}, \"hovermode\": \"closest\", \"mapbox\": {\"style\": \"light\"}, \"paper_bgcolor\": \"white\", \"plot_bgcolor\": \"#E5ECF6\", \"polar\": {\"angularaxis\": {\"gridcolor\": \"white\", \"linecolor\": \"white\", \"ticks\": \"\"}, \"bgcolor\": \"#E5ECF6\", \"radialaxis\": {\"gridcolor\": \"white\", \"linecolor\": \"white\", \"ticks\": \"\"}}, \"scene\": {\"xaxis\": {\"backgroundcolor\": \"#E5ECF6\", \"gridcolor\": \"white\", \"gridwidth\": 2, \"linecolor\": \"white\", \"showbackground\": true, \"ticks\": \"\", \"zerolinecolor\": \"white\"}, \"yaxis\": {\"backgroundcolor\": \"#E5ECF6\", \"gridcolor\": \"white\", \"gridwidth\": 2, \"linecolor\": \"white\", \"showbackground\": true, \"ticks\": \"\", \"zerolinecolor\": \"white\"}, \"zaxis\": {\"backgroundcolor\": \"#E5ECF6\", \"gridcolor\": \"white\", \"gridwidth\": 2, \"linecolor\": \"white\", \"showbackground\": true, \"ticks\": \"\", \"zerolinecolor\": \"white\"}}, \"shapedefaults\": {\"line\": {\"color\": \"#2a3f5f\"}}, \"ternary\": {\"aaxis\": {\"gridcolor\": \"white\", \"linecolor\": \"white\", \"ticks\": \"\"}, \"baxis\": {\"gridcolor\": \"white\", \"linecolor\": \"white\", \"ticks\": \"\"}, \"bgcolor\": \"#E5ECF6\", \"caxis\": {\"gridcolor\": \"white\", \"linecolor\": \"white\", \"ticks\": \"\"}}, \"title\": {\"x\": 0.05}, \"xaxis\": {\"automargin\": true, \"gridcolor\": \"white\", \"linecolor\": \"white\", \"ticks\": \"\", \"title\": {\"standoff\": 15}, \"zerolinecolor\": \"white\", \"zerolinewidth\": 2}, \"yaxis\": {\"automargin\": true, \"gridcolor\": \"white\", \"linecolor\": \"white\", \"ticks\": \"\", \"title\": {\"standoff\": 15}, \"zerolinecolor\": \"white\", \"zerolinewidth\": 2}}}},\n",
              "                        {\"responsive\": true}\n",
              "                    ).then(function(){\n",
              "                            \n",
              "var gd = document.getElementById('ad035444-a611-4a4f-818a-d3b0a64042f0');\n",
              "var x = new MutationObserver(function (mutations, observer) {{\n",
              "        var display = window.getComputedStyle(gd).display;\n",
              "        if (!display || display === 'none') {{\n",
              "            console.log([gd, 'removed!']);\n",
              "            Plotly.purge(gd);\n",
              "            observer.disconnect();\n",
              "        }}\n",
              "}});\n",
              "\n",
              "// Listen for the removal of the full notebook cells\n",
              "var notebookContainer = gd.closest('#notebook-container');\n",
              "if (notebookContainer) {{\n",
              "    x.observe(notebookContainer, {childList: true});\n",
              "}}\n",
              "\n",
              "// Listen for the clearing of the current output cell\n",
              "var outputEl = gd.closest('.output');\n",
              "if (outputEl) {{\n",
              "    x.observe(outputEl, {childList: true});\n",
              "}}\n",
              "\n",
              "                        })\n",
              "                };\n",
              "                \n",
              "            </script>\n",
              "        </div>\n",
              "</body>\n",
              "</html>"
            ]
          },
          "metadata": {
            "tags": []
          }
        }
      ]
    },
    {
      "cell_type": "markdown",
      "metadata": {
        "id": "51wB3BYZeDNb"
      },
      "source": [
        "#Metody oceny modelu"
      ]
    },
    {
      "cell_type": "code",
      "metadata": {
        "id": "4vNuvNDKeGS4"
      },
      "source": [
        "from sklearn.model_selection import train_test_split"
      ],
      "execution_count": null,
      "outputs": []
    },
    {
      "cell_type": "code",
      "metadata": {
        "id": "Gqf0--gpeSgJ",
        "colab": {
          "base_uri": "https://localhost:8080/"
        },
        "outputId": "6ce1ac45-21ba-4dd1-a6ce-b52df3a9835e"
      },
      "source": [
        "x.values"
      ],
      "execution_count": null,
      "outputs": [
        {
          "output_type": "execute_result",
          "data": {
            "text/plain": [
              "array([[2104,    3],\n",
              "       [1600,    3],\n",
              "       [2400,    3],\n",
              "       [1416,    2],\n",
              "       [3000,    4],\n",
              "       [1985,    4],\n",
              "       [1534,    3],\n",
              "       [1427,    3],\n",
              "       [1380,    3],\n",
              "       [1494,    3],\n",
              "       [1940,    4],\n",
              "       [2000,    3],\n",
              "       [1890,    3],\n",
              "       [4478,    5],\n",
              "       [1268,    3],\n",
              "       [2300,    4],\n",
              "       [1320,    2],\n",
              "       [1236,    3],\n",
              "       [2609,    4],\n",
              "       [3031,    4],\n",
              "       [1767,    3],\n",
              "       [1888,    2],\n",
              "       [1604,    3],\n",
              "       [1962,    4],\n",
              "       [3890,    3],\n",
              "       [1100,    3],\n",
              "       [1458,    3],\n",
              "       [2526,    3],\n",
              "       [2200,    3],\n",
              "       [2637,    3],\n",
              "       [1839,    2],\n",
              "       [1000,    1],\n",
              "       [2040,    4],\n",
              "       [3137,    3],\n",
              "       [1811,    4],\n",
              "       [1437,    3],\n",
              "       [1239,    3],\n",
              "       [2132,    4],\n",
              "       [4215,    4],\n",
              "       [2162,    4],\n",
              "       [1664,    2],\n",
              "       [2238,    3],\n",
              "       [2567,    4],\n",
              "       [1200,    3],\n",
              "       [ 852,    2],\n",
              "       [1852,    4],\n",
              "       [1203,    3]])"
            ]
          },
          "metadata": {
            "tags": []
          },
          "execution_count": 65
        }
      ]
    },
    {
      "cell_type": "markdown",
      "metadata": {
        "id": "sJgDUINBfDTU"
      },
      "source": [
        "podział na zbiór uczący i testowy"
      ]
    },
    {
      "cell_type": "code",
      "metadata": {
        "id": "uosQwMLceXvR"
      },
      "source": [
        "x_train, x_test, y_train, y_test = train_test_split(x, y, test_size=0.2, random_state=42)"
      ],
      "execution_count": null,
      "outputs": []
    },
    {
      "cell_type": "code",
      "metadata": {
        "id": "LCCxprWKen_F",
        "colab": {
          "base_uri": "https://localhost:8080/"
        },
        "outputId": "4a34970e-8ae7-4ac5-e3c1-0229d200f361"
      },
      "source": [
        "print(x.shape, y.shape)\n",
        "print(x_train.shape, y_train.shape)\n",
        "print(x_test.shape, y_test.shape)"
      ],
      "execution_count": null,
      "outputs": [
        {
          "output_type": "stream",
          "text": [
            "(47, 2) (47, 1)\n",
            "(37, 2) (37, 1)\n",
            "(10, 2) (10, 1)\n"
          ],
          "name": "stdout"
        }
      ]
    },
    {
      "cell_type": "markdown",
      "metadata": {
        "id": "BigfKGDufHKo"
      },
      "source": [
        "podział na zbiór uczący z wydzielonym zbiorem walidacyjnym i zbiór testowy"
      ]
    },
    {
      "cell_type": "code",
      "metadata": {
        "id": "VYzABOS8fNMW"
      },
      "source": [
        "x_train, x_test, y_train, y_test = train_test_split(x, y, test_size=0.2, random_state=42)\n",
        "x_train, x_val, y_train, y_val = train_test_split(x_train, y_train, test_size=0.25, random_state=1)"
      ],
      "execution_count": null,
      "outputs": []
    },
    {
      "cell_type": "code",
      "metadata": {
        "id": "lL_R4QokfvuZ",
        "colab": {
          "base_uri": "https://localhost:8080/"
        },
        "outputId": "24ab1ffd-c732-40e2-e219-049f4bc564f4"
      },
      "source": [
        "print(x.shape, y.shape)\n",
        "print(x_train.shape, y_train.shape)\n",
        "print(x_val.shape, y_val.shape)\n",
        "print(x_test.shape, y_test.shape)"
      ],
      "execution_count": null,
      "outputs": [
        {
          "output_type": "stream",
          "text": [
            "(47, 2) (47, 1)\n",
            "(27, 2) (27, 1)\n",
            "(10, 2) (10, 1)\n",
            "(10, 2) (10, 1)\n"
          ],
          "name": "stdout"
        }
      ]
    },
    {
      "cell_type": "markdown",
      "metadata": {
        "id": "UWZmtQZWgGCP"
      },
      "source": [
        "Metoda kroswalidacji"
      ]
    },
    {
      "cell_type": "code",
      "metadata": {
        "id": "sQsWQJbogI8i"
      },
      "source": [
        "from sklearn.model_selection import KFold"
      ],
      "execution_count": null,
      "outputs": []
    },
    {
      "cell_type": "code",
      "metadata": {
        "id": "shvWfcHrgPhp"
      },
      "source": [
        "cv = KFold(n_splits=5, shuffle=True, random_state=42)"
      ],
      "execution_count": null,
      "outputs": []
    },
    {
      "cell_type": "code",
      "metadata": {
        "id": "LiGkoYDRgcQ-",
        "colab": {
          "base_uri": "https://localhost:8080/"
        },
        "outputId": "de207311-682b-4373-fc72-014ff85bc44c"
      },
      "source": [
        "for train, test in cv.split(x, y):\n",
        "  x_train, y_train = x.iloc[train], y.iloc[test]\n",
        "  x_test, y_test = x.iloc[test], y.iloc[test]\n",
        "  print(x_train.shape, x_test.shape)"
      ],
      "execution_count": null,
      "outputs": [
        {
          "output_type": "stream",
          "text": [
            "(37, 2) (10, 2)\n",
            "(37, 2) (10, 2)\n",
            "(38, 2) (9, 2)\n",
            "(38, 2) (9, 2)\n",
            "(38, 2) (9, 2)\n"
          ],
          "name": "stdout"
        }
      ]
    },
    {
      "cell_type": "markdown",
      "metadata": {
        "id": "xlQqN9n-hM2_"
      },
      "source": [
        "walidacja krzyżowa leave-one-out"
      ]
    },
    {
      "cell_type": "code",
      "metadata": {
        "id": "OZ0YFpithWqQ"
      },
      "source": [
        "from sklearn.model_selection import LeaveOneOut"
      ],
      "execution_count": null,
      "outputs": []
    },
    {
      "cell_type": "code",
      "metadata": {
        "id": "41ERhA_Cgwe8"
      },
      "source": [
        "cv2_leave_one_out = LeaveOneOut()"
      ],
      "execution_count": null,
      "outputs": []
    },
    {
      "cell_type": "code",
      "metadata": {
        "id": "nWRh_CVCheDF",
        "colab": {
          "base_uri": "https://localhost:8080/"
        },
        "outputId": "3ff2be7a-7768-4d94-adb8-4d6d1ea54849"
      },
      "source": [
        "for train, test in cv2_leave_one_out.split(x, y):\n",
        "  x_train, y_train = x.iloc[train], y.iloc[train]\n",
        "  x_test, y_test = x.iloc[test], y.iloc[test]\n",
        "  print(x_train.shape, x_test.shape)"
      ],
      "execution_count": null,
      "outputs": [
        {
          "output_type": "stream",
          "text": [
            "(46, 2) (1, 2)\n",
            "(46, 2) (1, 2)\n",
            "(46, 2) (1, 2)\n",
            "(46, 2) (1, 2)\n",
            "(46, 2) (1, 2)\n",
            "(46, 2) (1, 2)\n",
            "(46, 2) (1, 2)\n",
            "(46, 2) (1, 2)\n",
            "(46, 2) (1, 2)\n",
            "(46, 2) (1, 2)\n",
            "(46, 2) (1, 2)\n",
            "(46, 2) (1, 2)\n",
            "(46, 2) (1, 2)\n",
            "(46, 2) (1, 2)\n",
            "(46, 2) (1, 2)\n",
            "(46, 2) (1, 2)\n",
            "(46, 2) (1, 2)\n",
            "(46, 2) (1, 2)\n",
            "(46, 2) (1, 2)\n",
            "(46, 2) (1, 2)\n",
            "(46, 2) (1, 2)\n",
            "(46, 2) (1, 2)\n",
            "(46, 2) (1, 2)\n",
            "(46, 2) (1, 2)\n",
            "(46, 2) (1, 2)\n",
            "(46, 2) (1, 2)\n",
            "(46, 2) (1, 2)\n",
            "(46, 2) (1, 2)\n",
            "(46, 2) (1, 2)\n",
            "(46, 2) (1, 2)\n",
            "(46, 2) (1, 2)\n",
            "(46, 2) (1, 2)\n",
            "(46, 2) (1, 2)\n",
            "(46, 2) (1, 2)\n",
            "(46, 2) (1, 2)\n",
            "(46, 2) (1, 2)\n",
            "(46, 2) (1, 2)\n",
            "(46, 2) (1, 2)\n",
            "(46, 2) (1, 2)\n",
            "(46, 2) (1, 2)\n",
            "(46, 2) (1, 2)\n",
            "(46, 2) (1, 2)\n",
            "(46, 2) (1, 2)\n",
            "(46, 2) (1, 2)\n",
            "(46, 2) (1, 2)\n",
            "(46, 2) (1, 2)\n",
            "(46, 2) (1, 2)\n"
          ],
          "name": "stdout"
        }
      ]
    },
    {
      "cell_type": "markdown",
      "metadata": {
        "id": "h3hXqlXijja2"
      },
      "source": [
        "współczynnik R2 do oceny regresji"
      ]
    },
    {
      "cell_type": "code",
      "metadata": {
        "id": "bX27REsVjphC"
      },
      "source": [
        "from sklearn.linear_model import LinearRegression\n",
        "from sklearn.metrics import r2_score"
      ],
      "execution_count": null,
      "outputs": []
    },
    {
      "cell_type": "code",
      "metadata": {
        "id": "eD2tEYrZqnme",
        "colab": {
          "base_uri": "https://localhost:8080/"
        },
        "outputId": "d7c61d5c-325b-4caf-f817-5f59cd024e87"
      },
      "source": [
        "model = LinearRegression()\n",
        "model.fit(x, y)"
      ],
      "execution_count": null,
      "outputs": [
        {
          "output_type": "execute_result",
          "data": {
            "text/plain": [
              "LinearRegression(copy_X=True, fit_intercept=True, n_jobs=None, normalize=False)"
            ]
          },
          "metadata": {
            "tags": []
          },
          "execution_count": 77
        }
      ]
    },
    {
      "cell_type": "code",
      "metadata": {
        "id": "pRMgvkZcqx_U"
      },
      "source": [
        "y_predict = model.predict(x)"
      ],
      "execution_count": null,
      "outputs": []
    },
    {
      "cell_type": "code",
      "metadata": {
        "id": "_sMqZhvhq3Hf",
        "colab": {
          "base_uri": "https://localhost:8080/"
        },
        "outputId": "4a1d0ed7-cd1a-4a5e-c810-ee3ac0e4a3a9"
      },
      "source": [
        "print(y_predict)"
      ],
      "execution_count": null,
      "outputs": [
        {
          "output_type": "stream",
          "text": [
            "[[356283.1103389 ]\n",
            " [286120.93063401]\n",
            " [397489.46984812]\n",
            " [269244.1857271 ]\n",
            " [472277.85514636]\n",
            " [330979.02101847]\n",
            " [276933.02614885]\n",
            " [262037.48402897]\n",
            " [255494.58235014]\n",
            " [271364.59918815]\n",
            " [324714.54068768]\n",
            " [341805.20024107]\n",
            " [326492.02609913]\n",
            " [669293.21223209]\n",
            " [239902.98686016]\n",
            " [374830.38333402]\n",
            " [255879.96102141]\n",
            " [235448.2452916 ]\n",
            " [417846.48160547]\n",
            " [476593.38604091]\n",
            " [309369.11319496]\n",
            " [334951.62386342]\n",
            " [286677.77333009]\n",
            " [327777.17551607]\n",
            " [604913.37413438]\n",
            " [216515.5936252 ]\n",
            " [266353.01492351]\n",
            " [415030.01477434]\n",
            " [369647.33504459]\n",
            " [430482.39959029]\n",
            " [328130.30083656]\n",
            " [220070.5644481 ]\n",
            " [338635.60808944]\n",
            " [500087.73659911]\n",
            " [306756.36373941]\n",
            " [263429.59076914]\n",
            " [235865.87731365]\n",
            " [351442.99009906]\n",
            " [641418.82407778]\n",
            " [355619.31031959]\n",
            " [303768.43288347]\n",
            " [374937.34065726]\n",
            " [411999.63329673]\n",
            " [230436.66102696]\n",
            " [190729.36558116]\n",
            " [312464.00137413]\n",
            " [230854.29304902]]\n"
          ],
          "name": "stdout"
        }
      ]
    },
    {
      "cell_type": "code",
      "metadata": {
        "id": "r_U76yuIq8lM",
        "colab": {
          "base_uri": "https://localhost:8080/"
        },
        "outputId": "1a1f1f29-3f4b-414a-f081-e80edcc20edd"
      },
      "source": [
        "print(y)"
      ],
      "execution_count": null,
      "outputs": [
        {
          "output_type": "stream",
          "text": [
            "     price\n",
            "0   399900\n",
            "1   329900\n",
            "2   369000\n",
            "3   232000\n",
            "4   539900\n",
            "5   299900\n",
            "6   314900\n",
            "7   198999\n",
            "8   212000\n",
            "9   242500\n",
            "10  239999\n",
            "11  347000\n",
            "12  329999\n",
            "13  699900\n",
            "14  259900\n",
            "15  449900\n",
            "16  299900\n",
            "17  199900\n",
            "18  499998\n",
            "19  599000\n",
            "20  252900\n",
            "21  255000\n",
            "22  242900\n",
            "23  259900\n",
            "24  573900\n",
            "25  249900\n",
            "26  464500\n",
            "27  469000\n",
            "28  475000\n",
            "29  299900\n",
            "30  349900\n",
            "31  169900\n",
            "32  314900\n",
            "33  579900\n",
            "34  285900\n",
            "35  249900\n",
            "36  229900\n",
            "37  345000\n",
            "38  549000\n",
            "39  287000\n",
            "40  368500\n",
            "41  329900\n",
            "42  314000\n",
            "43  299000\n",
            "44  179900\n",
            "45  299900\n",
            "46  239500\n"
          ],
          "name": "stdout"
        }
      ]
    },
    {
      "cell_type": "code",
      "metadata": {
        "id": "_57jlfhErEf7",
        "colab": {
          "base_uri": "https://localhost:8080/"
        },
        "outputId": "a7686cf4-9067-4bff-dea9-ea5422cfb338"
      },
      "source": [
        "r2_score(y, y_predict)"
      ],
      "execution_count": null,
      "outputs": [
        {
          "output_type": "execute_result",
          "data": {
            "text/plain": [
              "0.7329450180289143"
            ]
          },
          "metadata": {
            "tags": []
          },
          "execution_count": 81
        }
      ]
    },
    {
      "cell_type": "code",
      "metadata": {
        "id": "iDYpcRghrgdU"
      },
      "source": [
        "x_train, x_test, y_train, y_test = train_test_split(x, y, test_size=0.2, random_state=42)"
      ],
      "execution_count": null,
      "outputs": []
    },
    {
      "cell_type": "code",
      "metadata": {
        "id": "OPssc-HCrr9j",
        "colab": {
          "base_uri": "https://localhost:8080/"
        },
        "outputId": "58485049-fe09-442e-c724-f5f4600a9ccc"
      },
      "source": [
        "model = LinearRegression()\n",
        "model.fit(x_train, y_train)"
      ],
      "execution_count": null,
      "outputs": [
        {
          "output_type": "execute_result",
          "data": {
            "text/plain": [
              "LinearRegression(copy_X=True, fit_intercept=True, n_jobs=None, normalize=False)"
            ]
          },
          "metadata": {
            "tags": []
          },
          "execution_count": 83
        }
      ]
    },
    {
      "cell_type": "code",
      "metadata": {
        "id": "dtn_fXfKrx6j"
      },
      "source": [
        "y_pred = model.predict(x_test)"
      ],
      "execution_count": null,
      "outputs": []
    },
    {
      "cell_type": "markdown",
      "metadata": {
        "id": "ElqpJVwTsCyX"
      },
      "source": [
        "MAE - mean absolute error"
      ]
    },
    {
      "cell_type": "code",
      "metadata": {
        "id": "SAPHRH3dsHOx"
      },
      "source": [
        "from sklearn.metrics import mean_absolute_error"
      ],
      "execution_count": null,
      "outputs": []
    },
    {
      "cell_type": "code",
      "metadata": {
        "id": "96rr_yFAr_qQ",
        "colab": {
          "base_uri": "https://localhost:8080/"
        },
        "outputId": "24e71f8a-25c1-493d-f957-681f28e43ea3"
      },
      "source": [
        "mean_absolute_error(y_test, y_pred)"
      ],
      "execution_count": null,
      "outputs": [
        {
          "output_type": "execute_result",
          "data": {
            "text/plain": [
              "72334.75360356673"
            ]
          },
          "metadata": {
            "tags": []
          },
          "execution_count": 86
        }
      ]
    },
    {
      "cell_type": "markdown",
      "metadata": {
        "id": "u6GAZFoTsbNt"
      },
      "source": [
        "MAPE - mean absolute percentage error - wymaga wersji 0.24 sklearn"
      ]
    },
    {
      "cell_type": "code",
      "metadata": {
        "id": "k1Xfuijhs0CT"
      },
      "source": [
        " import sklearn"
      ],
      "execution_count": null,
      "outputs": []
    },
    {
      "cell_type": "code",
      "metadata": {
        "id": "XJBJ01bYs8wy",
        "colab": {
          "base_uri": "https://localhost:8080/",
          "height": 35
        },
        "outputId": "2baecc57-bbbb-40a0-d198-0bdd8c09b279"
      },
      "source": [
        "sklearn.__version__"
      ],
      "execution_count": null,
      "outputs": [
        {
          "output_type": "execute_result",
          "data": {
            "application/vnd.google.colaboratory.intrinsic+json": {
              "type": "string"
            },
            "text/plain": [
              "'0.22.2.post1'"
            ]
          },
          "metadata": {
            "tags": []
          },
          "execution_count": 88
        }
      ]
    },
    {
      "cell_type": "code",
      "metadata": {
        "id": "uhfZHAy1sezW"
      },
      "source": [
        "# from sklearn.metrics import mean_absolute_percentage_error"
      ],
      "execution_count": null,
      "outputs": []
    },
    {
      "cell_type": "markdown",
      "metadata": {
        "id": "7h1k-q7Kt6VQ"
      },
      "source": [
        "MSE - mean squared error"
      ]
    },
    {
      "cell_type": "code",
      "metadata": {
        "id": "qp5ONUqyt8sE"
      },
      "source": [
        "from sklearn.metrics import mean_squared_error"
      ],
      "execution_count": null,
      "outputs": []
    },
    {
      "cell_type": "code",
      "metadata": {
        "id": "kkeuUCt9uEbm",
        "colab": {
          "base_uri": "https://localhost:8080/"
        },
        "outputId": "3903d2ee-68cd-4ba6-d8fd-b1ba49877c7d"
      },
      "source": [
        "mean_squared_error(y_test, y_pred)"
      ],
      "execution_count": null,
      "outputs": [
        {
          "output_type": "execute_result",
          "data": {
            "text/plain": [
              "8610424544.777674"
            ]
          },
          "metadata": {
            "tags": []
          },
          "execution_count": 91
        }
      ]
    },
    {
      "cell_type": "markdown",
      "metadata": {
        "id": "A9iOIEtzuNEn"
      },
      "source": [
        "RMSE - root mean squared eeror"
      ]
    },
    {
      "cell_type": "code",
      "metadata": {
        "id": "fwC22RuhuQsq",
        "colab": {
          "base_uri": "https://localhost:8080/"
        },
        "outputId": "be1943a9-e29b-4bc3-bf6e-6c051bedacdd"
      },
      "source": [
        "mean_squared_error(y_test, y_pred, squared=False)"
      ],
      "execution_count": null,
      "outputs": [
        {
          "output_type": "execute_result",
          "data": {
            "text/plain": [
              "92792.37331148327"
            ]
          },
          "metadata": {
            "tags": []
          },
          "execution_count": 92
        }
      ]
    },
    {
      "cell_type": "markdown",
      "metadata": {
        "id": "CDPWUKMqvdDc"
      },
      "source": [
        "Ocena dla różnych modeli"
      ]
    },
    {
      "cell_type": "code",
      "metadata": {
        "id": "dgVRhIWKvniS"
      },
      "source": [
        "from sklearn.linear_model import LinearRegression\n",
        "from sklearn.preprocessing import PolynomialFeatures\n",
        "from sklearn.tree import DecisionTreeRegressor\n",
        "from sklearn.model_selection import train_test_split\n",
        "from sklearn.model_selection import KFold\n",
        "from sklearn.model_selection import LeaveOneOut\n",
        "from sklearn.metrics import r2_score"
      ],
      "execution_count": null,
      "outputs": []
    },
    {
      "cell_type": "code",
      "metadata": {
        "id": "igY2wSwGvfjP"
      },
      "source": [
        "#model liniowy \n",
        "model_linear = LinearRegression()\n",
        "#model wielomianowy\n",
        "model_linear_for_polynomial = LinearRegression()\n",
        "poly = PolynomialFeatures(degree=3)\n",
        "x_poly = poly.fit_transform(x)\n",
        "#drzewo decyzyjne\n",
        "model_tree = DecisionTreeRegressor(max_depth=5, min_samples_split=3,)"
      ],
      "execution_count": null,
      "outputs": []
    },
    {
      "cell_type": "markdown",
      "metadata": {
        "id": "86wW_FMjw0-U"
      },
      "source": [
        "Model z podziałem na zbiór uczący i testowy"
      ]
    },
    {
      "cell_type": "code",
      "metadata": {
        "id": "ITVEs2fEwkGL"
      },
      "source": [
        "x_train, x_test, y_train, y_test = train_test_split(x, y, test_size=0.2, random_state=42)"
      ],
      "execution_count": null,
      "outputs": []
    },
    {
      "cell_type": "code",
      "metadata": {
        "id": "DKMnMOhA0BgF"
      },
      "source": [
        "x_train_poly, x_test_poly, y_train_poly, y_test_poly = train_test_split(x_poly, y, test_size=0.2, random_state=42)"
      ],
      "execution_count": null,
      "outputs": []
    },
    {
      "cell_type": "code",
      "metadata": {
        "id": "KXuLMTPSw7ZE",
        "colab": {
          "base_uri": "https://localhost:8080/"
        },
        "outputId": "6e742bb8-9bef-4ad1-a307-ed6337cb4ffb"
      },
      "source": [
        "model_linear.fit(x_train, y_train)\n",
        "model_linear_for_polynomial.fit(x_train_poly, y_train_poly)\n",
        "model_tree.fit(x_train, y_train)"
      ],
      "execution_count": null,
      "outputs": [
        {
          "output_type": "execute_result",
          "data": {
            "text/plain": [
              "DecisionTreeRegressor(ccp_alpha=0.0, criterion='mse', max_depth=5,\n",
              "                      max_features=None, max_leaf_nodes=None,\n",
              "                      min_impurity_decrease=0.0, min_impurity_split=None,\n",
              "                      min_samples_leaf=1, min_samples_split=3,\n",
              "                      min_weight_fraction_leaf=0.0, presort='deprecated',\n",
              "                      random_state=None, splitter='best')"
            ]
          },
          "metadata": {
            "tags": []
          },
          "execution_count": 97
        }
      ]
    },
    {
      "cell_type": "code",
      "metadata": {
        "id": "L7SdcYaJxhdS"
      },
      "source": [
        "y_predict_linear = model_linear.predict(x_test)\n",
        "y_predict_polynomial = model_linear_for_polynomial.predict(x_test_poly)\n",
        "y_predict_tree = model_tree.predict(x_test)"
      ],
      "execution_count": null,
      "outputs": []
    },
    {
      "cell_type": "code",
      "metadata": {
        "id": "O6P1nFhnx8qx",
        "colab": {
          "base_uri": "https://localhost:8080/"
        },
        "outputId": "4bdf8e7b-a1b2-4acd-c5fd-4b6e198fa4b0"
      },
      "source": [
        "print(f'R2 for linear: {r2_score(y_test, y_predict_linear)}')\n",
        "print(f'R2 for polynomial: {r2_score(y_test, y_predict_polynomial)}')\n",
        "print(f'R2 for tree: {r2_score(y_test, y_predict_tree)}')"
      ],
      "execution_count": null,
      "outputs": [
        {
          "output_type": "stream",
          "text": [
            "R2 for linear: 0.514884881274144\n",
            "R2 for polynomial: 0.37098999617945505\n",
            "R2 for tree: 0.48923824444119046\n"
          ],
          "name": "stdout"
        }
      ]
    },
    {
      "cell_type": "markdown",
      "metadata": {
        "id": "OhRaJ4jb3lHx"
      },
      "source": [
        "Model z podziałem na zbiór uczący, walidacyjny i testowy"
      ]
    },
    {
      "cell_type": "code",
      "metadata": {
        "id": "BYXMGEju3hpB"
      },
      "source": [
        "x_train, x_test, y_train, y_test = train_test_split(x, y, test_size=0.2, random_state=42)\n",
        "x_train_poly, x_test_poly, y_train_poly, y_test_poly = train_test_split(x_poly, y, test_size=0.2, random_state=42)\n",
        "x_train, x_val, y_train, y_val = train_test_split(x_train, y_train, test_size=0.25, random_state=2)\n",
        "x_train_poly, x_val_poly, y_train_poly, y_val_poly = train_test_split(x_train_poly, y_train_poly, test_size=0.25, random_state=2)"
      ],
      "execution_count": null,
      "outputs": []
    },
    {
      "cell_type": "code",
      "metadata": {
        "id": "d4s7_O6C7Ei2",
        "colab": {
          "base_uri": "https://localhost:8080/"
        },
        "outputId": "360ec5f0-61c8-499f-a114-d912744cec54"
      },
      "source": [
        "model_linear.fit(x_train, y_train)\n",
        "model_linear_for_polynomial.fit(x_train_poly, y_train_poly)\n",
        "model_tree.fit(x_train, y_train)"
      ],
      "execution_count": null,
      "outputs": [
        {
          "output_type": "execute_result",
          "data": {
            "text/plain": [
              "DecisionTreeRegressor(ccp_alpha=0.0, criterion='mse', max_depth=5,\n",
              "                      max_features=None, max_leaf_nodes=None,\n",
              "                      min_impurity_decrease=0.0, min_impurity_split=None,\n",
              "                      min_samples_leaf=1, min_samples_split=3,\n",
              "                      min_weight_fraction_leaf=0.0, presort='deprecated',\n",
              "                      random_state=None, splitter='best')"
            ]
          },
          "metadata": {
            "tags": []
          },
          "execution_count": 101
        }
      ]
    },
    {
      "cell_type": "code",
      "metadata": {
        "id": "5nT8J_IU4cMA"
      },
      "source": [
        "y_predict_linear_val = model_linear.predict(x_val)\n",
        "y_predict_polynomial_val = model_linear_for_polynomial.predict(x_val_poly)\n",
        "y_predict_tree_val = model_tree.predict(x_val)"
      ],
      "execution_count": null,
      "outputs": []
    },
    {
      "cell_type": "code",
      "metadata": {
        "id": "BMBKvF5G5ZbD",
        "colab": {
          "base_uri": "https://localhost:8080/"
        },
        "outputId": "ab1128d4-ce01-4eaa-f031-4e359f88b2ac"
      },
      "source": [
        "print(f'R2 for linear dla walidacyjnych: {r2_score(y_test, y_predict_linear_val)}')\n",
        "print(f'R2 for polynomial dla walidacyjnych: {r2_score(y_test, y_predict_polynomial_val)}')\n",
        "print(f'R2 for tree dla walidacyjnych: {r2_score(y_test, y_predict_tree_val)}')"
      ],
      "execution_count": null,
      "outputs": [
        {
          "output_type": "stream",
          "text": [
            "R2 for linear dla walidacyjnych: -0.8770699525698205\n",
            "R2 for polynomial dla walidacyjnych: -1.0399736901677699\n",
            "R2 for tree dla walidacyjnych: -1.3707618980174257\n"
          ],
          "name": "stdout"
        }
      ]
    },
    {
      "cell_type": "code",
      "metadata": {
        "id": "IAW6SXWI6euk"
      },
      "source": [
        "x_train, x_test, y_train, y_test = train_test_split(x, y, test_size=0.2, random_state=3)\n",
        "x_train_poly, x_test_poly, y_train_poly, y_test_poly = train_test_split(x_poly, y, test_size=0.2, random_state=3)"
      ],
      "execution_count": null,
      "outputs": []
    },
    {
      "cell_type": "code",
      "metadata": {
        "id": "R0k3Gexb7UY-",
        "colab": {
          "base_uri": "https://localhost:8080/"
        },
        "outputId": "7ac9198a-5a18-4a94-ce33-6e19207fd1ac"
      },
      "source": [
        "model_linear.fit(x_train, y_train)\n",
        "model_linear_for_polynomial.fit(x_train_poly, y_train_poly)\n",
        "model_tree.fit(x_train, y_train)"
      ],
      "execution_count": null,
      "outputs": [
        {
          "output_type": "execute_result",
          "data": {
            "text/plain": [
              "DecisionTreeRegressor(ccp_alpha=0.0, criterion='mse', max_depth=5,\n",
              "                      max_features=None, max_leaf_nodes=None,\n",
              "                      min_impurity_decrease=0.0, min_impurity_split=None,\n",
              "                      min_samples_leaf=1, min_samples_split=3,\n",
              "                      min_weight_fraction_leaf=0.0, presort='deprecated',\n",
              "                      random_state=None, splitter='best')"
            ]
          },
          "metadata": {
            "tags": []
          },
          "execution_count": 105
        }
      ]
    },
    {
      "cell_type": "code",
      "metadata": {
        "id": "u43Ht7X_7XnP"
      },
      "source": [
        "y_predict_linear = model_linear.predict(x_test)\n",
        "y_predict_polynomial = model_linear_for_polynomial.predict(x_test_poly)\n",
        "y_predict_tree = model_tree.predict(x_test)"
      ],
      "execution_count": null,
      "outputs": []
    },
    {
      "cell_type": "code",
      "metadata": {
        "id": "MAKOYg8h7a9x",
        "colab": {
          "base_uri": "https://localhost:8080/"
        },
        "outputId": "db03b372-94bf-4334-d604-1b15bd54c157"
      },
      "source": [
        "print(f'R2 for linear: {r2_score(y_test, y_predict_linear)}')\n",
        "print(f'R2 for polynomial: {r2_score(y_test, y_predict_polynomial)}')\n",
        "print(f'R2 for tree: {r2_score(y_test, y_predict_tree)}')"
      ],
      "execution_count": null,
      "outputs": [
        {
          "output_type": "stream",
          "text": [
            "R2 for linear: 0.7688357973922066\n",
            "R2 for polynomial: 0.7746556177998204\n",
            "R2 for tree: -0.517702241548528\n"
          ],
          "name": "stdout"
        }
      ]
    },
    {
      "cell_type": "markdown",
      "metadata": {
        "id": "oIsxCRTi8mc6"
      },
      "source": [
        "Model metodą kroswalidacji"
      ]
    },
    {
      "cell_type": "code",
      "metadata": {
        "id": "VTV4RWyq8qvS"
      },
      "source": [
        "cv = KFold(n_splits=5, shuffle=True, random_state=42)\n",
        "for train, test in cv.split(x, y):\n",
        "  x_train, y_train = x.iloc[train], y.iloc[train]\n",
        "  x_test, y_test = x.iloc[test], y.iloc[test]"
      ],
      "execution_count": null,
      "outputs": []
    },
    {
      "cell_type": "code",
      "metadata": {
        "id": "EDcytosWct0z"
      },
      "source": [
        "#dla wielomianu\n",
        "cv_poly = KFold(n_splits=5, shuffle=True, random_state=42)\n",
        "for train, test in cv_poly.split(x_poly, y):\n",
        "  x_train_poly, y_train_poly = x.iloc[train], y.iloc[train]\n",
        "  x_test_poly, y_test_poly = x.iloc[test], y.iloc[test]"
      ],
      "execution_count": null,
      "outputs": []
    },
    {
      "cell_type": "code",
      "metadata": {
        "id": "xCvuwYrc9IA8",
        "colab": {
          "base_uri": "https://localhost:8080/"
        },
        "outputId": "289181b3-5c2e-44b2-cfef-d64e4b31b67a"
      },
      "source": [
        "x_train.shape"
      ],
      "execution_count": null,
      "outputs": [
        {
          "output_type": "execute_result",
          "data": {
            "text/plain": [
              "(38, 2)"
            ]
          },
          "metadata": {
            "tags": []
          },
          "execution_count": 127
        }
      ]
    },
    {
      "cell_type": "code",
      "metadata": {
        "id": "c2l25kXx9OUw",
        "colab": {
          "base_uri": "https://localhost:8080/"
        },
        "outputId": "3cf4bda8-00b4-4057-ac28-29f5b9df5802"
      },
      "source": [
        "y_train.shape"
      ],
      "execution_count": null,
      "outputs": [
        {
          "output_type": "execute_result",
          "data": {
            "text/plain": [
              "(38, 1)"
            ]
          },
          "metadata": {
            "tags": []
          },
          "execution_count": 118
        }
      ]
    },
    {
      "cell_type": "code",
      "metadata": {
        "id": "FAClOTa59nhM",
        "colab": {
          "base_uri": "https://localhost:8080/"
        },
        "outputId": "eadeeddf-bba7-4a96-ecc6-b37c3816f950"
      },
      "source": [
        "x_test.shape"
      ],
      "execution_count": null,
      "outputs": [
        {
          "output_type": "execute_result",
          "data": {
            "text/plain": [
              "(9, 2)"
            ]
          },
          "metadata": {
            "tags": []
          },
          "execution_count": 119
        }
      ]
    },
    {
      "cell_type": "code",
      "metadata": {
        "id": "i1HRj6wZ9ok4",
        "colab": {
          "base_uri": "https://localhost:8080/"
        },
        "outputId": "28c57e2d-9660-4322-c485-0dada2767c9a"
      },
      "source": [
        "y_test.shape"
      ],
      "execution_count": null,
      "outputs": [
        {
          "output_type": "execute_result",
          "data": {
            "text/plain": [
              "(9, 1)"
            ]
          },
          "metadata": {
            "tags": []
          },
          "execution_count": 120
        }
      ]
    },
    {
      "cell_type": "code",
      "metadata": {
        "id": "2EEfsgB08xoY",
        "colab": {
          "base_uri": "https://localhost:8080/"
        },
        "outputId": "8b441e5f-2421-4942-ec3b-b9a9e724a65a"
      },
      "source": [
        "model_linear.fit(x_train, y_train)\n",
        "model_linear_for_polynomial.fit(x_train_poly, y_train_poly)\n",
        "model_tree.fit(x_train, y_train)"
      ],
      "execution_count": null,
      "outputs": [
        {
          "output_type": "execute_result",
          "data": {
            "text/plain": [
              "DecisionTreeRegressor(ccp_alpha=0.0, criterion='mse', max_depth=5,\n",
              "                      max_features=None, max_leaf_nodes=None,\n",
              "                      min_impurity_decrease=0.0, min_impurity_split=None,\n",
              "                      min_samples_leaf=1, min_samples_split=3,\n",
              "                      min_weight_fraction_leaf=0.0, presort='deprecated',\n",
              "                      random_state=None, splitter='best')"
            ]
          },
          "metadata": {
            "tags": []
          },
          "execution_count": 138
        }
      ]
    },
    {
      "cell_type": "code",
      "metadata": {
        "id": "vFE_idgC87e2"
      },
      "source": [
        "y_predict_linear = model_linear.predict(x_test)\n",
        "y_predict_polynomial = model_linear_for_polynomial.predict(x_test_poly)\n",
        "y_predict_tree = model_tree.predict(x_test)"
      ],
      "execution_count": null,
      "outputs": []
    },
    {
      "cell_type": "code",
      "metadata": {
        "id": "58QRYv8i9APn",
        "colab": {
          "base_uri": "https://localhost:8080/"
        },
        "outputId": "3837d5d1-7dac-47cf-a139-a3e48c9d276c"
      },
      "source": [
        "print(f'R2 for linear: {r2_score(y_test, y_predict_linear)}')\n",
        "print(f'R2 for polynomial: {r2_score(y_test, y_predict_polynomial)}')\n",
        "print(f'R2 for tree: {r2_score(y_test, y_predict_tree)}')"
      ],
      "execution_count": null,
      "outputs": [
        {
          "output_type": "stream",
          "text": [
            "R2 for linear: 0.6533605489595493\n",
            "R2 for polynomial: 0.6533605489595493\n",
            "R2 for tree: 0.19412938199483276\n"
          ],
          "name": "stdout"
        }
      ]
    },
    {
      "cell_type": "markdown",
      "metadata": {
        "id": "2U4yGiWPdprT"
      },
      "source": [
        "model z walidacją krzyżową leave-one-out"
      ]
    },
    {
      "cell_type": "code",
      "metadata": {
        "id": "Vng8CPgMdugg"
      },
      "source": [
        "cv2_leave_one_out = LeaveOneOut()"
      ],
      "execution_count": null,
      "outputs": []
    },
    {
      "cell_type": "code",
      "metadata": {
        "id": "w94l_5y4d5YZ"
      },
      "source": [
        "for train, test in cv2_leave_one_out.split(x, y):\n",
        "  x_train, y_train = x.iloc[train], y.iloc[train]\n",
        "  x_test, y_test = x.iloc[test], y.iloc[test]"
      ],
      "execution_count": null,
      "outputs": []
    },
    {
      "cell_type": "code",
      "metadata": {
        "id": "LFeZpg7AewEH"
      },
      "source": [
        "cv2_leave_one_out_poly = LeaveOneOut()"
      ],
      "execution_count": null,
      "outputs": []
    },
    {
      "cell_type": "code",
      "metadata": {
        "id": "U0XREntIeyxt"
      },
      "source": [
        "for train, test in cv2_leave_one_out_poly.split(x_poly, y):\n",
        "  x_train_poly, y_train_poly = x.iloc[train], y.iloc[train]\n",
        "  x_test_poly, y_test_poly = x.iloc[test], y.iloc[test]"
      ],
      "execution_count": null,
      "outputs": []
    },
    {
      "cell_type": "code",
      "metadata": {
        "id": "AgB-n2z5eH3R",
        "colab": {
          "base_uri": "https://localhost:8080/"
        },
        "outputId": "085845eb-d6f9-4c35-e151-5b7b24bb6e85"
      },
      "source": [
        "model_linear.fit(x_train, y_train)\n",
        "model_linear_for_polynomial.fit(x_train_poly, y_train_poly)\n",
        "model_tree.fit(x_train, y_train)"
      ],
      "execution_count": null,
      "outputs": [
        {
          "output_type": "execute_result",
          "data": {
            "text/plain": [
              "DecisionTreeRegressor(ccp_alpha=0.0, criterion='mse', max_depth=5,\n",
              "                      max_features=None, max_leaf_nodes=None,\n",
              "                      min_impurity_decrease=0.0, min_impurity_split=None,\n",
              "                      min_samples_leaf=1, min_samples_split=3,\n",
              "                      min_weight_fraction_leaf=0.0, presort='deprecated',\n",
              "                      random_state=None, splitter='best')"
            ]
          },
          "metadata": {
            "tags": []
          },
          "execution_count": 147
        }
      ]
    },
    {
      "cell_type": "code",
      "metadata": {
        "id": "p_UpDbgffHF9",
        "colab": {
          "base_uri": "https://localhost:8080/"
        },
        "outputId": "2463a7b2-aab7-4d8d-9e5e-d7db9c69c94a"
      },
      "source": [
        "x_train_poly.shape"
      ],
      "execution_count": null,
      "outputs": [
        {
          "output_type": "execute_result",
          "data": {
            "text/plain": [
              "(46, 2)"
            ]
          },
          "metadata": {
            "tags": []
          },
          "execution_count": 152
        }
      ]
    },
    {
      "cell_type": "code",
      "metadata": {
        "id": "sCSRoXi_fJSP",
        "colab": {
          "base_uri": "https://localhost:8080/"
        },
        "outputId": "ba2dece4-4aba-4c98-a2bf-cc7a6bf3529a"
      },
      "source": [
        "y_train.shape"
      ],
      "execution_count": null,
      "outputs": [
        {
          "output_type": "execute_result",
          "data": {
            "text/plain": [
              "(46, 1)"
            ]
          },
          "metadata": {
            "tags": []
          },
          "execution_count": 151
        }
      ]
    },
    {
      "cell_type": "code",
      "metadata": {
        "id": "NoO-t2nvfOI7",
        "colab": {
          "base_uri": "https://localhost:8080/"
        },
        "outputId": "7728ce5b-bab9-43b9-b16b-b1258a08aee6"
      },
      "source": [
        "y_test.shape"
      ],
      "execution_count": null,
      "outputs": [
        {
          "output_type": "execute_result",
          "data": {
            "text/plain": [
              "(1, 1)"
            ]
          },
          "metadata": {
            "tags": []
          },
          "execution_count": 153
        }
      ]
    },
    {
      "cell_type": "code",
      "metadata": {
        "id": "DOqr3eAxeL73"
      },
      "source": [
        "y_predict_linear = model_linear.predict(x_test)\n",
        "y_predict_polynomial = model_linear_for_polynomial.predict(x_test_poly)\n",
        "y_predict_tree = model_tree.predict(x_test)"
      ],
      "execution_count": null,
      "outputs": []
    },
    {
      "cell_type": "code",
      "metadata": {
        "id": "EtsZyCOneN_x",
        "colab": {
          "base_uri": "https://localhost:8080/"
        },
        "outputId": "0fde987b-b6be-4cf7-ce69-1db3633b5877"
      },
      "source": [
        "print(f'R2 for linear dla leave-one-out: {r2_score(y_test, y_predict_linear)}')\n",
        "print(f'R2 for polynomial dla leave-one-out: {r2_score(y_test, y_predict_polynomial)}')\n",
        "print(f'R2 for tree dla leave-one-out: {r2_score(y_test, y_predict_tree)}')"
      ],
      "execution_count": null,
      "outputs": [
        {
          "output_type": "stream",
          "text": [
            "R2 for linear dla leave-one-out: nan\n",
            "R2 for polynomial dla leave-one-out: nan\n",
            "R2 for tree dla leave-one-out: nan\n"
          ],
          "name": "stdout"
        },
        {
          "output_type": "stream",
          "text": [
            "/usr/local/lib/python3.6/dist-packages/sklearn/metrics/_regression.py:582: UndefinedMetricWarning:\n",
            "\n",
            "R^2 score is not well-defined with less than two samples.\n",
            "\n",
            "/usr/local/lib/python3.6/dist-packages/sklearn/metrics/_regression.py:582: UndefinedMetricWarning:\n",
            "\n",
            "R^2 score is not well-defined with less than two samples.\n",
            "\n",
            "/usr/local/lib/python3.6/dist-packages/sklearn/metrics/_regression.py:582: UndefinedMetricWarning:\n",
            "\n",
            "R^2 score is not well-defined with less than two samples.\n",
            "\n"
          ],
          "name": "stderr"
        }
      ]
    }
  ]
}