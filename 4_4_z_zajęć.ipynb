{
  "nbformat": 4,
  "nbformat_minor": 0,
  "metadata": {
    "kernelspec": {
      "display_name": "Python 3",
      "language": "python",
      "name": "python3"
    },
    "language_info": {
      "codemirror_mode": {
        "name": "ipython",
        "version": 3
      },
      "file_extension": ".py",
      "mimetype": "text/x-python",
      "name": "python",
      "nbconvert_exporter": "python",
      "pygments_lexer": "ipython3",
      "version": "3.6.5"
    },
    "colab": {
      "name": "4.4_z_zajęć.ipynb",
      "provenance": [],
      "collapsed_sections": [],
      "include_colab_link": true
    }
  },
  "cells": [
    {
      "cell_type": "markdown",
      "metadata": {
        "id": "view-in-github",
        "colab_type": "text"
      },
      "source": [
        "<a href=\"https://colab.research.google.com/github/Zedbog/Data_science_course/blob/main/4_4_z_zaj%C4%99%C4%87.ipynb\" target=\"_parent\"><img src=\"https://colab.research.google.com/assets/colab-badge.svg\" alt=\"Open In Colab\"/></a>"
      ]
    },
    {
      "cell_type": "code",
      "metadata": {
        "id": "jJ9JHogHSypt",
        "colab": {
          "base_uri": "https://localhost:8080/",
          "height": 35
        },
        "outputId": "63598ebb-4a62-47d3-de7e-2ee2286e3da4"
      },
      "source": [
        "import keras\n",
        "keras.__version__"
      ],
      "execution_count": null,
      "outputs": [
        {
          "output_type": "execute_result",
          "data": {
            "application/vnd.google.colaboratory.intrinsic+json": {
              "type": "string"
            },
            "text/plain": [
              "'2.4.3'"
            ]
          },
          "metadata": {
            "tags": []
          },
          "execution_count": 1
        }
      ]
    },
    {
      "cell_type": "markdown",
      "metadata": {
        "id": "ZN2SmKnMSyp3"
      },
      "source": [
        "# Nadmierne dopasowanie i zbyt słabe dopasowanie\n",
        "\n",
        "We wszystkich trzech zaprezentowanych wcześniej przykładach — przewidywaniu oceny filmu, klasyfikacji tematycznej i regresji ceny mieszkań — wydajność modelu podczas przetwarzania odłożonego na bok walidacyjnego zbioru danych zawsze po kilku epokach osiągała wartość szczytową, a następnie ulegała degradacji — modele zaczynały ulegać nadmiernemu dopasowaniu do danych treningowych. Do nadmiernego dopasowania może dojść podczas pracy nad dowolnym problemem uczenia maszynowego. Pracując z algorytmami uczenia maszynowego, musimy wiedzieć, jak radzić sobie z tym problemem.\n",
        "\n",
        "Podstawowym problemem uczenia maszynowego jest kompromis między optymalizacją a uogólnianiem. Optymalizacja jest procesem dostrajania modelu w celu uzyskania najlepszej możliwej wydajności na danych treningowych (jest to proces uczenia, od którego wzięła się nazwa uczenie maszynowe), a uogólnianie odwołuje się do tego, jak dobrze wytrenowany model sprawdza się podczas przetwarzania danych, których nigdy nie widział. Oczywiście chcemy uzyskać jak najlepszą zdolność modelu do uogólniania, ale nie mamy na to wpływu w sposób bezpośredni, ponieważ model możemy modyfikować tylko na danych treningowych.\n",
        "\n",
        "Na początku trenowania optymalizacja i uogólnianie są ze sobą skorelowane — im mniejsza strata na danych treningowych, tym mniejsza strata na danych testowych. Gdy taka sytuacja ma miejsce, mamy do czynienia ze zbyt słabym dopasowaniem — model może zostać lepiej dopasowany, ponieważ sieć nie dokonała jeszcze modelowania wszystkich wzorców znajdujących się w danych treningowych, ale po pewnej liczbie iteracji algorytmu przetwarzającego dane treningowe uogólnianie przestaje ulegać poprawie, a metryka walidacji przyjmuje wartość stałą lub pogarsza się — wówczas model zaczyna dopasowywać się nadmiernie, a więc zaczyna uczyć się wzorców, które są specyficzne dla danych treningowych i wprowadzają w błąd lub są nieprzydatne podczas przetwarzania nowych danych.\n",
        "\n",
        "Aby zapobiec uczeniu się przez model błędnych lub zbędnych wzorców treningowego zbioru danych, najlepiej jest zebrać więcej danych treningowych. To dość oczywiste, że model trenowany na większej liczbie obserwacji będzie zdolny do lepszego uogólniania. Jeśli takie rozwiązanie nie jest możliwe, możemy modulować ilość informacji, które model może przechowywać, lub dodać ograniczenia co do możliwości przechowywania informacji przez model. Jeżeli sieć może zapamiętać tylko niewielką liczbę wzorców, to proces optymalizacji wymusi skupienie się na najważniejszych wzorcach, które najprawdopodobniej lepiej sprawdzą się przy uogólnianiu.\n",
        "\n",
        "Proces walki z nadmiernym dopasowaniem określamy mianem regularyzacji. Chciałbym opisać najpopularniejsze techniki regularyzacji i zastosować je w praktyce w celu poprawy działania modelu klasyfikacji filmów opisanego w podrozdziale 3.4.\n"
      ]
    },
    {
      "cell_type": "markdown",
      "metadata": {
        "id": "s_LzD6ugSyp5"
      },
      "source": [
        "Uwaga: W charakterze zbioru walidacyjnego będziemy krozystać ze zbioru testowego IMDB. W tym przypadku nie jest to żadnym problemem.\n",
        "\n",
        "Przygotujmy dane do analizy korzystając z kodu przedstawionego w sekcji 3.5.:"
      ]
    },
    {
      "cell_type": "code",
      "metadata": {
        "collapsed": true,
        "id": "-U9xonCzSyp7",
        "colab": {
          "base_uri": "https://localhost:8080/"
        },
        "outputId": "c94ce988-1bd4-4ec9-f0fa-940229e44400"
      },
      "source": [
        "from keras.datasets import imdb\n",
        "import numpy as np\n",
        "\n",
        "(train_data, train_labels), (test_data, test_labels) = imdb.load_data(num_words=10000)\n",
        "\n",
        "def vectorize_sequences(sequences, dimension=10000): # zaminiamy słowa na wektory\n",
        "    # Create an all-zero matrix of shape (len(sequences), dimension)\n",
        "    results = np.zeros((len(sequences), dimension)) # tworzymy numpy array\n",
        "    for i, sequence in enumerate(sequences):\n",
        "        results[i, sequence] = 1.  # set specific indices of results[i] to 1s\n",
        "    return results\n",
        "\n",
        "# Zbiór treningowy w postaci wektora.\n",
        "x_train = vectorize_sequences(train_data)\n",
        "# Zbiór testowy w postaci wektora.\n",
        "x_test = vectorize_sequences(test_data)\n",
        "# Etykiety w postaci wektorów.\n",
        "y_train = np.asarray(train_labels).astype('float32')\n",
        "y_test = np.asarray(test_labels).astype('float32')"
      ],
      "execution_count": null,
      "outputs": [
        {
          "output_type": "stream",
          "text": [
            "<string>:6: VisibleDeprecationWarning: Creating an ndarray from ragged nested sequences (which is a list-or-tuple of lists-or-tuples-or ndarrays with different lengths or shapes) is deprecated. If you meant to do this, you must specify 'dtype=object' when creating the ndarray\n",
            "/usr/local/lib/python3.6/dist-packages/tensorflow/python/keras/datasets/imdb.py:159: VisibleDeprecationWarning: Creating an ndarray from ragged nested sequences (which is a list-or-tuple of lists-or-tuples-or ndarrays with different lengths or shapes) is deprecated. If you meant to do this, you must specify 'dtype=object' when creating the ndarray\n",
            "  x_train, y_train = np.array(xs[:idx]), np.array(labels[:idx])\n",
            "/usr/local/lib/python3.6/dist-packages/tensorflow/python/keras/datasets/imdb.py:160: VisibleDeprecationWarning: Creating an ndarray from ragged nested sequences (which is a list-or-tuple of lists-or-tuples-or ndarrays with different lengths or shapes) is deprecated. If you meant to do this, you must specify 'dtype=object' when creating the ndarray\n",
            "  x_test, y_test = np.array(xs[idx:]), np.array(labels[idx:])\n"
          ],
          "name": "stderr"
        }
      ]
    },
    {
      "cell_type": "code",
      "metadata": {
        "colab": {
          "base_uri": "https://localhost:8080/"
        },
        "id": "ySFV-fi-hW7x",
        "outputId": "a5648211-3117-4f62-a838-d2a3562b308a"
      },
      "source": [
        "train_data"
      ],
      "execution_count": null,
      "outputs": [
        {
          "output_type": "execute_result",
          "data": {
            "text/plain": [
              "array([list([1, 14, 22, 16, 43, 530, 973, 1622, 1385, 65, 458, 4468, 66, 3941, 4, 173, 36, 256, 5, 25, 100, 43, 838, 112, 50, 670, 2, 9, 35, 480, 284, 5, 150, 4, 172, 112, 167, 2, 336, 385, 39, 4, 172, 4536, 1111, 17, 546, 38, 13, 447, 4, 192, 50, 16, 6, 147, 2025, 19, 14, 22, 4, 1920, 4613, 469, 4, 22, 71, 87, 12, 16, 43, 530, 38, 76, 15, 13, 1247, 4, 22, 17, 515, 17, 12, 16, 626, 18, 2, 5, 62, 386, 12, 8, 316, 8, 106, 5, 4, 2223, 5244, 16, 480, 66, 3785, 33, 4, 130, 12, 16, 38, 619, 5, 25, 124, 51, 36, 135, 48, 25, 1415, 33, 6, 22, 12, 215, 28, 77, 52, 5, 14, 407, 16, 82, 2, 8, 4, 107, 117, 5952, 15, 256, 4, 2, 7, 3766, 5, 723, 36, 71, 43, 530, 476, 26, 400, 317, 46, 7, 4, 2, 1029, 13, 104, 88, 4, 381, 15, 297, 98, 32, 2071, 56, 26, 141, 6, 194, 7486, 18, 4, 226, 22, 21, 134, 476, 26, 480, 5, 144, 30, 5535, 18, 51, 36, 28, 224, 92, 25, 104, 4, 226, 65, 16, 38, 1334, 88, 12, 16, 283, 5, 16, 4472, 113, 103, 32, 15, 16, 5345, 19, 178, 32]),\n",
              "       list([1, 194, 1153, 194, 8255, 78, 228, 5, 6, 1463, 4369, 5012, 134, 26, 4, 715, 8, 118, 1634, 14, 394, 20, 13, 119, 954, 189, 102, 5, 207, 110, 3103, 21, 14, 69, 188, 8, 30, 23, 7, 4, 249, 126, 93, 4, 114, 9, 2300, 1523, 5, 647, 4, 116, 9, 35, 8163, 4, 229, 9, 340, 1322, 4, 118, 9, 4, 130, 4901, 19, 4, 1002, 5, 89, 29, 952, 46, 37, 4, 455, 9, 45, 43, 38, 1543, 1905, 398, 4, 1649, 26, 6853, 5, 163, 11, 3215, 2, 4, 1153, 9, 194, 775, 7, 8255, 2, 349, 2637, 148, 605, 2, 8003, 15, 123, 125, 68, 2, 6853, 15, 349, 165, 4362, 98, 5, 4, 228, 9, 43, 2, 1157, 15, 299, 120, 5, 120, 174, 11, 220, 175, 136, 50, 9, 4373, 228, 8255, 5, 2, 656, 245, 2350, 5, 4, 9837, 131, 152, 491, 18, 2, 32, 7464, 1212, 14, 9, 6, 371, 78, 22, 625, 64, 1382, 9, 8, 168, 145, 23, 4, 1690, 15, 16, 4, 1355, 5, 28, 6, 52, 154, 462, 33, 89, 78, 285, 16, 145, 95]),\n",
              "       list([1, 14, 47, 8, 30, 31, 7, 4, 249, 108, 7, 4, 5974, 54, 61, 369, 13, 71, 149, 14, 22, 112, 4, 2401, 311, 12, 16, 3711, 33, 75, 43, 1829, 296, 4, 86, 320, 35, 534, 19, 263, 4821, 1301, 4, 1873, 33, 89, 78, 12, 66, 16, 4, 360, 7, 4, 58, 316, 334, 11, 4, 1716, 43, 645, 662, 8, 257, 85, 1200, 42, 1228, 2578, 83, 68, 3912, 15, 36, 165, 1539, 278, 36, 69, 2, 780, 8, 106, 14, 6905, 1338, 18, 6, 22, 12, 215, 28, 610, 40, 6, 87, 326, 23, 2300, 21, 23, 22, 12, 272, 40, 57, 31, 11, 4, 22, 47, 6, 2307, 51, 9, 170, 23, 595, 116, 595, 1352, 13, 191, 79, 638, 89, 2, 14, 9, 8, 106, 607, 624, 35, 534, 6, 227, 7, 129, 113]),\n",
              "       ...,\n",
              "       list([1, 11, 6, 230, 245, 6401, 9, 6, 1225, 446, 2, 45, 2174, 84, 8322, 4007, 21, 4, 912, 84, 2, 325, 725, 134, 2, 1715, 84, 5, 36, 28, 57, 1099, 21, 8, 140, 8, 703, 5, 2, 84, 56, 18, 1644, 14, 9, 31, 7, 4, 9406, 1209, 2295, 2, 1008, 18, 6, 20, 207, 110, 563, 12, 8, 2901, 2, 8, 97, 6, 20, 53, 4767, 74, 4, 460, 364, 1273, 29, 270, 11, 960, 108, 45, 40, 29, 2961, 395, 11, 6, 4065, 500, 7, 2, 89, 364, 70, 29, 140, 4, 64, 4780, 11, 4, 2678, 26, 178, 4, 529, 443, 2, 5, 27, 710, 117, 2, 8123, 165, 47, 84, 37, 131, 818, 14, 595, 10, 10, 61, 1242, 1209, 10, 10, 288, 2260, 1702, 34, 2901, 2, 4, 65, 496, 4, 231, 7, 790, 5, 6, 320, 234, 2766, 234, 1119, 1574, 7, 496, 4, 139, 929, 2901, 2, 7750, 5, 4241, 18, 4, 8497, 2, 250, 11, 1818, 7561, 4, 4217, 5408, 747, 1115, 372, 1890, 1006, 541, 9303, 7, 4, 59, 2, 4, 3586, 2]),\n",
              "       list([1, 1446, 7079, 69, 72, 3305, 13, 610, 930, 8, 12, 582, 23, 5, 16, 484, 685, 54, 349, 11, 4120, 2959, 45, 58, 1466, 13, 197, 12, 16, 43, 23, 2, 5, 62, 30, 145, 402, 11, 4131, 51, 575, 32, 61, 369, 71, 66, 770, 12, 1054, 75, 100, 2198, 8, 4, 105, 37, 69, 147, 712, 75, 3543, 44, 257, 390, 5, 69, 263, 514, 105, 50, 286, 1814, 23, 4, 123, 13, 161, 40, 5, 421, 4, 116, 16, 897, 13, 2, 40, 319, 5872, 112, 6700, 11, 4803, 121, 25, 70, 3468, 4, 719, 3798, 13, 18, 31, 62, 40, 8, 7200, 4, 2, 7, 14, 123, 5, 942, 25, 8, 721, 12, 145, 5, 202, 12, 160, 580, 202, 12, 6, 52, 58, 2, 92, 401, 728, 12, 39, 14, 251, 8, 15, 251, 5, 2, 12, 38, 84, 80, 124, 12, 9, 23]),\n",
              "       list([1, 17, 6, 194, 337, 7, 4, 204, 22, 45, 254, 8, 106, 14, 123, 4, 2, 270, 2, 5, 2, 2, 732, 2098, 101, 405, 39, 14, 1034, 4, 1310, 9, 115, 50, 305, 12, 47, 4, 168, 5, 235, 7, 38, 111, 699, 102, 7, 4, 4039, 9245, 9, 24, 6, 78, 1099, 17, 2345, 2, 21, 27, 9685, 6139, 5, 2, 1603, 92, 1183, 4, 1310, 7, 4, 204, 42, 97, 90, 35, 221, 109, 29, 127, 27, 118, 8, 97, 12, 157, 21, 6789, 2, 9, 6, 66, 78, 1099, 4, 631, 1191, 5, 2642, 272, 191, 1070, 6, 7585, 8, 2197, 2, 2, 544, 5, 383, 1271, 848, 1468, 2, 497, 2, 8, 1597, 8778, 2, 21, 60, 27, 239, 9, 43, 8368, 209, 405, 10, 10, 12, 764, 40, 4, 248, 20, 12, 16, 5, 174, 1791, 72, 7, 51, 6, 1739, 22, 4, 204, 131, 9])],\n",
              "      dtype=object)"
            ]
          },
          "metadata": {
            "tags": []
          },
          "execution_count": 43
        }
      ]
    },
    {
      "cell_type": "markdown",
      "metadata": {
        "id": "9WZkGls-Syp7"
      },
      "source": [
        "# Zmniejszanie nadmiernego dopasowania\n",
        "\n",
        "## Redukcja rozmiaru sieci\n",
        "\n",
        "\n",
        "Najprostszym sposobem zapobiegania powstawaniu nadmiernego dopasowania jest zmniejszenie rozmiaru modelu: zmniejszenie liczby uczonych parametrów, na którą wpływa liczba warstw i liczba jednostek je tworzących. W uczeniu głębokim uczone parametry modelu często określa się mianem pojemności modelu. Model dysponujący większą liczbą parametrów charakteryzuje się większą pojemnością pamięci, a więc może łatwiej uczyć się doskonałego mapowania danych przypominającego swym działaniem słownik. Mapowanie takie nie ma żadnej zdolności uogólniania. Przykładowy model z 500 000 parametrów binarnych mógłby z łatwością nauczyć się klasy każdej cyfry wchodzącej w skład treningowego zbioru danych MNIST: każda z 50 000 cyfr mogłaby zostać opisana przy użyciu zaledwie 10 parametrów binarnych, ale taki model byłby zupełnie nieprzydatny podczas klasyfikacji nowych próbek. Musisz pamiętać o tym, że modele uczenia głębokiego mają tendencję do dopasowywania się do danych treningowych, ale Twoim celem jest osiągnięcie modelu zdolnego do jak najlepszych uogólnień, a nie modelu maksymalnie dopasowanego do danych treningowych.\n",
        "\n",
        "Jeżeli sieć dysponuje zbyt małą zdolnością zapamiętywania, to nie będzie w stanie tak łatwo nauczyć się bezpośredniego mapowania, a więc w celu minimalizacji strat będzie musiała uczyć się skompresowanych reprezentacji, co pozwoli modelowi nabyć umiejętności przewidywania, a o to nam właśnie chodzi. Jednocześnie należy pamiętać o tym, że modele powinny mieć na tyle dużo parametrów, aby nie ulec zbyt słabemu dopasowaniu — model nie powinien cierpieć z powodu braku możliwości zapamiętywania kolejnych cech. Trzeba znaleźć kompromis między zbyt dużą pojemnością a zbyt małą pojemnością.\n",
        "\n",
        "Niestety nie ma żadnego magicznego wzoru umożliwiającego określenie właściwej liczby warstw i odpowiednich rozmiarów poszczególnych warstw. W celu znalezienia modelu optymalnego z punktu widzenia analizowanych danych należy sprawdzić działanie zestawu różnych architektur (oczywiście trzeba to robić na zbiorze walidacyjnym, a nie testowym). Szukanie odpowiedniego modelu należy zacząć od niewielkiej liczby warstw i parametrów, a następnie zwiększać rozmiary istniejących warstw i stopniowo dodawać nowe, obserwując spadek wartości straty określanej w procesie walidacji.\n",
        "\n",
        "Spróbujmy zastosować to rozwiązanie w kontekście sieci klasyfikującej recenzje filmów. Oto kod oryginalnej sieci:\n"
      ]
    },
    {
      "cell_type": "code",
      "metadata": {
        "collapsed": true,
        "id": "qxGHWR9QSyp8"
      },
      "source": [
        "from keras import models\n",
        "from keras import layers\n",
        "\n",
        "original_model = models.Sequential() # robimy trzy warstwy\n",
        "original_model.add(layers.Dense(16, activation='relu', input_shape=(10000,)))\n",
        "original_model.add(layers.Dense(16, activation='relu'))\n",
        "original_model.add(layers.Dense(1, activation='sigmoid'))\n",
        "\n",
        "original_model.compile(optimizer='rmsprop',\n",
        "                       loss='binary_crossentropy', # opinia binarna = pozytywna lub negatywna\n",
        "                       metrics=['acc'])"
      ],
      "execution_count": null,
      "outputs": []
    },
    {
      "cell_type": "markdown",
      "metadata": {
        "id": "3Z9kp3kfSyp9"
      },
      "source": [
        "Spróbujmy zastąpić ten model prostszą siecią neuronową:"
      ]
    },
    {
      "cell_type": "code",
      "metadata": {
        "collapsed": true,
        "id": "p2bDtipcSyp9"
      },
      "source": [
        "# zmniejszamy sieć\n",
        "smaller_model = models.Sequential()\n",
        "smaller_model.add(layers.Dense(4, activation='relu', input_shape=(10000,)))\n",
        "smaller_model.add(layers.Dense(4, activation='relu'))\n",
        "smaller_model.add(layers.Dense(1, activation='sigmoid'))\n",
        "\n",
        "smaller_model.compile(optimizer='rmsprop',\n",
        "                      loss='binary_crossentropy',\n",
        "                      metrics=['acc'])"
      ],
      "execution_count": null,
      "outputs": []
    },
    {
      "cell_type": "markdown",
      "metadata": {
        "id": "AStpBcKDSyp-"
      },
      "source": [
        "\n",
        "Oto porównanie straty walidacji oryginalnej sieci i mniejszej sieci. Kropkami oznaczono wartości straty walidacji mniejszej sieci, a krzyżykami oznaczono wartości straty oryginalnej sieci (przypominam, że mniejsza wartość straty walidacji świadczy o tym, że model jest lepszy)."
      ]
    },
    {
      "cell_type": "code",
      "metadata": {
        "scrolled": true,
        "id": "6hrn5Oo_Syp_",
        "colab": {
          "base_uri": "https://localhost:8080/"
        },
        "outputId": "72064e4c-0562-40cc-86f7-5110c70a464f"
      },
      "source": [
        "original_hist = original_model.fit(x_train, y_train,\n",
        "                                   epochs=20,\n",
        "                                   batch_size=512,\n",
        "                                   validation_data=(x_test, y_test))"
      ],
      "execution_count": null,
      "outputs": [
        {
          "output_type": "stream",
          "text": [
            "Epoch 1/20\n",
            "49/49 [==============================] - 3s 52ms/step - loss: 0.5379 - acc: 0.7436 - val_loss: 0.3398 - val_acc: 0.8701\n",
            "Epoch 2/20\n",
            "49/49 [==============================] - 1s 31ms/step - loss: 0.2582 - acc: 0.9132 - val_loss: 0.2921 - val_acc: 0.8846\n",
            "Epoch 3/20\n",
            "49/49 [==============================] - 1s 31ms/step - loss: 0.1975 - acc: 0.9299 - val_loss: 0.2839 - val_acc: 0.8854\n",
            "Epoch 4/20\n",
            "49/49 [==============================] - 2s 32ms/step - loss: 0.1630 - acc: 0.9443 - val_loss: 0.2960 - val_acc: 0.8819\n",
            "Epoch 5/20\n",
            "49/49 [==============================] - 2s 31ms/step - loss: 0.1422 - acc: 0.9509 - val_loss: 0.3439 - val_acc: 0.8704\n",
            "Epoch 6/20\n",
            "49/49 [==============================] - 2s 31ms/step - loss: 0.1223 - acc: 0.9607 - val_loss: 0.3336 - val_acc: 0.8746\n",
            "Epoch 7/20\n",
            "49/49 [==============================] - 2s 32ms/step - loss: 0.1080 - acc: 0.9663 - val_loss: 0.3662 - val_acc: 0.8696\n",
            "Epoch 8/20\n",
            "49/49 [==============================] - 2s 31ms/step - loss: 0.0939 - acc: 0.9686 - val_loss: 0.3795 - val_acc: 0.8683\n",
            "Epoch 9/20\n",
            "49/49 [==============================] - 2s 31ms/step - loss: 0.0828 - acc: 0.9747 - val_loss: 0.4170 - val_acc: 0.8638\n",
            "Epoch 10/20\n",
            "49/49 [==============================] - 1s 31ms/step - loss: 0.0777 - acc: 0.9767 - val_loss: 0.4337 - val_acc: 0.8646\n",
            "Epoch 11/20\n",
            "49/49 [==============================] - 2s 31ms/step - loss: 0.0667 - acc: 0.9805 - val_loss: 0.4755 - val_acc: 0.8587\n",
            "Epoch 12/20\n",
            "49/49 [==============================] - 1s 31ms/step - loss: 0.0586 - acc: 0.9834 - val_loss: 0.4907 - val_acc: 0.8594\n",
            "Epoch 13/20\n",
            "49/49 [==============================] - 2s 32ms/step - loss: 0.0535 - acc: 0.9853 - val_loss: 0.5546 - val_acc: 0.8513\n",
            "Epoch 14/20\n",
            "49/49 [==============================] - 1s 31ms/step - loss: 0.0475 - acc: 0.9865 - val_loss: 0.5910 - val_acc: 0.8492\n",
            "Epoch 15/20\n",
            "49/49 [==============================] - 2s 31ms/step - loss: 0.0384 - acc: 0.9910 - val_loss: 0.6566 - val_acc: 0.8437\n",
            "Epoch 16/20\n",
            "49/49 [==============================] - 1s 30ms/step - loss: 0.0347 - acc: 0.9915 - val_loss: 0.6514 - val_acc: 0.8474\n",
            "Epoch 17/20\n",
            "49/49 [==============================] - 2s 31ms/step - loss: 0.0295 - acc: 0.9930 - val_loss: 0.6546 - val_acc: 0.8505\n",
            "Epoch 18/20\n",
            "49/49 [==============================] - 2s 31ms/step - loss: 0.0237 - acc: 0.9946 - val_loss: 0.6954 - val_acc: 0.8484\n",
            "Epoch 19/20\n",
            "49/49 [==============================] - 1s 30ms/step - loss: 0.0234 - acc: 0.9946 - val_loss: 0.7231 - val_acc: 0.8482\n",
            "Epoch 20/20\n",
            "49/49 [==============================] - 2s 31ms/step - loss: 0.0186 - acc: 0.9957 - val_loss: 0.7639 - val_acc: 0.8478\n"
          ],
          "name": "stdout"
        }
      ]
    },
    {
      "cell_type": "code",
      "metadata": {
        "id": "34BzZOkoSyqA",
        "colab": {
          "base_uri": "https://localhost:8080/"
        },
        "outputId": "d37ffed2-746c-4cf3-d20c-acb7f8fc8c25"
      },
      "source": [
        "smaller_model_hist = smaller_model.fit(x_train, y_train,\n",
        "                                       epochs=20,\n",
        "                                       batch_size=512,\n",
        "                                       validation_data=(x_test, y_test))"
      ],
      "execution_count": null,
      "outputs": [
        {
          "output_type": "stream",
          "text": [
            "Epoch 1/20\n",
            "49/49 [==============================] - 3s 46ms/step - loss: 0.6449 - acc: 0.6281 - val_loss: 0.5623 - val_acc: 0.8157\n",
            "Epoch 2/20\n",
            "49/49 [==============================] - 2s 31ms/step - loss: 0.5256 - acc: 0.8162 - val_loss: 0.5062 - val_acc: 0.8328\n",
            "Epoch 3/20\n",
            "49/49 [==============================] - 1s 27ms/step - loss: 0.4710 - acc: 0.8696 - val_loss: 0.4794 - val_acc: 0.8312\n",
            "Epoch 4/20\n",
            "49/49 [==============================] - 1s 28ms/step - loss: 0.4309 - acc: 0.9011 - val_loss: 0.4557 - val_acc: 0.8690\n",
            "Epoch 5/20\n",
            "49/49 [==============================] - 1s 28ms/step - loss: 0.4075 - acc: 0.9209 - val_loss: 0.4463 - val_acc: 0.8665\n",
            "Epoch 6/20\n",
            "49/49 [==============================] - 1s 28ms/step - loss: 0.3809 - acc: 0.9327 - val_loss: 0.4419 - val_acc: 0.8642\n",
            "Epoch 7/20\n",
            "49/49 [==============================] - 1s 28ms/step - loss: 0.3571 - acc: 0.9421 - val_loss: 0.4383 - val_acc: 0.8658\n",
            "Epoch 8/20\n",
            "49/49 [==============================] - 1s 28ms/step - loss: 0.3373 - acc: 0.9508 - val_loss: 0.4227 - val_acc: 0.8780\n",
            "Epoch 9/20\n",
            "49/49 [==============================] - 1s 28ms/step - loss: 0.3227 - acc: 0.9586 - val_loss: 0.4281 - val_acc: 0.8711\n",
            "Epoch 10/20\n",
            "49/49 [==============================] - 1s 29ms/step - loss: 0.3045 - acc: 0.9637 - val_loss: 0.4550 - val_acc: 0.8570\n",
            "Epoch 11/20\n",
            "49/49 [==============================] - 1s 28ms/step - loss: 0.2972 - acc: 0.9646 - val_loss: 0.4394 - val_acc: 0.8645\n",
            "Epoch 12/20\n",
            "49/49 [==============================] - 1s 28ms/step - loss: 0.2794 - acc: 0.9714 - val_loss: 0.4474 - val_acc: 0.8621\n",
            "Epoch 13/20\n",
            "49/49 [==============================] - 1s 28ms/step - loss: 0.2686 - acc: 0.9731 - val_loss: 0.4584 - val_acc: 0.8601\n",
            "Epoch 14/20\n",
            "49/49 [==============================] - 1s 28ms/step - loss: 0.2532 - acc: 0.9758 - val_loss: 0.4685 - val_acc: 0.8584\n",
            "Epoch 15/20\n",
            "49/49 [==============================] - 1s 28ms/step - loss: 0.2416 - acc: 0.9777 - val_loss: 0.4293 - val_acc: 0.8675\n",
            "Epoch 16/20\n",
            "49/49 [==============================] - 1s 27ms/step - loss: 0.2342 - acc: 0.9786 - val_loss: 0.4636 - val_acc: 0.8612\n",
            "Epoch 17/20\n",
            "49/49 [==============================] - 1s 28ms/step - loss: 0.2219 - acc: 0.9796 - val_loss: 0.4683 - val_acc: 0.8598\n",
            "Epoch 18/20\n",
            "49/49 [==============================] - 1s 28ms/step - loss: 0.2114 - acc: 0.9803 - val_loss: 0.4717 - val_acc: 0.8605\n",
            "Epoch 19/20\n",
            "49/49 [==============================] - 1s 28ms/step - loss: 0.2027 - acc: 0.9815 - val_loss: 0.4989 - val_acc: 0.8570\n",
            "Epoch 20/20\n",
            "49/49 [==============================] - 1s 28ms/step - loss: 0.1939 - acc: 0.9829 - val_loss: 0.5261 - val_acc: 0.8537\n"
          ],
          "name": "stdout"
        }
      ]
    },
    {
      "cell_type": "code",
      "metadata": {
        "collapsed": true,
        "id": "e2CFXUZjSyqC"
      },
      "source": [
        "epochs = range(1, 21)\n",
        "original_val_loss = original_hist.history['val_loss']\n",
        "smaller_model_val_loss = smaller_model_hist.history['val_loss']"
      ],
      "execution_count": null,
      "outputs": []
    },
    {
      "cell_type": "code",
      "metadata": {
        "scrolled": true,
        "id": "upEFIvemSyqD",
        "colab": {
          "base_uri": "https://localhost:8080/",
          "height": 279
        },
        "outputId": "b6d862f9-89dc-45a0-eaae-59c8b48786ac"
      },
      "source": [
        "import matplotlib.pyplot as plt\n",
        "\n",
        "# b+ to niebieskie krzyżyki\n",
        "plt.plot(epochs, original_val_loss, 'b+', label='Oryginalny model')\n",
        "# bo to niebieskie kropki\n",
        "plt.plot(epochs, smaller_model_val_loss, 'bo', label='Mniejszy model')\n",
        "plt.xlabel('Epoki')\n",
        "plt.ylabel('Strata walidacji')\n",
        "plt.legend()\n",
        "\n",
        "plt.show()"
      ],
      "execution_count": null,
      "outputs": [
        {
          "output_type": "display_data",
          "data": {
            "image/png": "[encoded data removed]",
            "text/plain": [
              "<Figure size 432x288 with 1 Axes>"
            ]
          },
          "metadata": {
            "tags": [],
            "needs_background": "light"
          }
        }
      ]
    },
    {
      "cell_type": "markdown",
      "metadata": {
        "id": "r_5ERKpfSyqD"
      },
      "source": [
        "\n",
        "Jak widać, mniejsza sieć zaczęła ulegać nadmiernemu dopasowaniu (przeuczeniu) później niż nasz początkowy model (po sześciu, a nie po czterech epokach), a dodatkowo po przekroczeniu punktu przeuczenia wydajność mniejszego modelu ulega wolniejszej degradacji.\n",
        "\n",
        "Spróbujmy przeanalizować w tym kontekście działanie sieci o znacznie większej pojemności (przekraczającej potrzeby problemu)."
      ]
    },
    {
      "cell_type": "code",
      "metadata": {
        "collapsed": true,
        "id": "Il5Pu8v1SyqE"
      },
      "source": [
        "bigger_model = models.Sequential()\n",
        "bigger_model.add(layers.Dense(512, activation='relu', input_shape=(10000,)))\n",
        "bigger_model.add(layers.Dense(512, activation='relu'))\n",
        "bigger_model.add(layers.Dense(1, activation='sigmoid'))\n",
        "\n",
        "bigger_model.compile(optimizer='rmsprop',\n",
        "                     loss='binary_crossentropy',\n",
        "                     metrics=['acc'])"
      ],
      "execution_count": null,
      "outputs": []
    },
    {
      "cell_type": "code",
      "metadata": {
        "id": "ao18aQYASyqE",
        "colab": {
          "base_uri": "https://localhost:8080/"
        },
        "outputId": "bac4eec4-3970-4343-e9e1-c8a58b1d8eda"
      },
      "source": [
        "bigger_model_hist = bigger_model.fit(x_train, y_train,\n",
        "                                     epochs=20,\n",
        "                                     batch_size=512,\n",
        "                                     validation_data=(x_test, y_test))"
      ],
      "execution_count": null,
      "outputs": [
        {
          "output_type": "stream",
          "text": [
            "Epoch 1/20\n",
            "49/49 [==============================] - 10s 208ms/step - loss: 1.2430e-08 - acc: 1.0000 - val_loss: 1.4634 - val_acc: 0.8791\n",
            "Epoch 2/20\n",
            "49/49 [==============================] - 10s 200ms/step - loss: 8.9700e-09 - acc: 1.0000 - val_loss: 1.4859 - val_acc: 0.8792\n",
            "Epoch 3/20\n",
            "49/49 [==============================] - 10s 201ms/step - loss: 7.0227e-09 - acc: 1.0000 - val_loss: 1.5026 - val_acc: 0.8792\n",
            "Epoch 4/20\n",
            "49/49 [==============================] - 10s 201ms/step - loss: 5.7842e-09 - acc: 1.0000 - val_loss: 1.5175 - val_acc: 0.8793\n",
            "Epoch 5/20\n",
            "49/49 [==============================] - 10s 202ms/step - loss: 4.9196e-09 - acc: 1.0000 - val_loss: 1.5299 - val_acc: 0.8794\n",
            "Epoch 6/20\n",
            "49/49 [==============================] - 10s 201ms/step - loss: 4.3017e-09 - acc: 1.0000 - val_loss: 1.5404 - val_acc: 0.8793\n",
            "Epoch 7/20\n",
            "49/49 [==============================] - 10s 201ms/step - loss: 3.8151e-09 - acc: 1.0000 - val_loss: 1.5494 - val_acc: 0.8794\n",
            "Epoch 8/20\n",
            "49/49 [==============================] - 10s 202ms/step - loss: 3.4321e-09 - acc: 1.0000 - val_loss: 1.5591 - val_acc: 0.8792\n",
            "Epoch 9/20\n",
            "49/49 [==============================] - 10s 201ms/step - loss: 3.1338e-09 - acc: 1.0000 - val_loss: 1.5658 - val_acc: 0.8791\n",
            "Epoch 10/20\n",
            "49/49 [==============================] - 10s 201ms/step - loss: 2.8899e-09 - acc: 1.0000 - val_loss: 1.5716 - val_acc: 0.8792\n",
            "Epoch 11/20\n",
            "49/49 [==============================] - 10s 202ms/step - loss: 2.6752e-09 - acc: 1.0000 - val_loss: 1.5781 - val_acc: 0.8790\n",
            "Epoch 12/20\n",
            "49/49 [==============================] - 10s 202ms/step - loss: 2.5098e-09 - acc: 1.0000 - val_loss: 1.5831 - val_acc: 0.8791\n",
            "Epoch 13/20\n",
            "49/49 [==============================] - 10s 202ms/step - loss: 2.3524e-09 - acc: 1.0000 - val_loss: 1.5885 - val_acc: 0.8790\n",
            "Epoch 14/20\n",
            "49/49 [==============================] - 10s 202ms/step - loss: 2.2266e-09 - acc: 1.0000 - val_loss: 1.5930 - val_acc: 0.8789\n",
            "Epoch 15/20\n",
            "49/49 [==============================] - 10s 201ms/step - loss: 2.1016e-09 - acc: 1.0000 - val_loss: 1.5979 - val_acc: 0.8788\n",
            "Epoch 16/20\n",
            "49/49 [==============================] - 10s 201ms/step - loss: 2.0100e-09 - acc: 1.0000 - val_loss: 1.6017 - val_acc: 0.8788\n",
            "Epoch 17/20\n",
            "49/49 [==============================] - 10s 201ms/step - loss: 1.9186e-09 - acc: 1.0000 - val_loss: 1.6064 - val_acc: 0.8785\n",
            "Epoch 18/20\n",
            "49/49 [==============================] - 10s 201ms/step - loss: 1.8393e-09 - acc: 1.0000 - val_loss: 1.6103 - val_acc: 0.8784\n",
            "Epoch 19/20\n",
            "49/49 [==============================] - 10s 202ms/step - loss: 1.7677e-09 - acc: 1.0000 - val_loss: 1.6147 - val_acc: 0.8783\n",
            "Epoch 20/20\n",
            "49/49 [==============================] - 10s 202ms/step - loss: 1.7137e-09 - acc: 1.0000 - val_loss: 1.6177 - val_acc: 0.8784\n"
          ],
          "name": "stdout"
        }
      ]
    },
    {
      "cell_type": "markdown",
      "metadata": {
        "id": "ES1Q66e6SyqF"
      },
      "source": [
        "Oto rysnek, na którym porównano wydajność zbyt dużej sieci i naszego początkowego modelu. Kropkami oznaczono stratę walidacji większej sieci, a krzyżykami oznaczono stratę walidacji początkowej wersji sieci."
      ]
    },
    {
      "cell_type": "code",
      "metadata": {
        "scrolled": true,
        "id": "KjPG7FWsSyqF",
        "colab": {
          "base_uri": "https://localhost:8080/",
          "height": 279
        },
        "outputId": "f47988a0-6fbf-4c1e-aec8-3333e5816702"
      },
      "source": [
        "bigger_model_val_loss = bigger_model_hist.history['val_loss']\n",
        "\n",
        "plt.plot(epochs, original_val_loss, 'b+', label='Oryginalny model')\n",
        "plt.plot(epochs, bigger_model_val_loss, 'bo', label='Wiekszy model')\n",
        "plt.xlabel('Epoki')\n",
        "plt.ylabel('Strata walidacji')\n",
        "plt.legend()\n",
        "\n",
        "plt.show()"
      ],
      "execution_count": null,
      "outputs": [
        {
          "output_type": "display_data",
          "data": {
            "image/png": "[encoded data removed]",
            "text/plain": [
              "<Figure size 432x288 with 1 Axes>"
            ]
          },
          "metadata": {
            "tags": [],
            "needs_background": "light"
          }
        }
      ]
    },
    {
      "cell_type": "markdown",
      "metadata": {
        "id": "-BRDNNWRSyqF"
      },
      "source": [
        "\n",
        "porównano wydajność zbyt dużej sieci i naszego początkowego modelu. Kropkami oznaczono stratę walidacji większej sieci, a krzyżykami oznaczono stratę walidacji początkowej wersji sieci.\n",
        "\n",
        "Oto rysunek, na którym porównano straty procesu trenowania dwóch sieci.\n"
      ]
    },
    {
      "cell_type": "code",
      "metadata": {
        "scrolled": true,
        "id": "kdi2_CdwSyqG",
        "colab": {
          "base_uri": "https://localhost:8080/",
          "height": 279
        },
        "outputId": "62d21b6a-742a-4f49-b8ea-e5a1f6a6a91d"
      },
      "source": [
        "original_train_loss = original_hist.history['loss']\n",
        "bigger_model_train_loss = bigger_model_hist.history['loss']\n",
        "\n",
        "plt.plot(epochs, original_train_loss, 'b+', label='Oryginalny model')\n",
        "plt.plot(epochs, bigger_model_train_loss, 'bo', label='Wiekszy model')\n",
        "plt.xlabel('Epoki')\n",
        "plt.ylabel('Strata treninogwa')\n",
        "plt.legend()\n",
        "\n",
        "plt.show()"
      ],
      "execution_count": null,
      "outputs": [
        {
          "output_type": "display_data",
          "data": {
            "image/png": "[encoded data removed]",
            "text/plain": [
              "<Figure size 432x288 with 1 Axes>"
            ]
          },
          "metadata": {
            "tags": [],
            "needs_background": "light"
          }
        }
      ]
    },
    {
      "cell_type": "markdown",
      "metadata": {
        "id": "Dnw4u4n4SyqH"
      },
      "source": [
        "Widać, że większa sieć bardzo szybko uzyskuje praktycznie zerową wartość straty treningowej. Im większa jest pojemność sieci, tym szybciej modelowane są dane treningowe (uzyskiwana jest niska wartość straty treningowej), ale wzrasta wówczas podatność na nadmierne dopasowanie (powstaje duża różnica między stratą treningową a stratą walidacji)."
      ]
    },
    {
      "cell_type": "markdown",
      "metadata": {
        "id": "I92fSMrxSyqH"
      },
      "source": [
        "## Dodawanie regularyzacji wag\n",
        "\n",
        "\n",
        "Czy znasz zasadę brzytwy Ockhama? Według niej, jeżeli istnieją dwa wyjaśnienia jakiejś teorii, to najprawdopodobniej poprawnym wyjaśnieniem jest to, które jest prostsze — to, które czyni mniej założeń. Zasada ta sprawdza się również w kontekście modeli sieci neuronowych: jeżeli mamy dane treningowe, architekturę sieci i wiele zbiorów wartości wag (wiele modeli) opisujących dane, to prostsze modele są mniej podatne na nadmierne dopasowanie od tych, które są bardziej złożone.\n",
        "\n",
        "Przyjmijmy, że za prostszy model uważamy model, którego rozkład wartości parametrów charakteryzuje się mniejsza entropią, lub model, który ma mniej parametrów. W związku z tym popularną techniką unikania nadmiernego dopasowania jest wymuszenie na modelu ograniczenia złożoności poprzez przyjmowanie tylko małych wartości wag, co sprawia, że rozkład wartości wag jest bardziej regularny. Zabieg ten określamy mianem regularyzacji wag. Implementuje się go poprzez dodanie do funkcji straty sieci kosztu związanego z dużymi wartościami wag. W praktyce można to zrobić na dwa sposoby:\n",
        "\n",
        "\n",
        "* Regularyzacja L1 — koszt jest dodawany proporcjonalnie do bezwzględnej wartości współczynników wag (normy L1 wag).\n",
        "\n",
        "* Regularyzacja L2 — koszt jest dodawany proporcjonalnie do kwadratu wartości współczynników wag (normy L2 wag). W kontekście sieci neuronowych regularyzacja L2 jest również określana mianem rozkładu wag. Pomimo innej nazwy jest to ten sam proces, który w matematyce określamy jako regularyzacja L2.\n",
        "\n",
        "W pakiecie Keras regularyzację wag dodaje się poprzez przekazanie instancji regularyzatora wagi do warstw sieci za pomocą argumentu w formie słowa kluczowego. Dodajmy regularyzację L2 wag do sieci klasyfikatora recenzji filmów."
      ]
    },
    {
      "cell_type": "code",
      "metadata": {
        "collapsed": true,
        "id": "oZCNPWkGSyqI"
      },
      "source": [
        "from keras import regularizers\n",
        "\n",
        "l2_model = models.Sequential()\n",
        "l2_model.add(layers.Dense(16, kernel_regularizer=regularizers.l2(0.001),\n",
        "                          activation='relu', input_shape=(10000,)))\n",
        "l2_model.add(layers.Dense(16, kernel_regularizer=regularizers.l1_l2(l1=0.001, l2=0.001),\n",
        "                          activation='relu'))\n",
        "l2_model.add(layers.Dense(1, activation='sigmoid'))"
      ],
      "execution_count": null,
      "outputs": []
    },
    {
      "cell_type": "code",
      "metadata": {
        "collapsed": true,
        "id": "hEX8sAiRSyqI"
      },
      "source": [
        "l2_model.compile(optimizer='rmsprop',\n",
        "                 loss='binary_crossentropy',\n",
        "                 metrics=['acc'])"
      ],
      "execution_count": null,
      "outputs": []
    },
    {
      "cell_type": "markdown",
      "metadata": {
        "id": "Z-Do7SP9SyqI"
      },
      "source": [
        "Argument l2(0.001) oznacza, że każdy współczynnik macierzy wag warstwy doda wartość równą 0.001 * weight_coefficient_value (0,001 razy wartość współczynnika wagi) do całkowitej straty sieci. Kara ta jest dodawana tylko podczas trenowania, a więc strata sieci w czasie trenowania będzie o wiele wyższa niż w czasie testowania.\n",
        "\n",
        "Oto wykres, na którym pokazano wpływ kary w postaci regularyzacji L2:"
      ]
    },
    {
      "cell_type": "code",
      "metadata": {
        "scrolled": true,
        "id": "rPNl00T0SyqJ",
        "colab": {
          "base_uri": "https://localhost:8080/"
        },
        "outputId": "712d46f2-069a-47d5-df59-5a3462a48159"
      },
      "source": [
        "l2_model_hist = l2_model.fit(x_train, y_train,\n",
        "                             epochs=20,\n",
        "                             batch_size=512,\n",
        "                             validation_data=(x_test, y_test))"
      ],
      "execution_count": null,
      "outputs": [
        {
          "output_type": "stream",
          "text": [
            "Epoch 1/20\n",
            "49/49 [==============================] - 3s 40ms/step - loss: 0.6558 - acc: 0.7308 - val_loss: 0.4278 - val_acc: 0.8821\n",
            "Epoch 2/20\n",
            "49/49 [==============================] - 2s 31ms/step - loss: 0.3689 - acc: 0.9091 - val_loss: 0.3884 - val_acc: 0.8834\n",
            "Epoch 3/20\n",
            "49/49 [==============================] - 1s 31ms/step - loss: 0.3080 - acc: 0.9278 - val_loss: 0.3723 - val_acc: 0.8877\n",
            "Epoch 4/20\n",
            "49/49 [==============================] - 1s 31ms/step - loss: 0.2795 - acc: 0.9357 - val_loss: 0.3746 - val_acc: 0.8865\n",
            "Epoch 5/20\n",
            "49/49 [==============================] - 2s 31ms/step - loss: 0.2637 - acc: 0.9406 - val_loss: 0.3852 - val_acc: 0.8808\n",
            "Epoch 6/20\n",
            "49/49 [==============================] - 2s 31ms/step - loss: 0.2490 - acc: 0.9455 - val_loss: 0.3834 - val_acc: 0.8820\n",
            "Epoch 7/20\n",
            "49/49 [==============================] - 2s 31ms/step - loss: 0.2433 - acc: 0.9483 - val_loss: 0.4272 - val_acc: 0.8658\n",
            "Epoch 8/20\n",
            "49/49 [==============================] - 2s 32ms/step - loss: 0.2374 - acc: 0.9462 - val_loss: 0.3938 - val_acc: 0.8785\n",
            "Epoch 9/20\n",
            "49/49 [==============================] - 2s 31ms/step - loss: 0.2303 - acc: 0.9507 - val_loss: 0.4005 - val_acc: 0.8760\n",
            "Epoch 10/20\n",
            "49/49 [==============================] - 2s 32ms/step - loss: 0.2250 - acc: 0.9524 - val_loss: 0.4138 - val_acc: 0.8730\n",
            "Epoch 11/20\n",
            "49/49 [==============================] - 2s 32ms/step - loss: 0.2211 - acc: 0.9549 - val_loss: 0.4106 - val_acc: 0.8760\n",
            "Epoch 12/20\n",
            "49/49 [==============================] - 2s 32ms/step - loss: 0.2172 - acc: 0.9561 - val_loss: 0.4467 - val_acc: 0.8673\n",
            "Epoch 13/20\n",
            "49/49 [==============================] - 2s 32ms/step - loss: 0.2210 - acc: 0.9531 - val_loss: 0.4335 - val_acc: 0.8704\n",
            "Epoch 14/20\n",
            "49/49 [==============================] - 2s 32ms/step - loss: 0.2158 - acc: 0.9544 - val_loss: 0.4285 - val_acc: 0.8716\n",
            "Epoch 15/20\n",
            "49/49 [==============================] - 2s 32ms/step - loss: 0.2121 - acc: 0.9585 - val_loss: 0.4854 - val_acc: 0.8606\n",
            "Epoch 16/20\n",
            "49/49 [==============================] - 2s 31ms/step - loss: 0.2085 - acc: 0.9574 - val_loss: 0.4312 - val_acc: 0.8720\n",
            "Epoch 17/20\n",
            "49/49 [==============================] - 2s 31ms/step - loss: 0.2061 - acc: 0.9599 - val_loss: 0.4403 - val_acc: 0.8699\n",
            "Epoch 18/20\n",
            "49/49 [==============================] - 2s 31ms/step - loss: 0.2130 - acc: 0.9558 - val_loss: 0.4739 - val_acc: 0.8643\n",
            "Epoch 19/20\n",
            "49/49 [==============================] - 2s 31ms/step - loss: 0.2018 - acc: 0.9603 - val_loss: 0.4578 - val_acc: 0.8632\n",
            "Epoch 20/20\n",
            "49/49 [==============================] - 1s 31ms/step - loss: 0.2004 - acc: 0.9614 - val_loss: 0.4517 - val_acc: 0.8671\n"
          ],
          "name": "stdout"
        }
      ]
    },
    {
      "cell_type": "code",
      "metadata": {
        "id": "kuuP_l1zSyqJ",
        "colab": {
          "base_uri": "https://localhost:8080/",
          "height": 279
        },
        "outputId": "8cd98055-d36d-4e15-cec0-11884befc0cc"
      },
      "source": [
        "l2_model_val_loss = l2_model_hist.history['val_loss']\n",
        "\n",
        "plt.plot(epochs, original_val_loss, 'b+', label='Oryginalny model')\n",
        "plt.plot(epochs, l2_model_val_loss, 'bo', label='Model z regularyzacja L2')\n",
        "plt.xlabel('Epoki')\n",
        "plt.ylabel('Strata walidacji')\n",
        "plt.legend()\n",
        "\n",
        "plt.show()"
      ],
      "execution_count": null,
      "outputs": [
        {
          "output_type": "display_data",
          "data": {
            "image/png": "[encoded data removed]",
            "text/plain": [
              "<Figure size 432x288 with 1 Axes>"
            ]
          },
          "metadata": {
            "tags": [],
            "needs_background": "light"
          }
        }
      ]
    },
    {
      "cell_type": "markdown",
      "metadata": {
        "id": "umU6DQQ-SyqK"
      },
      "source": [
        "\n",
        "\n",
        "Jak widać, model z regularyzacją L2 (kropki) stał się o wiele bardziej odporny na nadmierne dopasowanie od modelu referencyjnego (krzyżyki) pomimo tego, że oba modele charakteryzują się identyczną liczbą parametrów.\n",
        "\n",
        "Zamiast regularyzacji L2 możesz korzystać również z innych mechanizmów regularyzacji obsługiwanych przez pakiet Keras."
      ]
    },
    {
      "cell_type": "code",
      "metadata": {
        "collapsed": true,
        "id": "6em7PoWiSyqK",
        "colab": {
          "base_uri": "https://localhost:8080/"
        },
        "outputId": "fc2d3d27-270c-40bf-c2a9-228f7b4b89d8"
      },
      "source": [
        "from keras import regularizers\n",
        "\n",
        "# Regularyzacja L1.\n",
        "regularizers.l1(0.001)\n",
        "\n",
        "# Jednoczesna regularyzacja L1 i L2.\n",
        "regularizers.l1_l2(l1=0.001, l2=0.001)"
      ],
      "execution_count": null,
      "outputs": [
        {
          "output_type": "execute_result",
          "data": {
            "text/plain": [
              "<tensorflow.python.keras.regularizers.L1L2 at 0x7f6330626e10>"
            ]
          },
          "metadata": {
            "tags": []
          },
          "execution_count": 21
        }
      ]
    },
    {
      "cell_type": "markdown",
      "metadata": {
        "id": "XNcnijRJSyqK"
      },
      "source": [
        "## Porzucanie — technika dropout\n",
        "\n",
        "\n",
        "Porzucanie (ang. droput) jest jedną z najbardziej skutecznych i najpopularniejszych technik regularyzacji sieci neuronowych. Opracował ją Geoff Hinton podczas współpracy ze swoimi studentami na Uniwersytecie w Toronto. Technika ta polega na losowym wybieraniu pewnej liczby cech wyjściowych warstwy podczas trenowania (wartości tych warstw są zastępowane zerami). Załóżmy, że w czasie trenowania warstwa sieci normalnie zwraca wektor [0.2, 0.5, 1.3, 0.8, 1.1]. Po przeprowadzeniu operacji porzucania w wektorze tym (w losowo wybranych miejscach) pojawią się zera i uzyska on np. formę [0, 0.5, 1.3, 0, 1.1]. Ułamek określający część wyzerowanych cech nazywamy współczynnikiem porzucania (ang. dropout rate). Zwykle parametr ten przyjmuje wartość znajdującą się w przedziale od 0,2 do 0,5. Podczas testowania żadne jednostki nie są porzucane — wartości wyjściowe warstwy sieci są skalowane o współczynnik równy współczynnikowi porzucania. Równoważy to aktywność większej liczby jednostek podczas testowania niż trenowania.\n",
        "\n",
        "Przyjrzyjmy się macierzy Numpy zawierającej warstwę wyjściową layer_output o kształcie (rozmiar_wsadu, liczba_cech). W czasie trenowania wyzerowaliśmy losową część wartości tej macierzy:"
      ]
    },
    {
      "cell_type": "code",
      "metadata": {
        "collapsed": true,
        "id": "xWDO0BZzSyqK",
        "colab": {
          "base_uri": "https://localhost:8080/",
          "height": 185
        },
        "outputId": "36bcd53b-7eec-480c-f0b2-0272613cdac1"
      },
      "source": [
        "# Podczas trenowania porzucane jest 50% jednostek wyjściowych.\n",
        "layer_output *= np.randint(0, high=2, size=layer_output.shape)"
      ],
      "execution_count": null,
      "outputs": [
        {
          "output_type": "error",
          "ename": "NameError",
          "evalue": "ignored",
          "traceback": [
            "\u001b[0;31m---------------------------------------------------------------------------\u001b[0m",
            "\u001b[0;31mNameError\u001b[0m                                 Traceback (most recent call last)",
            "\u001b[0;32m<ipython-input-22-5f4adbdde4c7>\u001b[0m in \u001b[0;36m<module>\u001b[0;34m()\u001b[0m\n\u001b[1;32m      1\u001b[0m \u001b[0;31m# Podczas trenowania porzucane jest 50% jednostek wyjściowych.\u001b[0m\u001b[0;34m\u001b[0m\u001b[0;34m\u001b[0m\u001b[0;34m\u001b[0m\u001b[0m\n\u001b[0;32m----> 2\u001b[0;31m \u001b[0mlayer_output\u001b[0m \u001b[0;34m*=\u001b[0m \u001b[0mnp\u001b[0m\u001b[0;34m.\u001b[0m\u001b[0mrandint\u001b[0m\u001b[0;34m(\u001b[0m\u001b[0;36m0\u001b[0m\u001b[0;34m,\u001b[0m \u001b[0mhigh\u001b[0m\u001b[0;34m=\u001b[0m\u001b[0;36m2\u001b[0m\u001b[0;34m,\u001b[0m \u001b[0msize\u001b[0m\u001b[0;34m=\u001b[0m\u001b[0mlayer_output\u001b[0m\u001b[0;34m.\u001b[0m\u001b[0mshape\u001b[0m\u001b[0;34m)\u001b[0m\u001b[0;34m\u001b[0m\u001b[0;34m\u001b[0m\u001b[0m\n\u001b[0m",
            "\u001b[0;31mNameError\u001b[0m: name 'layer_output' is not defined"
          ]
        }
      ]
    },
    {
      "cell_type": "markdown",
      "metadata": {
        "id": "RjodJIXKSyqK"
      },
      "source": [
        "\n",
        "Podczas testowania skalujemy wartości wyjściowe o współczynnik porzucania. W tym przypadku przeprowadzamy skalowanie o współczynnik 0,5 (wcześniej odrzucaliśmy połowę jednostek):"
      ]
    },
    {
      "cell_type": "code",
      "metadata": {
        "collapsed": true,
        "id": "TqooW299SyqL",
        "colab": {
          "base_uri": "https://localhost:8080/",
          "height": 185
        },
        "outputId": "d5de74a3-2d22-46dd-fa1a-1dd5381eac46"
      },
      "source": [
        "# W czasie testowania:\n",
        "layer_output *= 0.5"
      ],
      "execution_count": null,
      "outputs": [
        {
          "output_type": "error",
          "ename": "NameError",
          "evalue": "ignored",
          "traceback": [
            "\u001b[0;31m---------------------------------------------------------------------------\u001b[0m",
            "\u001b[0;31mNameError\u001b[0m                                 Traceback (most recent call last)",
            "\u001b[0;32m<ipython-input-28-ff72a1f2db41>\u001b[0m in \u001b[0;36m<module>\u001b[0;34m()\u001b[0m\n\u001b[1;32m      1\u001b[0m \u001b[0;31m# W czasie testowania:\u001b[0m\u001b[0;34m\u001b[0m\u001b[0;34m\u001b[0m\u001b[0;34m\u001b[0m\u001b[0m\n\u001b[0;32m----> 2\u001b[0;31m \u001b[0mlayer_output\u001b[0m \u001b[0;34m*=\u001b[0m \u001b[0;36m0.5\u001b[0m\u001b[0;34m\u001b[0m\u001b[0;34m\u001b[0m\u001b[0m\n\u001b[0m",
            "\u001b[0;31mNameError\u001b[0m: name 'layer_output' is not defined"
          ]
        }
      ]
    },
    {
      "cell_type": "markdown",
      "metadata": {
        "id": "UJAkA0qSSyqL"
      },
      "source": [
        "\n",
        "Zauważ, że proces ten można zaimplementować, wykonując obie operacje podczas trenowania i pozostawiając dane wyjściowe bez zmian w czasie testowania. Rozwiązanie takie jest często używane w praktyce (zobacz rysunek 4.8):"
      ]
    },
    {
      "cell_type": "code",
      "metadata": {
        "collapsed": true,
        "id": "bLR0KfEkSyqM",
        "colab": {
          "base_uri": "https://localhost:8080/",
          "height": 219
        },
        "outputId": "54d52df6-b264-4fd3-b108-4332fc6f4869"
      },
      "source": [
        "# W czasie trenowania.\n",
        "layer_output *= np.randint(0, high=2, size=layer_output.shape)\n",
        "# Zwróć wuagę na to, że w tym przypadku skalujemy raczej w górę niż w dół.\n",
        "layer_output /= 0.5"
      ],
      "execution_count": null,
      "outputs": [
        {
          "output_type": "error",
          "ename": "NameError",
          "evalue": "ignored",
          "traceback": [
            "\u001b[0;31m---------------------------------------------------------------------------\u001b[0m",
            "\u001b[0;31mNameError\u001b[0m                                 Traceback (most recent call last)",
            "\u001b[0;32m<ipython-input-29-da8e042b35b4>\u001b[0m in \u001b[0;36m<module>\u001b[0;34m()\u001b[0m\n\u001b[1;32m      1\u001b[0m \u001b[0;31m# W czasie trenowania.\u001b[0m\u001b[0;34m\u001b[0m\u001b[0;34m\u001b[0m\u001b[0;34m\u001b[0m\u001b[0m\n\u001b[0;32m----> 2\u001b[0;31m \u001b[0mlayer_output\u001b[0m \u001b[0;34m*=\u001b[0m \u001b[0mnp\u001b[0m\u001b[0;34m.\u001b[0m\u001b[0mrandint\u001b[0m\u001b[0;34m(\u001b[0m\u001b[0;36m0\u001b[0m\u001b[0;34m,\u001b[0m \u001b[0mhigh\u001b[0m\u001b[0;34m=\u001b[0m\u001b[0;36m2\u001b[0m\u001b[0;34m,\u001b[0m \u001b[0msize\u001b[0m\u001b[0;34m=\u001b[0m\u001b[0mlayer_output\u001b[0m\u001b[0;34m.\u001b[0m\u001b[0mshape\u001b[0m\u001b[0;34m)\u001b[0m\u001b[0;34m\u001b[0m\u001b[0;34m\u001b[0m\u001b[0m\n\u001b[0m\u001b[1;32m      3\u001b[0m \u001b[0;31m# Zwróć wuagę na to, że w tym przypadku skalujemy raczej w górę niż w dół.\u001b[0m\u001b[0;34m\u001b[0m\u001b[0;34m\u001b[0m\u001b[0;34m\u001b[0m\u001b[0m\n\u001b[1;32m      4\u001b[0m \u001b[0mlayer_output\u001b[0m \u001b[0;34m/=\u001b[0m \u001b[0;36m0.5\u001b[0m\u001b[0;34m\u001b[0m\u001b[0;34m\u001b[0m\u001b[0m\n",
            "\u001b[0;31mNameError\u001b[0m: name 'layer_output' is not defined"
          ]
        }
      ]
    },
    {
      "cell_type": "markdown",
      "metadata": {
        "id": "aCPY7X4ESyqM"
      },
      "source": [
        "\n",
        "Technika ta może wydawać się dziwna i chaotyczna. Jak ma pomóc w zmniejszeniu nadmiernego dopasowania? Hinton tworząc ją, inspirował się mechanizmami zapobiegającymi nadużyciom stosowanym przez banki. Stwierdził: „Pewnego dnia, gdy poszedłem do banku, zauważyłem, że osoby w okienkach często zmieniają swoje miejsca; pracownicy banku nie potrafili powiedzieć, dlaczego to robią, ale doszedłem do wniosku, że przy takiej rotacji wyłudzenie pieniędzy z banku wymagałoby współpracy wielu pracowników; wówczas zdałem sobie sprawę, że losowe usuwanie różnych podzbiorów neuronów podczas przetwarzania każdego przykładu zapobiegnie konspiracji i zredukuje nadmierne dopasowanie”. Główną ideą tej techniki jest wprowadzenie szumu do wartości wyjściowych warstwy w celu pozbycia się nieznaczących wzorców (Hinton określił je mianem „konspiracji”) — wprowadzenie szumu zapobiega zapamiętywaniu takich wzorców przez sieć.\n",
        "\n",
        "W pakiecie Keras technikę tę można zastosować przy użyciu warstwy Dropout, którą umieszcza się bezpośrednio za wyjściem znajdującej się wcześniej warstwy:\n"
      ]
    },
    {
      "cell_type": "code",
      "metadata": {
        "collapsed": true,
        "id": "hqjL8WXxSyqM",
        "colab": {
          "base_uri": "https://localhost:8080/",
          "height": 167
        },
        "outputId": "0871c83e-2ad2-400e-97c4-567a296c85a6"
      },
      "source": [
        "model.add(layers.Dropout(0.5))"
      ],
      "execution_count": null,
      "outputs": [
        {
          "output_type": "error",
          "ename": "NameError",
          "evalue": "ignored",
          "traceback": [
            "\u001b[0;31m---------------------------------------------------------------------------\u001b[0m",
            "\u001b[0;31mNameError\u001b[0m                                 Traceback (most recent call last)",
            "\u001b[0;32m<ipython-input-30-65ed89de200e>\u001b[0m in \u001b[0;36m<module>\u001b[0;34m()\u001b[0m\n\u001b[0;32m----> 1\u001b[0;31m \u001b[0mmodel\u001b[0m\u001b[0;34m.\u001b[0m\u001b[0madd\u001b[0m\u001b[0;34m(\u001b[0m\u001b[0mlayers\u001b[0m\u001b[0;34m.\u001b[0m\u001b[0mDropout\u001b[0m\u001b[0;34m(\u001b[0m\u001b[0;36m0.5\u001b[0m\u001b[0;34m)\u001b[0m\u001b[0;34m)\u001b[0m\u001b[0;34m\u001b[0m\u001b[0;34m\u001b[0m\u001b[0m\n\u001b[0m",
            "\u001b[0;31mNameError\u001b[0m: name 'model' is not defined"
          ]
        }
      ]
    },
    {
      "cell_type": "markdown",
      "metadata": {
        "id": "-2R8pDMnSyqN"
      },
      "source": [
        "Dodajmy dwie warstwy Dropout do sieci IMDB i zobaczmy, czy pomogą one w zredukowaniu nadmiernego dopasowania:"
      ]
    },
    {
      "cell_type": "code",
      "metadata": {
        "collapsed": true,
        "id": "8PJM1MkLSyqO"
      },
      "source": [
        "dpt_model = models.Sequential()\n",
        "dpt_model.add(layers.Dense(16, activation='relu', input_shape=(10000,)))\n",
        "dpt_model.add(layers.Dropout(0.5))\n",
        "dpt_model.add(layers.Dense(16, activation='relu'))\n",
        "dpt_model.add(layers.Dropout(0.5))\n",
        "dpt_model.add(layers.Dense(1, activation='sigmoid'))\n",
        "\n",
        "dpt_model.compile(optimizer='rmsprop',\n",
        "                  loss='binary_crossentropy',\n",
        "                  metrics=['acc'])"
      ],
      "execution_count": null,
      "outputs": []
    },
    {
      "cell_type": "code",
      "metadata": {
        "id": "4CNbp5FqSyqO",
        "colab": {
          "base_uri": "https://localhost:8080/"
        },
        "outputId": "a2b270be-6f1d-450a-f9a3-6f5afb9ecc2f"
      },
      "source": [
        "dpt_model_hist = dpt_model.fit(x_train, y_train,\n",
        "                               epochs=20,\n",
        "                               batch_size=512,\n",
        "                               validation_data=(x_test, y_test))"
      ],
      "execution_count": null,
      "outputs": [
        {
          "output_type": "stream",
          "text": [
            "Epoch 1/20\n",
            "49/49 [==============================] - 2s 40ms/step - loss: 0.6445 - acc: 0.6178 - val_loss: 0.4531 - val_acc: 0.8680\n",
            "Epoch 2/20\n",
            "49/49 [==============================] - 2s 31ms/step - loss: 0.4727 - acc: 0.8024 - val_loss: 0.3537 - val_acc: 0.8802\n",
            "Epoch 3/20\n",
            "49/49 [==============================] - 1s 31ms/step - loss: 0.3809 - acc: 0.8569 - val_loss: 0.3000 - val_acc: 0.8873\n",
            "Epoch 4/20\n",
            "49/49 [==============================] - 1s 30ms/step - loss: 0.3146 - acc: 0.8908 - val_loss: 0.2786 - val_acc: 0.8905\n",
            "Epoch 5/20\n",
            "49/49 [==============================] - 2s 31ms/step - loss: 0.2730 - acc: 0.9089 - val_loss: 0.2777 - val_acc: 0.8898\n",
            "Epoch 6/20\n",
            "49/49 [==============================] - 1s 31ms/step - loss: 0.2429 - acc: 0.9189 - val_loss: 0.2920 - val_acc: 0.8847\n",
            "Epoch 7/20\n",
            "49/49 [==============================] - 1s 31ms/step - loss: 0.2139 - acc: 0.9265 - val_loss: 0.2960 - val_acc: 0.8874\n",
            "Epoch 8/20\n",
            "49/49 [==============================] - 1s 30ms/step - loss: 0.1945 - acc: 0.9357 - val_loss: 0.3291 - val_acc: 0.8856\n",
            "Epoch 9/20\n",
            "49/49 [==============================] - 2s 31ms/step - loss: 0.1764 - acc: 0.9390 - val_loss: 0.3291 - val_acc: 0.8832\n",
            "Epoch 10/20\n",
            "49/49 [==============================] - 1s 31ms/step - loss: 0.1658 - acc: 0.9445 - val_loss: 0.3516 - val_acc: 0.8806\n",
            "Epoch 11/20\n",
            "49/49 [==============================] - 1s 30ms/step - loss: 0.1531 - acc: 0.9480 - val_loss: 0.3786 - val_acc: 0.8824\n",
            "Epoch 12/20\n",
            "49/49 [==============================] - 1s 30ms/step - loss: 0.1439 - acc: 0.9490 - val_loss: 0.3974 - val_acc: 0.8799\n",
            "Epoch 13/20\n",
            "49/49 [==============================] - 1s 30ms/step - loss: 0.1344 - acc: 0.9534 - val_loss: 0.4487 - val_acc: 0.8750\n",
            "Epoch 14/20\n",
            "49/49 [==============================] - 2s 31ms/step - loss: 0.1315 - acc: 0.9543 - val_loss: 0.4408 - val_acc: 0.8772\n",
            "Epoch 15/20\n",
            "49/49 [==============================] - 2s 31ms/step - loss: 0.1242 - acc: 0.9569 - val_loss: 0.4628 - val_acc: 0.8772\n",
            "Epoch 16/20\n",
            "49/49 [==============================] - 2s 31ms/step - loss: 0.1258 - acc: 0.9555 - val_loss: 0.5030 - val_acc: 0.8733\n",
            "Epoch 17/20\n",
            "49/49 [==============================] - 1s 30ms/step - loss: 0.1159 - acc: 0.9600 - val_loss: 0.5051 - val_acc: 0.8760\n",
            "Epoch 18/20\n",
            "49/49 [==============================] - 1s 30ms/step - loss: 0.1207 - acc: 0.9577 - val_loss: 0.5423 - val_acc: 0.8745\n",
            "Epoch 19/20\n",
            "49/49 [==============================] - 1s 30ms/step - loss: 0.1097 - acc: 0.9602 - val_loss: 0.5685 - val_acc: 0.8738\n",
            "Epoch 20/20\n",
            "49/49 [==============================] - 1s 30ms/step - loss: 0.1108 - acc: 0.9617 - val_loss: 0.5881 - val_acc: 0.8748\n"
          ],
          "name": "stdout"
        }
      ]
    },
    {
      "cell_type": "markdown",
      "metadata": {
        "id": "2l61KA0YSyqP"
      },
      "source": [
        "Czas przedstawić wyniki na wykresie:"
      ]
    },
    {
      "cell_type": "code",
      "metadata": {
        "scrolled": true,
        "id": "5a7F9Kd1SyqP",
        "colab": {
          "base_uri": "https://localhost:8080/",
          "height": 279
        },
        "outputId": "9e9aa408-de17-4919-928f-f86f0d1d39e0"
      },
      "source": [
        "dpt_model_val_loss = dpt_model_hist.history['val_loss']\n",
        "\n",
        "plt.plot(epochs, original_val_loss, 'b+', label='Oryginalny model')\n",
        "plt.plot(epochs, dpt_model_val_loss, 'bo', label='Model z regularyzacja dropout')\n",
        "plt.xlabel('Epoki')\n",
        "plt.ylabel('Strata walidacji')\n",
        "plt.legend()\n",
        "\n",
        "plt.show()"
      ],
      "execution_count": null,
      "outputs": [
        {
          "output_type": "display_data",
          "data": {
            "image/png": "[encoded data removed]",
            "text/plain": [
              "<Figure size 432x288 with 1 Axes>"
            ]
          },
          "metadata": {
            "tags": [],
            "needs_background": "light"
          }
        }
      ]
    },
    {
      "cell_type": "markdown",
      "metadata": {
        "id": "x_cC060ZSyqP"
      },
      "source": [
        "\n",
        "Ponownie widać poprawę względem sieci referencyjnej.\n",
        "\n",
        "Reasumując, oto najczęściej stosowane techniki mające zapobiec nadmiernemu dopasowaniu sieci neuronowych:\n",
        "\n",
        "* Zdobycie większej ilości danych treningowych.\n",
        "* Redukcja pojemności sieci.\n",
        "* Dodanie regularyzacji wag.\n",
        "* Dodanie mechanizmu porzucania."
      ]
    }
  ]
}